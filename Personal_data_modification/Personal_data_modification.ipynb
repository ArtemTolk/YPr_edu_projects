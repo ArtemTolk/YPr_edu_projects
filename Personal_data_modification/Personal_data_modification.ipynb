{
 "cells": [
  {
   "cell_type": "markdown",
   "metadata": {},
   "source": [
    "# Защита персональных данных клиентов"
   ]
  },
  {
   "cell_type": "markdown",
   "metadata": {},
   "source": [
    "## Постановка задачи"
   ]
  },
  {
   "cell_type": "markdown",
   "metadata": {},
   "source": [
    "Необходимо разработать метод преобразования данных, чтобы по ним было сложно восстановить первичную (персональную) информацию. Также требуется обосновать корректность работы предложенного метода.\n",
    "\n",
    "Необходимо провести проверку корректности работы модели на первоначальных и модифицированных признаках."
   ]
  },
  {
   "cell_type": "markdown",
   "metadata": {},
   "source": [
    "## Загрузка данных"
   ]
  },
  {
   "cell_type": "markdown",
   "metadata": {},
   "source": [
    "### Импорт библиотек"
   ]
  },
  {
   "cell_type": "code",
   "execution_count": 1,
   "metadata": {},
   "outputs": [],
   "source": [
    "import pandas as pd\n",
    "import numpy as np\n",
    "import seaborn as sns\n",
    "\n",
    "from sklearn.model_selection import train_test_split\n",
    "\n",
    "from sklearn.linear_model import LinearRegression\n",
    "from sklearn.metrics import r2_score, mean_absolute_error\n",
    "\n",
    "RND_ST = 42"
   ]
  },
  {
   "cell_type": "markdown",
   "metadata": {},
   "source": [
    "### Чтение и просмотр данных"
   ]
  },
  {
   "cell_type": "code",
   "execution_count": 2,
   "metadata": {},
   "outputs": [
    {
     "data": {
      "text/html": [
       "<div>\n",
       "<style scoped>\n",
       "    .dataframe tbody tr th:only-of-type {\n",
       "        vertical-align: middle;\n",
       "    }\n",
       "\n",
       "    .dataframe tbody tr th {\n",
       "        vertical-align: top;\n",
       "    }\n",
       "\n",
       "    .dataframe thead th {\n",
       "        text-align: right;\n",
       "    }\n",
       "</style>\n",
       "<table border=\"1\" class=\"dataframe\">\n",
       "  <thead>\n",
       "    <tr style=\"text-align: right;\">\n",
       "      <th></th>\n",
       "      <th>Пол</th>\n",
       "      <th>Возраст</th>\n",
       "      <th>Зарплата</th>\n",
       "      <th>Члены семьи</th>\n",
       "      <th>Страховые выплаты</th>\n",
       "    </tr>\n",
       "  </thead>\n",
       "  <tbody>\n",
       "    <tr>\n",
       "      <th>1501</th>\n",
       "      <td>1</td>\n",
       "      <td>28.0</td>\n",
       "      <td>56100.0</td>\n",
       "      <td>0</td>\n",
       "      <td>0</td>\n",
       "    </tr>\n",
       "    <tr>\n",
       "      <th>2586</th>\n",
       "      <td>1</td>\n",
       "      <td>32.0</td>\n",
       "      <td>41900.0</td>\n",
       "      <td>2</td>\n",
       "      <td>0</td>\n",
       "    </tr>\n",
       "    <tr>\n",
       "      <th>2653</th>\n",
       "      <td>1</td>\n",
       "      <td>30.0</td>\n",
       "      <td>26300.0</td>\n",
       "      <td>0</td>\n",
       "      <td>0</td>\n",
       "    </tr>\n",
       "    <tr>\n",
       "      <th>1055</th>\n",
       "      <td>1</td>\n",
       "      <td>30.0</td>\n",
       "      <td>37300.0</td>\n",
       "      <td>2</td>\n",
       "      <td>0</td>\n",
       "    </tr>\n",
       "    <tr>\n",
       "      <th>705</th>\n",
       "      <td>0</td>\n",
       "      <td>44.0</td>\n",
       "      <td>30000.0</td>\n",
       "      <td>1</td>\n",
       "      <td>1</td>\n",
       "    </tr>\n",
       "    <tr>\n",
       "      <th>106</th>\n",
       "      <td>1</td>\n",
       "      <td>45.0</td>\n",
       "      <td>41600.0</td>\n",
       "      <td>2</td>\n",
       "      <td>1</td>\n",
       "    </tr>\n",
       "    <tr>\n",
       "      <th>589</th>\n",
       "      <td>1</td>\n",
       "      <td>28.0</td>\n",
       "      <td>32800.0</td>\n",
       "      <td>2</td>\n",
       "      <td>0</td>\n",
       "    </tr>\n",
       "  </tbody>\n",
       "</table>\n",
       "</div>"
      ],
      "text/plain": [
       "      Пол  Возраст  Зарплата  Члены семьи  Страховые выплаты\n",
       "1501    1     28.0   56100.0            0                  0\n",
       "2586    1     32.0   41900.0            2                  0\n",
       "2653    1     30.0   26300.0            0                  0\n",
       "1055    1     30.0   37300.0            2                  0\n",
       "705     0     44.0   30000.0            1                  1\n",
       "106     1     45.0   41600.0            2                  1\n",
       "589     1     28.0   32800.0            2                  0"
      ]
     },
     "metadata": {},
     "output_type": "display_data"
    }
   ],
   "source": [
    "data_raw = pd.read_csv('datasets/insurance.csv')\n",
    "display(data_raw.sample(7, random_state=RND_ST))"
   ]
  },
  {
   "cell_type": "code",
   "execution_count": 3,
   "metadata": {},
   "outputs": [
    {
     "name": "stdout",
     "output_type": "stream",
     "text": [
      "<class 'pandas.core.frame.DataFrame'>\n",
      "RangeIndex: 5000 entries, 0 to 4999\n",
      "Data columns (total 5 columns):\n",
      " #   Column             Non-Null Count  Dtype  \n",
      "---  ------             --------------  -----  \n",
      " 0   Пол                5000 non-null   int64  \n",
      " 1   Возраст            5000 non-null   float64\n",
      " 2   Зарплата           5000 non-null   float64\n",
      " 3   Члены семьи        5000 non-null   int64  \n",
      " 4   Страховые выплаты  5000 non-null   int64  \n",
      "dtypes: float64(2), int64(3)\n",
      "memory usage: 195.4 KB\n"
     ]
    }
   ],
   "source": [
    "data_raw.info()"
   ]
  },
  {
   "cell_type": "code",
   "execution_count": 4,
   "metadata": {},
   "outputs": [
    {
     "name": "stdout",
     "output_type": "stream",
     "text": [
      "Пол \n",
      " [0 1]\n",
      "Возраст \n",
      " [18. 19. 20. 21. 22. 23. 24. 25. 26. 27. 28. 29. 30. 31. 32. 33. 34. 35.\n",
      " 36. 37. 38. 39. 40. 41. 42. 43. 44. 45. 46. 47. 48. 49. 50. 51. 52. 53.\n",
      " 54. 55. 56. 57. 58. 59. 60. 61. 62. 65.]\n",
      "Зарплата \n",
      " [ 5300.  6000.  7400.  8900.  9800. 10000. 10600. 10800. 11000. 11200.\n",
      " 11300. 12200. 12900. 13000. 13200. 13300. 13400. 13500. 13800. 13900.\n",
      " 14100. 14300. 14400. 14500. 14600. 14700. 15000. 15100. 15200. 15600.\n",
      " 15700. 15900. 16000. 16200. 16300. 16400. 16500. 16600. 16700. 17000.\n",
      " 17100. 17300. 17400. 17500. 17600. 17700. 17800. 17900. 18100. 18200.\n",
      " 18300. 18400. 18600. 18700. 18800. 18900. 19000. 19100. 19200. 19300.\n",
      " 19400. 19600. 19700. 19900. 20000. 20100. 20200. 20300. 20400. 20500.\n",
      " 20600. 20700. 20800. 20900. 21000. 21100. 21200. 21300. 21400. 21500.\n",
      " 21600. 21700. 21800. 21900. 22000. 22100. 22200. 22300. 22500. 22600.\n",
      " 22700. 22800. 22900. 23000. 23100. 23200. 23300. 23400. 23500. 23600.\n",
      " 23700. 23800. 23900. 24000. 24100. 24200. 24300. 24400. 24500. 24600.\n",
      " 24700. 24800. 24900. 25000. 25100. 25200. 25300. 25400. 25500. 25600.\n",
      " 25700. 25800. 25900. 26000. 26100. 26200. 26300. 26400. 26500. 26600.\n",
      " 26700. 26800. 26900. 27000. 27100. 27200. 27300. 27400. 27500. 27600.\n",
      " 27700. 27800. 27900. 28000. 28100. 28200. 28300. 28400. 28500. 28600.\n",
      " 28700. 28800. 28900. 29000. 29100. 29200. 29300. 29400. 29500. 29600.\n",
      " 29700. 29800. 29900. 30000. 30100. 30200. 30300. 30400. 30500. 30600.\n",
      " 30700. 30800. 30900. 31000. 31100. 31200. 31300. 31400. 31500. 31600.\n",
      " 31700. 31800. 31900. 32000. 32100. 32200. 32300. 32400. 32500. 32600.\n",
      " 32700. 32800. 32900. 33000. 33100. 33200. 33300. 33400. 33500. 33600.\n",
      " 33700. 33800. 33900. 34000. 34100. 34200. 34300. 34400. 34500. 34600.\n",
      " 34700. 34800. 34900. 35000. 35100. 35200. 35300. 35400. 35500. 35600.\n",
      " 35700. 35800. 35900. 36000. 36100. 36200. 36300. 36400. 36500. 36600.\n",
      " 36700. 36800. 36900. 37000. 37100. 37200. 37300. 37400. 37500. 37600.\n",
      " 37700. 37800. 37900. 38000. 38100. 38200. 38300. 38400. 38500. 38600.\n",
      " 38700. 38800. 38900. 39000. 39100. 39200. 39300. 39400. 39500. 39600.\n",
      " 39700. 39800. 39900. 40000. 40100. 40200. 40300. 40400. 40500. 40600.\n",
      " 40700. 40800. 40900. 41000. 41100. 41200. 41300. 41400. 41500. 41600.\n",
      " 41700. 41800. 41900. 42000. 42100. 42200. 42300. 42400. 42500. 42600.\n",
      " 42700. 42800. 42900. 43000. 43100. 43200. 43300. 43400. 43500. 43600.\n",
      " 43700. 43800. 43900. 44000. 44100. 44200. 44300. 44400. 44500. 44600.\n",
      " 44700. 44800. 44900. 45000. 45100. 45200. 45300. 45400. 45500. 45600.\n",
      " 45700. 45800. 45900. 46000. 46100. 46200. 46300. 46400. 46500. 46600.\n",
      " 46700. 46800. 46900. 47000. 47100. 47200. 47300. 47400. 47500. 47600.\n",
      " 47700. 47800. 47900. 48000. 48100. 48200. 48300. 48400. 48500. 48600.\n",
      " 48700. 48800. 48900. 49000. 49100. 49200. 49300. 49400. 49500. 49600.\n",
      " 49700. 49800. 49900. 50000. 50100. 50200. 50300. 50400. 50500. 50600.\n",
      " 50700. 50800. 50900. 51000. 51100. 51200. 51300. 51400. 51500. 51600.\n",
      " 51700. 51800. 51900. 52000. 52100. 52200. 52300. 52400. 52500. 52600.\n",
      " 52700. 52800. 52900. 53000. 53100. 53200. 53300. 53400. 53500. 53600.\n",
      " 53700. 53800. 53900. 54000. 54100. 54200. 54300. 54400. 54500. 54600.\n",
      " 54700. 54800. 54900. 55000. 55100. 55200. 55300. 55400. 55500. 55600.\n",
      " 55700. 55800. 55900. 56000. 56100. 56200. 56300. 56400. 56500. 56600.\n",
      " 56700. 56800. 56900. 57000. 57100. 57200. 57300. 57400. 57500. 57600.\n",
      " 57700. 57800. 57900. 58000. 58100. 58200. 58300. 58400. 58500. 58600.\n",
      " 58700. 58800. 58900. 59000. 59100. 59200. 59300. 59500. 59600. 59700.\n",
      " 59800. 59900. 60000. 60100. 60200. 60300. 60400. 60500. 60600. 60700.\n",
      " 60900. 61000. 61200. 61300. 61400. 61500. 61700. 61800. 61900. 62000.\n",
      " 62100. 62200. 62300. 62400. 62500. 62600. 62700. 62800. 63100. 63200.\n",
      " 63300. 63400. 63500. 63600. 63700. 63800. 64000. 64100. 64400. 64800.\n",
      " 64900. 65100. 65200. 65300. 65900. 66100. 66300. 67100. 67200. 67700.\n",
      " 68000. 68400. 68500. 68900. 69200. 69400. 70000. 70500. 70600. 71400.\n",
      " 71600. 74800. 75200. 79000.]\n",
      "Члены семьи \n",
      " [0 1 2 3 4 5 6]\n",
      "Страховые выплаты \n",
      " [0 1 2 3 4 5]\n"
     ]
    }
   ],
   "source": [
    "for col in data_raw.columns:\n",
    "    print(col, '\\n', np.sort(data_raw[col].unique()))"
   ]
  },
  {
   "cell_type": "code",
   "execution_count": 5,
   "metadata": {},
   "outputs": [
    {
     "data": {
      "text/plain": [
       "0    4436\n",
       "1     423\n",
       "2     115\n",
       "3      18\n",
       "4       7\n",
       "5       1\n",
       "Name: Страховые выплаты, dtype: int64"
      ]
     },
     "execution_count": 5,
     "metadata": {},
     "output_type": "execute_result"
    }
   ],
   "source": [
    "data_raw['Страховые выплаты'].value_counts()"
   ]
  },
  {
   "cell_type": "code",
   "execution_count": 6,
   "metadata": {},
   "outputs": [
    {
     "name": "stdout",
     "output_type": "stream",
     "text": [
      "Возраст        int8\n",
      "Зарплата    float64\n",
      "dtype: object\n"
     ]
    }
   ],
   "source": [
    "col_flt = data_raw.select_dtypes(include=['float64']).apply(pd.to_numeric, downcast='integer')\n",
    "print(col_flt.dtypes)"
   ]
  },
  {
   "cell_type": "code",
   "execution_count": 7,
   "metadata": {},
   "outputs": [
    {
     "name": "stdout",
     "output_type": "stream",
     "text": [
      "Пол                  int8\n",
      "Члены семьи          int8\n",
      "Страховые выплаты    int8\n",
      "dtype: object\n"
     ]
    }
   ],
   "source": [
    "col_int = data_raw.select_dtypes(include=['integer']).apply(pd.to_numeric, downcast='integer')\n",
    "print(col_int.dtypes)"
   ]
  },
  {
   "cell_type": "markdown",
   "metadata": {},
   "source": [
    "Оптимизация типов данных"
   ]
  },
  {
   "cell_type": "code",
   "execution_count": 8,
   "metadata": {},
   "outputs": [],
   "source": [
    "for item in col_flt.dtypes.index:\n",
    "    data_raw[item] = data_raw[item].astype(col_flt.dtypes[item])\n",
    "\n",
    "for item in col_int.dtypes.index:\n",
    "    data_raw[item] = data_raw[item].astype(col_int.dtypes[item])"
   ]
  },
  {
   "cell_type": "code",
   "execution_count": 9,
   "metadata": {},
   "outputs": [
    {
     "name": "stdout",
     "output_type": "stream",
     "text": [
      "<class 'pandas.core.frame.DataFrame'>\n",
      "RangeIndex: 5000 entries, 0 to 4999\n",
      "Data columns (total 5 columns):\n",
      " #   Column             Non-Null Count  Dtype  \n",
      "---  ------             --------------  -----  \n",
      " 0   Пол                5000 non-null   int8   \n",
      " 1   Возраст            5000 non-null   int8   \n",
      " 2   Зарплата           5000 non-null   float64\n",
      " 3   Члены семьи        5000 non-null   int8   \n",
      " 4   Страховые выплаты  5000 non-null   int8   \n",
      "dtypes: float64(1), int8(4)\n",
      "memory usage: 58.7 KB\n"
     ]
    }
   ],
   "source": [
    "data_raw.info()"
   ]
  },
  {
   "cell_type": "code",
   "execution_count": 10,
   "metadata": {},
   "outputs": [
    {
     "data": {
      "text/html": [
       "<div>\n",
       "<style scoped>\n",
       "    .dataframe tbody tr th:only-of-type {\n",
       "        vertical-align: middle;\n",
       "    }\n",
       "\n",
       "    .dataframe tbody tr th {\n",
       "        vertical-align: top;\n",
       "    }\n",
       "\n",
       "    .dataframe thead th {\n",
       "        text-align: right;\n",
       "    }\n",
       "</style>\n",
       "<table border=\"1\" class=\"dataframe\">\n",
       "  <thead>\n",
       "    <tr style=\"text-align: right;\">\n",
       "      <th></th>\n",
       "      <th>Пол</th>\n",
       "      <th>Возраст</th>\n",
       "      <th>Зарплата</th>\n",
       "      <th>Члены семьи</th>\n",
       "      <th>Страховые выплаты</th>\n",
       "    </tr>\n",
       "  </thead>\n",
       "  <tbody>\n",
       "    <tr>\n",
       "      <th>count</th>\n",
       "      <td>5000.000000</td>\n",
       "      <td>5000.000000</td>\n",
       "      <td>5000.000000</td>\n",
       "      <td>5000.000000</td>\n",
       "      <td>5000.000000</td>\n",
       "    </tr>\n",
       "    <tr>\n",
       "      <th>mean</th>\n",
       "      <td>0.499000</td>\n",
       "      <td>30.952800</td>\n",
       "      <td>39916.360000</td>\n",
       "      <td>1.194200</td>\n",
       "      <td>0.148000</td>\n",
       "    </tr>\n",
       "    <tr>\n",
       "      <th>std</th>\n",
       "      <td>0.500049</td>\n",
       "      <td>8.440807</td>\n",
       "      <td>9900.083569</td>\n",
       "      <td>1.091387</td>\n",
       "      <td>0.463183</td>\n",
       "    </tr>\n",
       "    <tr>\n",
       "      <th>min</th>\n",
       "      <td>0.000000</td>\n",
       "      <td>18.000000</td>\n",
       "      <td>5300.000000</td>\n",
       "      <td>0.000000</td>\n",
       "      <td>0.000000</td>\n",
       "    </tr>\n",
       "    <tr>\n",
       "      <th>25%</th>\n",
       "      <td>0.000000</td>\n",
       "      <td>24.000000</td>\n",
       "      <td>33300.000000</td>\n",
       "      <td>0.000000</td>\n",
       "      <td>0.000000</td>\n",
       "    </tr>\n",
       "    <tr>\n",
       "      <th>50%</th>\n",
       "      <td>0.000000</td>\n",
       "      <td>30.000000</td>\n",
       "      <td>40200.000000</td>\n",
       "      <td>1.000000</td>\n",
       "      <td>0.000000</td>\n",
       "    </tr>\n",
       "    <tr>\n",
       "      <th>75%</th>\n",
       "      <td>1.000000</td>\n",
       "      <td>37.000000</td>\n",
       "      <td>46600.000000</td>\n",
       "      <td>2.000000</td>\n",
       "      <td>0.000000</td>\n",
       "    </tr>\n",
       "    <tr>\n",
       "      <th>max</th>\n",
       "      <td>1.000000</td>\n",
       "      <td>65.000000</td>\n",
       "      <td>79000.000000</td>\n",
       "      <td>6.000000</td>\n",
       "      <td>5.000000</td>\n",
       "    </tr>\n",
       "  </tbody>\n",
       "</table>\n",
       "</div>"
      ],
      "text/plain": [
       "               Пол      Возраст      Зарплата  Члены семьи  Страховые выплаты\n",
       "count  5000.000000  5000.000000   5000.000000  5000.000000        5000.000000\n",
       "mean      0.499000    30.952800  39916.360000     1.194200           0.148000\n",
       "std       0.500049     8.440807   9900.083569     1.091387           0.463183\n",
       "min       0.000000    18.000000   5300.000000     0.000000           0.000000\n",
       "25%       0.000000    24.000000  33300.000000     0.000000           0.000000\n",
       "50%       0.000000    30.000000  40200.000000     1.000000           0.000000\n",
       "75%       1.000000    37.000000  46600.000000     2.000000           0.000000\n",
       "max       1.000000    65.000000  79000.000000     6.000000           5.000000"
      ]
     },
     "execution_count": 10,
     "metadata": {},
     "output_type": "execute_result"
    }
   ],
   "source": [
    "data_raw.describe()"
   ]
  },
  {
   "cell_type": "code",
   "execution_count": 11,
   "metadata": {
    "scrolled": true
   },
   "outputs": [
    {
     "name": "stdout",
     "output_type": "stream",
     "text": [
      "Пол                  0\n",
      "Возраст              0\n",
      "Зарплата             0\n",
      "Члены семьи          0\n",
      "Страховые выплаты    0\n",
      "dtype: int64\n"
     ]
    }
   ],
   "source": [
    "print(data_raw.isna().sum())"
   ]
  },
  {
   "cell_type": "markdown",
   "metadata": {},
   "source": [
    "Выведем корреляционную матрицу признаков:"
   ]
  },
  {
   "cell_type": "code",
   "execution_count": 12,
   "metadata": {
    "scrolled": false
   },
   "outputs": [
    {
     "data": {
      "image/png": "[encoded data removed]",
      "text/plain": [
       "<Figure size 640x480 with 2 Axes>"
      ]
     },
     "metadata": {},
     "output_type": "display_data"
    }
   ],
   "source": [
    "data_fch = data_raw.drop('Страховые выплаты', axis=1)\n",
    "fch_columns = data_fch.columns\n",
    "sns.heatmap(data_fch.loc[:, fch_columns].corr(), annot=True);"
   ]
  },
  {
   "cell_type": "markdown",
   "metadata": {},
   "source": [
    "Как видим - все признаки скоррелированы очень слабо."
   ]
  },
  {
   "cell_type": "markdown",
   "metadata": {},
   "source": [
    "### Вывод"
   ]
  },
  {
   "cell_type": "markdown",
   "metadata": {},
   "source": [
    "Данные загружены, пропусков и аномалий в данных нет. Оптимизация типов позволила уменьшить размер датасета с 195.4 KB до 58.7 KB ."
   ]
  },
  {
   "cell_type": "markdown",
   "metadata": {},
   "source": [
    "## Умножение матриц"
   ]
  },
  {
   "cell_type": "markdown",
   "metadata": {},
   "source": [
    "### Вычисление вектора весов по формуле и с применением класса `LinearRegression()`"
   ]
  },
  {
   "cell_type": "markdown",
   "metadata": {},
   "source": [
    "Значания весов вычисляются по формуле\n",
    "$$\n",
    "w = (X^T X)^{-1} X^T y\n",
    "$$\n",
    "\n",
    "Проверим на основе реальных данных, что значения весов совпадают, если их вычислить по формуле и если вычислить с применением класса `LinearRegression` из библиотки **scikit-learn**"
   ]
  },
  {
   "cell_type": "code",
   "execution_count": 13,
   "metadata": {},
   "outputs": [],
   "source": [
    "features = data_raw.drop('Страховые выплаты',axis=1)\n",
    "target = data_raw['Страховые выплаты']\n",
    "\n",
    "X = np.concatenate( (np.ones((features.shape[0], 1)), features), axis=1 )\n",
    "y = target\n",
    "\n",
    "w_calc = np.linalg.inv(X.T @ X) @ X.T @ y\n",
    "\n",
    "model = LinearRegression()\n",
    "model.fit(features, target)\n",
    "w_model = np.hstack((model.intercept_, model.coef_))"
   ]
  },
  {
   "cell_type": "code",
   "execution_count": 14,
   "metadata": {
    "scrolled": true
   },
   "outputs": [
    {
     "data": {
      "text/html": [
       "<div>\n",
       "<style scoped>\n",
       "    .dataframe tbody tr th:only-of-type {\n",
       "        vertical-align: middle;\n",
       "    }\n",
       "\n",
       "    .dataframe tbody tr th {\n",
       "        vertical-align: top;\n",
       "    }\n",
       "\n",
       "    .dataframe thead th {\n",
       "        text-align: right;\n",
       "    }\n",
       "</style>\n",
       "<table border=\"1\" class=\"dataframe\">\n",
       "  <thead>\n",
       "    <tr style=\"text-align: right;\">\n",
       "      <th></th>\n",
       "      <th>w0</th>\n",
       "      <th>w1</th>\n",
       "      <th>w2</th>\n",
       "      <th>w3</th>\n",
       "      <th>w4</th>\n",
       "    </tr>\n",
       "  </thead>\n",
       "  <tbody>\n",
       "    <tr>\n",
       "      <th>Формула $(X^T X)^{-1} X^T y$</th>\n",
       "      <td>-0.938236</td>\n",
       "      <td>0.007926</td>\n",
       "      <td>0.035708</td>\n",
       "      <td>-1.700805e-07</td>\n",
       "      <td>-0.013568</td>\n",
       "    </tr>\n",
       "    <tr>\n",
       "      <th>Класс LinearRegression</th>\n",
       "      <td>-0.938236</td>\n",
       "      <td>0.007926</td>\n",
       "      <td>0.035708</td>\n",
       "      <td>-1.700805e-07</td>\n",
       "      <td>-0.013568</td>\n",
       "    </tr>\n",
       "  </tbody>\n",
       "</table>\n",
       "</div>"
      ],
      "text/plain": [
       "                                    w0        w1        w2            w3  \\\n",
       "Формула $(X^T X)^{-1} X^T y$ -0.938236  0.007926  0.035708 -1.700805e-07   \n",
       "Класс LinearRegression       -0.938236  0.007926  0.035708 -1.700805e-07   \n",
       "\n",
       "                                    w4  \n",
       "Формула $(X^T X)^{-1} X^T y$ -0.013568  \n",
       "Класс LinearRegression       -0.013568  "
      ]
     },
     "execution_count": 14,
     "metadata": {},
     "output_type": "execute_result"
    }
   ],
   "source": [
    "pd.DataFrame(data={'Формула $(X^T X)^{-1} X^T y$': w_calc.tolist(),\n",
    "                   'Класс LinearRegression': w_model.tolist()},\n",
    "             index=['w'+ str(i) for i in range(len(w_calc.tolist()))] ).T"
   ]
  },
  {
   "cell_type": "markdown",
   "metadata": {},
   "source": [
    "Коэффициенты - одинаковые"
   ]
  },
  {
   "cell_type": "markdown",
   "metadata": {},
   "source": [
    "### Теоретическое подтверждение неизменности предсказаний при умножении признаков на обратимую матрицу"
   ]
  },
  {
   "cell_type": "markdown",
   "metadata": {},
   "source": [
    "Теперь ответим на основной вопрос 2-го раздела ..."
   ]
  },
  {
   "cell_type": "markdown",
   "metadata": {},
   "source": [
    "**Вопрос:** Признаки умножают на обратимую матрицу. Изменится ли качество линейной регрессии?"
   ]
  },
  {
   "cell_type": "markdown",
   "metadata": {},
   "source": [
    "Введем обозначения:\n",
    "\n",
    "- $X$ — матрица признаков (левый столбец состоит из единиц)\n",
    "\n",
    "- $y$ — вектор целевого признака\n",
    "\n",
    "- $M$ — матрица, на которую умножаются признаки ($ X' = XM$)\n",
    "\n",
    "- $w$ — вектор весов линейной регрессии (нулевой элемент равен сдвигу)"
   ]
  },
  {
   "cell_type": "markdown",
   "metadata": {},
   "source": [
    "Предсказания:\n",
    "$$\n",
    "a = Xw\n",
    "$$\n",
    "$$\n",
    "a' = X'w\n",
    "$$\n",
    "\n",
    "Задача обучения:\n",
    "$$\n",
    "w = \\arg\\min_w MSE(Xw, y)\n",
    "$$\n",
    "\n",
    "Формула обучения:\n",
    "$$\n",
    "w = (X^T X)^{-1} X^T y\n",
    "$$"
   ]
  },
  {
   "cell_type": "markdown",
   "metadata": {},
   "source": [
    "**Ответ:** не изменится\n",
    "\n",
    "**Обоснование:** \n",
    "\n",
    "По условию матрица $M$ обратимая - т.е. имет обратную матрицу. Значит эта матрица квадратная. Примем размерность матрицы признаков $X$ равной `{n, m}`, где `n` - число наблюдений, а `m` - число признаков (фитчей). При этом обычно `n >> m`. Размерность матрицы $M$ должна быть `{m, m}`, в итоге размерность матрицы $X'$ будет `{n, m}`"
   ]
  },
  {
   "cell_type": "markdown",
   "metadata": {},
   "source": [
    "Запишем формулу обучения (нахождения вектора весов), но уже учитывая $X' = XM$:\n",
    "\n",
    "$$\n",
    "a' = X' ((X')^T (X'))^{-1} (X')^T y = XM ((XM)^T (XM))^{-1} (XM)^T y\n",
    "$$ \n",
    "\n",
    "учитывая:\n",
    "$$(AB)^{-1} = B^{-1} A^{-1}$$\n",
    "и\n",
    "$$\n",
    "(AB)^T = B^T A^T\n",
    "$$\n",
    "\n",
    "преобразуем:\n",
    "$$\n",
    "a' = XM (M^{T}X^{T}XM)^{-1} M^T X^T y = XM M^{-1} (X^TX)^{-1} (M^T)^{-1} M^T X^T y = X E (X^TX)^{-1} E X^T y = X (X^T X)^{-1}X^Ty\n",
    "$$\n",
    "\n",
    "но по условию у нас:\n",
    "$$\n",
    "w = (X^T X)^{-1} X^T y\n",
    "$$\n",
    "значит:\n",
    "$$\n",
    "a' = Xw\n",
    "$$\n",
    "из этого следует, что:\n",
    "$$\n",
    "a = a' = Xw\n",
    "$$"
   ]
  },
  {
   "cell_type": "markdown",
   "metadata": {},
   "source": [
    "### Вывод"
   ]
  },
  {
   "cell_type": "markdown",
   "metadata": {},
   "source": [
    "Значение вектора предсказаний $a$ не изменится, если матрицу признаков $X$ умножить справа на обратимую матрицу $M$"
   ]
  },
  {
   "cell_type": "markdown",
   "metadata": {},
   "source": [
    "## Алгоритм преобразования"
   ]
  },
  {
   "cell_type": "markdown",
   "metadata": {},
   "source": [
    "**Алгоритм**\n",
    "\n",
    "Для защиты персональных данных будем умножать матрицу признаков $X$ на обратимую матрицу $M$, которая будет генерироваться случайным образом, с применением функции `numpy.random.randint()`.\n",
    "\n",
    "Алгоритм будет состоять из следующих шагов:\n",
    "\n",
    "1. Генерация матрицы $M$ размерности `{m, m}`, где `m` число фитчей (столбцов) в матрице $X$;\n",
    "2. Проверка матрицы $M$ на обратимость (проверка $det M \\ne 0$);\n",
    "3. Получение матрицы $X'= XM$ преобразованных признаков;"
   ]
  },
  {
   "cell_type": "markdown",
   "metadata": {},
   "source": [
    "**Обоснование**\n",
    "\n",
    "Алгоритм удовлетворяет всем требованиям, проверенным теоретически выше. \n",
    "- матрица $M$ обратимая (проверка на обратимость заложена в алгоритме)\n",
    "- матрица $M$ квадратная и размерность матрицы $M$ соотвествует числу признаков (фитчей)\n",
    "- умножение на матрицу $M$ производится \"справа\""
   ]
  },
  {
   "cell_type": "markdown",
   "metadata": {},
   "source": [
    "## Проверка алгоритма"
   ]
  },
  {
   "cell_type": "markdown",
   "metadata": {},
   "source": [
    "Проверку алгоритма будем проводить, обучая модель `LinearRegression()` на оригинальных и преобразованных данных, а затем сравним метрики"
   ]
  },
  {
   "cell_type": "markdown",
   "metadata": {},
   "source": [
    "### Модель с исходными признаками"
   ]
  },
  {
   "cell_type": "markdown",
   "metadata": {},
   "source": [
    "Разделение данных на обучающую и тестовую выборки"
   ]
  },
  {
   "cell_type": "code",
   "execution_count": 15,
   "metadata": {},
   "outputs": [],
   "source": [
    "fch_train, fch_test, trgt_train, trgt_test = train_test_split(\n",
    "    features, target, test_size=0.25, random_state=RND_ST\n",
    ")"
   ]
  },
  {
   "cell_type": "code",
   "execution_count": 16,
   "metadata": {},
   "outputs": [],
   "source": [
    "model = LinearRegression()"
   ]
  },
  {
   "cell_type": "code",
   "execution_count": 17,
   "metadata": {},
   "outputs": [
    {
     "name": "stdout",
     "output_type": "stream",
     "text": [
      "r2: 0.42547785406963134\n",
      "MAE: 0.2532577223096975\n",
      "Коэффициенты: \n",
      " [-0.9200267704143777, 0.004924320857818895, 0.03515271957090624, -2.4579661907220274e-07, -0.014914008857130633]\n"
     ]
    }
   ],
   "source": [
    "model.fit(fch_train, trgt_train)\n",
    "predictions_raw = model.predict(fch_test)\n",
    "r2_raw = r2_score(trgt_test, predictions_raw)\n",
    "MAE_raw = mean_absolute_error(trgt_test, predictions_raw)\n",
    "w_model_raw = np.hstack((model.intercept_, model.coef_))\n",
    "print('r2:', r2_raw)\n",
    "print('MAE:', MAE_raw)\n",
    "print('Коэффициенты:', '\\n', w_model_raw.tolist())"
   ]
  },
  {
   "cell_type": "markdown",
   "metadata": {},
   "source": [
    "### Модель с модифицированными признаками"
   ]
  },
  {
   "cell_type": "markdown",
   "metadata": {},
   "source": [
    "Создадим функцию для генерации случайной матрицы $M$ и преобразования матрицы $X$ в $X'=XM$ "
   ]
  },
  {
   "cell_type": "code",
   "execution_count": 18,
   "metadata": {},
   "outputs": [],
   "source": [
    "def modify_matrix(features):\n",
    "    m = features.shape[1]\n",
    "    np.random.seed(RND_ST)\n",
    "    M = np.random.randint(1, 25, (m,m))\n",
    "    det = np.linalg.det(M)\n",
    "    while det == 0:\n",
    "        M = np.random.randint(1, 25, (m,m))\n",
    "        det = np.linalg.det(M)\n",
    "    \n",
    "    modified_features = features @ M\n",
    "    return modified_features, M"
   ]
  },
  {
   "cell_type": "markdown",
   "metadata": {},
   "source": [
    "Применим функцию к признакам, выведем данные до, после преобразования и саму матрицу $M$:"
   ]
  },
  {
   "cell_type": "code",
   "execution_count": 19,
   "metadata": {
    "scrolled": false
   },
   "outputs": [
    {
     "data": {
      "text/html": [
       "<div>\n",
       "<style scoped>\n",
       "    .dataframe tbody tr th:only-of-type {\n",
       "        vertical-align: middle;\n",
       "    }\n",
       "\n",
       "    .dataframe tbody tr th {\n",
       "        vertical-align: top;\n",
       "    }\n",
       "\n",
       "    .dataframe thead th {\n",
       "        text-align: right;\n",
       "    }\n",
       "</style>\n",
       "<table border=\"1\" class=\"dataframe\">\n",
       "  <thead>\n",
       "    <tr style=\"text-align: right;\">\n",
       "      <th></th>\n",
       "      <th>Пол</th>\n",
       "      <th>Возраст</th>\n",
       "      <th>Зарплата</th>\n",
       "      <th>Члены семьи</th>\n",
       "    </tr>\n",
       "  </thead>\n",
       "  <tbody>\n",
       "    <tr>\n",
       "      <th>1501</th>\n",
       "      <td>1</td>\n",
       "      <td>28</td>\n",
       "      <td>56100.0</td>\n",
       "      <td>0</td>\n",
       "    </tr>\n",
       "    <tr>\n",
       "      <th>2586</th>\n",
       "      <td>1</td>\n",
       "      <td>32</td>\n",
       "      <td>41900.0</td>\n",
       "      <td>2</td>\n",
       "    </tr>\n",
       "    <tr>\n",
       "      <th>2653</th>\n",
       "      <td>1</td>\n",
       "      <td>30</td>\n",
       "      <td>26300.0</td>\n",
       "      <td>0</td>\n",
       "    </tr>\n",
       "    <tr>\n",
       "      <th>1055</th>\n",
       "      <td>1</td>\n",
       "      <td>30</td>\n",
       "      <td>37300.0</td>\n",
       "      <td>2</td>\n",
       "    </tr>\n",
       "    <tr>\n",
       "      <th>705</th>\n",
       "      <td>0</td>\n",
       "      <td>44</td>\n",
       "      <td>30000.0</td>\n",
       "      <td>1</td>\n",
       "    </tr>\n",
       "    <tr>\n",
       "      <th>106</th>\n",
       "      <td>1</td>\n",
       "      <td>45</td>\n",
       "      <td>41600.0</td>\n",
       "      <td>2</td>\n",
       "    </tr>\n",
       "    <tr>\n",
       "      <th>589</th>\n",
       "      <td>1</td>\n",
       "      <td>28</td>\n",
       "      <td>32800.0</td>\n",
       "      <td>2</td>\n",
       "    </tr>\n",
       "  </tbody>\n",
       "</table>\n",
       "</div>"
      ],
      "text/plain": [
       "      Пол  Возраст  Зарплата  Члены семьи\n",
       "1501    1       28   56100.0            0\n",
       "2586    1       32   41900.0            2\n",
       "2653    1       30   26300.0            0\n",
       "1055    1       30   37300.0            2\n",
       "705     0       44   30000.0            1\n",
       "106     1       45   41600.0            2\n",
       "589     1       28   32800.0            2"
      ]
     },
     "metadata": {},
     "output_type": "display_data"
    },
    {
     "data": {
      "text/html": [
       "<div>\n",
       "<style scoped>\n",
       "    .dataframe tbody tr th:only-of-type {\n",
       "        vertical-align: middle;\n",
       "    }\n",
       "\n",
       "    .dataframe tbody tr th {\n",
       "        vertical-align: top;\n",
       "    }\n",
       "\n",
       "    .dataframe thead th {\n",
       "        text-align: right;\n",
       "    }\n",
       "</style>\n",
       "<table border=\"1\" class=\"dataframe\">\n",
       "  <thead>\n",
       "    <tr style=\"text-align: right;\">\n",
       "      <th></th>\n",
       "      <th>0</th>\n",
       "      <th>1</th>\n",
       "      <th>2</th>\n",
       "      <th>3</th>\n",
       "    </tr>\n",
       "  </thead>\n",
       "  <tbody>\n",
       "    <tr>\n",
       "      <th>1501</th>\n",
       "      <td>1290531.0</td>\n",
       "      <td>617708.0</td>\n",
       "      <td>617311.0</td>\n",
       "      <td>1346943.0</td>\n",
       "    </tr>\n",
       "    <tr>\n",
       "      <th>2586</th>\n",
       "      <td>964005.0</td>\n",
       "      <td>461600.0</td>\n",
       "      <td>461155.0</td>\n",
       "      <td>1006267.0</td>\n",
       "    </tr>\n",
       "    <tr>\n",
       "      <th>2653</th>\n",
       "      <td>605147.0</td>\n",
       "      <td>289950.0</td>\n",
       "      <td>289525.0</td>\n",
       "      <td>631781.0</td>\n",
       "    </tr>\n",
       "    <tr>\n",
       "      <th>1055</th>\n",
       "      <td>858189.0</td>\n",
       "      <td>410958.0</td>\n",
       "      <td>410541.0</td>\n",
       "      <td>895829.0</td>\n",
       "    </tr>\n",
       "    <tr>\n",
       "      <th>705</th>\n",
       "      <td>690373.0</td>\n",
       "      <td>330928.0</td>\n",
       "      <td>330316.0</td>\n",
       "      <td>720860.0</td>\n",
       "    </tr>\n",
       "    <tr>\n",
       "      <th>106</th>\n",
       "      <td>957209.0</td>\n",
       "      <td>458573.0</td>\n",
       "      <td>457946.0</td>\n",
       "      <td>999314.0</td>\n",
       "    </tr>\n",
       "    <tr>\n",
       "      <th>589</th>\n",
       "      <td>754673.0</td>\n",
       "      <td>361416.0</td>\n",
       "      <td>361027.0</td>\n",
       "      <td>787791.0</td>\n",
       "    </tr>\n",
       "  </tbody>\n",
       "</table>\n",
       "</div>"
      ],
      "text/plain": [
       "              0         1         2          3\n",
       "1501  1290531.0  617708.0  617311.0  1346943.0\n",
       "2586   964005.0  461600.0  461155.0  1006267.0\n",
       "2653   605147.0  289950.0  289525.0   631781.0\n",
       "1055   858189.0  410958.0  410541.0   895829.0\n",
       "705    690373.0  330928.0  330316.0   720860.0\n",
       "106    957209.0  458573.0  457946.0   999314.0\n",
       "589    754673.0  361416.0  361027.0   787791.0"
      ]
     },
     "metadata": {},
     "output_type": "display_data"
    },
    {
     "data": {
      "text/plain": [
       "array([[ 7, 20, 15, 11],\n",
       "       [ 8, 21,  7, 19],\n",
       "       [23, 11, 11, 24],\n",
       "       [21,  4,  8, 24]])"
      ]
     },
     "metadata": {},
     "output_type": "display_data"
    }
   ],
   "source": [
    "display(features.sample(7, random_state=RND_ST))\n",
    "features_mod, M_matrix = modify_matrix(features)\n",
    "display(features_mod.sample(7, random_state=RND_ST))\n",
    "display(M_matrix)"
   ]
  },
  {
   "cell_type": "markdown",
   "metadata": {},
   "source": [
    "Разделение данных с преобразованными признаками на обучающую и тестовую выборки:"
   ]
  },
  {
   "cell_type": "code",
   "execution_count": 20,
   "metadata": {},
   "outputs": [],
   "source": [
    "fch_mod_train, fch_mod_test, trgt_train, trgt_test = train_test_split(features_mod, target, test_size=0.25, random_state=RND_ST)"
   ]
  },
  {
   "cell_type": "code",
   "execution_count": 21,
   "metadata": {},
   "outputs": [
    {
     "name": "stdout",
     "output_type": "stream",
     "text": [
      "r2 для модифицированных признаков: 0.4254778540696863\n",
      "MAE для модифицированных признаков: 0.2532577223096853\n",
      "Коэффициенты для модифицированных признаков: \n",
      " [-0.9200267704153721, 0.0015133067837364534, 0.0035244568556094466, -0.004261349498735802, -0.0011125201145069817]\n"
     ]
    }
   ],
   "source": [
    "model.fit(fch_mod_train, trgt_train)\n",
    "predictions_mod = model.predict(fch_mod_test)\n",
    "r2_mod = r2_score(trgt_test, predictions_mod)\n",
    "MAE_mod = mean_absolute_error(trgt_test, predictions_mod)\n",
    "w_model_mod = np.hstack((model.intercept_, model.coef_))\n",
    "print('r2 для модифицированных признаков:',r2_mod)\n",
    "print('MAE для модифицированных признаков:', MAE_mod)\n",
    "print('Коэффициенты для модифицированных признаков:', '\\n', w_model_mod.tolist())"
   ]
  },
  {
   "cell_type": "markdown",
   "metadata": {},
   "source": [
    "## Общий вывод"
   ]
  },
  {
   "cell_type": "markdown",
   "metadata": {},
   "source": [
    "Выведем сводную таблицу параметров и метрик моделей для исходных и модифицированных признаков:"
   ]
  },
  {
   "cell_type": "code",
   "execution_count": 22,
   "metadata": {},
   "outputs": [
    {
     "data": {
      "text/html": [
       "<div>\n",
       "<style scoped>\n",
       "    .dataframe tbody tr th:only-of-type {\n",
       "        vertical-align: middle;\n",
       "    }\n",
       "\n",
       "    .dataframe tbody tr th {\n",
       "        vertical-align: top;\n",
       "    }\n",
       "\n",
       "    .dataframe thead th {\n",
       "        text-align: right;\n",
       "    }\n",
       "</style>\n",
       "<table border=\"1\" class=\"dataframe\">\n",
       "  <thead>\n",
       "    <tr style=\"text-align: right;\">\n",
       "      <th></th>\n",
       "      <th>R2</th>\n",
       "      <th>MAE</th>\n",
       "      <th>w0</th>\n",
       "      <th>w1</th>\n",
       "      <th>w2</th>\n",
       "      <th>w3</th>\n",
       "      <th>w4</th>\n",
       "    </tr>\n",
       "  </thead>\n",
       "  <tbody>\n",
       "    <tr>\n",
       "      <th>Исходные признаки</th>\n",
       "      <td>0.425478</td>\n",
       "      <td>0.253258</td>\n",
       "      <td>-0.920027</td>\n",
       "      <td>0.004924</td>\n",
       "      <td>0.035153</td>\n",
       "      <td>-2.457966e-07</td>\n",
       "      <td>-0.014914</td>\n",
       "    </tr>\n",
       "    <tr>\n",
       "      <th>Модифицированные признаки</th>\n",
       "      <td>0.425478</td>\n",
       "      <td>0.253258</td>\n",
       "      <td>-0.920027</td>\n",
       "      <td>0.001513</td>\n",
       "      <td>0.003524</td>\n",
       "      <td>-4.261349e-03</td>\n",
       "      <td>-0.001113</td>\n",
       "    </tr>\n",
       "  </tbody>\n",
       "</table>\n",
       "</div>"
      ],
      "text/plain": [
       "                                 R2       MAE        w0        w1        w2  \\\n",
       "Исходные признаки          0.425478  0.253258 -0.920027  0.004924  0.035153   \n",
       "Модифицированные признаки  0.425478  0.253258 -0.920027  0.001513  0.003524   \n",
       "\n",
       "                                     w3        w4  \n",
       "Исходные признаки         -2.457966e-07 -0.014914  \n",
       "Модифицированные признаки -4.261349e-03 -0.001113  "
      ]
     },
     "execution_count": 22,
     "metadata": {},
     "output_type": "execute_result"
    }
   ],
   "source": [
    "(\n",
    "    pd.DataFrame(data={'Исходные признаки': (r2_raw, MAE_raw),\n",
    "                   'Модифицированные признаки': (r2_mod, MAE_mod)},\n",
    "             index=['R2', 'MAE'] ).T\n",
    "    .join(pd.DataFrame(data={'Исходные признаки': w_model_raw.tolist(),\n",
    "                   'Модифицированные признаки': w_model_mod.tolist()},\n",
    "             index=['w'+ str(i) for i in range(len(w_model_raw.tolist()))] ).T)\n",
    ")"
   ]
  },
  {
   "cell_type": "markdown",
   "metadata": {},
   "source": [
    "Качество линейной регресии (метрики `R2` и `MAE`) не изменилось при обучении и прогнозе на исходных признаках и при обучении и прогнозе на модифицированных признаках.\n",
    "\n",
    "Однако, заметим, что коэффициенты модели поменялись, кроме $w_0$.\n",
    "\n",
    "Как видим, персональную информацию довольно просто \"скрыть\", при этом не теряя информационное наполнение данных."
   ]
  }
 ],
 "metadata": {
  "ExecuteTimeLog": [
   {
    "duration": 59,
    "start_time": "2022-05-17T20:46:57.484Z"
   },
   {
    "duration": 855,
    "start_time": "2022-05-17T20:47:02.119Z"
   },
   {
    "duration": 3,
    "start_time": "2022-05-17T20:47:14.136Z"
   },
   {
    "duration": 69,
    "start_time": "2022-05-17T20:47:16.094Z"
   },
   {
    "duration": 3,
    "start_time": "2022-05-17T20:47:26.757Z"
   },
   {
    "duration": 26,
    "start_time": "2022-05-17T20:47:28.577Z"
   },
   {
    "duration": 14,
    "start_time": "2022-05-17T20:48:00.214Z"
   },
   {
    "duration": 32,
    "start_time": "2022-05-17T20:48:20.321Z"
   },
   {
    "duration": 5,
    "start_time": "2022-05-17T21:46:50.939Z"
   },
   {
    "duration": 9,
    "start_time": "2022-05-17T21:46:57.322Z"
   },
   {
    "duration": 5,
    "start_time": "2022-05-17T21:47:36.495Z"
   },
   {
    "duration": 3,
    "start_time": "2022-05-17T21:51:35.841Z"
   },
   {
    "duration": 50,
    "start_time": "2022-05-17T21:51:35.846Z"
   },
   {
    "duration": 11,
    "start_time": "2022-05-17T21:51:35.898Z"
   },
   {
    "duration": 11,
    "start_time": "2022-05-17T21:51:35.911Z"
   },
   {
    "duration": 19,
    "start_time": "2022-05-17T21:51:35.923Z"
   },
   {
    "duration": 8,
    "start_time": "2022-05-17T21:51:35.944Z"
   },
   {
    "duration": 3,
    "start_time": "2022-05-17T21:53:16.209Z"
   },
   {
    "duration": 27,
    "start_time": "2022-05-17T21:53:16.214Z"
   },
   {
    "duration": 11,
    "start_time": "2022-05-17T21:53:16.242Z"
   },
   {
    "duration": 10,
    "start_time": "2022-05-17T21:53:16.255Z"
   },
   {
    "duration": 24,
    "start_time": "2022-05-17T21:53:16.266Z"
   },
   {
    "duration": 6,
    "start_time": "2022-05-17T21:53:16.292Z"
   },
   {
    "duration": 8,
    "start_time": "2022-05-17T21:53:49.344Z"
   },
   {
    "duration": 10,
    "start_time": "2022-05-17T21:55:09.075Z"
   },
   {
    "duration": 9,
    "start_time": "2022-05-17T21:55:11.166Z"
   },
   {
    "duration": 2,
    "start_time": "2022-05-17T21:58:54.152Z"
   },
   {
    "duration": 24,
    "start_time": "2022-05-17T21:58:54.157Z"
   },
   {
    "duration": 10,
    "start_time": "2022-05-17T21:58:54.182Z"
   },
   {
    "duration": 10,
    "start_time": "2022-05-17T21:58:54.194Z"
   },
   {
    "duration": 8,
    "start_time": "2022-05-17T21:58:54.205Z"
   },
   {
    "duration": 6,
    "start_time": "2022-05-17T21:58:54.214Z"
   },
   {
    "duration": 12,
    "start_time": "2022-05-17T21:58:54.221Z"
   },
   {
    "duration": 34,
    "start_time": "2022-05-17T21:59:30.435Z"
   },
   {
    "duration": 13,
    "start_time": "2022-05-17T22:00:15.066Z"
   },
   {
    "duration": 566,
    "start_time": "2022-05-19T18:25:58.184Z"
   },
   {
    "duration": 71,
    "start_time": "2022-05-19T18:25:58.752Z"
   },
   {
    "duration": 12,
    "start_time": "2022-05-19T18:25:58.825Z"
   },
   {
    "duration": 15,
    "start_time": "2022-05-19T18:25:58.840Z"
   },
   {
    "duration": 9,
    "start_time": "2022-05-19T18:25:58.857Z"
   },
   {
    "duration": 6,
    "start_time": "2022-05-19T18:25:58.867Z"
   },
   {
    "duration": 12,
    "start_time": "2022-05-19T18:25:58.875Z"
   },
   {
    "duration": 21,
    "start_time": "2022-05-19T18:25:58.889Z"
   },
   {
    "duration": 4,
    "start_time": "2022-05-19T18:25:58.912Z"
   },
   {
    "duration": 101,
    "start_time": "2022-05-19T18:25:58.918Z"
   },
   {
    "duration": 0,
    "start_time": "2022-05-19T18:25:59.021Z"
   },
   {
    "duration": 3,
    "start_time": "2022-05-19T18:26:23.227Z"
   },
   {
    "duration": 633,
    "start_time": "2022-05-19T18:27:15.408Z"
   },
   {
    "duration": 25,
    "start_time": "2022-05-19T18:27:16.042Z"
   },
   {
    "duration": 10,
    "start_time": "2022-05-19T18:27:16.069Z"
   },
   {
    "duration": 13,
    "start_time": "2022-05-19T18:27:16.082Z"
   },
   {
    "duration": 10,
    "start_time": "2022-05-19T18:27:16.097Z"
   },
   {
    "duration": 8,
    "start_time": "2022-05-19T18:27:16.109Z"
   },
   {
    "duration": 12,
    "start_time": "2022-05-19T18:27:16.118Z"
   },
   {
    "duration": 47,
    "start_time": "2022-05-19T18:27:16.131Z"
   },
   {
    "duration": 5,
    "start_time": "2022-05-19T18:27:16.179Z"
   },
   {
    "duration": 6,
    "start_time": "2022-05-19T18:27:16.187Z"
   },
   {
    "duration": 66,
    "start_time": "2022-05-19T18:27:16.195Z"
   },
   {
    "duration": 4,
    "start_time": "2022-05-19T19:00:18.316Z"
   },
   {
    "duration": 33,
    "start_time": "2022-05-19T19:00:19.014Z"
   },
   {
    "duration": 28,
    "start_time": "2022-05-19T19:00:37.718Z"
   },
   {
    "duration": 10,
    "start_time": "2022-05-19T19:00:49.471Z"
   },
   {
    "duration": 12,
    "start_time": "2022-05-19T19:01:23.218Z"
   },
   {
    "duration": 54,
    "start_time": "2022-05-19T19:01:45.686Z"
   },
   {
    "duration": 12,
    "start_time": "2022-05-19T19:01:49.372Z"
   },
   {
    "duration": 9,
    "start_time": "2022-05-19T19:02:09.074Z"
   },
   {
    "duration": 15,
    "start_time": "2022-05-19T19:02:14.952Z"
   },
   {
    "duration": 12,
    "start_time": "2022-05-19T19:02:29.912Z"
   },
   {
    "duration": 12,
    "start_time": "2022-05-19T19:02:35.752Z"
   },
   {
    "duration": 10,
    "start_time": "2022-05-19T19:02:49.123Z"
   },
   {
    "duration": 4,
    "start_time": "2022-05-19T19:03:30.302Z"
   },
   {
    "duration": 10,
    "start_time": "2022-05-19T19:03:30.858Z"
   },
   {
    "duration": 11,
    "start_time": "2022-05-19T19:04:31.291Z"
   },
   {
    "duration": 8,
    "start_time": "2022-05-19T19:06:15.248Z"
   },
   {
    "duration": 40,
    "start_time": "2022-05-19T19:13:31.715Z"
   },
   {
    "duration": 9,
    "start_time": "2022-05-19T19:13:52.545Z"
   },
   {
    "duration": 12,
    "start_time": "2022-05-19T19:14:08.598Z"
   },
   {
    "duration": 15,
    "start_time": "2022-05-19T19:14:30.309Z"
   },
   {
    "duration": 9,
    "start_time": "2022-05-19T19:14:52.387Z"
   },
   {
    "duration": 5,
    "start_time": "2022-05-19T19:15:02.944Z"
   },
   {
    "duration": 4,
    "start_time": "2022-05-19T19:15:09.947Z"
   },
   {
    "duration": 13,
    "start_time": "2022-05-19T19:15:27.394Z"
   },
   {
    "duration": 3,
    "start_time": "2022-05-19T19:15:46.280Z"
   },
   {
    "duration": 4,
    "start_time": "2022-05-19T19:16:08.511Z"
   },
   {
    "duration": 10,
    "start_time": "2022-05-19T19:16:19.278Z"
   },
   {
    "duration": 3,
    "start_time": "2022-05-19T19:16:21.651Z"
   },
   {
    "duration": 10,
    "start_time": "2022-05-19T19:16:52.176Z"
   },
   {
    "duration": 10,
    "start_time": "2022-05-19T19:20:01.201Z"
   },
   {
    "duration": 10,
    "start_time": "2022-05-19T19:20:12.044Z"
   },
   {
    "duration": 9,
    "start_time": "2022-05-19T19:23:22.382Z"
   },
   {
    "duration": 35,
    "start_time": "2022-05-19T19:24:28.060Z"
   },
   {
    "duration": 35,
    "start_time": "2022-05-19T19:24:43.322Z"
   },
   {
    "duration": 38,
    "start_time": "2022-05-19T19:25:00.444Z"
   },
   {
    "duration": 49,
    "start_time": "2022-05-19T19:26:04.600Z"
   },
   {
    "duration": 8,
    "start_time": "2022-05-19T19:26:44.581Z"
   },
   {
    "duration": 8,
    "start_time": "2022-05-19T19:26:53.246Z"
   },
   {
    "duration": 8,
    "start_time": "2022-05-19T19:27:02.503Z"
   },
   {
    "duration": 3,
    "start_time": "2022-05-19T19:27:10.771Z"
   },
   {
    "duration": 33,
    "start_time": "2022-05-19T19:28:28.210Z"
   },
   {
    "duration": 3,
    "start_time": "2022-05-19T19:28:46.967Z"
   },
   {
    "duration": 10,
    "start_time": "2022-05-19T19:29:28.159Z"
   },
   {
    "duration": 53,
    "start_time": "2022-05-19T19:32:11.345Z"
   },
   {
    "duration": 9,
    "start_time": "2022-05-19T19:33:33.934Z"
   },
   {
    "duration": 11,
    "start_time": "2022-05-19T19:33:37.620Z"
   },
   {
    "duration": 2,
    "start_time": "2022-05-19T19:33:39.947Z"
   },
   {
    "duration": 9,
    "start_time": "2022-05-19T19:33:40.743Z"
   },
   {
    "duration": 9,
    "start_time": "2022-05-19T19:33:58.080Z"
   },
   {
    "duration": 9,
    "start_time": "2022-05-19T19:34:10.703Z"
   },
   {
    "duration": 4,
    "start_time": "2022-05-19T19:34:32.461Z"
   },
   {
    "duration": 8,
    "start_time": "2022-05-19T19:34:40.541Z"
   },
   {
    "duration": 3,
    "start_time": "2022-05-19T19:34:49.186Z"
   },
   {
    "duration": 9,
    "start_time": "2022-05-19T19:35:11.089Z"
   },
   {
    "duration": 9,
    "start_time": "2022-05-19T19:35:21.646Z"
   },
   {
    "duration": 5,
    "start_time": "2022-05-19T19:35:52.241Z"
   },
   {
    "duration": 3,
    "start_time": "2022-05-19T19:36:35.473Z"
   },
   {
    "duration": 4,
    "start_time": "2022-05-19T19:36:36.057Z"
   },
   {
    "duration": 9,
    "start_time": "2022-05-19T19:36:39.544Z"
   },
   {
    "duration": 8,
    "start_time": "2022-05-19T19:37:19.244Z"
   },
   {
    "duration": 8,
    "start_time": "2022-05-19T19:38:11.286Z"
   },
   {
    "duration": 28,
    "start_time": "2022-05-19T19:38:36.656Z"
   },
   {
    "duration": 9,
    "start_time": "2022-05-19T19:39:01.890Z"
   },
   {
    "duration": 6,
    "start_time": "2022-05-19T19:39:47.157Z"
   },
   {
    "duration": 9,
    "start_time": "2022-05-19T19:39:47.917Z"
   },
   {
    "duration": 9,
    "start_time": "2022-05-19T19:39:48.961Z"
   },
   {
    "duration": 9,
    "start_time": "2022-05-19T19:43:34.068Z"
   },
   {
    "duration": 9,
    "start_time": "2022-05-19T19:43:40.016Z"
   },
   {
    "duration": 11,
    "start_time": "2022-05-19T19:54:51.350Z"
   },
   {
    "duration": 8,
    "start_time": "2022-05-19T19:54:57.318Z"
   },
   {
    "duration": 7,
    "start_time": "2022-05-19T19:55:31.756Z"
   },
   {
    "duration": 8,
    "start_time": "2022-05-19T19:55:42.849Z"
   },
   {
    "duration": 9,
    "start_time": "2022-05-19T19:56:03.231Z"
   },
   {
    "duration": 9,
    "start_time": "2022-05-19T19:56:24.824Z"
   },
   {
    "duration": 8,
    "start_time": "2022-05-19T19:56:40.348Z"
   },
   {
    "duration": 5,
    "start_time": "2022-05-19T19:57:21.065Z"
   },
   {
    "duration": 8,
    "start_time": "2022-05-19T19:59:00.278Z"
   },
   {
    "duration": 10,
    "start_time": "2022-05-19T19:59:06.280Z"
   },
   {
    "duration": 9,
    "start_time": "2022-05-19T19:59:28.266Z"
   },
   {
    "duration": 10,
    "start_time": "2022-05-19T20:03:49.955Z"
   },
   {
    "duration": 9,
    "start_time": "2022-05-19T20:04:31.672Z"
   },
   {
    "duration": 51,
    "start_time": "2022-05-19T21:25:15.400Z"
   },
   {
    "duration": 11,
    "start_time": "2022-05-19T21:25:36.541Z"
   },
   {
    "duration": 10,
    "start_time": "2022-05-19T21:25:40.284Z"
   },
   {
    "duration": 32,
    "start_time": "2022-05-19T21:26:26.964Z"
   },
   {
    "duration": 10,
    "start_time": "2022-05-19T21:27:01.366Z"
   },
   {
    "duration": 8,
    "start_time": "2022-05-19T21:27:03.649Z"
   },
   {
    "duration": 9,
    "start_time": "2022-05-19T21:28:12.120Z"
   },
   {
    "duration": 3,
    "start_time": "2022-05-19T21:29:34.256Z"
   },
   {
    "duration": 29,
    "start_time": "2022-05-19T21:29:34.261Z"
   },
   {
    "duration": 9,
    "start_time": "2022-05-19T21:29:34.291Z"
   },
   {
    "duration": 11,
    "start_time": "2022-05-19T21:29:34.301Z"
   },
   {
    "duration": 8,
    "start_time": "2022-05-19T21:29:34.313Z"
   },
   {
    "duration": 9,
    "start_time": "2022-05-19T21:29:34.322Z"
   },
   {
    "duration": 9,
    "start_time": "2022-05-19T21:29:34.332Z"
   },
   {
    "duration": 19,
    "start_time": "2022-05-19T21:29:34.342Z"
   },
   {
    "duration": 22,
    "start_time": "2022-05-19T21:29:34.363Z"
   },
   {
    "duration": 3,
    "start_time": "2022-05-19T21:29:34.387Z"
   },
   {
    "duration": 23,
    "start_time": "2022-05-19T21:29:34.392Z"
   },
   {
    "duration": 12,
    "start_time": "2022-05-19T21:29:34.459Z"
   },
   {
    "duration": 10,
    "start_time": "2022-05-19T21:30:04.286Z"
   },
   {
    "duration": 9,
    "start_time": "2022-05-19T21:30:47.853Z"
   },
   {
    "duration": 10,
    "start_time": "2022-05-19T21:30:55.942Z"
   },
   {
    "duration": 10,
    "start_time": "2022-05-19T21:31:06.998Z"
   },
   {
    "duration": 10,
    "start_time": "2022-05-19T21:31:58.004Z"
   },
   {
    "duration": 7,
    "start_time": "2022-05-19T21:32:41.694Z"
   },
   {
    "duration": 10,
    "start_time": "2022-05-19T21:32:52.100Z"
   },
   {
    "duration": 10,
    "start_time": "2022-05-19T21:34:50.076Z"
   },
   {
    "duration": 10,
    "start_time": "2022-05-19T21:35:17.696Z"
   },
   {
    "duration": 9,
    "start_time": "2022-05-19T22:24:45.357Z"
   },
   {
    "duration": 10,
    "start_time": "2022-05-19T22:24:46.329Z"
   },
   {
    "duration": 8,
    "start_time": "2022-05-19T22:27:31.170Z"
   },
   {
    "duration": 3,
    "start_time": "2022-05-19T22:28:10.771Z"
   },
   {
    "duration": 831,
    "start_time": "2022-05-19T22:31:05.762Z"
   },
   {
    "duration": 94,
    "start_time": "2022-05-19T22:31:06.595Z"
   },
   {
    "duration": 11,
    "start_time": "2022-05-19T22:31:06.691Z"
   },
   {
    "duration": 14,
    "start_time": "2022-05-19T22:31:06.705Z"
   },
   {
    "duration": 29,
    "start_time": "2022-05-19T22:31:06.720Z"
   },
   {
    "duration": 15,
    "start_time": "2022-05-19T22:31:06.750Z"
   },
   {
    "duration": 20,
    "start_time": "2022-05-19T22:31:06.767Z"
   },
   {
    "duration": 20,
    "start_time": "2022-05-19T22:31:06.789Z"
   },
   {
    "duration": 43,
    "start_time": "2022-05-19T22:31:06.811Z"
   },
   {
    "duration": 5,
    "start_time": "2022-05-19T22:31:06.856Z"
   },
   {
    "duration": 20,
    "start_time": "2022-05-19T22:31:06.862Z"
   },
   {
    "duration": 90,
    "start_time": "2022-05-19T22:31:06.884Z"
   },
   {
    "duration": 3,
    "start_time": "2022-05-19T22:33:18.383Z"
   },
   {
    "duration": 24,
    "start_time": "2022-05-19T22:33:19.978Z"
   },
   {
    "duration": 3,
    "start_time": "2022-05-19T22:33:30.748Z"
   },
   {
    "duration": 23,
    "start_time": "2022-05-19T22:33:32.722Z"
   },
   {
    "duration": 3,
    "start_time": "2022-05-19T22:33:47.453Z"
   },
   {
    "duration": 24,
    "start_time": "2022-05-19T22:33:48.914Z"
   },
   {
    "duration": 3,
    "start_time": "2022-05-19T22:34:00.771Z"
   },
   {
    "duration": 24,
    "start_time": "2022-05-19T22:34:02.419Z"
   },
   {
    "duration": 3,
    "start_time": "2022-05-19T22:34:08.102Z"
   },
   {
    "duration": 23,
    "start_time": "2022-05-19T22:34:10.200Z"
   },
   {
    "duration": 3,
    "start_time": "2022-05-19T22:34:17.216Z"
   },
   {
    "duration": 23,
    "start_time": "2022-05-19T22:34:18.642Z"
   },
   {
    "duration": 3,
    "start_time": "2022-05-19T22:34:24.922Z"
   },
   {
    "duration": 23,
    "start_time": "2022-05-19T22:34:26.423Z"
   },
   {
    "duration": 3,
    "start_time": "2022-05-19T22:34:30.868Z"
   },
   {
    "duration": 24,
    "start_time": "2022-05-19T22:34:32.357Z"
   },
   {
    "duration": 28,
    "start_time": "2022-05-19T22:34:37.122Z"
   },
   {
    "duration": 24,
    "start_time": "2022-05-19T22:34:41.548Z"
   },
   {
    "duration": 3,
    "start_time": "2022-05-19T22:34:46.070Z"
   },
   {
    "duration": 25,
    "start_time": "2022-05-19T22:34:47.594Z"
   },
   {
    "duration": 24,
    "start_time": "2022-05-19T22:34:53.098Z"
   },
   {
    "duration": 23,
    "start_time": "2022-05-19T22:34:56.341Z"
   },
   {
    "duration": 24,
    "start_time": "2022-05-19T22:35:00.449Z"
   },
   {
    "duration": 24,
    "start_time": "2022-05-19T22:35:09.645Z"
   },
   {
    "duration": 25,
    "start_time": "2022-05-19T22:35:19.417Z"
   },
   {
    "duration": 24,
    "start_time": "2022-05-19T22:35:24.376Z"
   },
   {
    "duration": 3,
    "start_time": "2022-05-19T22:35:30.492Z"
   },
   {
    "duration": 25,
    "start_time": "2022-05-19T22:35:31.831Z"
   },
   {
    "duration": 22,
    "start_time": "2022-05-19T22:35:37.382Z"
   },
   {
    "duration": 23,
    "start_time": "2022-05-19T22:35:42.472Z"
   },
   {
    "duration": 23,
    "start_time": "2022-05-19T22:35:46.006Z"
   },
   {
    "duration": 23,
    "start_time": "2022-05-19T22:35:50.569Z"
   },
   {
    "duration": 22,
    "start_time": "2022-05-19T22:35:54.576Z"
   },
   {
    "duration": 22,
    "start_time": "2022-05-19T22:35:59.083Z"
   },
   {
    "duration": 24,
    "start_time": "2022-05-19T22:36:03.288Z"
   },
   {
    "duration": 25,
    "start_time": "2022-05-19T22:36:08.237Z"
   },
   {
    "duration": 25,
    "start_time": "2022-05-19T22:36:12.380Z"
   },
   {
    "duration": 23,
    "start_time": "2022-05-19T22:36:18.614Z"
   },
   {
    "duration": 23,
    "start_time": "2022-05-19T22:36:24.475Z"
   },
   {
    "duration": 23,
    "start_time": "2022-05-19T22:36:29.955Z"
   },
   {
    "duration": 23,
    "start_time": "2022-05-19T22:36:34.408Z"
   },
   {
    "duration": 23,
    "start_time": "2022-05-19T22:36:41.683Z"
   },
   {
    "duration": 26,
    "start_time": "2022-05-19T22:36:48.756Z"
   },
   {
    "duration": 23,
    "start_time": "2022-05-19T22:36:52.833Z"
   },
   {
    "duration": 23,
    "start_time": "2022-05-19T22:36:56.491Z"
   },
   {
    "duration": 25,
    "start_time": "2022-05-19T22:37:00.081Z"
   },
   {
    "duration": 27,
    "start_time": "2022-05-19T22:37:04.906Z"
   },
   {
    "duration": 24,
    "start_time": "2022-05-19T22:37:09.117Z"
   },
   {
    "duration": 22,
    "start_time": "2022-05-19T22:37:14.272Z"
   },
   {
    "duration": 22,
    "start_time": "2022-05-19T22:37:18.993Z"
   },
   {
    "duration": 23,
    "start_time": "2022-05-19T22:37:23.596Z"
   },
   {
    "duration": 22,
    "start_time": "2022-05-19T22:37:27.826Z"
   },
   {
    "duration": 23,
    "start_time": "2022-05-19T22:37:32.077Z"
   },
   {
    "duration": 24,
    "start_time": "2022-05-19T22:37:35.832Z"
   },
   {
    "duration": 22,
    "start_time": "2022-05-19T22:37:42.091Z"
   },
   {
    "duration": 23,
    "start_time": "2022-05-19T22:37:45.697Z"
   },
   {
    "duration": 22,
    "start_time": "2022-05-19T22:37:49.798Z"
   },
   {
    "duration": 22,
    "start_time": "2022-05-19T22:37:53.622Z"
   },
   {
    "duration": 23,
    "start_time": "2022-05-19T22:37:57.595Z"
   },
   {
    "duration": 24,
    "start_time": "2022-05-19T22:38:00.797Z"
   },
   {
    "duration": 23,
    "start_time": "2022-05-19T22:38:04.551Z"
   },
   {
    "duration": 25,
    "start_time": "2022-05-19T22:38:08.605Z"
   },
   {
    "duration": 24,
    "start_time": "2022-05-19T22:38:12.410Z"
   },
   {
    "duration": 23,
    "start_time": "2022-05-19T22:38:15.829Z"
   },
   {
    "duration": 23,
    "start_time": "2022-05-19T22:38:19.404Z"
   },
   {
    "duration": 25,
    "start_time": "2022-05-19T22:38:22.603Z"
   },
   {
    "duration": 23,
    "start_time": "2022-05-19T22:38:26.354Z"
   },
   {
    "duration": 23,
    "start_time": "2022-05-19T22:38:29.724Z"
   },
   {
    "duration": 24,
    "start_time": "2022-05-19T22:38:33.687Z"
   },
   {
    "duration": 24,
    "start_time": "2022-05-19T22:38:37.195Z"
   },
   {
    "duration": 23,
    "start_time": "2022-05-19T22:38:41.109Z"
   },
   {
    "duration": 24,
    "start_time": "2022-05-19T22:38:44.778Z"
   },
   {
    "duration": 23,
    "start_time": "2022-05-19T22:38:48.595Z"
   },
   {
    "duration": 22,
    "start_time": "2022-05-19T22:38:52.318Z"
   },
   {
    "duration": 24,
    "start_time": "2022-05-19T22:38:57.433Z"
   },
   {
    "duration": 24,
    "start_time": "2022-05-19T22:39:01.768Z"
   },
   {
    "duration": 24,
    "start_time": "2022-05-19T22:39:07.886Z"
   },
   {
    "duration": 3,
    "start_time": "2022-05-19T22:39:15.710Z"
   },
   {
    "duration": 23,
    "start_time": "2022-05-19T22:39:16.977Z"
   },
   {
    "duration": 6,
    "start_time": "2022-05-19T22:40:00.466Z"
   },
   {
    "duration": 3,
    "start_time": "2022-05-19T22:40:47.320Z"
   },
   {
    "duration": 23,
    "start_time": "2022-05-19T22:40:48.608Z"
   },
   {
    "duration": 3,
    "start_time": "2022-05-19T22:40:55.098Z"
   },
   {
    "duration": 22,
    "start_time": "2022-05-19T22:40:56.420Z"
   },
   {
    "duration": 3,
    "start_time": "2022-05-19T22:41:01.733Z"
   },
   {
    "duration": 27,
    "start_time": "2022-05-19T22:41:03.014Z"
   },
   {
    "duration": 3,
    "start_time": "2022-05-19T22:41:07.253Z"
   },
   {
    "duration": 25,
    "start_time": "2022-05-19T22:41:08.434Z"
   },
   {
    "duration": 23,
    "start_time": "2022-05-19T22:41:14.247Z"
   },
   {
    "duration": 23,
    "start_time": "2022-05-19T22:41:18.389Z"
   },
   {
    "duration": 23,
    "start_time": "2022-05-19T22:41:21.853Z"
   },
   {
    "duration": 24,
    "start_time": "2022-05-19T22:41:26.656Z"
   },
   {
    "duration": 21,
    "start_time": "2022-05-19T22:41:30.655Z"
   },
   {
    "duration": 23,
    "start_time": "2022-05-19T22:41:36.090Z"
   },
   {
    "duration": 23,
    "start_time": "2022-05-19T22:41:39.402Z"
   },
   {
    "duration": 24,
    "start_time": "2022-05-19T22:41:44.136Z"
   },
   {
    "duration": 23,
    "start_time": "2022-05-19T22:41:48.393Z"
   },
   {
    "duration": 23,
    "start_time": "2022-05-19T22:41:53.796Z"
   },
   {
    "duration": 26,
    "start_time": "2022-05-19T22:41:57.658Z"
   },
   {
    "duration": 23,
    "start_time": "2022-05-19T22:42:02.103Z"
   },
   {
    "duration": 23,
    "start_time": "2022-05-19T22:42:05.714Z"
   },
   {
    "duration": 24,
    "start_time": "2022-05-19T22:42:08.699Z"
   },
   {
    "duration": 25,
    "start_time": "2022-05-19T22:42:12.059Z"
   },
   {
    "duration": 22,
    "start_time": "2022-05-19T22:42:14.937Z"
   },
   {
    "duration": 23,
    "start_time": "2022-05-19T22:42:18.215Z"
   },
   {
    "duration": 22,
    "start_time": "2022-05-19T22:42:21.509Z"
   },
   {
    "duration": 22,
    "start_time": "2022-05-19T22:42:24.942Z"
   },
   {
    "duration": 22,
    "start_time": "2022-05-19T22:42:28.200Z"
   },
   {
    "duration": 25,
    "start_time": "2022-05-19T22:42:31.226Z"
   },
   {
    "duration": 22,
    "start_time": "2022-05-19T22:42:35.156Z"
   },
   {
    "duration": 23,
    "start_time": "2022-05-19T22:42:37.926Z"
   },
   {
    "duration": 23,
    "start_time": "2022-05-19T22:42:41.027Z"
   },
   {
    "duration": 844,
    "start_time": "2022-05-19T22:44:58.434Z"
   },
   {
    "duration": 80,
    "start_time": "2022-05-19T22:44:59.280Z"
   },
   {
    "duration": 10,
    "start_time": "2022-05-19T22:44:59.361Z"
   },
   {
    "duration": 15,
    "start_time": "2022-05-19T22:44:59.373Z"
   },
   {
    "duration": 5,
    "start_time": "2022-05-19T22:44:59.389Z"
   },
   {
    "duration": 10,
    "start_time": "2022-05-19T22:44:59.396Z"
   },
   {
    "duration": 7,
    "start_time": "2022-05-19T22:44:59.408Z"
   },
   {
    "duration": 11,
    "start_time": "2022-05-19T22:44:59.417Z"
   },
   {
    "duration": 11,
    "start_time": "2022-05-19T22:44:59.429Z"
   },
   {
    "duration": 21,
    "start_time": "2022-05-19T22:44:59.458Z"
   },
   {
    "duration": 5,
    "start_time": "2022-05-19T22:44:59.480Z"
   },
   {
    "duration": 10,
    "start_time": "2022-05-19T22:44:59.486Z"
   },
   {
    "duration": 162,
    "start_time": "2022-05-19T22:44:59.498Z"
   },
   {
    "duration": 831,
    "start_time": "2022-05-22T12:08:30.268Z"
   },
   {
    "duration": 153,
    "start_time": "2022-05-22T12:08:31.101Z"
   },
   {
    "duration": 10,
    "start_time": "2022-05-22T12:08:31.255Z"
   },
   {
    "duration": 9,
    "start_time": "2022-05-22T12:08:31.266Z"
   },
   {
    "duration": 5,
    "start_time": "2022-05-22T12:08:31.277Z"
   },
   {
    "duration": 10,
    "start_time": "2022-05-22T12:08:31.284Z"
   },
   {
    "duration": 6,
    "start_time": "2022-05-22T12:08:31.296Z"
   },
   {
    "duration": 5,
    "start_time": "2022-05-22T12:08:31.304Z"
   },
   {
    "duration": 12,
    "start_time": "2022-05-22T12:08:31.310Z"
   },
   {
    "duration": 53,
    "start_time": "2022-05-22T12:08:31.323Z"
   },
   {
    "duration": 4,
    "start_time": "2022-05-22T12:08:31.377Z"
   },
   {
    "duration": 19,
    "start_time": "2022-05-22T12:08:31.383Z"
   },
   {
    "duration": 68,
    "start_time": "2022-05-22T12:08:31.404Z"
   },
   {
    "duration": 5,
    "start_time": "2022-05-22T12:43:59.567Z"
   },
   {
    "duration": 8,
    "start_time": "2022-05-22T12:44:01.107Z"
   },
   {
    "duration": 5,
    "start_time": "2022-05-22T12:45:23.099Z"
   },
   {
    "duration": 2,
    "start_time": "2022-05-22T12:45:23.680Z"
   },
   {
    "duration": 8,
    "start_time": "2022-05-22T12:45:25.062Z"
   },
   {
    "duration": 4,
    "start_time": "2022-05-22T12:49:41.532Z"
   },
   {
    "duration": 3,
    "start_time": "2022-05-22T12:49:42.499Z"
   },
   {
    "duration": 9,
    "start_time": "2022-05-22T12:49:43.471Z"
   },
   {
    "duration": 4,
    "start_time": "2022-05-22T13:02:39.207Z"
   },
   {
    "duration": 8,
    "start_time": "2022-05-22T13:03:26.889Z"
   },
   {
    "duration": 17,
    "start_time": "2022-05-22T13:05:06.830Z"
   },
   {
    "duration": 3,
    "start_time": "2022-05-22T13:11:43.470Z"
   },
   {
    "duration": 17,
    "start_time": "2022-05-22T13:11:45.461Z"
   },
   {
    "duration": 3,
    "start_time": "2022-05-22T13:11:56.627Z"
   },
   {
    "duration": 19,
    "start_time": "2022-05-22T13:11:59.651Z"
   },
   {
    "duration": 6,
    "start_time": "2022-05-22T13:16:46.731Z"
   },
   {
    "duration": 13,
    "start_time": "2022-05-22T13:16:47.879Z"
   },
   {
    "duration": 5,
    "start_time": "2022-05-22T13:17:37.263Z"
   },
   {
    "duration": 9,
    "start_time": "2022-05-22T13:17:38.359Z"
   },
   {
    "duration": 108,
    "start_time": "2022-05-22T13:18:25.292Z"
   },
   {
    "duration": 22,
    "start_time": "2022-05-22T13:18:31.402Z"
   },
   {
    "duration": 10,
    "start_time": "2022-05-22T13:19:19.806Z"
   },
   {
    "duration": 10,
    "start_time": "2022-05-22T13:19:35.090Z"
   },
   {
    "duration": 1006,
    "start_time": "2022-05-22T13:23:39.658Z"
   },
   {
    "duration": 99,
    "start_time": "2022-05-22T13:23:40.671Z"
   },
   {
    "duration": 12,
    "start_time": "2022-05-22T13:23:40.775Z"
   },
   {
    "duration": 18,
    "start_time": "2022-05-22T13:23:40.789Z"
   },
   {
    "duration": 6,
    "start_time": "2022-05-22T13:23:40.809Z"
   },
   {
    "duration": 17,
    "start_time": "2022-05-22T13:23:40.816Z"
   },
   {
    "duration": 18,
    "start_time": "2022-05-22T13:23:40.834Z"
   },
   {
    "duration": 14,
    "start_time": "2022-05-22T13:23:40.854Z"
   },
   {
    "duration": 30,
    "start_time": "2022-05-22T13:23:40.869Z"
   },
   {
    "duration": 51,
    "start_time": "2022-05-22T13:23:40.902Z"
   },
   {
    "duration": 4,
    "start_time": "2022-05-22T13:23:40.955Z"
   },
   {
    "duration": 42,
    "start_time": "2022-05-22T13:23:40.961Z"
   },
   {
    "duration": 68,
    "start_time": "2022-05-22T13:23:41.005Z"
   },
   {
    "duration": 87,
    "start_time": "2022-05-22T13:23:41.077Z"
   },
   {
    "duration": 27,
    "start_time": "2022-05-22T13:23:41.169Z"
   },
   {
    "duration": 22,
    "start_time": "2022-05-22T13:23:41.197Z"
   },
   {
    "duration": 12,
    "start_time": "2022-05-22T13:23:41.221Z"
   },
   {
    "duration": 34,
    "start_time": "2022-05-22T13:23:41.234Z"
   },
   {
    "duration": 18,
    "start_time": "2022-05-22T13:23:41.269Z"
   },
   {
    "duration": 19,
    "start_time": "2022-05-22T13:23:41.288Z"
   },
   {
    "duration": 9,
    "start_time": "2022-05-22T13:23:56.252Z"
   },
   {
    "duration": 11,
    "start_time": "2022-05-22T13:24:09.532Z"
   },
   {
    "duration": 10,
    "start_time": "2022-05-22T13:27:21.416Z"
   },
   {
    "duration": 8,
    "start_time": "2022-05-22T13:29:42.676Z"
   },
   {
    "duration": 14,
    "start_time": "2022-05-22T13:32:37.975Z"
   },
   {
    "duration": 19,
    "start_time": "2022-05-22T13:33:19.003Z"
   },
   {
    "duration": 12,
    "start_time": "2022-05-22T13:33:47.314Z"
   },
   {
    "duration": 787,
    "start_time": "2022-05-22T13:39:23.886Z"
   },
   {
    "duration": 85,
    "start_time": "2022-05-22T13:39:24.675Z"
   },
   {
    "duration": 10,
    "start_time": "2022-05-22T13:39:24.762Z"
   },
   {
    "duration": 14,
    "start_time": "2022-05-22T13:39:24.774Z"
   },
   {
    "duration": 5,
    "start_time": "2022-05-22T13:39:24.790Z"
   },
   {
    "duration": 15,
    "start_time": "2022-05-22T13:39:24.797Z"
   },
   {
    "duration": 15,
    "start_time": "2022-05-22T13:39:24.814Z"
   },
   {
    "duration": 12,
    "start_time": "2022-05-22T13:39:24.830Z"
   },
   {
    "duration": 21,
    "start_time": "2022-05-22T13:39:24.844Z"
   },
   {
    "duration": 19,
    "start_time": "2022-05-22T13:39:24.866Z"
   },
   {
    "duration": 4,
    "start_time": "2022-05-22T13:39:24.886Z"
   },
   {
    "duration": 15,
    "start_time": "2022-05-22T13:39:24.891Z"
   },
   {
    "duration": 63,
    "start_time": "2022-05-22T13:39:24.908Z"
   },
   {
    "duration": 88,
    "start_time": "2022-05-22T13:39:24.975Z"
   },
   {
    "duration": 7,
    "start_time": "2022-05-22T13:39:25.065Z"
   },
   {
    "duration": 13,
    "start_time": "2022-05-22T13:39:25.074Z"
   },
   {
    "duration": 9,
    "start_time": "2022-05-22T13:39:25.088Z"
   },
   {
    "duration": 23,
    "start_time": "2022-05-22T13:39:25.099Z"
   },
   {
    "duration": 4,
    "start_time": "2022-05-22T13:39:25.123Z"
   },
   {
    "duration": 26,
    "start_time": "2022-05-22T13:39:25.128Z"
   },
   {
    "duration": 15,
    "start_time": "2022-05-22T13:39:25.155Z"
   },
   {
    "duration": 934,
    "start_time": "2022-05-22T13:47:58.852Z"
   },
   {
    "duration": 96,
    "start_time": "2022-05-22T13:47:59.788Z"
   },
   {
    "duration": 10,
    "start_time": "2022-05-22T13:47:59.886Z"
   },
   {
    "duration": 9,
    "start_time": "2022-05-22T13:47:59.898Z"
   },
   {
    "duration": 5,
    "start_time": "2022-05-22T13:47:59.908Z"
   },
   {
    "duration": 10,
    "start_time": "2022-05-22T13:47:59.915Z"
   },
   {
    "duration": 33,
    "start_time": "2022-05-22T13:47:59.926Z"
   },
   {
    "duration": 6,
    "start_time": "2022-05-22T13:47:59.961Z"
   },
   {
    "duration": 13,
    "start_time": "2022-05-22T13:47:59.969Z"
   },
   {
    "duration": 22,
    "start_time": "2022-05-22T13:47:59.984Z"
   },
   {
    "duration": 4,
    "start_time": "2022-05-22T13:48:00.008Z"
   },
   {
    "duration": 50,
    "start_time": "2022-05-22T13:48:00.014Z"
   },
   {
    "duration": 97,
    "start_time": "2022-05-22T13:48:00.067Z"
   },
   {
    "duration": 11,
    "start_time": "2022-05-22T13:48:00.165Z"
   },
   {
    "duration": 3,
    "start_time": "2022-05-22T13:48:00.179Z"
   },
   {
    "duration": 13,
    "start_time": "2022-05-22T13:48:00.183Z"
   },
   {
    "duration": 3,
    "start_time": "2022-05-22T13:48:00.198Z"
   },
   {
    "duration": 20,
    "start_time": "2022-05-22T13:48:00.202Z"
   },
   {
    "duration": 4,
    "start_time": "2022-05-22T13:48:00.223Z"
   },
   {
    "duration": 32,
    "start_time": "2022-05-22T13:48:00.228Z"
   },
   {
    "duration": 12,
    "start_time": "2022-05-22T13:48:00.261Z"
   },
   {
    "duration": 1470,
    "start_time": "2022-05-22T13:48:52.256Z"
   },
   {
    "duration": 167,
    "start_time": "2022-05-22T13:48:53.728Z"
   },
   {
    "duration": 11,
    "start_time": "2022-05-22T13:48:53.896Z"
   },
   {
    "duration": 11,
    "start_time": "2022-05-22T13:48:53.908Z"
   },
   {
    "duration": 5,
    "start_time": "2022-05-22T13:48:53.922Z"
   },
   {
    "duration": 34,
    "start_time": "2022-05-22T13:48:53.929Z"
   },
   {
    "duration": 9,
    "start_time": "2022-05-22T13:48:53.965Z"
   },
   {
    "duration": 8,
    "start_time": "2022-05-22T13:48:53.975Z"
   },
   {
    "duration": 13,
    "start_time": "2022-05-22T13:48:53.984Z"
   },
   {
    "duration": 26,
    "start_time": "2022-05-22T13:48:53.998Z"
   },
   {
    "duration": 4,
    "start_time": "2022-05-22T13:48:54.026Z"
   },
   {
    "duration": 9,
    "start_time": "2022-05-22T13:48:54.059Z"
   },
   {
    "duration": 99,
    "start_time": "2022-05-22T13:48:54.069Z"
   },
   {
    "duration": 90,
    "start_time": "2022-05-22T13:48:54.172Z"
   },
   {
    "duration": 3,
    "start_time": "2022-05-22T13:48:54.263Z"
   },
   {
    "duration": 11,
    "start_time": "2022-05-22T13:48:54.268Z"
   },
   {
    "duration": 4,
    "start_time": "2022-05-22T13:48:54.280Z"
   },
   {
    "duration": 29,
    "start_time": "2022-05-22T13:48:54.285Z"
   },
   {
    "duration": 4,
    "start_time": "2022-05-22T13:48:54.316Z"
   },
   {
    "duration": 10,
    "start_time": "2022-05-22T13:48:54.322Z"
   },
   {
    "duration": 16,
    "start_time": "2022-05-22T13:48:54.359Z"
   },
   {
    "duration": 893,
    "start_time": "2022-05-22T17:11:52.112Z"
   },
   {
    "duration": 116,
    "start_time": "2022-05-22T17:11:53.007Z"
   },
   {
    "duration": 12,
    "start_time": "2022-05-22T17:11:53.125Z"
   },
   {
    "duration": 13,
    "start_time": "2022-05-22T17:11:53.139Z"
   },
   {
    "duration": 11,
    "start_time": "2022-05-22T17:11:53.161Z"
   },
   {
    "duration": 31,
    "start_time": "2022-05-22T17:11:53.174Z"
   },
   {
    "duration": 9,
    "start_time": "2022-05-22T17:11:53.207Z"
   },
   {
    "duration": 8,
    "start_time": "2022-05-22T17:11:53.218Z"
   },
   {
    "duration": 10,
    "start_time": "2022-05-22T17:11:53.228Z"
   },
   {
    "duration": 40,
    "start_time": "2022-05-22T17:11:53.240Z"
   },
   {
    "duration": 11,
    "start_time": "2022-05-22T17:11:53.282Z"
   },
   {
    "duration": 14,
    "start_time": "2022-05-22T17:11:53.295Z"
   },
   {
    "duration": 151,
    "start_time": "2022-05-22T17:11:53.311Z"
   },
   {
    "duration": 33,
    "start_time": "2022-05-22T17:11:53.464Z"
   },
   {
    "duration": 3,
    "start_time": "2022-05-22T17:11:53.498Z"
   },
   {
    "duration": 12,
    "start_time": "2022-05-22T17:11:53.502Z"
   },
   {
    "duration": 3,
    "start_time": "2022-05-22T17:11:53.516Z"
   },
   {
    "duration": 28,
    "start_time": "2022-05-22T17:11:53.521Z"
   },
   {
    "duration": 5,
    "start_time": "2022-05-22T17:11:53.552Z"
   },
   {
    "duration": 42,
    "start_time": "2022-05-22T17:11:53.560Z"
   },
   {
    "duration": 20,
    "start_time": "2022-05-22T17:11:53.604Z"
   },
   {
    "duration": 1289,
    "start_time": "2022-05-23T08:02:25.585Z"
   },
   {
    "duration": 201,
    "start_time": "2022-05-23T08:02:26.877Z"
   },
   {
    "duration": 13,
    "start_time": "2022-05-23T08:02:27.080Z"
   },
   {
    "duration": 25,
    "start_time": "2022-05-23T08:02:27.107Z"
   },
   {
    "duration": 10,
    "start_time": "2022-05-23T08:02:27.134Z"
   },
   {
    "duration": 11,
    "start_time": "2022-05-23T08:02:27.146Z"
   },
   {
    "duration": 10,
    "start_time": "2022-05-23T08:02:27.159Z"
   },
   {
    "duration": 6,
    "start_time": "2022-05-23T08:02:27.171Z"
   },
   {
    "duration": 45,
    "start_time": "2022-05-23T08:02:27.179Z"
   },
   {
    "duration": 24,
    "start_time": "2022-05-23T08:02:27.229Z"
   },
   {
    "duration": 5,
    "start_time": "2022-05-23T08:02:27.255Z"
   },
   {
    "duration": 4,
    "start_time": "2022-05-23T08:02:27.261Z"
   },
   {
    "duration": 48,
    "start_time": "2022-05-23T08:02:27.267Z"
   },
   {
    "duration": 121,
    "start_time": "2022-05-23T08:02:27.317Z"
   },
   {
    "duration": 7,
    "start_time": "2022-05-23T08:02:27.440Z"
   },
   {
    "duration": 4,
    "start_time": "2022-05-23T08:02:27.448Z"
   },
   {
    "duration": 15,
    "start_time": "2022-05-23T08:02:27.454Z"
   },
   {
    "duration": 3,
    "start_time": "2022-05-23T08:02:27.471Z"
   },
   {
    "duration": 21,
    "start_time": "2022-05-23T08:02:27.476Z"
   },
   {
    "duration": 16,
    "start_time": "2022-05-23T08:02:27.499Z"
   },
   {
    "duration": 29,
    "start_time": "2022-05-23T08:02:27.517Z"
   },
   {
    "duration": 18,
    "start_time": "2022-05-23T08:02:27.548Z"
   },
   {
    "duration": 30,
    "start_time": "2022-05-23T08:02:45.715Z"
   },
   {
    "duration": 29,
    "start_time": "2022-05-23T08:03:35.995Z"
   },
   {
    "duration": 693,
    "start_time": "2022-05-23T08:05:12.480Z"
   },
   {
    "duration": 401,
    "start_time": "2022-05-23T08:05:33.929Z"
   },
   {
    "duration": 366,
    "start_time": "2022-05-23T08:05:41.548Z"
   },
   {
    "duration": 86,
    "start_time": "2022-05-23T08:10:11.375Z"
   },
   {
    "duration": 1461,
    "start_time": "2022-05-23T08:44:36.196Z"
   },
   {
    "duration": 40,
    "start_time": "2022-05-23T08:44:37.660Z"
   },
   {
    "duration": 20,
    "start_time": "2022-05-23T08:44:37.702Z"
   },
   {
    "duration": 17,
    "start_time": "2022-05-23T08:44:37.725Z"
   },
   {
    "duration": 5,
    "start_time": "2022-05-23T08:44:37.744Z"
   },
   {
    "duration": 15,
    "start_time": "2022-05-23T08:44:37.751Z"
   },
   {
    "duration": 33,
    "start_time": "2022-05-23T08:44:37.769Z"
   },
   {
    "duration": 10,
    "start_time": "2022-05-23T08:44:37.808Z"
   },
   {
    "duration": 29,
    "start_time": "2022-05-23T08:44:37.821Z"
   },
   {
    "duration": 52,
    "start_time": "2022-05-23T08:44:37.854Z"
   },
   {
    "duration": 8,
    "start_time": "2022-05-23T08:44:37.909Z"
   },
   {
    "duration": 396,
    "start_time": "2022-05-23T08:44:37.919Z"
   },
   {
    "duration": 24,
    "start_time": "2022-05-23T08:44:38.317Z"
   },
   {
    "duration": 123,
    "start_time": "2022-05-23T08:44:38.403Z"
   },
   {
    "duration": 24,
    "start_time": "2022-05-23T08:44:38.529Z"
   },
   {
    "duration": 13,
    "start_time": "2022-05-23T08:44:38.556Z"
   },
   {
    "duration": 16,
    "start_time": "2022-05-23T08:44:38.571Z"
   },
   {
    "duration": 4,
    "start_time": "2022-05-23T08:44:38.589Z"
   },
   {
    "duration": 31,
    "start_time": "2022-05-23T08:44:38.595Z"
   },
   {
    "duration": 16,
    "start_time": "2022-05-23T08:44:38.628Z"
   },
   {
    "duration": 17,
    "start_time": "2022-05-23T08:44:38.646Z"
   },
   {
    "duration": 21,
    "start_time": "2022-05-23T08:44:38.666Z"
   }
  ],
  "kernelspec": {
   "display_name": "Python 3 (ipykernel)",
   "language": "python",
   "name": "python3"
  },
  "language_info": {
   "codemirror_mode": {
    "name": "ipython",
    "version": 3
   },
   "file_extension": ".py",
   "mimetype": "text/x-python",
   "name": "python",
   "nbconvert_exporter": "python",
   "pygments_lexer": "ipython3",
   "version": "3.9.15"
  },
  "toc": {
   "base_numbering": 1,
   "nav_menu": {},
   "number_sections": true,
   "sideBar": true,
   "skip_h1_title": true,
   "title_cell": "Содержание",
   "title_sidebar": "Contents",
   "toc_cell": false,
   "toc_position": {
    "height": "calc(100% - 180px)",
    "left": "10px",
    "top": "150px",
    "width": "341.325px"
   },
   "toc_section_display": true,
   "toc_window_display": true
  }
 },
 "nbformat": 4,
 "nbformat_minor": 2
}
