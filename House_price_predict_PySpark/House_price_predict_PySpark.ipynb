{
 "cells": [
  {
   "cell_type": "markdown",
   "id": "08008d2a",
   "metadata": {},
   "source": [
    "# Предсказание стоимости жилья"
   ]
  },
  {
   "cell_type": "markdown",
   "id": "f3888c6a",
   "metadata": {},
   "source": [
    "## Описание"
   ]
  },
  {
   "cell_type": "markdown",
   "id": "GEqQaHzsZ_bA",
   "metadata": {
    "id": "GEqQaHzsZ_bA"
   },
   "source": [
    "В проекте нужно обучить модель линейной регрессии на данных о жилье в Калифорнии в 1990 году. На основе данных нужно предсказать медианную стоимость дома в жилом массиве. Задание необходимо выполнить используя **PySpark**.\n",
    "\n",
    "Задача - построить две модели линейной регрессии на разных наборах данных:\n",
    "- используя все данные из файла;\n",
    "- используя только числовые переменные, исключив категориальные\n",
    "\n",
    "Оценки качества моделей провести по метрикам **RMSE, MAE и R2**."
   ]
  },
  {
   "cell_type": "markdown",
   "id": "53871372",
   "metadata": {
    "id": "53871372"
   },
   "source": [
    "## Подготовка данных"
   ]
  },
  {
   "cell_type": "markdown",
   "id": "308efc20",
   "metadata": {
    "id": "df92e3ec"
   },
   "source": [
    "### Импорт библиотек и модулей"
   ]
  },
  {
   "cell_type": "code",
   "execution_count": 1,
   "id": "73d789fa",
   "metadata": {},
   "outputs": [],
   "source": [
    "import pandas as pd \n",
    "import numpy as np\n",
    "\n",
    "from sklearn.experimental import enable_iterative_imputer\n",
    "from sklearn.impute import IterativeImputer\n",
    "from sklearn.linear_model import BayesianRidge\n",
    "\n",
    "import pyspark\n",
    "from pyspark.sql import SparkSession\n",
    "from pyspark.sql.types import *\n",
    "import pyspark.sql.functions as F\n",
    "\n",
    "from pyspark.ml.feature import StringIndexer, VectorAssembler, StandardScaler, OneHotEncoder, Imputer\n",
    "from pyspark.ml.regression import LinearRegression\n",
    "from pyspark.ml.tuning import ParamGridBuilder, CrossValidator\n",
    "from pyspark.ml.evaluation import RegressionEvaluator\n",
    "\n",
    "RND_ST = 42\n",
    "N_FOLDS = 5"
   ]
  },
  {
   "cell_type": "code",
   "execution_count": 2,
   "id": "e6830e8c",
   "metadata": {},
   "outputs": [
    {
     "data": {
      "text/plain": [
       "'3.0.2'"
      ]
     },
     "execution_count": 2,
     "metadata": {},
     "output_type": "execute_result"
    }
   ],
   "source": [
    "pyspark.__version__"
   ]
  },
  {
   "cell_type": "markdown",
   "id": "3f16aaf2",
   "metadata": {},
   "source": [
    "### Инициация spark сессии, загрузка данных"
   ]
  },
  {
   "cell_type": "code",
   "execution_count": 3,
   "id": "30f4ad57",
   "metadata": {},
   "outputs": [],
   "source": [
    "spark = (SparkSession\n",
    "         .builder\n",
    "         .master('local')\n",
    "         .appName('housingPrice_linearRegression')\n",
    "         .getOrCreate()\n",
    "        )"
   ]
  },
  {
   "cell_type": "code",
   "execution_count": 4,
   "id": "bad74a7b",
   "metadata": {},
   "outputs": [
    {
     "name": "stdout",
     "output_type": "stream",
     "text": []
    }
   ],
   "source": [
    "df_sprk = spark.read.load('/datasets/housing.csv',\n",
    "                         format='csv',\n",
    "                         sep=',',\n",
    "                         inferSchema=True,\n",
    "                         header='true')"
   ]
  },
  {
   "cell_type": "markdown",
   "id": "b1725553",
   "metadata": {},
   "source": [
    "### Просмотр данных, заполнение пропусков, проверка на дубликаты"
   ]
  },
  {
   "cell_type": "code",
   "execution_count": 5,
   "id": "0cbdc72a",
   "metadata": {},
   "outputs": [
    {
     "name": "stdout",
     "output_type": "stream",
     "text": [
      "root\n",
      " |-- longitude: double (nullable = true)\n",
      " |-- latitude: double (nullable = true)\n",
      " |-- housing_median_age: double (nullable = true)\n",
      " |-- total_rooms: double (nullable = true)\n",
      " |-- total_bedrooms: double (nullable = true)\n",
      " |-- population: double (nullable = true)\n",
      " |-- households: double (nullable = true)\n",
      " |-- median_income: double (nullable = true)\n",
      " |-- median_house_value: double (nullable = true)\n",
      " |-- ocean_proximity: string (nullable = true)\n",
      "\n"
     ]
    }
   ],
   "source": [
    "df_sprk.printSchema()"
   ]
  },
  {
   "cell_type": "code",
   "execution_count": 8,
   "id": "9cb6d9b7",
   "metadata": {},
   "outputs": [
    {
     "name": "stdout",
     "output_type": "stream",
     "text": []
    },
    {
     "data": {
      "text/html": [
       "<style  type=\"text/css\" >\n",
       "#T_b6098_row0_col5,#T_b6098_row1_col8,#T_b6098_row2_col8,#T_b6098_row3_col8,#T_b6098_row4_col8{\n",
       "            background-color:  coral;\n",
       "        }</style><table id=\"T_b6098_\" ><thead>    <tr>        <th class=\"blank level0\" ></th>        <th class=\"col_heading level0 col0\" >summary</th>        <th class=\"col_heading level0 col1\" >longitude</th>        <th class=\"col_heading level0 col2\" >latitude</th>        <th class=\"col_heading level0 col3\" >housing_median_age</th>        <th class=\"col_heading level0 col4\" >total_rooms</th>        <th class=\"col_heading level0 col5\" >total_bedrooms</th>        <th class=\"col_heading level0 col6\" >population</th>        <th class=\"col_heading level0 col7\" >households</th>        <th class=\"col_heading level0 col8\" >median_income</th>        <th class=\"col_heading level0 col9\" >median_house_value</th>        <th class=\"col_heading level0 col10\" >ocean_proximity</th>    </tr></thead><tbody>\n",
       "                <tr>\n",
       "                        <th id=\"T_b6098_level0_row0\" class=\"row_heading level0 row0\" >0</th>\n",
       "                        <td id=\"T_b6098_row0_col0\" class=\"data row0 col0\" >count</td>\n",
       "                        <td id=\"T_b6098_row0_col1\" class=\"data row0 col1\" >20640.0</td>\n",
       "                        <td id=\"T_b6098_row0_col2\" class=\"data row0 col2\" >20640.0</td>\n",
       "                        <td id=\"T_b6098_row0_col3\" class=\"data row0 col3\" >20640.0</td>\n",
       "                        <td id=\"T_b6098_row0_col4\" class=\"data row0 col4\" >20640.0</td>\n",
       "                        <td id=\"T_b6098_row0_col5\" class=\"data row0 col5\" >20433.0</td>\n",
       "                        <td id=\"T_b6098_row0_col6\" class=\"data row0 col6\" >20640.0</td>\n",
       "                        <td id=\"T_b6098_row0_col7\" class=\"data row0 col7\" >20640.0</td>\n",
       "                        <td id=\"T_b6098_row0_col8\" class=\"data row0 col8\" >20640.0</td>\n",
       "                        <td id=\"T_b6098_row0_col9\" class=\"data row0 col9\" >20640.0</td>\n",
       "                        <td id=\"T_b6098_row0_col10\" class=\"data row0 col10\" >20640</td>\n",
       "            </tr>\n",
       "            <tr>\n",
       "                        <th id=\"T_b6098_level0_row1\" class=\"row_heading level0 row1\" >1</th>\n",
       "                        <td id=\"T_b6098_row1_col0\" class=\"data row1 col0\" >mean</td>\n",
       "                        <td id=\"T_b6098_row1_col1\" class=\"data row1 col1\" >-119.6</td>\n",
       "                        <td id=\"T_b6098_row1_col2\" class=\"data row1 col2\" >35.6</td>\n",
       "                        <td id=\"T_b6098_row1_col3\" class=\"data row1 col3\" >28.6</td>\n",
       "                        <td id=\"T_b6098_row1_col4\" class=\"data row1 col4\" >2635.8</td>\n",
       "                        <td id=\"T_b6098_row1_col5\" class=\"data row1 col5\" >537.9</td>\n",
       "                        <td id=\"T_b6098_row1_col6\" class=\"data row1 col6\" >1425.5</td>\n",
       "                        <td id=\"T_b6098_row1_col7\" class=\"data row1 col7\" >499.5</td>\n",
       "                        <td id=\"T_b6098_row1_col8\" class=\"data row1 col8\" >3.9</td>\n",
       "                        <td id=\"T_b6098_row1_col9\" class=\"data row1 col9\" >206855.8</td>\n",
       "                        <td id=\"T_b6098_row1_col10\" class=\"data row1 col10\" >None</td>\n",
       "            </tr>\n",
       "            <tr>\n",
       "                        <th id=\"T_b6098_level0_row2\" class=\"row_heading level0 row2\" >2</th>\n",
       "                        <td id=\"T_b6098_row2_col0\" class=\"data row2 col0\" >stddev</td>\n",
       "                        <td id=\"T_b6098_row2_col1\" class=\"data row2 col1\" >2.0</td>\n",
       "                        <td id=\"T_b6098_row2_col2\" class=\"data row2 col2\" >2.1</td>\n",
       "                        <td id=\"T_b6098_row2_col3\" class=\"data row2 col3\" >12.6</td>\n",
       "                        <td id=\"T_b6098_row2_col4\" class=\"data row2 col4\" >2181.6</td>\n",
       "                        <td id=\"T_b6098_row2_col5\" class=\"data row2 col5\" >421.4</td>\n",
       "                        <td id=\"T_b6098_row2_col6\" class=\"data row2 col6\" >1132.5</td>\n",
       "                        <td id=\"T_b6098_row2_col7\" class=\"data row2 col7\" >382.3</td>\n",
       "                        <td id=\"T_b6098_row2_col8\" class=\"data row2 col8\" >1.9</td>\n",
       "                        <td id=\"T_b6098_row2_col9\" class=\"data row2 col9\" >115395.6</td>\n",
       "                        <td id=\"T_b6098_row2_col10\" class=\"data row2 col10\" >None</td>\n",
       "            </tr>\n",
       "            <tr>\n",
       "                        <th id=\"T_b6098_level0_row3\" class=\"row_heading level0 row3\" >3</th>\n",
       "                        <td id=\"T_b6098_row3_col0\" class=\"data row3 col0\" >min</td>\n",
       "                        <td id=\"T_b6098_row3_col1\" class=\"data row3 col1\" >-124.4</td>\n",
       "                        <td id=\"T_b6098_row3_col2\" class=\"data row3 col2\" >32.5</td>\n",
       "                        <td id=\"T_b6098_row3_col3\" class=\"data row3 col3\" >1.0</td>\n",
       "                        <td id=\"T_b6098_row3_col4\" class=\"data row3 col4\" >2.0</td>\n",
       "                        <td id=\"T_b6098_row3_col5\" class=\"data row3 col5\" >1.0</td>\n",
       "                        <td id=\"T_b6098_row3_col6\" class=\"data row3 col6\" >3.0</td>\n",
       "                        <td id=\"T_b6098_row3_col7\" class=\"data row3 col7\" >1.0</td>\n",
       "                        <td id=\"T_b6098_row3_col8\" class=\"data row3 col8\" >0.5</td>\n",
       "                        <td id=\"T_b6098_row3_col9\" class=\"data row3 col9\" >14999.0</td>\n",
       "                        <td id=\"T_b6098_row3_col10\" class=\"data row3 col10\" ><1H OCEAN</td>\n",
       "            </tr>\n",
       "            <tr>\n",
       "                        <th id=\"T_b6098_level0_row4\" class=\"row_heading level0 row4\" >4</th>\n",
       "                        <td id=\"T_b6098_row4_col0\" class=\"data row4 col0\" >max</td>\n",
       "                        <td id=\"T_b6098_row4_col1\" class=\"data row4 col1\" >-114.3</td>\n",
       "                        <td id=\"T_b6098_row4_col2\" class=\"data row4 col2\" >42.0</td>\n",
       "                        <td id=\"T_b6098_row4_col3\" class=\"data row4 col3\" >52.0</td>\n",
       "                        <td id=\"T_b6098_row4_col4\" class=\"data row4 col4\" >39320.0</td>\n",
       "                        <td id=\"T_b6098_row4_col5\" class=\"data row4 col5\" >6445.0</td>\n",
       "                        <td id=\"T_b6098_row4_col6\" class=\"data row4 col6\" >35682.0</td>\n",
       "                        <td id=\"T_b6098_row4_col7\" class=\"data row4 col7\" >6082.0</td>\n",
       "                        <td id=\"T_b6098_row4_col8\" class=\"data row4 col8\" >15.0</td>\n",
       "                        <td id=\"T_b6098_row4_col9\" class=\"data row4 col9\" >500001.0</td>\n",
       "                        <td id=\"T_b6098_row4_col10\" class=\"data row4 col10\" >NEAR OCEAN</td>\n",
       "            </tr>\n",
       "    </tbody></table>"
      ],
      "text/plain": [
       "<pandas.io.formats.style.Styler at 0x7f93dc1eb490>"
      ]
     },
     "execution_count": 8,
     "metadata": {},
     "output_type": "execute_result"
    }
   ],
   "source": [
    "(df_sprk.describe().select('summary',\n",
    "                           F.col('longitude').cast(DecimalType(7,1)),\n",
    "                           F.col('latitude').cast(DecimalType(7,1)),\n",
    "                           F.col('housing_median_age').cast(DecimalType(7,1)),\n",
    "                           F.col('total_rooms').cast(DecimalType(7,1)),\n",
    "                           F.col('total_bedrooms').cast(DecimalType(7,1)),\n",
    "                           F.col('population').cast(DecimalType(7,1)),\n",
    "                           F.col('households').cast(DecimalType(7,1)),\n",
    "                           F.col('median_income').cast(DecimalType(7,1)),\n",
    "                           F.col('median_house_value').cast(DecimalType(7,1)),\n",
    "                           'ocean_proximity'\n",
    "                          )\n",
    " .toPandas()\n",
    " .style.highlight_min(color='coral', subset=df_sprk.columns[1:-1], axis=1) # подсвечиваем мин. значение в строках\n",
    ")"
   ]
  },
  {
   "cell_type": "markdown",
   "id": "306fdb3c",
   "metadata": {},
   "source": [
    "Видим, что пропуски есть в столбце `total_bedrooms`. Проверим на пропуски все столбцы средствами PySpark"
   ]
  },
  {
   "cell_type": "code",
   "execution_count": 9,
   "id": "6244a906",
   "metadata": {},
   "outputs": [
    {
     "name": "stdout",
     "output_type": "stream",
     "text": [
      "longitude 0\n",
      "latitude 0\n",
      "housing_median_age 0\n",
      "total_rooms 0\n",
      "total_bedrooms 207\n",
      "population 0\n",
      "households 0\n",
      "median_income 0\n",
      "median_house_value 0\n",
      "ocean_proximity 0\n"
     ]
    }
   ],
   "source": [
    "for c in df_sprk.columns:\n",
    "    nan_qty = df_sprk.select(c).filter( F.isnull(c) | F.isnan(c) ).count()\n",
    "    print( c, nan_qty )"
   ]
  },
  {
   "cell_type": "markdown",
   "id": "648978b3",
   "metadata": {},
   "source": [
    "#### Восстановление пропусков с применением `pyspark.ml.feature.Imputer` "
   ]
  },
  {
   "cell_type": "code",
   "execution_count": 10,
   "id": "fe812eef",
   "metadata": {},
   "outputs": [
    {
     "name": "stdout",
     "output_type": "stream",
     "text": [
      "+-----------+--------------+\n",
      "|total_rooms|total_bedrooms|\n",
      "+-----------+--------------+\n",
      "|     1256.0|          null|\n",
      "|      992.0|          null|\n",
      "|     5154.0|          null|\n",
      "|      891.0|          null|\n",
      "|      746.0|          null|\n",
      "|     3342.0|          null|\n",
      "|     3759.0|          null|\n",
      "+-----------+--------------+\n",
      "only showing top 7 rows\n",
      "\n"
     ]
    }
   ],
   "source": [
    "df_sprk.select('total_rooms','total_bedrooms').filter(F.isnull('total_bedrooms')).show(7)"
   ]
  },
  {
   "cell_type": "code",
   "execution_count": 11,
   "id": "80a0c244",
   "metadata": {},
   "outputs": [],
   "source": [
    "imputer = Imputer(inputCol='total_bedrooms',\n",
    "                  outputCol='total_bedrooms_out',\n",
    "                  strategy='median')"
   ]
  },
  {
   "cell_type": "code",
   "execution_count": 12,
   "id": "3d59d827",
   "metadata": {},
   "outputs": [
    {
     "name": "stdout",
     "output_type": "stream",
     "text": [
      "+-----------+--------------+------------------+\n",
      "|total_rooms|total_bedrooms|total_bedrooms_out|\n",
      "+-----------+--------------+------------------+\n",
      "|     1256.0|          null|             435.0|\n",
      "|      992.0|          null|             435.0|\n",
      "|     5154.0|          null|             435.0|\n",
      "|      891.0|          null|             435.0|\n",
      "|      746.0|          null|             435.0|\n",
      "|     3342.0|          null|             435.0|\n",
      "|     3759.0|          null|             435.0|\n",
      "+-----------+--------------+------------------+\n",
      "only showing top 7 rows\n",
      "\n"
     ]
    }
   ],
   "source": [
    "model = imputer.fit(df_sprk)\n",
    "df_imp = model.transform(df_sprk)\n",
    "df_imp.select('total_rooms','total_bedrooms','total_bedrooms_out').filter(F.isnull('total_bedrooms')).show(7)"
   ]
  },
  {
   "cell_type": "markdown",
   "id": "9da02ead",
   "metadata": {},
   "source": [
    "Не самый лучший вариант ... все значения одинаковые и равны медианному значению в столбце `total_bedrooms`"
   ]
  },
  {
   "cell_type": "markdown",
   "id": "e12e9e82",
   "metadata": {},
   "source": [
    "#### Восстановление пропусков с применением `sklearn.impute.IterativeImputer`"
   ]
  },
  {
   "cell_type": "code",
   "execution_count": 13,
   "id": "846b5d54",
   "metadata": {},
   "outputs": [],
   "source": [
    "df_pnd = df_sprk.toPandas()"
   ]
  },
  {
   "cell_type": "code",
   "execution_count": 14,
   "id": "17cec55b",
   "metadata": {},
   "outputs": [],
   "source": [
    "col = df_pnd.columns.drop(['ocean_proximity', 'median_house_value'])"
   ]
  },
  {
   "cell_type": "code",
   "execution_count": 15,
   "id": "32e5f10c",
   "metadata": {},
   "outputs": [
    {
     "data": {
      "text/plain": [
       "longitude               0\n",
       "latitude                0\n",
       "housing_median_age      0\n",
       "total_rooms             0\n",
       "total_bedrooms        207\n",
       "population              0\n",
       "households              0\n",
       "median_income           0\n",
       "median_house_value      0\n",
       "ocean_proximity         0\n",
       "dtype: int64"
      ]
     },
     "execution_count": 15,
     "metadata": {},
     "output_type": "execute_result"
    }
   ],
   "source": [
    "df_pnd.isna().sum()"
   ]
  },
  {
   "cell_type": "code",
   "execution_count": 16,
   "id": "5fcdb72e",
   "metadata": {},
   "outputs": [],
   "source": [
    "na_indx = df_pnd[df_pnd['total_bedrooms'].isna()].index"
   ]
  },
  {
   "cell_type": "code",
   "execution_count": 17,
   "id": "2e11ca3d",
   "metadata": {},
   "outputs": [],
   "source": [
    "itrImp = IterativeImputer(\n",
    "    estimator = BayesianRidge(),       # модель предсказания значений\n",
    "    max_iter=20,                       # макс. число итераций\n",
    "    n_nearest_features=col.shape[0]-1, # число признаков, учитываемых при восстановлении значения\n",
    "    min_value=1,                       # мин. число возвращаемых значений\n",
    "    random_state=RND_ST)"
   ]
  },
  {
   "cell_type": "code",
   "execution_count": 18,
   "id": "c5d6edad",
   "metadata": {},
   "outputs": [
    {
     "data": {
      "text/plain": [
       "IterativeImputer(estimator=BayesianRidge(), max_iter=20, min_value=1,\n",
       "                 n_nearest_features=7, random_state=42)"
      ]
     },
     "execution_count": 18,
     "metadata": {},
     "output_type": "execute_result"
    }
   ],
   "source": [
    "itrImp.fit(df_pnd[col])"
   ]
  },
  {
   "cell_type": "code",
   "execution_count": 19,
   "id": "e3ca6c58",
   "metadata": {},
   "outputs": [],
   "source": [
    "df_pnd_itrImp = pd.DataFrame(data=itrImp.transform(df_pnd[col]), columns=col)\n",
    "df_pnd_itrImp['ocean_proximity'] = df_pnd['ocean_proximity']\n",
    "df_pnd_itrImp['median_house_value'] = df_pnd['median_house_value']\n",
    "df_pnd_itrImp['total_bedrooms'] = round(df_pnd_itrImp['total_bedrooms'])"
   ]
  },
  {
   "cell_type": "code",
   "execution_count": 20,
   "id": "ac5cef07",
   "metadata": {},
   "outputs": [
    {
     "data": {
      "text/plain": [
       "longitude             0\n",
       "latitude              0\n",
       "housing_median_age    0\n",
       "total_rooms           0\n",
       "total_bedrooms        0\n",
       "population            0\n",
       "households            0\n",
       "median_income         0\n",
       "ocean_proximity       0\n",
       "median_house_value    0\n",
       "dtype: int64"
      ]
     },
     "execution_count": 20,
     "metadata": {},
     "output_type": "execute_result"
    }
   ],
   "source": [
    "df_pnd_itrImp.isna().sum()"
   ]
  },
  {
   "cell_type": "code",
   "execution_count": 21,
   "id": "098921ea",
   "metadata": {},
   "outputs": [
    {
     "data": {
      "text/html": [
       "<div>\n",
       "<style scoped>\n",
       "    .dataframe tbody tr th:only-of-type {\n",
       "        vertical-align: middle;\n",
       "    }\n",
       "\n",
       "    .dataframe tbody tr th {\n",
       "        vertical-align: top;\n",
       "    }\n",
       "\n",
       "    .dataframe thead th {\n",
       "        text-align: right;\n",
       "    }\n",
       "</style>\n",
       "<table border=\"1\" class=\"dataframe\">\n",
       "  <thead>\n",
       "    <tr style=\"text-align: right;\">\n",
       "      <th></th>\n",
       "      <th>longitude</th>\n",
       "      <th>latitude</th>\n",
       "      <th>housing_median_age</th>\n",
       "      <th>total_rooms</th>\n",
       "      <th>total_bedrooms</th>\n",
       "      <th>population</th>\n",
       "      <th>households</th>\n",
       "      <th>median_income</th>\n",
       "      <th>ocean_proximity</th>\n",
       "      <th>median_house_value</th>\n",
       "    </tr>\n",
       "  </thead>\n",
       "  <tbody>\n",
       "    <tr>\n",
       "      <th>290</th>\n",
       "      <td>-122.16</td>\n",
       "      <td>37.77</td>\n",
       "      <td>47.0</td>\n",
       "      <td>1256.0</td>\n",
       "      <td>219.0</td>\n",
       "      <td>570.0</td>\n",
       "      <td>218.0</td>\n",
       "      <td>4.3750</td>\n",
       "      <td>NEAR BAY</td>\n",
       "      <td>161900.0</td>\n",
       "    </tr>\n",
       "    <tr>\n",
       "      <th>341</th>\n",
       "      <td>-122.17</td>\n",
       "      <td>37.75</td>\n",
       "      <td>38.0</td>\n",
       "      <td>992.0</td>\n",
       "      <td>282.0</td>\n",
       "      <td>732.0</td>\n",
       "      <td>259.0</td>\n",
       "      <td>1.6196</td>\n",
       "      <td>NEAR BAY</td>\n",
       "      <td>85100.0</td>\n",
       "    </tr>\n",
       "    <tr>\n",
       "      <th>538</th>\n",
       "      <td>-122.28</td>\n",
       "      <td>37.78</td>\n",
       "      <td>29.0</td>\n",
       "      <td>5154.0</td>\n",
       "      <td>1283.0</td>\n",
       "      <td>3741.0</td>\n",
       "      <td>1273.0</td>\n",
       "      <td>2.5762</td>\n",
       "      <td>NEAR BAY</td>\n",
       "      <td>173400.0</td>\n",
       "    </tr>\n",
       "    <tr>\n",
       "      <th>563</th>\n",
       "      <td>-122.24</td>\n",
       "      <td>37.75</td>\n",
       "      <td>45.0</td>\n",
       "      <td>891.0</td>\n",
       "      <td>132.0</td>\n",
       "      <td>384.0</td>\n",
       "      <td>146.0</td>\n",
       "      <td>4.9489</td>\n",
       "      <td>NEAR BAY</td>\n",
       "      <td>247100.0</td>\n",
       "    </tr>\n",
       "    <tr>\n",
       "      <th>696</th>\n",
       "      <td>-122.10</td>\n",
       "      <td>37.69</td>\n",
       "      <td>41.0</td>\n",
       "      <td>746.0</td>\n",
       "      <td>157.0</td>\n",
       "      <td>387.0</td>\n",
       "      <td>161.0</td>\n",
       "      <td>3.9063</td>\n",
       "      <td>NEAR BAY</td>\n",
       "      <td>178400.0</td>\n",
       "    </tr>\n",
       "    <tr>\n",
       "      <th>...</th>\n",
       "      <td>...</td>\n",
       "      <td>...</td>\n",
       "      <td>...</td>\n",
       "      <td>...</td>\n",
       "      <td>...</td>\n",
       "      <td>...</td>\n",
       "      <td>...</td>\n",
       "      <td>...</td>\n",
       "      <td>...</td>\n",
       "      <td>...</td>\n",
       "    </tr>\n",
       "    <tr>\n",
       "      <th>20267</th>\n",
       "      <td>-119.19</td>\n",
       "      <td>34.20</td>\n",
       "      <td>18.0</td>\n",
       "      <td>3620.0</td>\n",
       "      <td>781.0</td>\n",
       "      <td>3171.0</td>\n",
       "      <td>779.0</td>\n",
       "      <td>3.3409</td>\n",
       "      <td>NEAR OCEAN</td>\n",
       "      <td>220500.0</td>\n",
       "    </tr>\n",
       "    <tr>\n",
       "      <th>20268</th>\n",
       "      <td>-119.18</td>\n",
       "      <td>34.19</td>\n",
       "      <td>19.0</td>\n",
       "      <td>2393.0</td>\n",
       "      <td>775.0</td>\n",
       "      <td>1938.0</td>\n",
       "      <td>762.0</td>\n",
       "      <td>1.6953</td>\n",
       "      <td>NEAR OCEAN</td>\n",
       "      <td>167400.0</td>\n",
       "    </tr>\n",
       "    <tr>\n",
       "      <th>20372</th>\n",
       "      <td>-118.88</td>\n",
       "      <td>34.17</td>\n",
       "      <td>15.0</td>\n",
       "      <td>4260.0</td>\n",
       "      <td>754.0</td>\n",
       "      <td>1701.0</td>\n",
       "      <td>669.0</td>\n",
       "      <td>5.1033</td>\n",
       "      <td>&lt;1H OCEAN</td>\n",
       "      <td>410700.0</td>\n",
       "    </tr>\n",
       "    <tr>\n",
       "      <th>20460</th>\n",
       "      <td>-118.75</td>\n",
       "      <td>34.29</td>\n",
       "      <td>17.0</td>\n",
       "      <td>5512.0</td>\n",
       "      <td>886.0</td>\n",
       "      <td>2734.0</td>\n",
       "      <td>814.0</td>\n",
       "      <td>6.6073</td>\n",
       "      <td>&lt;1H OCEAN</td>\n",
       "      <td>258100.0</td>\n",
       "    </tr>\n",
       "    <tr>\n",
       "      <th>20484</th>\n",
       "      <td>-118.72</td>\n",
       "      <td>34.28</td>\n",
       "      <td>17.0</td>\n",
       "      <td>3051.0</td>\n",
       "      <td>520.0</td>\n",
       "      <td>1705.0</td>\n",
       "      <td>495.0</td>\n",
       "      <td>5.7376</td>\n",
       "      <td>&lt;1H OCEAN</td>\n",
       "      <td>218600.0</td>\n",
       "    </tr>\n",
       "  </tbody>\n",
       "</table>\n",
       "<p>207 rows × 10 columns</p>\n",
       "</div>"
      ],
      "text/plain": [
       "       longitude  latitude  housing_median_age  total_rooms  total_bedrooms  \\\n",
       "290      -122.16     37.77                47.0       1256.0           219.0   \n",
       "341      -122.17     37.75                38.0        992.0           282.0   \n",
       "538      -122.28     37.78                29.0       5154.0          1283.0   \n",
       "563      -122.24     37.75                45.0        891.0           132.0   \n",
       "696      -122.10     37.69                41.0        746.0           157.0   \n",
       "...          ...       ...                 ...          ...             ...   \n",
       "20267    -119.19     34.20                18.0       3620.0           781.0   \n",
       "20268    -119.18     34.19                19.0       2393.0           775.0   \n",
       "20372    -118.88     34.17                15.0       4260.0           754.0   \n",
       "20460    -118.75     34.29                17.0       5512.0           886.0   \n",
       "20484    -118.72     34.28                17.0       3051.0           520.0   \n",
       "\n",
       "       population  households  median_income ocean_proximity  \\\n",
       "290         570.0       218.0         4.3750        NEAR BAY   \n",
       "341         732.0       259.0         1.6196        NEAR BAY   \n",
       "538        3741.0      1273.0         2.5762        NEAR BAY   \n",
       "563         384.0       146.0         4.9489        NEAR BAY   \n",
       "696         387.0       161.0         3.9063        NEAR BAY   \n",
       "...           ...         ...            ...             ...   \n",
       "20267      3171.0       779.0         3.3409      NEAR OCEAN   \n",
       "20268      1938.0       762.0         1.6953      NEAR OCEAN   \n",
       "20372      1701.0       669.0         5.1033       <1H OCEAN   \n",
       "20460      2734.0       814.0         6.6073       <1H OCEAN   \n",
       "20484      1705.0       495.0         5.7376       <1H OCEAN   \n",
       "\n",
       "       median_house_value  \n",
       "290              161900.0  \n",
       "341               85100.0  \n",
       "538              173400.0  \n",
       "563              247100.0  \n",
       "696              178400.0  \n",
       "...                   ...  \n",
       "20267            220500.0  \n",
       "20268            167400.0  \n",
       "20372            410700.0  \n",
       "20460            258100.0  \n",
       "20484            218600.0  \n",
       "\n",
       "[207 rows x 10 columns]"
      ]
     },
     "execution_count": 21,
     "metadata": {},
     "output_type": "execute_result"
    }
   ],
   "source": [
    "df_pnd_itrImp.loc[na_indx, :]"
   ]
  },
  {
   "cell_type": "code",
   "execution_count": 22,
   "id": "30ba888a",
   "metadata": {},
   "outputs": [],
   "source": [
    "df_itrImp = spark.createDataFrame(df_pnd_itrImp)"
   ]
  },
  {
   "cell_type": "code",
   "execution_count": 23,
   "id": "30c4582f",
   "metadata": {},
   "outputs": [
    {
     "name": "stdout",
     "output_type": "stream",
     "text": [
      "root\n",
      " |-- longitude: double (nullable = true)\n",
      " |-- latitude: double (nullable = true)\n",
      " |-- housing_median_age: double (nullable = true)\n",
      " |-- total_rooms: double (nullable = true)\n",
      " |-- total_bedrooms: double (nullable = true)\n",
      " |-- population: double (nullable = true)\n",
      " |-- households: double (nullable = true)\n",
      " |-- median_income: double (nullable = true)\n",
      " |-- ocean_proximity: string (nullable = true)\n",
      " |-- median_house_value: double (nullable = true)\n",
      "\n"
     ]
    }
   ],
   "source": [
    "df_itrImp.printSchema()"
   ]
  },
  {
   "cell_type": "markdown",
   "id": "35d55003",
   "metadata": {},
   "source": [
    "Восстановление пропусков с применением класса `sklearn.impute.IterativeImputer` учитывает зависимость от значений других признаков, что на мой взгляд более предпочтительно."
   ]
  },
  {
   "cell_type": "markdown",
   "id": "5db57099",
   "metadata": {},
   "source": [
    "#### Проверка на дубликаты"
   ]
  },
  {
   "cell_type": "code",
   "execution_count": 24,
   "id": "747ce8ef",
   "metadata": {},
   "outputs": [
    {
     "name": "stdout",
     "output_type": "stream",
     "text": [
      "+---------+--------+------------------+-----------+--------------+----------+----------+-------------+---------------+------------------+\n",
      "|longitude|latitude|housing_median_age|total_rooms|total_bedrooms|population|households|median_income|ocean_proximity|median_house_value|\n",
      "+---------+--------+------------------+-----------+--------------+----------+----------+-------------+---------------+------------------+\n",
      "+---------+--------+------------------+-----------+--------------+----------+----------+-------------+---------------+------------------+\n",
      "\n"
     ]
    }
   ],
   "source": [
    "df_dupl=df_itrImp.groupBy(df_itrImp.columns).count().filter('count > 1')\n",
    "df_dupl.drop('count').show()"
   ]
  },
  {
   "cell_type": "markdown",
   "id": "a50c5c61",
   "metadata": {},
   "source": [
    "Дубликатов нет"
   ]
  },
  {
   "cell_type": "markdown",
   "id": "28c6ad58",
   "metadata": {},
   "source": [
    "#### Вывод"
   ]
  },
  {
   "cell_type": "markdown",
   "id": "3682f3ff",
   "metadata": {},
   "source": [
    "Пропуски восстановлены с применением класса `sklearn.impute.IterativeImputer` (преобразование из spark.DatFrame в pandas.Dataframe и после восстановления - обратно). Дубликаты отсутствуют."
   ]
  },
  {
   "cell_type": "markdown",
   "id": "900a9173",
   "metadata": {},
   "source": [
    "### Трансформация признаков"
   ]
  },
  {
   "cell_type": "markdown",
   "id": "18a85404",
   "metadata": {},
   "source": [
    "Разделение на категориальные, числовые и целевой признак"
   ]
  },
  {
   "cell_type": "code",
   "execution_count": 25,
   "id": "04f78a6e",
   "metadata": {},
   "outputs": [],
   "source": [
    "categorical_cols = ['ocean_proximity']\n",
    "numerical_cols  = ['longitude',\n",
    "                   'latitude',\n",
    "                   'housing_median_age',\n",
    "                   'total_rooms',\n",
    "                   'total_bedrooms',\n",
    "                   'population', \n",
    "                   'households',\n",
    "                   'median_income']\n",
    "target = 'median_house_value'"
   ]
  },
  {
   "cell_type": "markdown",
   "id": "95b16311",
   "metadata": {},
   "source": [
    "#### Категориальные признаки"
   ]
  },
  {
   "cell_type": "markdown",
   "id": "03b6d68d",
   "metadata": {},
   "source": [
    "К категориальным строковым столбцам применяем трансформер `StringIndexer`"
   ]
  },
  {
   "cell_type": "code",
   "execution_count": 26,
   "id": "cad826fe",
   "metadata": {},
   "outputs": [
    {
     "name": "stdout",
     "output_type": "stream",
     "text": []
    }
   ],
   "source": [
    "indexer = StringIndexer(inputCols=categorical_cols, \n",
    "                        outputCols=[c+'_idx' for c in categorical_cols])\n",
    "\n",
    "df_catIdx = indexer.fit(df_itrImp).transform(df_itrImp)"
   ]
  },
  {
   "cell_type": "code",
   "execution_count": 27,
   "id": "2ce1e667",
   "metadata": {},
   "outputs": [
    {
     "name": "stdout",
     "output_type": "stream",
     "text": [
      "+---------------+-------------------+\n",
      "|ocean_proximity|ocean_proximity_idx|\n",
      "+---------------+-------------------+\n",
      "|      <1H OCEAN|                0.0|\n",
      "|      <1H OCEAN|                0.0|\n",
      "|      <1H OCEAN|                0.0|\n",
      "|     NEAR OCEAN|                2.0|\n",
      "|      <1H OCEAN|                0.0|\n",
      "|         INLAND|                1.0|\n",
      "|      <1H OCEAN|                0.0|\n",
      "|      <1H OCEAN|                0.0|\n",
      "|      <1H OCEAN|                0.0|\n",
      "|      <1H OCEAN|                0.0|\n",
      "|         INLAND|                1.0|\n",
      "|         INLAND|                1.0|\n",
      "|     NEAR OCEAN|                2.0|\n",
      "|     NEAR OCEAN|                2.0|\n",
      "|     NEAR OCEAN|                2.0|\n",
      "|     NEAR OCEAN|                2.0|\n",
      "|         INLAND|                1.0|\n",
      "|     NEAR OCEAN|                2.0|\n",
      "|      <1H OCEAN|                0.0|\n",
      "|      <1H OCEAN|                0.0|\n",
      "+---------------+-------------------+\n",
      "only showing top 20 rows\n",
      "\n"
     ]
    }
   ],
   "source": [
    "col2show = [c for c in df_catIdx.columns for i in categorical_cols if (c.startswith(i))]\n",
    "\n",
    "df_catIdx.select(col2show).sample(fraction=.001, seed=RND_ST).show()"
   ]
  },
  {
   "cell_type": "markdown",
   "id": "93a7c91e",
   "metadata": {},
   "source": [
    "Применим **OHE** кодирование к категориальному столбцу `ocean_proximity_idx`"
   ]
  },
  {
   "cell_type": "code",
   "execution_count": 28,
   "id": "103e05bb",
   "metadata": {},
   "outputs": [],
   "source": [
    "OHEencoder = OneHotEncoder(inputCols=[c+'_idx' for c in categorical_cols],\n",
    "                           outputCols=[c+'_ohe' for c in categorical_cols])\n",
    "\n",
    "df_ohe = OHEencoder.fit(df_catIdx).transform(df_catIdx)"
   ]
  },
  {
   "cell_type": "code",
   "execution_count": 29,
   "id": "b7ff6b93",
   "metadata": {},
   "outputs": [
    {
     "name": "stdout",
     "output_type": "stream",
     "text": [
      "+---------------+-------------------+-------------------+\n",
      "|ocean_proximity|ocean_proximity_idx|ocean_proximity_ohe|\n",
      "+---------------+-------------------+-------------------+\n",
      "|      <1H OCEAN|                0.0|      (4,[0],[1.0])|\n",
      "|      <1H OCEAN|                0.0|      (4,[0],[1.0])|\n",
      "|      <1H OCEAN|                0.0|      (4,[0],[1.0])|\n",
      "|     NEAR OCEAN|                2.0|      (4,[2],[1.0])|\n",
      "|      <1H OCEAN|                0.0|      (4,[0],[1.0])|\n",
      "|         INLAND|                1.0|      (4,[1],[1.0])|\n",
      "|      <1H OCEAN|                0.0|      (4,[0],[1.0])|\n",
      "|      <1H OCEAN|                0.0|      (4,[0],[1.0])|\n",
      "|      <1H OCEAN|                0.0|      (4,[0],[1.0])|\n",
      "|      <1H OCEAN|                0.0|      (4,[0],[1.0])|\n",
      "|         INLAND|                1.0|      (4,[1],[1.0])|\n",
      "|         INLAND|                1.0|      (4,[1],[1.0])|\n",
      "|     NEAR OCEAN|                2.0|      (4,[2],[1.0])|\n",
      "|     NEAR OCEAN|                2.0|      (4,[2],[1.0])|\n",
      "|     NEAR OCEAN|                2.0|      (4,[2],[1.0])|\n",
      "|     NEAR OCEAN|                2.0|      (4,[2],[1.0])|\n",
      "|         INLAND|                1.0|      (4,[1],[1.0])|\n",
      "|     NEAR OCEAN|                2.0|      (4,[2],[1.0])|\n",
      "|      <1H OCEAN|                0.0|      (4,[0],[1.0])|\n",
      "|      <1H OCEAN|                0.0|      (4,[0],[1.0])|\n",
      "+---------------+-------------------+-------------------+\n",
      "only showing top 20 rows\n",
      "\n"
     ]
    }
   ],
   "source": [
    "col2show = [c for c in df_ohe.columns for i in categorical_cols if (c.startswith(i))]\n",
    "\n",
    "df_ohe.select(col2show).sample(fraction=.001, seed=RND_ST).show()"
   ]
  },
  {
   "cell_type": "markdown",
   "id": "34d6a9b3",
   "metadata": {},
   "source": [
    "Объединим категориальные признаки в вектор, применив `VectorAssembler`"
   ]
  },
  {
   "cell_type": "code",
   "execution_count": 30,
   "id": "c8b812d5",
   "metadata": {},
   "outputs": [],
   "source": [
    "cat_assembler = VectorAssembler(inputCols=[c+'_ohe' for c in categorical_cols],\n",
    "                                outputCol='cat_features')\n",
    "\n",
    "df_catVect = cat_assembler.transform(df_ohe).drop('ocean_proximity',\n",
    "                                                  'ocean_proximity_idx',\n",
    "                                                  'ocean_proximity_ohe')"
   ]
  },
  {
   "cell_type": "code",
   "execution_count": 31,
   "id": "41a5b43a",
   "metadata": {},
   "outputs": [
    {
     "name": "stdout",
     "output_type": "stream",
     "text": [
      "+-------------+------------------+-------------+\n",
      "|median_income|median_house_value| cat_features|\n",
      "+-------------+------------------+-------------+\n",
      "|       8.3252|          452600.0|(4,[3],[1.0])|\n",
      "|       8.3014|          358500.0|(4,[3],[1.0])|\n",
      "|       7.2574|          352100.0|(4,[3],[1.0])|\n",
      "|       5.6431|          341300.0|(4,[3],[1.0])|\n",
      "|       3.8462|          342200.0|(4,[3],[1.0])|\n",
      "|       4.0368|          269700.0|(4,[3],[1.0])|\n",
      "|       3.6591|          299200.0|(4,[3],[1.0])|\n",
      "+-------------+------------------+-------------+\n",
      "only showing top 7 rows\n",
      "\n"
     ]
    }
   ],
   "source": [
    "df_catVect.select(df_catVect.columns[-3:]).show(7)"
   ]
  },
  {
   "cell_type": "markdown",
   "id": "8ff21ff0",
   "metadata": {},
   "source": [
    "#### Числовые признаки"
   ]
  },
  {
   "cell_type": "markdown",
   "id": "9ffcba2d",
   "metadata": {},
   "source": [
    "Собираем все числовые признаки (список `numerical_cols`) в вектор `num_features`, применяя класс `VectorAssembler`"
   ]
  },
  {
   "cell_type": "code",
   "execution_count": 32,
   "id": "c6ae6678",
   "metadata": {},
   "outputs": [],
   "source": [
    "num_assembler = VectorAssembler(inputCols=numerical_cols, outputCol='num_features')\n",
    "\n",
    "df_catNumVect = num_assembler.transform(df_catVect)"
   ]
  },
  {
   "cell_type": "markdown",
   "id": "70542ad8",
   "metadata": {},
   "source": [
    "Масштабируем значения в векторе `num_features` классом `StandardScaler`, сохраняя в новый вектор `num_features_scl`"
   ]
  },
  {
   "cell_type": "code",
   "execution_count": 33,
   "id": "39225a3f",
   "metadata": {},
   "outputs": [
    {
     "name": "stdout",
     "output_type": "stream",
     "text": []
    }
   ],
   "source": [
    "standardScaler = StandardScaler(inputCol='num_features', outputCol='num_features_scl')\n",
    "\n",
    "df_catNumSclVect = standardScaler.fit(df_catNumVect).transform(df_catNumVect).drop('num_features')"
   ]
  },
  {
   "cell_type": "markdown",
   "id": "45fc2181",
   "metadata": {},
   "source": [
    "#### Объединение признаков"
   ]
  },
  {
   "cell_type": "markdown",
   "id": "06bc12ca",
   "metadata": {},
   "source": [
    "Объединяем в единый вектор `united_features` векторы категориальных и числовых признаков, применяя класс `VectorAssembler`"
   ]
  },
  {
   "cell_type": "code",
   "execution_count": 34,
   "id": "4b4802d0",
   "metadata": {},
   "outputs": [
    {
     "name": "stdout",
     "output_type": "stream",
     "text": [
      "+------------------+-------------+--------------------+--------------------+\n",
      "|median_house_value| cat_features|    num_features_scl|     united_features|\n",
      "+------------------+-------------+--------------------+--------------------+\n",
      "|          121900.0|(4,[0],[1.0])|[-59.020777466540...|[1.0,0.0,0.0,0.0,...|\n",
      "|          250000.0|(4,[2],[1.0])|[-58.970865603989...|[0.0,0.0,1.0,0.0,...|\n",
      "|          285300.0|(4,[0],[1.0])|[-59.100636446621...|[1.0,0.0,0.0,0.0,...|\n",
      "|           72400.0|(4,[1],[1.0])|[-60.138803187682...|[0.0,1.0,0.0,0.0,...|\n",
      "|          193800.0|(4,[0],[1.0])|[-58.851077133866...|[1.0,0.0,0.0,0.0,...|\n",
      "|          132800.0|(4,[0],[1.0])|[-58.910971368928...|[1.0,0.0,0.0,0.0,...|\n",
      "|          109100.0|(4,[1],[1.0])|[-60.538098088090...|[0.0,1.0,0.0,0.0,...|\n",
      "|           73500.0|(4,[2],[1.0])|[-58.451782233459...|[0.0,0.0,1.0,0.0,...|\n",
      "|          144000.0|(4,[2],[1.0])|[-58.416843929673...|[0.0,0.0,1.0,0.0,...|\n",
      "|          111500.0|(4,[2],[1.0])|[-60.118838442662...|[0.0,0.0,1.0,0.0,...|\n",
      "|          273700.0|(4,[0],[1.0])|[-60.827586890886...|[1.0,0.0,0.0,0.0,...|\n",
      "|          373400.0|(4,[3],[1.0])|[-60.932401802243...|[0.0,0.0,0.0,1.0,...|\n",
      "+------------------+-------------+--------------------+--------------------+\n",
      "\n"
     ]
    }
   ],
   "source": [
    "catNum_features = ['cat_features', 'num_features_scl']\n",
    "\n",
    "final_assembler = VectorAssembler(inputCols=catNum_features, outputCol='united_features') \n",
    "\n",
    "df_unitVect = final_assembler.transform(df_catNumSclVect)\n",
    "\n",
    "df_unitVect.select(df_unitVect.columns[-4:]).sample(fraction=.0007, seed=RND_ST).show()"
   ]
  },
  {
   "cell_type": "markdown",
   "id": "9c0317a2",
   "metadata": {},
   "source": [
    "#### Вывод"
   ]
  },
  {
   "cell_type": "markdown",
   "id": "df38d424",
   "metadata": {},
   "source": [
    "Сформированы векторы признаков:\n",
    "- вектор категориальных признаков\n",
    "- вектор числовых признаков с масштабированными значениями\n",
    "- вектор общих (объединенных) признаков"
   ]
  },
  {
   "cell_type": "markdown",
   "id": "8d90153f",
   "metadata": {},
   "source": [
    "### Разделение на выборки"
   ]
  },
  {
   "cell_type": "markdown",
   "id": "a7563372",
   "metadata": {},
   "source": [
    "Для тренировочных и тестовых данных отберем 80% и 20% данных соответственно"
   ]
  },
  {
   "cell_type": "code",
   "execution_count": 35,
   "id": "38686aae",
   "metadata": {},
   "outputs": [
    {
     "name": "stdout",
     "output_type": "stream",
     "text": [
      "Тренировочные данные: 16560 строк \n",
      "Тестовые данные: 4080 строк\n"
     ]
    }
   ],
   "source": [
    "df_train, df_test = df_unitVect.randomSplit([.8,.2], seed=RND_ST)\n",
    "print(f'Тренировочные данные: {df_train.count()} строк \\nТестовые данные: {df_test.count()} строк')"
   ]
  },
  {
   "cell_type": "markdown",
   "id": "62c647e8",
   "metadata": {},
   "source": [
    "## Подбор гиперпараметров"
   ]
  },
  {
   "cell_type": "markdown",
   "id": "8325c32f",
   "metadata": {},
   "source": [
    "Класс `LinearRegression` имеет два основных гиперпараметра:\n",
    "- regParam\n",
    "- elasticNetParam \n",
    "\n",
    "Эти параметры задают вид регуляризации: L1(Lasso), L2(Ridge) или Elastic Net.\n",
    "\n",
    "Таким образом, задавая определённые значения regParam и elasticNetParam, можно получить следующие результаты:\n",
    "- `regParam = 0` – это линейная регрессия **без регуляризации**;\n",
    "- `regParam > 0`, `elasticNetParam = 0` ведет к **L2**-регуляризация (Ridge);\n",
    "- `regParam > 0`, `elasticNetParam = 1` ведет к **L1**-регуляризация (Lasso);\n",
    "- `regParam > 0`, `0 < elasticNetParam < 1` ведет к **L1 + L2** (Elastic Net).\n",
    "\n",
    "Подбор будем проводить кросс-валидацией на тренировочных данных. В PySpark кросс-валидация реализуется через `CrossValidator()`. Нам нужно указать четыре аргумента:\n",
    "\n",
    "- estimator — модель Machine Learning, в нашем случае `LinearRegression()`;\n",
    "- estimatorParamMaps — алгоритм оптимизации гиперпараметров, в нашем случае GridSearch применяя класс `ParamGridBuilder()`;\n",
    "- evaluator — метрика качества, в нашем случае `RegressionEvaluator()`;\n",
    "- количество фолдов, в нашем случае `N_FOLDS`.\n",
    "\n",
    "Оценку проводим по средней абсолютной ошибке `MAE`."
   ]
  },
  {
   "cell_type": "code",
   "execution_count": 36,
   "id": "4afe33cf",
   "metadata": {},
   "outputs": [],
   "source": [
    "lnr_reg = LinearRegression(featuresCol='united_features', labelCol=target)"
   ]
  },
  {
   "cell_type": "code",
   "execution_count": 37,
   "id": "71f6a878",
   "metadata": {},
   "outputs": [],
   "source": [
    "lnr_reg_GridSearch = (ParamGridBuilder()\n",
    "                     .addGrid(lnr_reg.regParam, [0, .1, .5, 1, 2])\n",
    "                     .addGrid(lnr_reg.elasticNetParam, [0, .5, 1])\n",
    "                     .build())\n",
    "\n",
    "lnr_reg_Evaluator = RegressionEvaluator(predictionCol='prediction',\n",
    "                                        labelCol=target,\n",
    "                                        metricName='mae')\n",
    "\n",
    "lnr_reg_CV = CrossValidator(estimator=lnr_reg,\n",
    "                            estimatorParamMaps=lnr_reg_GridSearch,\n",
    "                            evaluator=lnr_reg_Evaluator,\n",
    "                            numFolds=N_FOLDS, \n",
    "                            seed=RND_ST)"
   ]
  },
  {
   "cell_type": "code",
   "execution_count": 39,
   "id": "75856c1f",
   "metadata": {},
   "outputs": [
    {
     "name": "stdout",
     "output_type": "stream",
     "text": []
    }
   ],
   "source": [
    "lnr_reg_CVModels = lnr_reg_CV.fit(df_train)"
   ]
  },
  {
   "cell_type": "markdown",
   "id": "a365e3bc",
   "metadata": {},
   "source": [
    "Выведем значения ключевых метрик лучшей модели:"
   ]
  },
  {
   "cell_type": "code",
   "execution_count": 40,
   "id": "96ed1e86",
   "metadata": {},
   "outputs": [
    {
     "name": "stdout",
     "output_type": "stream",
     "text": [
      "Средняя абсолютная ошибка (MAE): 49424.293\n",
      "Среднеквадратичная ошибка (RMSE): 68179.687\n",
      "Коэффициент детерминации R2: 0.647\n"
     ]
    }
   ],
   "source": [
    "lnr_reg_CVSummary = lnr_reg_CVModels.bestModel.summary\n",
    "print('Средняя абсолютная ошибка (MAE):', \"{:.3f}\".format(lnr_reg_CVSummary.meanAbsoluteError))\n",
    "print('Среднеквадратичная ошибка (RMSE):', \"{:.3f}\".format(lnr_reg_CVSummary.rootMeanSquaredError))\n",
    "print('Коэффициент детерминации R2:', \"{:.3f}\".format(lnr_reg_CVSummary.r2))"
   ]
  },
  {
   "cell_type": "markdown",
   "id": "65e84bfb",
   "metadata": {},
   "source": [
    "Выведем значения параметров `elasticNetParam` и `regParam` лучшей модели:"
   ]
  },
  {
   "cell_type": "code",
   "execution_count": 41,
   "id": "b1b8db68",
   "metadata": {},
   "outputs": [
    {
     "name": "stdout",
     "output_type": "stream",
     "text": [
      "Значение regParam 0.0\n",
      "Значение elasticNetParam 0.0\n"
     ]
    }
   ],
   "source": [
    "print('Значение regParam', lnr_reg_CVModels.bestModel.getRegParam())\n",
    "print('Значение elasticNetParam', lnr_reg_CVModels.bestModel.getElasticNetParam())"
   ]
  },
  {
   "cell_type": "markdown",
   "id": "aa55ada9",
   "metadata": {},
   "source": [
    "### Вывод"
   ]
  },
  {
   "cell_type": "markdown",
   "id": "ce438fb1",
   "metadata": {},
   "source": [
    "Лучшая модель получилась без регуляризации (`regParam = 0`). Наиболее легко интерпретируемые метрики:\n",
    "- MAE чуть более 49.4K т.е. в среднем значение, предсказанное моделью отличается от истинного на +/- 49.4K\n",
    "- R2 .647 т.е. почти 65% дисперсии целевой переменной объясняется моделью"
   ]
  },
  {
   "cell_type": "markdown",
   "id": "a08d5204",
   "metadata": {},
   "source": [
    "## Обучение модели"
   ]
  },
  {
   "cell_type": "markdown",
   "id": "86032ede",
   "metadata": {},
   "source": [
    "Теперь надо обучить модель на всех данных (столбец `united_features`) и только на числовых данных (столбец `num_features_scl`)\n",
    "\n",
    "Гиперпараметры в обоих случаях:\n",
    "- `regParam=0`\n",
    "- `elasticNetParam=0`"
   ]
  },
  {
   "cell_type": "markdown",
   "id": "d5c9c9b9",
   "metadata": {},
   "source": [
    "### Обучение и прогноз на всех данных (числовые + категориальные)"
   ]
  },
  {
   "cell_type": "code",
   "execution_count": 42,
   "id": "7b8d06ea",
   "metadata": {},
   "outputs": [
    {
     "name": "stdout",
     "output_type": "stream",
     "text": []
    }
   ],
   "source": [
    "model = LinearRegression( featuresCol='united_features', labelCol=target, regParam=0, elasticNetParam=0 )\n",
    "model_allData = model.fit(df_train)"
   ]
  },
  {
   "cell_type": "code",
   "execution_count": 43,
   "id": "6178c5d4",
   "metadata": {},
   "outputs": [],
   "source": [
    "allPredictions = model_allData.transform(df_test)"
   ]
  },
  {
   "cell_type": "code",
   "execution_count": 44,
   "id": "a7b29c49",
   "metadata": {},
   "outputs": [
    {
     "name": "stdout",
     "output_type": "stream",
     "text": [
      "+------------------+------------------+\n",
      "|median_house_value|        prediction|\n",
      "+------------------+------------------+\n",
      "|          103600.0| 150527.4692572886|\n",
      "|          106700.0|216773.39134276053|\n",
      "|           73200.0|126057.29608237231|\n",
      "|           90100.0|194379.38182429038|\n",
      "|           67000.0|152638.51120139612|\n",
      "|           86400.0| 186001.1827696492|\n",
      "|           70500.0|162426.99246193655|\n",
      "|           85100.0|179009.06698814826|\n",
      "|           80500.0| 181297.0111426036|\n",
      "|           96000.0|170098.58287173184|\n",
      "|           75500.0|135849.94067784166|\n",
      "|           75000.0|104004.19391255407|\n",
      "|          100600.0|189557.96341805533|\n",
      "|           74100.0| 156033.7483477085|\n",
      "|           66800.0|133502.30632839398|\n",
      "+------------------+------------------+\n",
      "only showing top 15 rows\n",
      "\n"
     ]
    }
   ],
   "source": [
    "predictedAllValues = allPredictions.select('median_house_value', 'prediction')\n",
    "predictedAllValues.show(15)"
   ]
  },
  {
   "cell_type": "markdown",
   "id": "19099278",
   "metadata": {},
   "source": [
    "Выведем метрики:"
   ]
  },
  {
   "cell_type": "code",
   "execution_count": 45,
   "id": "56aa8752",
   "metadata": {},
   "outputs": [
    {
     "data": {
      "text/plain": [
       "RegressionEvaluator_169928090d22"
      ]
     },
     "execution_count": 45,
     "metadata": {},
     "output_type": "execute_result"
    }
   ],
   "source": [
    "evaluator = RegressionEvaluator()\n",
    "evaluator.setPredictionCol('prediction')\n",
    "evaluator.setLabelCol(target)"
   ]
  },
  {
   "cell_type": "code",
   "execution_count": 46,
   "id": "366cef2f",
   "metadata": {},
   "outputs": [
    {
     "name": "stdout",
     "output_type": "stream",
     "text": [
      "Средняя абсолютная ошибка (MAE): 50774\n",
      "Среднеквадратичная ошибка (RMSE): 70588\n",
      "Коэффициент детерминации R2: 0.640\n"
     ]
    }
   ],
   "source": [
    "all_data_metrics = ['{:.0f}'.format(evaluator.evaluate(predictedAllValues, {evaluator.metricName: 'mae'})),\n",
    "                    '{:.0f}'.format(evaluator.evaluate(predictedAllValues, {evaluator.metricName: 'rmse'})),\n",
    "                    '{:.3f}'.format(evaluator.evaluate(predictedAllValues, {evaluator.metricName: 'r2'}))]\n",
    "\n",
    "\n",
    "print('Средняя абсолютная ошибка (MAE):', all_data_metrics[0])\n",
    "print('Среднеквадратичная ошибка (RMSE):', all_data_metrics[1])\n",
    "print('Коэффициент детерминации R2:', all_data_metrics[2])"
   ]
  },
  {
   "cell_type": "markdown",
   "id": "ca7534b2",
   "metadata": {},
   "source": [
    "### Обучение и прогноз используя только числовые данные"
   ]
  },
  {
   "cell_type": "code",
   "execution_count": 47,
   "id": "00cccd17",
   "metadata": {},
   "outputs": [
    {
     "name": "stdout",
     "output_type": "stream",
     "text": [
      "+------------------+------------------+\n",
      "|median_house_value|        prediction|\n",
      "+------------------+------------------+\n",
      "|          103600.0|101342.05023674667|\n",
      "|          106700.0|189983.06552391686|\n",
      "|           73200.0| 76358.54149507266|\n",
      "|           90100.0|161923.11289616209|\n",
      "|           67000.0|120158.91067604627|\n",
      "|           86400.0|156092.36656785803|\n",
      "|           70500.0|129762.65938221896|\n",
      "|           85100.0| 149549.9846050418|\n",
      "|           80500.0|150075.94286684692|\n",
      "|           96000.0| 133900.9546660469|\n",
      "|           75500.0| 98132.71619331138|\n",
      "|           75000.0| 50419.29025894124|\n",
      "|          100600.0|156201.01114308322|\n",
      "|           74100.0|123191.17215683032|\n",
      "|           66800.0|102375.65871356381|\n",
      "+------------------+------------------+\n",
      "only showing top 15 rows\n",
      "\n"
     ]
    }
   ],
   "source": [
    "model = LinearRegression( featuresCol='num_features_scl', labelCol=target, regParam=0, elasticNetParam=0 )\n",
    "model_numData = model.fit(df_train)\n",
    "\n",
    "numPredictions = model_numData.transform(df_test)\n",
    "\n",
    "predictedNumValues = numPredictions.select('median_house_value', 'prediction')\n",
    "predictedNumValues.show(15)"
   ]
  },
  {
   "cell_type": "code",
   "execution_count": 48,
   "id": "2c5c4b41",
   "metadata": {},
   "outputs": [
    {
     "name": "stdout",
     "output_type": "stream",
     "text": [
      "Средняя абсолютная ошибка (MAE): 51669\n",
      "Среднеквадратичная ошибка (RMSE): 71548\n",
      "Коэффициент детерминации R2: 0.630\n"
     ]
    }
   ],
   "source": [
    "num_data_metrics = ['{:.0f}'.format(evaluator.evaluate(predictedNumValues, {evaluator.metricName: 'mae'})),\n",
    "                    '{:.0f}'.format(evaluator.evaluate(predictedNumValues, {evaluator.metricName: 'rmse'})),\n",
    "                    '{:.3f}'.format(evaluator.evaluate(predictedNumValues, {evaluator.metricName: 'r2'}))]\n",
    "\n",
    "\n",
    "print('Средняя абсолютная ошибка (MAE):', num_data_metrics[0])\n",
    "print('Среднеквадратичная ошибка (RMSE):', num_data_metrics[1])\n",
    "print('Коэффициент детерминации R2:', num_data_metrics[2])"
   ]
  },
  {
   "cell_type": "markdown",
   "id": "757fd103",
   "metadata": {
    "id": "757fd103"
   },
   "source": [
    "## Анализ результатов"
   ]
  },
  {
   "cell_type": "markdown",
   "id": "9552f210",
   "metadata": {},
   "source": [
    "Выведем в таблице метрики работы 1-й и 2-й моделей, а также величину изменения метрик 2-й модели относительно 1-й:"
   ]
  },
  {
   "cell_type": "code",
   "execution_count": 51,
   "id": "88f3ed6f",
   "metadata": {},
   "outputs": [
    {
     "data": {
      "text/html": [
       "<div>\n",
       "<style scoped>\n",
       "    .dataframe tbody tr th:only-of-type {\n",
       "        vertical-align: middle;\n",
       "    }\n",
       "\n",
       "    .dataframe tbody tr th {\n",
       "        vertical-align: top;\n",
       "    }\n",
       "\n",
       "    .dataframe thead th {\n",
       "        text-align: right;\n",
       "    }\n",
       "</style>\n",
       "<table border=\"1\" class=\"dataframe\">\n",
       "  <thead>\n",
       "    <tr style=\"text-align: right;\">\n",
       "      <th></th>\n",
       "      <th>MAE</th>\n",
       "      <th>RMSE</th>\n",
       "      <th>R2</th>\n",
       "    </tr>\n",
       "  </thead>\n",
       "  <tbody>\n",
       "    <tr>\n",
       "      <th>NUM + CAT data</th>\n",
       "      <td>50774</td>\n",
       "      <td>70588</td>\n",
       "      <td>0.640</td>\n",
       "    </tr>\n",
       "    <tr>\n",
       "      <th>NUM data</th>\n",
       "      <td>51669</td>\n",
       "      <td>71548</td>\n",
       "      <td>0.630</td>\n",
       "    </tr>\n",
       "    <tr>\n",
       "      <th>Изменение</th>\n",
       "      <td>895.0</td>\n",
       "      <td>960.0</td>\n",
       "      <td>-0.01</td>\n",
       "    </tr>\n",
       "  </tbody>\n",
       "</table>\n",
       "</div>"
      ],
      "text/plain": [
       "                  MAE   RMSE     R2\n",
       "NUM + CAT data  50774  70588  0.640\n",
       "NUM data        51669  71548  0.630\n",
       "Изменение       895.0  960.0  -0.01"
      ]
     },
     "execution_count": 51,
     "metadata": {},
     "output_type": "execute_result"
    }
   ],
   "source": [
    "pd.DataFrame(data=[ all_data_metrics,\n",
    "                   num_data_metrics,\n",
    "                   [float(a[1]) - float(a[0]) for a in list(zip(all_data_metrics, num_data_metrics))] ],\n",
    "             columns=['MAE', 'RMSE', 'R2'],\n",
    "             index=['NUM + CAT data', 'NUM data', 'Изменение'])"
   ]
  },
  {
   "cell_type": "markdown",
   "id": "38335526",
   "metadata": {},
   "source": [
    "### Вывод"
   ]
  },
  {
   "cell_type": "markdown",
   "id": "b0d11bf8",
   "metadata": {},
   "source": [
    "Ожидаемо метрики работы модели на ограниченном объеме данных хуже.\n",
    "- средняя абсолютная ошибка увеличилась на 895\n",
    "- среднеквадратичная ошибка увеличилась на 960\n",
    "- коэффициент детерминации R2 снизился на 1 процентный пункт - т.о. именно такую часть дисперсии в данных объясняют категориальные данные"
   ]
  },
  {
   "cell_type": "code",
   "execution_count": 52,
   "id": "98edeff5",
   "metadata": {},
   "outputs": [],
   "source": [
    "spark.stop()"
   ]
  }
 ],
 "metadata": {
  "ExecuteTimeLog": [
   {
    "duration": 1224,
    "start_time": "2023-03-16T01:54:32.394Z"
   },
   {
    "duration": 10,
    "start_time": "2023-03-16T01:54:38.841Z"
   },
   {
    "duration": 11,
    "start_time": "2023-03-16T01:55:12.800Z"
   },
   {
    "duration": 10,
    "start_time": "2023-03-16T01:55:21.216Z"
   },
   {
    "duration": 91,
    "start_time": "2023-03-16T01:55:42.602Z"
   }
  ],
  "colab": {
   "name": "PySparkSprint.ipynb",
   "provenance": []
  },
  "kernelspec": {
   "display_name": "Python 3 (ipykernel)",
   "language": "python",
   "name": "python3"
  },
  "language_info": {
   "codemirror_mode": {
    "name": "ipython",
    "version": 3
   },
   "file_extension": ".py",
   "mimetype": "text/x-python",
   "name": "python",
   "nbconvert_exporter": "python",
   "pygments_lexer": "ipython3",
   "version": "3.9.15"
  },
  "toc": {
   "base_numbering": 1,
   "nav_menu": {},
   "number_sections": true,
   "sideBar": true,
   "skip_h1_title": true,
   "title_cell": "Содержание",
   "title_sidebar": "Contents",
   "toc_cell": false,
   "toc_position": {
    "height": "calc(100% - 180px)",
    "left": "10px",
    "top": "150px",
    "width": "278.55px"
   },
   "toc_section_display": true,
   "toc_window_display": true
  }
 },
 "nbformat": 4,
 "nbformat_minor": 5
}
