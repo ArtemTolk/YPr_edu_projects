{
 "cells": [
  {
   "cell_type": "markdown",
   "metadata": {},
   "source": [
    "# Анализ тональности комментариев"
   ]
  },
  {
   "cell_type": "markdown",
   "metadata": {},
   "source": [
    "## Постановка задачи"
   ]
  },
  {
   "cell_type": "markdown",
   "metadata": {},
   "source": [
    "Интернет-магазин запускает новый сервис - пользователи cмогут редактировать и дополнять описания товаров. Клиенты предлагают свои правки и комментируют изменения других. Магазину нужен инструмент, который будет искать \"токсичные комментарии\" и отправлять их на модерацию. \n",
    "\n",
    "Необходимо создать модель классификации комментариев на позитивные и негативные. Для обучения есть набор данных с разметкой о токсичности. Значение метрики качества `f1` должно быть не ниже *`0.75`*"
   ]
  },
  {
   "cell_type": "markdown",
   "metadata": {},
   "source": [
    "## Импорт библиотек, установка констант"
   ]
  },
  {
   "cell_type": "code",
   "execution_count": 1,
   "metadata": {},
   "outputs": [],
   "source": [
    "import pandas as pd\n",
    "import numpy as np\n",
    "import re\n",
    "from tqdm import notebook\n",
    "\n",
    "import matplotlib.pyplot as plt\n",
    "import matplotlib.ticker as ticker\n",
    "import seaborn as sns\n",
    "\n",
    "import nltk\n",
    "from nltk.stem import WordNetLemmatizer\n",
    "from nltk.corpus import stopwords as nltk_stopwords\n",
    "from nltk import word_tokenize, pos_tag\n",
    "\n",
    "from sklearn.feature_extraction.text import TfidfVectorizer\n",
    "from sklearn.linear_model import LogisticRegression\n",
    "from sklearn.metrics import roc_auc_score, f1_score, accuracy_score, precision_score, recall_score, confusion_matrix\n",
    "from sklearn.model_selection import train_test_split, KFold, cross_validate\n",
    "from sklearn.pipeline import Pipeline\n",
    "from sklearn.metrics import precision_recall_curve\n",
    "\n",
    "from catboost import Pool, CatBoostClassifier\n",
    "import optuna\n",
    "\n",
    "import warnings\n",
    "warnings.filterwarnings('ignore')\n",
    "\n",
    "RND_ST=42\n",
    "N_FOLDS=3"
   ]
  },
  {
   "cell_type": "markdown",
   "metadata": {},
   "source": [
    "## Загрузка и предобработка"
   ]
  },
  {
   "cell_type": "code",
   "execution_count": 2,
   "metadata": {},
   "outputs": [],
   "source": [
    "data = pd.read_csv('datasets/toxic_comments.csv', usecols=[1, 2])\n",
    "data['text'] = data['text'].str.lower()"
   ]
  },
  {
   "cell_type": "code",
   "execution_count": 3,
   "metadata": {},
   "outputs": [
    {
     "data": {
      "text/html": [
       "<div>\n",
       "<style scoped>\n",
       "    .dataframe tbody tr th:only-of-type {\n",
       "        vertical-align: middle;\n",
       "    }\n",
       "\n",
       "    .dataframe tbody tr th {\n",
       "        vertical-align: top;\n",
       "    }\n",
       "\n",
       "    .dataframe thead th {\n",
       "        text-align: right;\n",
       "    }\n",
       "</style>\n",
       "<table border=\"1\" class=\"dataframe\">\n",
       "  <thead>\n",
       "    <tr style=\"text-align: right;\">\n",
       "      <th></th>\n",
       "      <th>text</th>\n",
       "      <th>toxic</th>\n",
       "    </tr>\n",
       "  </thead>\n",
       "  <tbody>\n",
       "    <tr>\n",
       "      <th>31015</th>\n",
       "      <td>sometime back, i just happened to log on to ww...</td>\n",
       "      <td>0</td>\n",
       "    </tr>\n",
       "    <tr>\n",
       "      <th>102832</th>\n",
       "      <td>\"\\n\\nthe latest edit is much better, don't mak...</td>\n",
       "      <td>0</td>\n",
       "    </tr>\n",
       "    <tr>\n",
       "      <th>67317</th>\n",
       "      <td>\" october 2007 (utc)\\n\\ni would think you'd be...</td>\n",
       "      <td>0</td>\n",
       "    </tr>\n",
       "    <tr>\n",
       "      <th>81091</th>\n",
       "      <td>thanks for the tip on the currency translation...</td>\n",
       "      <td>0</td>\n",
       "    </tr>\n",
       "    <tr>\n",
       "      <th>90091</th>\n",
       "      <td>i would argue that if content on the con in co...</td>\n",
       "      <td>0</td>\n",
       "    </tr>\n",
       "    <tr>\n",
       "      <th>1860</th>\n",
       "      <td>\"=reliable sources===\\ncheating:\\n\"\"barry bond...</td>\n",
       "      <td>1</td>\n",
       "    </tr>\n",
       "    <tr>\n",
       "      <th>125293</th>\n",
       "      <td>wtf=\\n\\nhow the fuck does this person merit a ...</td>\n",
       "      <td>1</td>\n",
       "    </tr>\n",
       "    <tr>\n",
       "      <th>148986</th>\n",
       "      <td>cajuns, acadians\\ncajuns, acadians, louisianan...</td>\n",
       "      <td>0</td>\n",
       "    </tr>\n",
       "    <tr>\n",
       "      <th>89697</th>\n",
       "      <td>hi - i dropped a pin in google maps at the cer...</td>\n",
       "      <td>0</td>\n",
       "    </tr>\n",
       "    <tr>\n",
       "      <th>64256</th>\n",
       "      <td>re removal of accessdate= for urls books \\n\\nt...</td>\n",
       "      <td>0</td>\n",
       "    </tr>\n",
       "  </tbody>\n",
       "</table>\n",
       "</div>"
      ],
      "text/plain": [
       "                                                     text  toxic\n",
       "31015   sometime back, i just happened to log on to ww...      0\n",
       "102832  \"\\n\\nthe latest edit is much better, don't mak...      0\n",
       "67317   \" october 2007 (utc)\\n\\ni would think you'd be...      0\n",
       "81091   thanks for the tip on the currency translation...      0\n",
       "90091   i would argue that if content on the con in co...      0\n",
       "1860    \"=reliable sources===\\ncheating:\\n\"\"barry bond...      1\n",
       "125293  wtf=\\n\\nhow the fuck does this person merit a ...      1\n",
       "148986  cajuns, acadians\\ncajuns, acadians, louisianan...      0\n",
       "89697   hi - i dropped a pin in google maps at the cer...      0\n",
       "64256   re removal of accessdate= for urls books \\n\\nt...      0"
      ]
     },
     "execution_count": 3,
     "metadata": {},
     "output_type": "execute_result"
    }
   ],
   "source": [
    "data.sample(10, random_state=RND_ST)"
   ]
  },
  {
   "cell_type": "markdown",
   "metadata": {},
   "source": [
    "Баланс классов"
   ]
  },
  {
   "cell_type": "code",
   "execution_count": 4,
   "metadata": {},
   "outputs": [
    {
     "data": {
      "text/html": [
       "<div>\n",
       "<style scoped>\n",
       "    .dataframe tbody tr th:only-of-type {\n",
       "        vertical-align: middle;\n",
       "    }\n",
       "\n",
       "    .dataframe tbody tr th {\n",
       "        vertical-align: top;\n",
       "    }\n",
       "\n",
       "    .dataframe thead th {\n",
       "        text-align: right;\n",
       "    }\n",
       "</style>\n",
       "<table border=\"1\" class=\"dataframe\">\n",
       "  <thead>\n",
       "    <tr style=\"text-align: right;\">\n",
       "      <th></th>\n",
       "      <th>toxic</th>\n",
       "      <th>percent</th>\n",
       "    </tr>\n",
       "  </thead>\n",
       "  <tbody>\n",
       "    <tr>\n",
       "      <th>0</th>\n",
       "      <td>143106</td>\n",
       "      <td>90.0</td>\n",
       "    </tr>\n",
       "    <tr>\n",
       "      <th>1</th>\n",
       "      <td>16186</td>\n",
       "      <td>10.0</td>\n",
       "    </tr>\n",
       "  </tbody>\n",
       "</table>\n",
       "</div>"
      ],
      "text/plain": [
       "    toxic  percent\n",
       "0  143106     90.0\n",
       "1   16186     10.0"
      ]
     },
     "execution_count": 4,
     "metadata": {},
     "output_type": "execute_result"
    }
   ],
   "source": [
    "(\n",
    "    data['toxic'].value_counts().to_frame()\n",
    "    .assign(percent = lambda x: round(x / x['toxic'].sum()*100) )\n",
    ")"
   ]
  },
  {
   "cell_type": "markdown",
   "metadata": {},
   "source": [
    "Есть дисбаланс, поэтому обязательно нужно указывать на это моделям"
   ]
  },
  {
   "cell_type": "markdown",
   "metadata": {},
   "source": [
    "### Лемматизация"
   ]
  },
  {
   "cell_type": "code",
   "execution_count": 5,
   "metadata": {},
   "outputs": [
    {
     "name": "stderr",
     "output_type": "stream",
     "text": [
      "[nltk_data] Downloading package punkt to\n",
      "[nltk_data]     C:\\Users\\Atolkachev\\AppData\\Roaming\\nltk_data...\n",
      "[nltk_data]   Package punkt is already up-to-date!\n",
      "[nltk_data] Downloading package wordnet to\n",
      "[nltk_data]     C:\\Users\\Atolkachev\\AppData\\Roaming\\nltk_data...\n",
      "[nltk_data]   Package wordnet is already up-to-date!\n",
      "[nltk_data] Downloading package stopwords to\n",
      "[nltk_data]     C:\\Users\\Atolkachev\\AppData\\Roaming\\nltk_data...\n",
      "[nltk_data]   Package stopwords is already up-to-date!\n",
      "[nltk_data] Downloading package averaged_perceptron_tagger to\n",
      "[nltk_data]     C:\\Users\\Atolkachev\\AppData\\Roaming\\nltk_data...\n",
      "[nltk_data]   Package averaged_perceptron_tagger is already up-to-\n",
      "[nltk_data]       date!\n",
      "[nltk_data] Downloading package omw-1.4 to\n",
      "[nltk_data]     C:\\Users\\Atolkachev\\AppData\\Roaming\\nltk_data...\n",
      "[nltk_data]   Package omw-1.4 is already up-to-date!\n"
     ]
    },
    {
     "data": {
      "text/plain": [
       "True"
      ]
     },
     "execution_count": 5,
     "metadata": {},
     "output_type": "execute_result"
    }
   ],
   "source": [
    "nltk.download('punkt')\n",
    "nltk.download('wordnet')\n",
    "nltk.download('stopwords')\n",
    "nltk.download('averaged_perceptron_tagger')\n",
    "nltk.download('omw-1.4')"
   ]
  },
  {
   "cell_type": "code",
   "execution_count": 6,
   "metadata": {},
   "outputs": [],
   "source": [
    "wnl = WordNetLemmatizer()"
   ]
  },
  {
   "cell_type": "markdown",
   "metadata": {},
   "source": [
    "Функция предобработки текста"
   ]
  },
  {
   "cell_type": "code",
   "execution_count": 7,
   "metadata": {},
   "outputs": [],
   "source": [
    "def text_prep(text):\n",
    "    \"\"\"\n",
    "    функция лемматизации\n",
    "    \"\"\"\n",
    "    # оставляем только буквы\n",
    "    txt_prep = re.sub(r\"[^a-zA-Z]\", \" \", text)    \n",
    "    lemm_lst = []\n",
    "    # разбиваем на токены, получаем отметки о части речи\n",
    "    for token, tag in pos_tag(word_tokenize(txt_prep.lower())): \n",
    "        pos = tag[0].lower()\n",
    "        if pos not in [\"a\", \"r\", \"n\", \"v\"]:\n",
    "            pos = \"n\"\n",
    "        # лемматизируем\n",
    "        lemm_lst.append(wnl.lemmatize(token, pos)) \n",
    "                            \n",
    "    return \" \".join(lemm_lst)"
   ]
  },
  {
   "cell_type": "markdown",
   "metadata": {},
   "source": [
    "Применяем функцию `text_prep` к столбцу `data['text']`. Обработку делаем батчами по 500 записей."
   ]
  },
  {
   "cell_type": "code",
   "execution_count": 8,
   "metadata": {},
   "outputs": [
    {
     "data": {
      "application/vnd.jupyter.widget-view+json": {
       "model_id": "7c7128fa7ec64a4b97a40971be5176b6",
       "version_major": 2,
       "version_minor": 0
      },
      "text/plain": [
       "  0%|          | 0/319 [00:00<?, ?it/s]"
      ]
     },
     "metadata": {},
     "output_type": "display_data"
    }
   ],
   "source": [
    "text_lemm = []\n",
    "batch_size = 500\n",
    "for i in notebook.tqdm(range(data.shape[0]//batch_size +1)):\n",
    "    batch = data['text'][batch_size*i : batch_size*(i+1)]\n",
    "    batch_lemm = batch.apply(text_prep)\n",
    "    text_lemm =  text_lemm + batch_lemm.to_list()"
   ]
  },
  {
   "cell_type": "markdown",
   "metadata": {},
   "source": [
    "Список из лемматизированных записей сохраняем в столбец `text_lemm`"
   ]
  },
  {
   "cell_type": "code",
   "execution_count": 9,
   "metadata": {},
   "outputs": [
    {
     "data": {
      "text/html": [
       "<div>\n",
       "<style scoped>\n",
       "    .dataframe tbody tr th:only-of-type {\n",
       "        vertical-align: middle;\n",
       "    }\n",
       "\n",
       "    .dataframe tbody tr th {\n",
       "        vertical-align: top;\n",
       "    }\n",
       "\n",
       "    .dataframe thead th {\n",
       "        text-align: right;\n",
       "    }\n",
       "</style>\n",
       "<table border=\"1\" class=\"dataframe\">\n",
       "  <thead>\n",
       "    <tr style=\"text-align: right;\">\n",
       "      <th></th>\n",
       "      <th>text</th>\n",
       "      <th>toxic</th>\n",
       "      <th>text_lemm</th>\n",
       "    </tr>\n",
       "  </thead>\n",
       "  <tbody>\n",
       "    <tr>\n",
       "      <th>31015</th>\n",
       "      <td>sometime back, i just happened to log on to ww...</td>\n",
       "      <td>0</td>\n",
       "      <td>sometime back i just happen to log on to www i...</td>\n",
       "    </tr>\n",
       "    <tr>\n",
       "      <th>102832</th>\n",
       "      <td>\"\\n\\nthe latest edit is much better, don't mak...</td>\n",
       "      <td>0</td>\n",
       "      <td>the latest edit be much better don t make this...</td>\n",
       "    </tr>\n",
       "    <tr>\n",
       "      <th>67317</th>\n",
       "      <td>\" october 2007 (utc)\\n\\ni would think you'd be...</td>\n",
       "      <td>0</td>\n",
       "      <td>october utc i would think you d be able to get...</td>\n",
       "    </tr>\n",
       "    <tr>\n",
       "      <th>81091</th>\n",
       "      <td>thanks for the tip on the currency translation...</td>\n",
       "      <td>0</td>\n",
       "      <td>thanks for the tip on the currency translation...</td>\n",
       "    </tr>\n",
       "    <tr>\n",
       "      <th>90091</th>\n",
       "      <td>i would argue that if content on the con in co...</td>\n",
       "      <td>0</td>\n",
       "      <td>i would argue that if content on the con in co...</td>\n",
       "    </tr>\n",
       "    <tr>\n",
       "      <th>1860</th>\n",
       "      <td>\"=reliable sources===\\ncheating:\\n\"\"barry bond...</td>\n",
       "      <td>1</td>\n",
       "      <td>reliable source cheat barry bond cheater from ...</td>\n",
       "    </tr>\n",
       "    <tr>\n",
       "      <th>125293</th>\n",
       "      <td>wtf=\\n\\nhow the fuck does this person merit a ...</td>\n",
       "      <td>1</td>\n",
       "      <td>wtf how the fuck do this person merit a page o...</td>\n",
       "    </tr>\n",
       "    <tr>\n",
       "      <th>148986</th>\n",
       "      <td>cajuns, acadians\\ncajuns, acadians, louisianan...</td>\n",
       "      <td>0</td>\n",
       "      <td>cajun acadian cajun acadian louisianan they re...</td>\n",
       "    </tr>\n",
       "    <tr>\n",
       "      <th>89697</th>\n",
       "      <td>hi - i dropped a pin in google maps at the cer...</td>\n",
       "      <td>0</td>\n",
       "      <td>hi i drop a pin in google map at the ceremonia...</td>\n",
       "    </tr>\n",
       "    <tr>\n",
       "      <th>64256</th>\n",
       "      <td>re removal of accessdate= for urls books \\n\\nt...</td>\n",
       "      <td>0</td>\n",
       "      <td>re removal of accessdate for url book this be ...</td>\n",
       "    </tr>\n",
       "  </tbody>\n",
       "</table>\n",
       "</div>"
      ],
      "text/plain": [
       "                                                     text  toxic  \\\n",
       "31015   sometime back, i just happened to log on to ww...      0   \n",
       "102832  \"\\n\\nthe latest edit is much better, don't mak...      0   \n",
       "67317   \" october 2007 (utc)\\n\\ni would think you'd be...      0   \n",
       "81091   thanks for the tip on the currency translation...      0   \n",
       "90091   i would argue that if content on the con in co...      0   \n",
       "1860    \"=reliable sources===\\ncheating:\\n\"\"barry bond...      1   \n",
       "125293  wtf=\\n\\nhow the fuck does this person merit a ...      1   \n",
       "148986  cajuns, acadians\\ncajuns, acadians, louisianan...      0   \n",
       "89697   hi - i dropped a pin in google maps at the cer...      0   \n",
       "64256   re removal of accessdate= for urls books \\n\\nt...      0   \n",
       "\n",
       "                                                text_lemm  \n",
       "31015   sometime back i just happen to log on to www i...  \n",
       "102832  the latest edit be much better don t make this...  \n",
       "67317   october utc i would think you d be able to get...  \n",
       "81091   thanks for the tip on the currency translation...  \n",
       "90091   i would argue that if content on the con in co...  \n",
       "1860    reliable source cheat barry bond cheater from ...  \n",
       "125293  wtf how the fuck do this person merit a page o...  \n",
       "148986  cajun acadian cajun acadian louisianan they re...  \n",
       "89697   hi i drop a pin in google map at the ceremonia...  \n",
       "64256   re removal of accessdate for url book this be ...  "
      ]
     },
     "execution_count": 9,
     "metadata": {},
     "output_type": "execute_result"
    }
   ],
   "source": [
    "data['text_lemm'] = pd.Series(text_lemm, index=data.index)\n",
    "data.sample(10, random_state=RND_ST)"
   ]
  },
  {
   "cell_type": "markdown",
   "metadata": {},
   "source": [
    "Удаляем дубликаты"
   ]
  },
  {
   "cell_type": "code",
   "execution_count": 10,
   "metadata": {},
   "outputs": [
    {
     "data": {
      "text/plain": [
       "1313"
      ]
     },
     "execution_count": 10,
     "metadata": {},
     "output_type": "execute_result"
    }
   ],
   "source": [
    "data[['text_lemm', 'toxic']].duplicated().sum()"
   ]
  },
  {
   "cell_type": "code",
   "execution_count": 11,
   "metadata": {},
   "outputs": [],
   "source": [
    "data_fltr = data[['text_lemm', 'toxic']].drop_duplicates()"
   ]
  },
  {
   "cell_type": "markdown",
   "metadata": {},
   "source": [
    "**ВЫВОД** в переменной `data_fltr` сохранены предобработанные данные"
   ]
  },
  {
   "cell_type": "markdown",
   "metadata": {},
   "source": [
    "### Векторизация методом `TF-IDF`"
   ]
  },
  {
   "cell_type": "markdown",
   "metadata": {},
   "source": [
    "Разбиваем на тренировочные и тестовые данные, формируем соответствующие корпуса."
   ]
  },
  {
   "cell_type": "code",
   "execution_count": 12,
   "metadata": {},
   "outputs": [],
   "source": [
    "X_train, X_test, y_train, y_test = train_test_split(\n",
    "    data_fltr['text_lemm'], data_fltr['toxic'], test_size=.25, random_state=RND_ST\n",
    ")"
   ]
  },
  {
   "cell_type": "code",
   "execution_count": 13,
   "metadata": {},
   "outputs": [],
   "source": [
    "corpus_trn = X_train.values               \n",
    "corpus_tst = X_test.values  "
   ]
  },
  {
   "cell_type": "markdown",
   "metadata": {},
   "source": [
    "Инициируем класс `TfidfVectorizer()` для векторизации, указываем `stop_words`. Обучение проводим на тренировочном корпусе, тестовый корпус преобразуем обученным классом."
   ]
  },
  {
   "cell_type": "code",
   "execution_count": 14,
   "metadata": {},
   "outputs": [],
   "source": [
    "count_tf_idf = TfidfVectorizer(stop_words=nltk_stopwords.words('english'))\n",
    "fch_trn = count_tf_idf.fit_transform(corpus_trn)\n",
    "fch_tst = count_tf_idf.transform(corpus_tst)"
   ]
  },
  {
   "cell_type": "markdown",
   "metadata": {},
   "source": [
    "Проверяем размерности"
   ]
  },
  {
   "cell_type": "code",
   "execution_count": 15,
   "metadata": {},
   "outputs": [
    {
     "data": {
      "text/html": [
       "<div>\n",
       "<style scoped>\n",
       "    .dataframe tbody tr th:only-of-type {\n",
       "        vertical-align: middle;\n",
       "    }\n",
       "\n",
       "    .dataframe tbody tr th {\n",
       "        vertical-align: top;\n",
       "    }\n",
       "\n",
       "    .dataframe thead th {\n",
       "        text-align: right;\n",
       "    }\n",
       "</style>\n",
       "<table border=\"1\" class=\"dataframe\">\n",
       "  <thead>\n",
       "    <tr style=\"text-align: right;\">\n",
       "      <th></th>\n",
       "      <th>Series length</th>\n",
       "      <th>Feature matrix</th>\n",
       "    </tr>\n",
       "  </thead>\n",
       "  <tbody>\n",
       "    <tr>\n",
       "      <th>Train</th>\n",
       "      <td>(118484,)</td>\n",
       "      <td>(118484, 131213)</td>\n",
       "    </tr>\n",
       "    <tr>\n",
       "      <th>Test</th>\n",
       "      <td>(39495,)</td>\n",
       "      <td>(39495, 131213)</td>\n",
       "    </tr>\n",
       "  </tbody>\n",
       "</table>\n",
       "</div>"
      ],
      "text/plain": [
       "      Series length    Feature matrix\n",
       "Train     (118484,)  (118484, 131213)\n",
       "Test       (39495,)   (39495, 131213)"
      ]
     },
     "execution_count": 15,
     "metadata": {},
     "output_type": "execute_result"
    }
   ],
   "source": [
    "pd.DataFrame([[X_train.shape, fch_trn.shape],\n",
    "              [X_test.shape, fch_tst.shape]],\n",
    "             columns=('Series length', 'Feature matrix'),\n",
    "             index=('Train', 'Test'))"
   ]
  },
  {
   "cell_type": "markdown",
   "metadata": {},
   "source": [
    "удаляем лишние переменные"
   ]
  },
  {
   "cell_type": "code",
   "execution_count": 16,
   "metadata": {},
   "outputs": [],
   "source": [
    "del data\n",
    "del text_lemm\n",
    "del X_train\n",
    "del X_test\n",
    "del corpus_tst"
   ]
  },
  {
   "cell_type": "markdown",
   "metadata": {},
   "source": [
    "Признаки подготовлены, можно переходить к проверке моделей"
   ]
  },
  {
   "cell_type": "markdown",
   "metadata": {},
   "source": [
    "**ВЫВОД** при векторизации с применением TF-IDF кодирования получили матрицу с 130+ тыс признаков."
   ]
  },
  {
   "cell_type": "markdown",
   "metadata": {},
   "source": [
    "## Оптимизация моделей"
   ]
  },
  {
   "cell_type": "markdown",
   "metadata": {},
   "source": [
    "### Logistic Regression"
   ]
  },
  {
   "cell_type": "markdown",
   "metadata": {},
   "source": [
    "В качестве `baseline` попробуем `LogisticRegression`. Зададим минимум параметров и замерим целевую метрику `f1` на кросс-валидации."
   ]
  },
  {
   "cell_type": "code",
   "execution_count": 17,
   "metadata": {},
   "outputs": [],
   "source": [
    "lr_params = {'multi_class': 'ovr',\n",
    "             'class_weight': 'balanced',   # обязательно указываем т.к. есть дисбаланс классов\n",
    "             'solver': 'liblinear'}\n",
    "\n",
    "kf = KFold(n_splits=N_FOLDS, shuffle=True, random_state=RND_ST)"
   ]
  },
  {
   "cell_type": "code",
   "execution_count": 18,
   "metadata": {},
   "outputs": [
    {
     "name": "stderr",
     "output_type": "stream",
     "text": [
      "[Parallel(n_jobs=1)]: Using backend SequentialBackend with 1 concurrent workers.\n"
     ]
    },
    {
     "name": "stdout",
     "output_type": "stream",
     "text": [
      "[CV] END ................................... f1: (test=0.737) total time=   7.6s\n"
     ]
    },
    {
     "name": "stderr",
     "output_type": "stream",
     "text": [
      "[Parallel(n_jobs=1)]: Done   1 out of   1 | elapsed:    7.6s remaining:    0.0s\n"
     ]
    },
    {
     "name": "stdout",
     "output_type": "stream",
     "text": [
      "[CV] END ................................... f1: (test=0.735) total time=   7.4s\n"
     ]
    },
    {
     "name": "stderr",
     "output_type": "stream",
     "text": [
      "[Parallel(n_jobs=1)]: Done   2 out of   2 | elapsed:   15.1s remaining:    0.0s\n"
     ]
    },
    {
     "name": "stdout",
     "output_type": "stream",
     "text": [
      "[CV] END ................................... f1: (test=0.742) total time=   7.8s\n"
     ]
    },
    {
     "name": "stderr",
     "output_type": "stream",
     "text": [
      "[Parallel(n_jobs=1)]: Done   3 out of   3 | elapsed:   23.0s finished\n"
     ]
    }
   ],
   "source": [
    "lr_cv_pipeline = Pipeline([('tfidf', TfidfVectorizer(stop_words=nltk_stopwords.words('english'))),\n",
    "                           ('clf', LogisticRegression(**lr_params, random_state =RND_ST))])\n",
    "\n",
    "LogRgr_score = cross_validate(lr_cv_pipeline,\n",
    "                              corpus_trn,\n",
    "                              y_train,\n",
    "                              scoring=['f1'],\n",
    "                              cv=kf,\n",
    "                              verbose=3)"
   ]
  },
  {
   "cell_type": "code",
   "execution_count": 19,
   "metadata": {},
   "outputs": [
    {
     "data": {
      "text/html": [
       "<div>\n",
       "<style scoped>\n",
       "    .dataframe tbody tr th:only-of-type {\n",
       "        vertical-align: middle;\n",
       "    }\n",
       "\n",
       "    .dataframe tbody tr th {\n",
       "        vertical-align: top;\n",
       "    }\n",
       "\n",
       "    .dataframe thead th {\n",
       "        text-align: right;\n",
       "    }\n",
       "</style>\n",
       "<table border=\"1\" class=\"dataframe\">\n",
       "  <thead>\n",
       "    <tr style=\"text-align: right;\">\n",
       "      <th></th>\n",
       "      <th>f1</th>\n",
       "    </tr>\n",
       "  </thead>\n",
       "  <tbody>\n",
       "    <tr>\n",
       "      <th>LogisticRegression_Base_CV</th>\n",
       "      <td>0.738075</td>\n",
       "    </tr>\n",
       "  </tbody>\n",
       "</table>\n",
       "</div>"
      ],
      "text/plain": [
       "                                  f1\n",
       "LogisticRegression_Base_CV  0.738075"
      ]
     },
     "execution_count": 19,
     "metadata": {},
     "output_type": "execute_result"
    }
   ],
   "source": [
    "LogRgr_base_CV = pd.DataFrame(data=[LogRgr_score['test_f1'].mean()],\n",
    "                             columns=['f1'],\n",
    "                             index=['LogisticRegression_Base_CV'])\n",
    "LogRgr_base_CV"
   ]
  },
  {
   "cell_type": "markdown",
   "metadata": {},
   "source": [
    "Можно попытаться повысить метрику, подобрав значение коэффициента `C`. Оптимизацию проведем с помощью библиотеки `optuna`."
   ]
  },
  {
   "cell_type": "code",
   "execution_count": 20,
   "metadata": {},
   "outputs": [],
   "source": [
    "def objective_LogRgr(trial, features=corpus_trn, target=y_train):\n",
    "    \n",
    "    X_trn, X_val, y_trn, y_val = train_test_split(\n",
    "        features, target, test_size=.25, random_state=RND_ST\n",
    "    )\n",
    "    \n",
    "    X_trn_vect = count_tf_idf.fit_transform(X_trn)\n",
    "    X_val_vect = count_tf_idf.transform(X_val)\n",
    "    \n",
    "    params = {'multi_class': 'ovr',\n",
    "              'class_weight': 'balanced',\n",
    "              'solver': 'liblinear',\n",
    "              'C': trial.suggest_float('C', 10.2, 10.3)}\n",
    "    \n",
    "    model = LogisticRegression(**params, random_state=RND_ST)\n",
    "    model.fit(X_trn_vect, y_trn)\n",
    "    \n",
    "    return f1_score(y_val, model.predict(X_val_vect))"
   ]
  },
  {
   "cell_type": "code",
   "execution_count": 21,
   "metadata": {},
   "outputs": [
    {
     "name": "stderr",
     "output_type": "stream",
     "text": [
      "\u001b[32m[I 2023-04-03 22:14:27,884]\u001b[0m A new study created in memory with name: LogisticRegression\u001b[0m\n",
      "\u001b[32m[I 2023-04-03 22:14:36,983]\u001b[0m Trial 0 finished with value: 0.7467716535433071 and parameters: {'C': 10.271551322824536}. Best is trial 0 with value: 0.7467716535433071.\u001b[0m\n",
      "\u001b[32m[I 2023-04-03 22:14:46,153]\u001b[0m Trial 1 finished with value: 0.7468892739014019 and parameters: {'C': 10.287050004982536}. Best is trial 1 with value: 0.7468892739014019.\u001b[0m\n",
      "\u001b[32m[I 2023-04-03 22:14:55,625]\u001b[0m Trial 2 finished with value: 0.747048638438533 and parameters: {'C': 10.234333982639503}. Best is trial 2 with value: 0.747048638438533.\u001b[0m\n",
      "\u001b[32m[I 2023-04-03 22:15:05,070]\u001b[0m Trial 3 finished with value: 0.7470069313169503 and parameters: {'C': 10.296001304193075}. Best is trial 2 with value: 0.747048638438533.\u001b[0m\n",
      "\u001b[32m[I 2023-04-03 22:15:14,356]\u001b[0m Trial 4 finished with value: 0.7467716535433071 and parameters: {'C': 10.269957620943119}. Best is trial 2 with value: 0.747048638438533.\u001b[0m\n",
      "\u001b[32m[I 2023-04-03 22:15:23,879]\u001b[0m Trial 5 finished with value: 0.747048638438533 and parameters: {'C': 10.210646461836154}. Best is trial 2 with value: 0.747048638438533.\u001b[0m\n",
      "\u001b[32m[I 2023-04-03 22:15:33,484]\u001b[0m Trial 6 finished with value: 0.7468892739014019 and parameters: {'C': 10.28904761672255}. Best is trial 2 with value: 0.747048638438533.\u001b[0m\n",
      "\u001b[32m[I 2023-04-03 22:15:42,911]\u001b[0m Trial 7 finished with value: 0.7466540702251613 and parameters: {'C': 10.250703503618922}. Best is trial 2 with value: 0.747048638438533.\u001b[0m\n",
      "\u001b[32m[I 2023-04-03 22:15:52,023]\u001b[0m Trial 8 finished with value: 0.7468892739014019 and parameters: {'C': 10.290061286038137}. Best is trial 2 with value: 0.747048638438533.\u001b[0m\n",
      "\u001b[32m[I 2023-04-03 22:16:01,467]\u001b[0m Trial 9 finished with value: 0.7468892739014019 and parameters: {'C': 10.297576802574252}. Best is trial 2 with value: 0.747048638438533.\u001b[0m\n"
     ]
    }
   ],
   "source": [
    "study_logrgr = optuna.create_study(direction = 'maximize', study_name='LogisticRegression')\n",
    "study_logrgr.optimize(objective_LogRgr, n_trials=10)"
   ]
  },
  {
   "cell_type": "markdown",
   "metadata": {},
   "source": [
    "Дополняем словарь параметров найденным значением, инициируем модель с новыми параметрами, снова замеряем `f1` для \"улучшенной\" модели."
   ]
  },
  {
   "cell_type": "code",
   "execution_count": 22,
   "metadata": {},
   "outputs": [],
   "source": [
    "lr_params.update(study_logrgr.best_params)"
   ]
  },
  {
   "cell_type": "code",
   "execution_count": 23,
   "metadata": {},
   "outputs": [
    {
     "name": "stderr",
     "output_type": "stream",
     "text": [
      "[Parallel(n_jobs=1)]: Using backend SequentialBackend with 1 concurrent workers.\n"
     ]
    },
    {
     "name": "stdout",
     "output_type": "stream",
     "text": [
      "[CV] END ................................... f1: (test=0.752) total time=   8.5s\n"
     ]
    },
    {
     "name": "stderr",
     "output_type": "stream",
     "text": [
      "[Parallel(n_jobs=1)]: Done   1 out of   1 | elapsed:    8.5s remaining:    0.0s\n"
     ]
    },
    {
     "name": "stdout",
     "output_type": "stream",
     "text": [
      "[CV] END ................................... f1: (test=0.756) total time=   8.8s\n"
     ]
    },
    {
     "name": "stderr",
     "output_type": "stream",
     "text": [
      "[Parallel(n_jobs=1)]: Done   2 out of   2 | elapsed:   17.4s remaining:    0.0s\n"
     ]
    },
    {
     "name": "stdout",
     "output_type": "stream",
     "text": [
      "[CV] END ................................... f1: (test=0.757) total time=   8.8s\n"
     ]
    },
    {
     "name": "stderr",
     "output_type": "stream",
     "text": [
      "[Parallel(n_jobs=1)]: Done   3 out of   3 | elapsed:   26.3s finished\n"
     ]
    },
    {
     "data": {
      "text/html": [
       "<div>\n",
       "<style scoped>\n",
       "    .dataframe tbody tr th:only-of-type {\n",
       "        vertical-align: middle;\n",
       "    }\n",
       "\n",
       "    .dataframe tbody tr th {\n",
       "        vertical-align: top;\n",
       "    }\n",
       "\n",
       "    .dataframe thead th {\n",
       "        text-align: right;\n",
       "    }\n",
       "</style>\n",
       "<table border=\"1\" class=\"dataframe\">\n",
       "  <thead>\n",
       "    <tr style=\"text-align: right;\">\n",
       "      <th></th>\n",
       "      <th>f1</th>\n",
       "    </tr>\n",
       "  </thead>\n",
       "  <tbody>\n",
       "    <tr>\n",
       "      <th>LogisticRegression_Tuned_CV</th>\n",
       "      <td>0.754935</td>\n",
       "    </tr>\n",
       "    <tr>\n",
       "      <th>LogisticRegression_Base_CV</th>\n",
       "      <td>0.738075</td>\n",
       "    </tr>\n",
       "  </tbody>\n",
       "</table>\n",
       "</div>"
      ],
      "text/plain": [
       "                                   f1\n",
       "LogisticRegression_Tuned_CV  0.754935\n",
       "LogisticRegression_Base_CV   0.738075"
      ]
     },
     "execution_count": 23,
     "metadata": {},
     "output_type": "execute_result"
    }
   ],
   "source": [
    "lr_tuned_cv_pipeline = Pipeline([('tfidf', TfidfVectorizer(stop_words=nltk_stopwords.words('english'))),\n",
    "                                 ('clf', LogisticRegression(**lr_params, random_state=RND_ST))])\n",
    "\n",
    "LogRgr_tuned_score = cross_validate(lr_tuned_cv_pipeline,\n",
    "                                    corpus_trn,\n",
    "                                    y_train,\n",
    "                                    scoring=['f1'],\n",
    "                                    cv=kf,\n",
    "                                    verbose=3)\n",
    "\n",
    "LogRgr_tuned_CV = pd.DataFrame(\n",
    "    data=[LogRgr_tuned_score['test_f1'].mean()],\n",
    "    columns=['f1'],\n",
    "    index=['LogisticRegression_Tuned_CV']\n",
    ")\n",
    "\n",
    "pd.concat([LogRgr_base_CV, LogRgr_tuned_CV]).sort_values('f1', ascending=False)"
   ]
  },
  {
   "cell_type": "markdown",
   "metadata": {},
   "source": [
    "Следующим шагом подберем оптимальный порог классификации."
   ]
  },
  {
   "cell_type": "code",
   "execution_count": 24,
   "metadata": {},
   "outputs": [],
   "source": [
    "X_trn, X_val, y_trn, y_val = train_test_split(\n",
    "    corpus_trn, y_train, test_size=.25, random_state=RND_ST\n",
    ")\n",
    "    \n",
    "X_trn_vect = count_tf_idf.fit_transform(X_trn)\n",
    "X_val_vect = count_tf_idf.transform(X_val)\n",
    "\n",
    "lr_model_tuned = LogisticRegression(**lr_params, random_state=RND_ST)\n",
    "lr_model_tuned.fit(X_trn_vect, y_trn)\n",
    "lr_tuned_probs = lr_model_tuned.predict_proba(X_val_vect)\n",
    "\n",
    "precision, recall, thresholds = precision_recall_curve(\n",
    "    y_val, lr_tuned_probs[:, 1], pos_label=1\n",
    ")\n",
    "f1_metric = (2*precision*recall/(precision+recall))"
   ]
  },
  {
   "cell_type": "code",
   "execution_count": 27,
   "metadata": {},
   "outputs": [
    {
     "data": {
      "image/png": "[encoded data removed]",
      "text/plain": [
       "<Figure size 700x500 with 1 Axes>"
      ]
     },
     "metadata": {},
     "output_type": "display_data"
    }
   ],
   "source": [
    "fig, ax = plt.subplots(figsize=(7, 5))\n",
    "ax.set_title('Linear Regression / Precision-Recall vs Threshold Chart')\n",
    "plt.plot(thresholds, precision[: -1], 'b--', label='Precision', lw=.5)\n",
    "plt.plot(thresholds, recall[: -1], 'y--', label='Recall', lw=.5)\n",
    "plt.plot(thresholds, f1_metric[: -1], 'r', label='f1', lw=1)\n",
    "plt.plot(thresholds[np.argmax(f1_metric)], max(f1_metric), 'ro--', lw=4)\n",
    "ax.set_ylabel('Precision, Recall')\n",
    "ax.set_xlabel('Threshold')\n",
    "ax.legend(loc='lower left')\n",
    "ax.set_ylim([0,1])\n",
    "plt.show()"
   ]
  },
  {
   "cell_type": "code",
   "execution_count": 28,
   "metadata": {},
   "outputs": [
    {
     "name": "stdout",
     "output_type": "stream",
     "text": [
      "оптимальный порог:\t 0.6841345207007576 \n",
      "значение f1:\t\t 0.7708951317396615\n"
     ]
    }
   ],
   "source": [
    "lr_opt_thrsh = thresholds[np.argmax(f1_metric)]\n",
    "print('оптимальный порог:\\t', lr_opt_thrsh, '\\nзначение f1:\\t\\t', max(f1_metric))"
   ]
  },
  {
   "cell_type": "markdown",
   "metadata": {},
   "source": [
    "**ВЫВОД** для модели `LogisticRegression` найдены оптимальные гиперпараметры:\n",
    "- коэфф. C (Inverse of regularization strength) = 10.234\n",
    "- порог классификации 0.684"
   ]
  },
  {
   "cell_type": "markdown",
   "metadata": {},
   "source": [
    "### CatBoost Classifier"
   ]
  },
  {
   "cell_type": "markdown",
   "metadata": {},
   "source": [
    "Тестируем базовую модель - задаем минимальные параметры, замеряем метрику `f1` на кроссвалидации"
   ]
  },
  {
   "cell_type": "code",
   "execution_count": 29,
   "metadata": {},
   "outputs": [],
   "source": [
    "cbc_params = {'loss_function': 'Logloss',\n",
    "              'auto_class_weights' :'Balanced', # обязательно указываем т.к. есть дисбаланс классов\n",
    "              'verbose': 0}"
   ]
  },
  {
   "cell_type": "code",
   "execution_count": 30,
   "metadata": {},
   "outputs": [
    {
     "name": "stderr",
     "output_type": "stream",
     "text": [
      "[Parallel(n_jobs=1)]: Using backend SequentialBackend with 1 concurrent workers.\n"
     ]
    },
    {
     "name": "stdout",
     "output_type": "stream",
     "text": [
      "[CV] END ................................... f1: (test=0.745) total time=19.3min\n"
     ]
    },
    {
     "name": "stderr",
     "output_type": "stream",
     "text": [
      "[Parallel(n_jobs=1)]: Done   1 out of   1 | elapsed: 19.3min remaining:    0.0s\n"
     ]
    },
    {
     "name": "stdout",
     "output_type": "stream",
     "text": [
      "[CV] END ................................... f1: (test=0.748) total time=19.4min\n"
     ]
    },
    {
     "name": "stderr",
     "output_type": "stream",
     "text": [
      "[Parallel(n_jobs=1)]: Done   2 out of   2 | elapsed: 38.7min remaining:    0.0s\n"
     ]
    },
    {
     "name": "stdout",
     "output_type": "stream",
     "text": [
      "[CV] END ................................... f1: (test=0.750) total time=19.6min\n"
     ]
    },
    {
     "name": "stderr",
     "output_type": "stream",
     "text": [
      "[Parallel(n_jobs=1)]: Done   3 out of   3 | elapsed: 58.3min finished\n"
     ]
    }
   ],
   "source": [
    "cbc_cv_pipeline = Pipeline([('tfidf', TfidfVectorizer(stop_words=nltk_stopwords.words('english'))),\n",
    "                            ('clf', CatBoostClassifier(**cbc_params, random_state=RND_ST))])\n",
    "\n",
    "CBC_score = cross_validate(cbc_cv_pipeline,\n",
    "                           corpus_trn,\n",
    "                           y_train,\n",
    "                           scoring=['f1'],\n",
    "                           cv=kf,\n",
    "                           verbose=3)"
   ]
  },
  {
   "cell_type": "code",
   "execution_count": 31,
   "metadata": {},
   "outputs": [
    {
     "data": {
      "text/html": [
       "<div>\n",
       "<style scoped>\n",
       "    .dataframe tbody tr th:only-of-type {\n",
       "        vertical-align: middle;\n",
       "    }\n",
       "\n",
       "    .dataframe tbody tr th {\n",
       "        vertical-align: top;\n",
       "    }\n",
       "\n",
       "    .dataframe thead th {\n",
       "        text-align: right;\n",
       "    }\n",
       "</style>\n",
       "<table border=\"1\" class=\"dataframe\">\n",
       "  <thead>\n",
       "    <tr style=\"text-align: right;\">\n",
       "      <th></th>\n",
       "      <th>f1</th>\n",
       "    </tr>\n",
       "  </thead>\n",
       "  <tbody>\n",
       "    <tr>\n",
       "      <th>CatBoost_Base_CV</th>\n",
       "      <td>0.747606</td>\n",
       "    </tr>\n",
       "  </tbody>\n",
       "</table>\n",
       "</div>"
      ],
      "text/plain": [
       "                        f1\n",
       "CatBoost_Base_CV  0.747606"
      ]
     },
     "execution_count": 31,
     "metadata": {},
     "output_type": "execute_result"
    }
   ],
   "source": [
    "CBC_base_CV = pd.DataFrame(\n",
    "    data=[CBC_score['test_f1'].mean()],\n",
    "    columns=['f1'],\n",
    "    index=['CatBoost_Base_CV']\n",
    ")\n",
    "CBC_base_CV"
   ]
  },
  {
   "cell_type": "markdown",
   "metadata": {},
   "source": [
    "Модель \"из коробки\" показала неплохую метрику. Переходим к оптимизации. Аналогично - воспользуемся `optuna`."
   ]
  },
  {
   "cell_type": "markdown",
   "metadata": {},
   "source": [
    "<div class=\"alert alert-info\"> <b>Комментарий</b>\n",
    "\n",
    "1. Поиск оптимальных гиперпараметров производим на 7% тренировочных данных. Это минимум, который приводит к результатам, сравнимым с полным тренировочным объемом данных. Причина - мало памяти.\n",
    "\n",
    "2. Поскольку мы \n",
    "    берем только 7% от тренировочных данных для оптимизации, то придется их \"отрезать\" от уже векторизированных признаков. Иначе у нас меняется число признаков. Пусть метрики на оптимизации у нас не совсем достоверные, но нам важен сам факт при каких параметрах они максимальны и нам важно сохранить структуру данных - в нашем случае число признаков.\n",
    "    \n",
    "</div>"
   ]
  },
  {
   "cell_type": "markdown",
   "metadata": {},
   "source": [
    "Для подготовки \"урезанного\" объема данных воспользуемся `train_test_split`, чтоб не нарушить баланс классов."
   ]
  },
  {
   "cell_type": "code",
   "execution_count": 32,
   "metadata": {},
   "outputs": [],
   "source": [
    "X_2del, opt_fch, y_2del, opt_y = train_test_split(\n",
    "    fch_trn, y_train, test_size=.07, random_state=RND_ST\n",
    ")\n",
    "del X_2del\n",
    "del y_2del"
   ]
  },
  {
   "cell_type": "code",
   "execution_count": 33,
   "metadata": {},
   "outputs": [
    {
     "data": {
      "text/plain": [
       "((8294, 131213), (8294,))"
      ]
     },
     "execution_count": 33,
     "metadata": {},
     "output_type": "execute_result"
    }
   ],
   "source": [
    "opt_fch.shape, opt_y.shape"
   ]
  },
  {
   "cell_type": "markdown",
   "metadata": {},
   "source": [
    "Проверяем, что баланс классов не изменился"
   ]
  },
  {
   "cell_type": "code",
   "execution_count": 34,
   "metadata": {},
   "outputs": [
    {
     "data": {
      "text/html": [
       "<div>\n",
       "<style scoped>\n",
       "    .dataframe tbody tr th:only-of-type {\n",
       "        vertical-align: middle;\n",
       "    }\n",
       "\n",
       "    .dataframe tbody tr th {\n",
       "        vertical-align: top;\n",
       "    }\n",
       "\n",
       "    .dataframe thead th {\n",
       "        text-align: right;\n",
       "    }\n",
       "</style>\n",
       "<table border=\"1\" class=\"dataframe\">\n",
       "  <thead>\n",
       "    <tr style=\"text-align: right;\">\n",
       "      <th></th>\n",
       "      <th>toxic</th>\n",
       "      <th>percent</th>\n",
       "    </tr>\n",
       "  </thead>\n",
       "  <tbody>\n",
       "    <tr>\n",
       "      <th>0</th>\n",
       "      <td>7497</td>\n",
       "      <td>90.0</td>\n",
       "    </tr>\n",
       "    <tr>\n",
       "      <th>1</th>\n",
       "      <td>797</td>\n",
       "      <td>10.0</td>\n",
       "    </tr>\n",
       "  </tbody>\n",
       "</table>\n",
       "</div>"
      ],
      "text/plain": [
       "   toxic  percent\n",
       "0   7497     90.0\n",
       "1    797     10.0"
      ]
     },
     "execution_count": 34,
     "metadata": {},
     "output_type": "execute_result"
    }
   ],
   "source": [
    "(\n",
    "    opt_y.value_counts().to_frame()\n",
    "    .assign(percent = lambda x: round(x / x['toxic'].sum()*100) )\n",
    ")"
   ]
  },
  {
   "cell_type": "code",
   "execution_count": 35,
   "metadata": {},
   "outputs": [],
   "source": [
    "def objective_CBC(trial, features=opt_fch, target=opt_y):\n",
    "    \n",
    "    X_trn, X_val, y_trn, y_val = train_test_split(\n",
    "        features, target, test_size=.15, random_state=RND_ST\n",
    "    )\n",
    "    params = {'max_depth': trial.suggest_int('max_depth', 5, 5),\n",
    "              'learning_rate': trial.suggest_float('learning_rate', .248, .249),\n",
    "              'n_estimators': trial.suggest_int('n_estimators', 1810, 1820),\n",
    "              'loss_function': 'Logloss',\n",
    "              'auto_class_weights': 'Balanced',\n",
    "              'eval_metric': 'F1'\n",
    "             }\n",
    "    model = CatBoostClassifier(**params, random_state=RND_ST)\n",
    "    model.fit(X_trn,\n",
    "              y_trn,\n",
    "              eval_set=[(X_val, y_val)],\n",
    "              early_stopping_rounds=100,\n",
    "              verbose=False)\n",
    "    \n",
    "    return model.get_best_score()['validation']['F1']"
   ]
  },
  {
   "cell_type": "code",
   "execution_count": 36,
   "metadata": {},
   "outputs": [
    {
     "name": "stderr",
     "output_type": "stream",
     "text": [
      "\u001b[32m[I 2023-04-03 23:29:52,378]\u001b[0m A new study created in memory with name: CatBoostClassifier\u001b[0m\n",
      "\u001b[32m[I 2023-04-03 23:30:16,603]\u001b[0m Trial 0 finished with value: 0.7405960753366986 and parameters: {'max_depth': 5, 'learning_rate': 0.24813295308926242, 'n_estimators': 1818}. Best is trial 0 with value: 0.7405960753366986.\u001b[0m\n",
      "\u001b[32m[I 2023-04-03 23:30:46,763]\u001b[0m Trial 1 finished with value: 0.7522487940820738 and parameters: {'max_depth': 5, 'learning_rate': 0.24845760459070187, 'n_estimators': 1819}. Best is trial 1 with value: 0.7522487940820738.\u001b[0m\n",
      "\u001b[32m[I 2023-04-03 23:31:10,824]\u001b[0m Trial 2 finished with value: 0.7410311273259157 and parameters: {'max_depth': 5, 'learning_rate': 0.24805878786216004, 'n_estimators': 1816}. Best is trial 1 with value: 0.7522487940820738.\u001b[0m\n",
      "\u001b[32m[I 2023-04-03 23:31:33,273]\u001b[0m Trial 3 finished with value: 0.7461101057878927 and parameters: {'max_depth': 5, 'learning_rate': 0.2489257604545779, 'n_estimators': 1812}. Best is trial 1 with value: 0.7522487940820738.\u001b[0m\n",
      "\u001b[32m[I 2023-04-03 23:31:55,449]\u001b[0m Trial 4 finished with value: 0.7461101057878927 and parameters: {'max_depth': 5, 'learning_rate': 0.24887567788782597, 'n_estimators': 1818}. Best is trial 1 with value: 0.7522487940820738.\u001b[0m\n",
      "\u001b[32m[I 2023-04-03 23:32:16,689]\u001b[0m Trial 5 finished with value: 0.7452413194805234 and parameters: {'max_depth': 5, 'learning_rate': 0.24828682263673724, 'n_estimators': 1812}. Best is trial 1 with value: 0.7522487940820738.\u001b[0m\n",
      "\u001b[32m[I 2023-04-03 23:32:43,877]\u001b[0m Trial 6 finished with value: 0.750044843473528 and parameters: {'max_depth': 5, 'learning_rate': 0.24871486918672545, 'n_estimators': 1815}. Best is trial 1 with value: 0.7522487940820738.\u001b[0m\n",
      "\u001b[32m[I 2023-04-03 23:33:05,681]\u001b[0m Trial 7 finished with value: 0.7461101057878927 and parameters: {'max_depth': 5, 'learning_rate': 0.24883955632823937, 'n_estimators': 1820}. Best is trial 1 with value: 0.7522487940820738.\u001b[0m\n",
      "\u001b[32m[I 2023-04-03 23:33:27,278]\u001b[0m Trial 8 finished with value: 0.7461101057878927 and parameters: {'max_depth': 5, 'learning_rate': 0.24878865465184014, 'n_estimators': 1817}. Best is trial 1 with value: 0.7522487940820738.\u001b[0m\n",
      "\u001b[32m[I 2023-04-03 23:33:50,949]\u001b[0m Trial 9 finished with value: 0.7410311273259157 and parameters: {'max_depth': 5, 'learning_rate': 0.24806701363675487, 'n_estimators': 1813}. Best is trial 1 with value: 0.7522487940820738.\u001b[0m\n"
     ]
    }
   ],
   "source": [
    "study_cbc = optuna.create_study(direction='maximize', study_name='CatBoostClassifier')\n",
    "study_cbc.optimize(objective_CBC, n_trials=10)"
   ]
  },
  {
   "cell_type": "code",
   "execution_count": 37,
   "metadata": {},
   "outputs": [
    {
     "name": "stdout",
     "output_type": "stream",
     "text": [
      "parameters:\t {'max_depth': 5, 'learning_rate': 0.24845760459070187, 'n_estimators': 1819}\n",
      "best f1:\t 0.7522\n"
     ]
    }
   ],
   "source": [
    "print(f'parameters:\\t {study_cbc.best_params}')\n",
    "print(f'best f1:\\t {str(study_cbc.best_value)[:6]}')"
   ]
  },
  {
   "cell_type": "markdown",
   "metadata": {},
   "source": [
    "Дополняем словарь параметров найденными значениями, снова замеряем метрику `f1` на кроссвалидации"
   ]
  },
  {
   "cell_type": "code",
   "execution_count": 38,
   "metadata": {},
   "outputs": [],
   "source": [
    "cbc_params.update(study_cbc.best_params)"
   ]
  },
  {
   "cell_type": "code",
   "execution_count": 39,
   "metadata": {
    "scrolled": true
   },
   "outputs": [
    {
     "data": {
      "text/plain": [
       "{'loss_function': 'Logloss',\n",
       " 'auto_class_weights': 'Balanced',\n",
       " 'verbose': 0,\n",
       " 'max_depth': 5,\n",
       " 'learning_rate': 0.24845760459070187,\n",
       " 'n_estimators': 1819}"
      ]
     },
     "execution_count": 39,
     "metadata": {},
     "output_type": "execute_result"
    }
   ],
   "source": [
    "cbc_params"
   ]
  },
  {
   "cell_type": "code",
   "execution_count": 41,
   "metadata": {},
   "outputs": [
    {
     "name": "stderr",
     "output_type": "stream",
     "text": [
      "[Parallel(n_jobs=1)]: Using backend SequentialBackend with 1 concurrent workers.\n"
     ]
    },
    {
     "name": "stdout",
     "output_type": "stream",
     "text": [
      "[CV] END ................................... f1: (test=0.765) total time=22.6min\n"
     ]
    },
    {
     "name": "stderr",
     "output_type": "stream",
     "text": [
      "[Parallel(n_jobs=1)]: Done   1 out of   1 | elapsed: 22.6min remaining:    0.0s\n"
     ]
    },
    {
     "name": "stdout",
     "output_type": "stream",
     "text": [
      "[CV] END ................................... f1: (test=0.770) total time=22.7min\n"
     ]
    },
    {
     "name": "stderr",
     "output_type": "stream",
     "text": [
      "[Parallel(n_jobs=1)]: Done   2 out of   2 | elapsed: 45.3min remaining:    0.0s\n"
     ]
    },
    {
     "name": "stdout",
     "output_type": "stream",
     "text": [
      "[CV] END ................................... f1: (test=0.766) total time=22.5min\n"
     ]
    },
    {
     "name": "stderr",
     "output_type": "stream",
     "text": [
      "[Parallel(n_jobs=1)]: Done   3 out of   3 | elapsed: 67.8min finished\n"
     ]
    }
   ],
   "source": [
    "cbc_cv_pipeline = Pipeline([('tfidf', TfidfVectorizer(stop_words=nltk_stopwords.words('english'))),\n",
    "                            ('clf', CatBoostClassifier(**cbc_params, random_state=RND_ST))])\n",
    "\n",
    "CBC_score = cross_validate(cbc_cv_pipeline,\n",
    "                           corpus_trn,\n",
    "                           y_train,\n",
    "                           scoring=['f1'],\n",
    "                           cv=kf,\n",
    "                           verbose=3)"
   ]
  },
  {
   "cell_type": "code",
   "execution_count": 42,
   "metadata": {},
   "outputs": [
    {
     "data": {
      "text/html": [
       "<div>\n",
       "<style scoped>\n",
       "    .dataframe tbody tr th:only-of-type {\n",
       "        vertical-align: middle;\n",
       "    }\n",
       "\n",
       "    .dataframe tbody tr th {\n",
       "        vertical-align: top;\n",
       "    }\n",
       "\n",
       "    .dataframe thead th {\n",
       "        text-align: right;\n",
       "    }\n",
       "</style>\n",
       "<table border=\"1\" class=\"dataframe\">\n",
       "  <thead>\n",
       "    <tr style=\"text-align: right;\">\n",
       "      <th></th>\n",
       "      <th>f1</th>\n",
       "    </tr>\n",
       "  </thead>\n",
       "  <tbody>\n",
       "    <tr>\n",
       "      <th>CatBoost_Tuned_CV</th>\n",
       "      <td>0.767093</td>\n",
       "    </tr>\n",
       "    <tr>\n",
       "      <th>CatBoost_Base_CV</th>\n",
       "      <td>0.747606</td>\n",
       "    </tr>\n",
       "  </tbody>\n",
       "</table>\n",
       "</div>"
      ],
      "text/plain": [
       "                         f1\n",
       "CatBoost_Tuned_CV  0.767093\n",
       "CatBoost_Base_CV   0.747606"
      ]
     },
     "execution_count": 42,
     "metadata": {},
     "output_type": "execute_result"
    }
   ],
   "source": [
    "CBC_tuned_CV = pd.DataFrame(\n",
    "    data=[CBC_score['test_f1'].mean()],\n",
    "    columns=['f1'],\n",
    "    index=['CatBoost_Tuned_CV']\n",
    ")\n",
    "\n",
    "pd.concat(\n",
    "    [CBC_base_CV, CBC_tuned_CV]\n",
    ").sort_values(\n",
    "    'f1', ascending=False\n",
    ")"
   ]
  },
  {
   "cell_type": "markdown",
   "metadata": {},
   "source": [
    "Метрика улучшилась. Найдем оптимальный порог классификации."
   ]
  },
  {
   "cell_type": "code",
   "execution_count": 43,
   "metadata": {},
   "outputs": [
    {
     "data": {
      "text/plain": [
       "<catboost.core.CatBoostClassifier at 0x1ff05282f70>"
      ]
     },
     "execution_count": 43,
     "metadata": {},
     "output_type": "execute_result"
    }
   ],
   "source": [
    "CBC_model_tuned = CatBoostClassifier(**cbc_params, random_state=RND_ST)\n",
    "CBC_model_tuned.fit(X_trn_vect, y_trn)"
   ]
  },
  {
   "cell_type": "code",
   "execution_count": 44,
   "metadata": {},
   "outputs": [],
   "source": [
    "cbc_tuned_probs = CBC_model_tuned.predict_proba(X_val_vect)\n",
    "precision, recall, thresholds = precision_recall_curve(y_val, cbc_tuned_probs[:, 1], pos_label=1)\n",
    "f1_metric = (2*precision*recall/(precision+recall))"
   ]
  },
  {
   "cell_type": "code",
   "execution_count": 46,
   "metadata": {},
   "outputs": [
    {
     "data": {
      "image/png": "[encoded data removed]",
      "text/plain": [
       "<Figure size 700x500 with 1 Axes>"
      ]
     },
     "metadata": {},
     "output_type": "display_data"
    }
   ],
   "source": [
    "fig, ax = plt.subplots(figsize=(7, 5))\n",
    "ax.set_title('CatBoost Classifier / Precision-Recall vs Threshold Chart')\n",
    "plt.plot(thresholds, precision[: -1], 'b--', label='Precision', lw=.5)\n",
    "plt.plot(thresholds, recall[: -1], 'y--', label='Recall', lw=.5)\n",
    "plt.plot(thresholds, f1_metric[: -1], 'r', label='f1', lw=1)\n",
    "plt.plot(thresholds[np.argmax(f1_metric)], max(f1_metric), 'ro--', lw=4)\n",
    "ax.set_ylabel('Precision, Recall')\n",
    "ax.set_xlabel('Threshold')\n",
    "ax.legend(loc='lower left')\n",
    "ax.set_ylim([0,1])\n",
    "plt.show()"
   ]
  },
  {
   "cell_type": "code",
   "execution_count": 47,
   "metadata": {},
   "outputs": [
    {
     "name": "stdout",
     "output_type": "stream",
     "text": [
      "оптимальный порог:\t 0.605299255375573 \n",
      "значение f1:\t\t 0.7771467905696094\n"
     ]
    }
   ],
   "source": [
    "cbc_opt_thrsh = thresholds[np.argmax(f1_metric)]\n",
    "print('оптимальный порог:\\t', cbc_opt_thrsh, '\\nзначение f1:\\t\\t', max(f1_metric))"
   ]
  },
  {
   "cell_type": "markdown",
   "metadata": {},
   "source": [
    "## Тестирование моделей"
   ]
  },
  {
   "cell_type": "markdown",
   "metadata": {},
   "source": [
    "Выведем гиперпараметры наших моделей:"
   ]
  },
  {
   "cell_type": "code",
   "execution_count": 48,
   "metadata": {},
   "outputs": [
    {
     "data": {
      "text/plain": [
       "{'multi_class': 'ovr',\n",
       " 'class_weight': 'balanced',\n",
       " 'solver': 'liblinear',\n",
       " 'C': 10.234333982639503}"
      ]
     },
     "execution_count": 48,
     "metadata": {},
     "output_type": "execute_result"
    }
   ],
   "source": [
    "lr_params"
   ]
  },
  {
   "cell_type": "code",
   "execution_count": 49,
   "metadata": {},
   "outputs": [
    {
     "data": {
      "text/plain": [
       "{'loss_function': 'Logloss',\n",
       " 'auto_class_weights': 'Balanced',\n",
       " 'verbose': 0,\n",
       " 'max_depth': 5,\n",
       " 'learning_rate': 0.24845760459070187,\n",
       " 'n_estimators': 1819}"
      ]
     },
     "execution_count": 49,
     "metadata": {},
     "output_type": "execute_result"
    }
   ],
   "source": [
    "cbc_params"
   ]
  },
  {
   "cell_type": "markdown",
   "metadata": {},
   "source": [
    "### Logistic Regression"
   ]
  },
  {
   "cell_type": "markdown",
   "metadata": {},
   "source": [
    "Обучаем на всех тренировочных данных, замеряем метрику `f1` на тестовых данных."
   ]
  },
  {
   "cell_type": "code",
   "execution_count": 50,
   "metadata": {},
   "outputs": [],
   "source": [
    "lr_model_tuned.fit(fch_trn, y_train)\n",
    "lr_probes = lr_model_tuned.predict_proba(fch_tst)\n",
    "lr_preds = np.where(lr_probes[:, 1]<=lr_opt_thrsh, 0, 1)"
   ]
  },
  {
   "cell_type": "code",
   "execution_count": 51,
   "metadata": {},
   "outputs": [
    {
     "data": {
      "text/html": [
       "<div>\n",
       "<style scoped>\n",
       "    .dataframe tbody tr th:only-of-type {\n",
       "        vertical-align: middle;\n",
       "    }\n",
       "\n",
       "    .dataframe tbody tr th {\n",
       "        vertical-align: top;\n",
       "    }\n",
       "\n",
       "    .dataframe thead th {\n",
       "        text-align: right;\n",
       "    }\n",
       "</style>\n",
       "<table border=\"1\" class=\"dataframe\">\n",
       "  <thead>\n",
       "    <tr style=\"text-align: right;\">\n",
       "      <th></th>\n",
       "      <th>F1</th>\n",
       "      <th>AUC</th>\n",
       "      <th>Accuracy</th>\n",
       "      <th>Precision</th>\n",
       "      <th>Recall</th>\n",
       "    </tr>\n",
       "  </thead>\n",
       "  <tbody>\n",
       "    <tr>\n",
       "      <th>Logistic Regression (Test)</th>\n",
       "      <td>0.780463</td>\n",
       "      <td>0.966003</td>\n",
       "      <td>0.955615</td>\n",
       "      <td>0.791064</td>\n",
       "      <td>0.770143</td>\n",
       "    </tr>\n",
       "  </tbody>\n",
       "</table>\n",
       "</div>"
      ],
      "text/plain": [
       "                                  F1       AUC  Accuracy  Precision    Recall\n",
       "Logistic Regression (Test)  0.780463  0.966003  0.955615   0.791064  0.770143"
      ]
     },
     "execution_count": 51,
     "metadata": {},
     "output_type": "execute_result"
    }
   ],
   "source": [
    "LogRegr_metrics_test = pd.DataFrame(data=[[f1_score(y_test, lr_preds),\n",
    "                                           roc_auc_score(y_test, lr_probes[:, 1]),\n",
    "                                           accuracy_score(y_test, lr_preds),\n",
    "                                           precision_score(y_test, lr_preds),\n",
    "                                           recall_score(y_test, lr_preds)]],\n",
    "                                    columns=['F1', 'AUC', 'Accuracy', 'Precision', 'Recall'],\n",
    "                                    index=['Logistic Regression (Test)'])\n",
    "LogRegr_metrics_test"
   ]
  },
  {
   "cell_type": "markdown",
   "metadata": {},
   "source": [
    "### CatBoost Classifier"
   ]
  },
  {
   "cell_type": "markdown",
   "metadata": {},
   "source": [
    "Обучаем на всех тренировочных данных, замеряем метрику `f1` на тестовых данных."
   ]
  },
  {
   "cell_type": "code",
   "execution_count": 52,
   "metadata": {},
   "outputs": [
    {
     "name": "stdout",
     "output_type": "stream",
     "text": [
      "0:\tlearn: 0.6074261\ttotal: 1.1s\tremaining: 33m 17s\n",
      "72:\tlearn: 0.3247649\ttotal: 1m 6s\tremaining: 26m 40s\n",
      "144:\tlearn: 0.2709508\ttotal: 2m 10s\tremaining: 25m 7s\n",
      "216:\tlearn: 0.2413000\ttotal: 3m 13s\tremaining: 23m 51s\n",
      "288:\tlearn: 0.2201987\ttotal: 4m 17s\tremaining: 22m 40s\n",
      "360:\tlearn: 0.2039800\ttotal: 5m 20s\tremaining: 21m 33s\n",
      "432:\tlearn: 0.1917298\ttotal: 6m 23s\tremaining: 20m 26s\n",
      "504:\tlearn: 0.1802728\ttotal: 7m 26s\tremaining: 19m 20s\n",
      "576:\tlearn: 0.1693218\ttotal: 8m 29s\tremaining: 18m 16s\n",
      "648:\tlearn: 0.1608613\ttotal: 9m 32s\tremaining: 17m 11s\n",
      "720:\tlearn: 0.1530447\ttotal: 10m 34s\tremaining: 16m 6s\n",
      "792:\tlearn: 0.1457099\ttotal: 11m 37s\tremaining: 15m 2s\n",
      "864:\tlearn: 0.1388674\ttotal: 12m 40s\tremaining: 13m 58s\n",
      "936:\tlearn: 0.1329175\ttotal: 13m 42s\tremaining: 12m 54s\n",
      "1008:\tlearn: 0.1268025\ttotal: 14m 45s\tremaining: 11m 50s\n",
      "1080:\tlearn: 0.1216654\ttotal: 15m 47s\tremaining: 10m 46s\n",
      "1152:\tlearn: 0.1171096\ttotal: 16m 49s\tremaining: 9m 43s\n",
      "1224:\tlearn: 0.1129160\ttotal: 17m 51s\tremaining: 8m 39s\n",
      "1296:\tlearn: 0.1087322\ttotal: 18m 54s\tremaining: 7m 36s\n",
      "1368:\tlearn: 0.1048672\ttotal: 19m 56s\tremaining: 6m 33s\n",
      "1440:\tlearn: 0.1019652\ttotal: 20m 58s\tremaining: 5m 30s\n",
      "1512:\tlearn: 0.0993980\ttotal: 22m 1s\tremaining: 4m 27s\n",
      "1584:\tlearn: 0.0967075\ttotal: 23m 3s\tremaining: 3m 24s\n",
      "1656:\tlearn: 0.0942162\ttotal: 24m 5s\tremaining: 2m 21s\n",
      "1728:\tlearn: 0.0919367\ttotal: 25m 7s\tremaining: 1m 18s\n",
      "1800:\tlearn: 0.0895195\ttotal: 26m 9s\tremaining: 15.7s\n",
      "1818:\tlearn: 0.0890490\ttotal: 26m 24s\tremaining: 0us\n"
     ]
    },
    {
     "data": {
      "text/plain": [
       "<catboost.core.CatBoostClassifier at 0x1ff04a18280>"
      ]
     },
     "execution_count": 52,
     "metadata": {},
     "output_type": "execute_result"
    }
   ],
   "source": [
    "CBC_model = CatBoostClassifier(**cbc_params, random_state=RND_ST)\n",
    "CBC_model.fit( Pool(data=fch_trn, label=y_train), verbose=cbc_params['n_estimators']//25 )"
   ]
  },
  {
   "cell_type": "code",
   "execution_count": 53,
   "metadata": {},
   "outputs": [],
   "source": [
    "cbc_probes = CBC_model.predict_proba(fch_tst)\n",
    "cbc_preds = np.where(cbc_probes[:, 1]<=cbc_opt_thrsh, 0, 1)"
   ]
  },
  {
   "cell_type": "code",
   "execution_count": 54,
   "metadata": {},
   "outputs": [
    {
     "data": {
      "text/html": [
       "<div>\n",
       "<style scoped>\n",
       "    .dataframe tbody tr th:only-of-type {\n",
       "        vertical-align: middle;\n",
       "    }\n",
       "\n",
       "    .dataframe tbody tr th {\n",
       "        vertical-align: top;\n",
       "    }\n",
       "\n",
       "    .dataframe thead th {\n",
       "        text-align: right;\n",
       "    }\n",
       "</style>\n",
       "<table border=\"1\" class=\"dataframe\">\n",
       "  <thead>\n",
       "    <tr style=\"text-align: right;\">\n",
       "      <th></th>\n",
       "      <th>F1</th>\n",
       "      <th>AUC</th>\n",
       "      <th>Accuracy</th>\n",
       "      <th>Precision</th>\n",
       "      <th>Recall</th>\n",
       "    </tr>\n",
       "  </thead>\n",
       "  <tbody>\n",
       "    <tr>\n",
       "      <th>CatBoost Classifier (Test)</th>\n",
       "      <td>0.78248</td>\n",
       "      <td>0.965615</td>\n",
       "      <td>0.955488</td>\n",
       "      <td>0.783449</td>\n",
       "      <td>0.781513</td>\n",
       "    </tr>\n",
       "  </tbody>\n",
       "</table>\n",
       "</div>"
      ],
      "text/plain": [
       "                                 F1       AUC  Accuracy  Precision    Recall\n",
       "CatBoost Classifier (Test)  0.78248  0.965615  0.955488   0.783449  0.781513"
      ]
     },
     "execution_count": 54,
     "metadata": {},
     "output_type": "execute_result"
    }
   ],
   "source": [
    "CBC_metrics_test = pd.DataFrame(data=[[f1_score(y_test, cbc_preds),\n",
    "                                       roc_auc_score(y_test, cbc_probes[:, 1]),\n",
    "                                       accuracy_score(y_test, cbc_preds),\n",
    "                                       precision_score(y_test, cbc_preds),\n",
    "                                       recall_score(y_test, cbc_preds)]],\n",
    "                                columns=['F1', 'AUC', 'Accuracy', 'Precision', 'Recall'],\n",
    "                                index=['CatBoost Classifier (Test)'])\n",
    "CBC_metrics_test"
   ]
  },
  {
   "cell_type": "markdown",
   "metadata": {},
   "source": [
    "### Данные тестирования"
   ]
  },
  {
   "cell_type": "code",
   "execution_count": 55,
   "metadata": {},
   "outputs": [
    {
     "data": {
      "text/html": [
       "<div>\n",
       "<style scoped>\n",
       "    .dataframe tbody tr th:only-of-type {\n",
       "        vertical-align: middle;\n",
       "    }\n",
       "\n",
       "    .dataframe tbody tr th {\n",
       "        vertical-align: top;\n",
       "    }\n",
       "\n",
       "    .dataframe thead th {\n",
       "        text-align: right;\n",
       "    }\n",
       "</style>\n",
       "<table border=\"1\" class=\"dataframe\">\n",
       "  <thead>\n",
       "    <tr style=\"text-align: right;\">\n",
       "      <th></th>\n",
       "      <th>F1</th>\n",
       "      <th>AUC</th>\n",
       "      <th>Accuracy</th>\n",
       "      <th>Precision</th>\n",
       "      <th>Recall</th>\n",
       "    </tr>\n",
       "  </thead>\n",
       "  <tbody>\n",
       "    <tr>\n",
       "      <th>CatBoost Classifier (Test)</th>\n",
       "      <td>0.782480</td>\n",
       "      <td>0.965615</td>\n",
       "      <td>0.955488</td>\n",
       "      <td>0.783449</td>\n",
       "      <td>0.781513</td>\n",
       "    </tr>\n",
       "    <tr>\n",
       "      <th>Logistic Regression (Test)</th>\n",
       "      <td>0.780463</td>\n",
       "      <td>0.966003</td>\n",
       "      <td>0.955615</td>\n",
       "      <td>0.791064</td>\n",
       "      <td>0.770143</td>\n",
       "    </tr>\n",
       "  </tbody>\n",
       "</table>\n",
       "</div>"
      ],
      "text/plain": [
       "                                  F1       AUC  Accuracy  Precision    Recall\n",
       "CatBoost Classifier (Test)  0.782480  0.965615  0.955488   0.783449  0.781513\n",
       "Logistic Regression (Test)  0.780463  0.966003  0.955615   0.791064  0.770143"
      ]
     },
     "execution_count": 55,
     "metadata": {},
     "output_type": "execute_result"
    }
   ],
   "source": [
    "pd.concat([CBC_metrics_test, LogRegr_metrics_test]).sort_values('F1', ascending=False)"
   ]
  },
  {
   "cell_type": "markdown",
   "metadata": {},
   "source": [
    "Лучшая метрика `f1` у `CatBoost`, но если сравнивать по критерию \"скорость-результат\", то логистическая регрессия мне кажется очень неплохим вариантом, причем с достаточно хорошими результатами."
   ]
  },
  {
   "cell_type": "markdown",
   "metadata": {},
   "source": [
    "## Матрица ошибок"
   ]
  },
  {
   "cell_type": "markdown",
   "metadata": {},
   "source": [
    "Для наглядности - построим матрицу ошибок для моделей"
   ]
  },
  {
   "cell_type": "code",
   "execution_count": 58,
   "metadata": {},
   "outputs": [
    {
     "data": {
      "image/png": "[encoded data removed]",
      "text/plain": [
       "<Figure size 700x300 with 2 Axes>"
      ]
     },
     "metadata": {},
     "output_type": "display_data"
    }
   ],
   "source": [
    "lr_conf_mtrx = confusion_matrix(y_test, lr_preds)\n",
    "cbc_conf_mtrx = confusion_matrix(y_test, cbc_preds)\n",
    "sns.set_theme(style='whitegrid')\n",
    "\n",
    "fig, ax = plt.subplots(1, 2, figsize=(7, 3))\n",
    "\n",
    "sns.heatmap(lr_conf_mtrx, ax=ax[0], annot=True, fmt='n', annot_kws={'fontsize':15},\n",
    "            cbar=False, linewidths=1, linecolor='darkgrey', cmap=plt.cm.Blues, center=25000)\n",
    "sns.heatmap(cbc_conf_mtrx, ax=ax[1], annot=True, fmt='n', annot_kws={'fontsize':15},\n",
    "            cbar=False, linewidths=1, linecolor='darkgrey', cmap=plt.cm.Blues, center=25000)\n",
    "\n",
    "ax[0].set_title('Матрица ошибок (Logistic Regression)', fontsize=12, y=1.05)\n",
    "ax[0].tick_params(axis='y', labelrotation=0)\n",
    "ax[0].set_xlabel('Прогноз', fontsize = 15, color='darkblue')\n",
    "ax[0].set_ylabel('Истина', fontsize = 15, color='green')\n",
    "\n",
    "ax[1].set_title('Матрица ошибок (CatBoost)', fontsize=12, y=1.05)\n",
    "ax[1].tick_params(axis='y', labelrotation=0)\n",
    "\n",
    "\n",
    "plt.show()"
   ]
  },
  {
   "cell_type": "markdown",
   "metadata": {},
   "source": [
    "Очень показательны значения FN. CatBoost пропустил чуть меньше \"токсичных\" комментариев, и соответственно `Recall` у него выше. Как мне кажется, с точки зрения бизнесс задачи это важный фактор."
   ]
  },
  {
   "cell_type": "markdown",
   "metadata": {},
   "source": [
    "## Вывод"
   ]
  },
  {
   "cell_type": "markdown",
   "metadata": {},
   "source": [
    "По целевой метрике `f1` обе модели показали результат, превышающий установленный задачей порог `.75`. На мой взгляд по ряду параметров Logistic Regression выглядит более выигрышным вариантом, чем лидер `CatBoost`, в первую очередь за простоту, скорость и в то же время высокие метрики."
   ]
  }
 ],
 "metadata": {
  "ExecuteTimeLog": [
   {
    "duration": 14026,
    "start_time": "2022-10-17T17:37:29.319Z"
   },
   {
    "duration": 1589,
    "start_time": "2022-10-17T17:37:43.348Z"
   },
   {
    "duration": 3052,
    "start_time": "2022-10-17T17:37:48.576Z"
   },
   {
    "duration": 19,
    "start_time": "2022-10-17T17:37:53.485Z"
   },
   {
    "duration": 15,
    "start_time": "2022-10-17T17:37:59.943Z"
   },
   {
    "duration": 878,
    "start_time": "2022-10-17T17:38:05.682Z"
   },
   {
    "duration": 4,
    "start_time": "2022-10-17T17:38:11.528Z"
   },
   {
    "duration": 5,
    "start_time": "2022-10-17T17:38:14.131Z"
   },
   {
    "duration": 529585,
    "start_time": "2022-10-17T17:38:17.107Z"
   },
   {
    "duration": 47,
    "start_time": "2022-10-17T17:47:29.453Z"
   },
   {
    "duration": 47,
    "start_time": "2022-10-17T17:47:31.652Z"
   },
   {
    "duration": 1983,
    "start_time": "2022-10-17T17:47:33.653Z"
   },
   {
    "duration": 9092,
    "start_time": "2022-10-17T17:47:37.451Z"
   },
   {
    "duration": 13,
    "start_time": "2022-10-17T17:47:48.800Z"
   },
   {
    "duration": 3,
    "start_time": "2022-10-17T17:48:01.285Z"
   },
   {
    "duration": 24887,
    "start_time": "2022-10-17T17:48:01.290Z"
   },
   {
    "duration": 10,
    "start_time": "2022-10-17T17:48:26.179Z"
   },
   {
    "duration": 8,
    "start_time": "2022-10-17T17:48:26.191Z"
   },
   {
    "duration": 1052787,
    "start_time": "2022-10-17T17:48:26.201Z"
   },
   {
    "duration": 3,
    "start_time": "2022-10-17T18:05:58.990Z"
   },
   {
    "duration": 58401,
    "start_time": "2022-10-17T18:05:58.995Z"
   },
   {
    "duration": 3,
    "start_time": "2022-10-17T18:06:57.398Z"
   },
   {
    "duration": 701,
    "start_time": "2022-10-17T18:06:57.404Z"
   },
   {
    "duration": 2363,
    "start_time": "2022-10-17T18:11:05.814Z"
   },
   {
    "duration": 3465,
    "start_time": "2022-10-17T18:11:08.180Z"
   },
   {
    "duration": 2867,
    "start_time": "2022-10-17T18:11:11.648Z"
   },
   {
    "duration": 37,
    "start_time": "2022-10-17T18:11:14.517Z"
   },
   {
    "duration": 22,
    "start_time": "2022-10-17T18:11:14.558Z"
   },
   {
    "duration": 507,
    "start_time": "2022-10-17T18:11:14.582Z"
   },
   {
    "duration": 5,
    "start_time": "2022-10-17T18:11:15.091Z"
   },
   {
    "duration": 25,
    "start_time": "2022-10-17T18:11:15.098Z"
   },
   {
    "duration": 81834,
    "start_time": "2022-10-17T18:11:15.126Z"
   },
   {
    "duration": 0,
    "start_time": "2022-10-17T18:12:36.966Z"
   },
   {
    "duration": 0,
    "start_time": "2022-10-17T18:12:36.968Z"
   },
   {
    "duration": 0,
    "start_time": "2022-10-17T18:12:36.970Z"
   },
   {
    "duration": 0,
    "start_time": "2022-10-17T18:12:36.971Z"
   },
   {
    "duration": 0,
    "start_time": "2022-10-17T18:12:36.973Z"
   },
   {
    "duration": 0,
    "start_time": "2022-10-17T18:12:36.974Z"
   },
   {
    "duration": 0,
    "start_time": "2022-10-17T18:12:36.976Z"
   },
   {
    "duration": 0,
    "start_time": "2022-10-17T18:12:36.977Z"
   },
   {
    "duration": 0,
    "start_time": "2022-10-17T18:12:36.978Z"
   },
   {
    "duration": 0,
    "start_time": "2022-10-17T18:12:36.979Z"
   },
   {
    "duration": 0,
    "start_time": "2022-10-17T18:12:36.981Z"
   },
   {
    "duration": 0,
    "start_time": "2022-10-17T18:12:36.982Z"
   },
   {
    "duration": 0,
    "start_time": "2022-10-17T18:12:36.983Z"
   },
   {
    "duration": 1740,
    "start_time": "2022-10-17T18:13:03.270Z"
   },
   {
    "duration": 1235,
    "start_time": "2022-10-17T18:13:05.012Z"
   },
   {
    "duration": 20,
    "start_time": "2022-10-17T18:13:12.408Z"
   },
   {
    "duration": 14,
    "start_time": "2022-10-17T18:13:14.678Z"
   },
   {
    "duration": 35,
    "start_time": "2022-10-17T18:13:17.494Z"
   },
   {
    "duration": 2547,
    "start_time": "2022-10-17T18:15:39.448Z"
   },
   {
    "duration": 11,
    "start_time": "2022-10-17T18:15:41.998Z"
   },
   {
    "duration": 1259,
    "start_time": "2022-10-17T18:15:42.011Z"
   },
   {
    "duration": 14,
    "start_time": "2022-10-17T18:15:43.273Z"
   },
   {
    "duration": 13,
    "start_time": "2022-10-17T18:15:43.290Z"
   },
   {
    "duration": 232,
    "start_time": "2022-10-17T18:15:43.305Z"
   },
   {
    "duration": 3,
    "start_time": "2022-10-17T18:15:43.539Z"
   },
   {
    "duration": 9,
    "start_time": "2022-10-17T18:15:43.544Z"
   },
   {
    "duration": 577887,
    "start_time": "2022-10-17T18:15:43.555Z"
   },
   {
    "duration": 63,
    "start_time": "2022-10-17T18:25:21.455Z"
   },
   {
    "duration": 49,
    "start_time": "2022-10-17T18:25:21.520Z"
   },
   {
    "duration": 2138,
    "start_time": "2022-10-17T18:25:21.571Z"
   },
   {
    "duration": 9298,
    "start_time": "2022-10-17T18:25:23.710Z"
   },
   {
    "duration": 11,
    "start_time": "2022-10-17T18:25:33.010Z"
   },
   {
    "duration": 222,
    "start_time": "2022-10-17T18:25:33.023Z"
   },
   {
    "duration": 7,
    "start_time": "2022-10-17T18:25:33.247Z"
   },
   {
    "duration": 36320,
    "start_time": "2022-10-17T18:25:33.256Z"
   },
   {
    "duration": 8,
    "start_time": "2022-10-17T18:26:09.578Z"
   },
   {
    "duration": 6,
    "start_time": "2022-10-17T18:26:09.588Z"
   },
   {
    "duration": 245184,
    "start_time": "2022-10-17T18:26:09.596Z"
   },
   {
    "duration": 3,
    "start_time": "2022-10-17T18:30:14.782Z"
   },
   {
    "duration": 70302,
    "start_time": "2022-10-17T18:30:14.787Z"
   },
   {
    "duration": 4,
    "start_time": "2022-10-17T18:31:41.550Z"
   },
   {
    "duration": 672,
    "start_time": "2022-10-17T18:31:45.593Z"
   },
   {
    "duration": 785491,
    "start_time": "2022-10-17T18:31:48.249Z"
   },
   {
    "duration": 11,
    "start_time": "2022-10-17T18:45:01.596Z"
   },
   {
    "duration": 38,
    "start_time": "2022-10-17T18:45:08.663Z"
   },
   {
    "duration": 5,
    "start_time": "2022-10-17T18:45:11.044Z"
   },
   {
    "duration": 14,
    "start_time": "2022-10-17T18:45:13.092Z"
   },
   {
    "duration": 5,
    "start_time": "2022-10-17T18:45:17.829Z"
   },
   {
    "duration": 9,
    "start_time": "2022-10-17T18:45:36.352Z"
   },
   {
    "duration": 319697,
    "start_time": "2022-10-17T18:45:36.364Z"
   },
   {
    "duration": 3,
    "start_time": "2022-10-17T18:50:56.064Z"
   },
   {
    "duration": 9,
    "start_time": "2022-10-17T18:50:56.070Z"
   },
   {
    "duration": 525184,
    "start_time": "2022-10-17T18:50:56.081Z"
   },
   {
    "duration": 11,
    "start_time": "2022-10-17T18:59:41.267Z"
   },
   {
    "duration": 7,
    "start_time": "2022-10-17T18:59:41.280Z"
   },
   {
    "duration": 5,
    "start_time": "2022-10-17T18:59:41.289Z"
   },
   {
    "duration": 24880,
    "start_time": "2022-10-17T18:59:41.303Z"
   },
   {
    "duration": 58,
    "start_time": "2022-10-17T19:00:06.185Z"
   },
   {
    "duration": 10,
    "start_time": "2022-10-17T19:00:06.245Z"
   },
   {
    "duration": 2752735,
    "start_time": "2022-10-17T19:00:06.258Z"
   },
   {
    "duration": 2218,
    "start_time": "2022-10-17T19:45:58.995Z"
   },
   {
    "duration": 69,
    "start_time": "2022-10-17T19:46:01.215Z"
   },
   {
    "duration": 17,
    "start_time": "2022-10-17T19:46:01.286Z"
   },
   {
    "duration": 173,
    "start_time": "2022-10-17T20:04:14.391Z"
   },
   {
    "duration": 497,
    "start_time": "2022-10-17T20:04:42.614Z"
   },
   {
    "duration": 585,
    "start_time": "2022-10-17T20:04:49.038Z"
   },
   {
    "duration": 442,
    "start_time": "2022-10-17T20:05:01.183Z"
   },
   {
    "duration": 371,
    "start_time": "2022-10-17T20:06:14.312Z"
   },
   {
    "duration": 360,
    "start_time": "2022-10-17T20:06:20.826Z"
   },
   {
    "duration": 391,
    "start_time": "2022-10-17T20:06:34.840Z"
   },
   {
    "duration": 191,
    "start_time": "2022-10-17T20:10:40.420Z"
   },
   {
    "duration": 24,
    "start_time": "2022-10-17T20:10:46.186Z"
   },
   {
    "duration": 479,
    "start_time": "2022-10-17T20:10:49.702Z"
   },
   {
    "duration": 6,
    "start_time": "2022-10-17T20:11:49.132Z"
   },
   {
    "duration": 92,
    "start_time": "2022-10-17T20:28:26.090Z"
   },
   {
    "duration": 5,
    "start_time": "2022-10-17T21:10:51.318Z"
   },
   {
    "duration": 16432,
    "start_time": "2022-10-18T15:10:43.589Z"
   },
   {
    "duration": 1902,
    "start_time": "2022-10-18T15:11:00.023Z"
   },
   {
    "duration": 2548,
    "start_time": "2022-10-18T15:11:01.927Z"
   },
   {
    "duration": 14,
    "start_time": "2022-10-18T15:11:04.477Z"
   },
   {
    "duration": 24,
    "start_time": "2022-10-18T15:11:04.499Z"
   },
   {
    "duration": 930,
    "start_time": "2022-10-18T15:11:04.524Z"
   },
   {
    "duration": 3,
    "start_time": "2022-10-18T15:11:05.457Z"
   },
   {
    "duration": 27,
    "start_time": "2022-10-18T15:11:05.462Z"
   },
   {
    "duration": 451973,
    "start_time": "2022-10-18T15:11:05.490Z"
   },
   {
    "duration": 47,
    "start_time": "2022-10-18T15:18:37.466Z"
   },
   {
    "duration": 31,
    "start_time": "2022-10-18T15:18:37.515Z"
   },
   {
    "duration": 1788,
    "start_time": "2022-10-18T15:18:37.547Z"
   },
   {
    "duration": 135,
    "start_time": "2022-10-18T15:22:41.539Z"
   },
   {
    "duration": 4,
    "start_time": "2022-10-18T15:22:49.219Z"
   },
   {
    "duration": 9,
    "start_time": "2022-10-18T15:22:59.027Z"
   },
   {
    "duration": 10,
    "start_time": "2022-10-18T15:23:10.666Z"
   },
   {
    "duration": 11,
    "start_time": "2022-10-18T15:23:59.387Z"
   },
   {
    "duration": 5,
    "start_time": "2022-10-18T15:24:30.179Z"
   },
   {
    "duration": 3,
    "start_time": "2022-10-18T15:24:37.351Z"
   },
   {
    "duration": 3,
    "start_time": "2022-10-18T15:25:42.723Z"
   },
   {
    "duration": 3,
    "start_time": "2022-10-18T15:25:59.067Z"
   },
   {
    "duration": 3,
    "start_time": "2022-10-18T15:27:29.573Z"
   },
   {
    "duration": 3,
    "start_time": "2022-10-18T15:27:55.114Z"
   },
   {
    "duration": 9,
    "start_time": "2022-10-18T15:28:58.996Z"
   },
   {
    "duration": 4,
    "start_time": "2022-10-18T15:29:11.355Z"
   },
   {
    "duration": 3,
    "start_time": "2022-10-18T15:29:21.276Z"
   },
   {
    "duration": 42,
    "start_time": "2022-10-18T15:30:12.352Z"
   },
   {
    "duration": 2008,
    "start_time": "2022-10-18T15:32:22.985Z"
   },
   {
    "duration": 2896,
    "start_time": "2022-10-18T15:32:24.995Z"
   },
   {
    "duration": 2439,
    "start_time": "2022-10-18T15:32:27.892Z"
   },
   {
    "duration": 13,
    "start_time": "2022-10-18T15:32:30.333Z"
   },
   {
    "duration": 39,
    "start_time": "2022-10-18T15:32:30.347Z"
   },
   {
    "duration": 524,
    "start_time": "2022-10-18T15:32:30.388Z"
   },
   {
    "duration": 2,
    "start_time": "2022-10-18T15:32:30.914Z"
   },
   {
    "duration": 49,
    "start_time": "2022-10-18T15:32:30.917Z"
   },
   {
    "duration": 449099,
    "start_time": "2022-10-18T15:32:30.967Z"
   },
   {
    "duration": 40,
    "start_time": "2022-10-18T15:40:00.068Z"
   },
   {
    "duration": 60,
    "start_time": "2022-10-18T15:40:00.109Z"
   },
   {
    "duration": 462,
    "start_time": "2022-10-18T15:40:00.171Z"
   },
   {
    "duration": 33,
    "start_time": "2022-10-18T15:40:00.635Z"
   },
   {
    "duration": 4,
    "start_time": "2022-10-18T15:40:09.511Z"
   },
   {
    "duration": 3,
    "start_time": "2022-10-18T15:40:31.841Z"
   },
   {
    "duration": 4,
    "start_time": "2022-10-18T15:40:39.120Z"
   },
   {
    "duration": 3,
    "start_time": "2022-10-18T15:41:15.131Z"
   },
   {
    "duration": 3,
    "start_time": "2022-10-18T15:41:35.735Z"
   },
   {
    "duration": 6073,
    "start_time": "2022-10-18T15:45:47.701Z"
   },
   {
    "duration": 8,
    "start_time": "2022-10-18T15:45:56.956Z"
   },
   {
    "duration": 2040,
    "start_time": "2022-10-18T15:47:10.631Z"
   },
   {
    "duration": 5,
    "start_time": "2022-10-18T15:47:12.674Z"
   },
   {
    "duration": 956,
    "start_time": "2022-10-18T15:47:12.680Z"
   },
   {
    "duration": 10,
    "start_time": "2022-10-18T15:47:13.638Z"
   },
   {
    "duration": 22,
    "start_time": "2022-10-18T15:47:13.650Z"
   },
   {
    "duration": 5,
    "start_time": "2022-10-18T15:47:13.673Z"
   },
   {
    "duration": 9,
    "start_time": "2022-10-18T15:47:13.680Z"
   },
   {
    "duration": 14,
    "start_time": "2022-10-18T15:47:13.690Z"
   },
   {
    "duration": 456045,
    "start_time": "2022-10-18T15:47:13.706Z"
   },
   {
    "duration": 47,
    "start_time": "2022-10-18T15:54:49.753Z"
   },
   {
    "duration": 28,
    "start_time": "2022-10-18T15:54:49.802Z"
   },
   {
    "duration": 547,
    "start_time": "2022-10-18T15:54:49.832Z"
   },
   {
    "duration": 3,
    "start_time": "2022-10-18T15:54:50.381Z"
   },
   {
    "duration": 52,
    "start_time": "2022-10-18T15:54:50.385Z"
   },
   {
    "duration": 131,
    "start_time": "2022-10-18T15:55:21.162Z"
   },
   {
    "duration": 490,
    "start_time": "2022-10-18T15:55:27.634Z"
   },
   {
    "duration": 3,
    "start_time": "2022-10-18T15:55:29.094Z"
   },
   {
    "duration": 3,
    "start_time": "2022-10-18T15:55:43.063Z"
   },
   {
    "duration": 3,
    "start_time": "2022-10-18T15:56:00.581Z"
   },
   {
    "duration": 3,
    "start_time": "2022-10-18T15:56:21.503Z"
   },
   {
    "duration": 5,
    "start_time": "2022-10-18T15:56:58.585Z"
   },
   {
    "duration": 4,
    "start_time": "2022-10-18T16:00:50.923Z"
   },
   {
    "duration": 47,
    "start_time": "2022-10-18T16:00:52.802Z"
   },
   {
    "duration": 5932,
    "start_time": "2022-10-18T16:00:56.582Z"
   },
   {
    "duration": 8,
    "start_time": "2022-10-18T16:01:05.958Z"
   },
   {
    "duration": 13,
    "start_time": "2022-10-18T16:01:16.678Z"
   },
   {
    "duration": 11,
    "start_time": "2022-10-18T16:16:14.102Z"
   },
   {
    "duration": 3,
    "start_time": "2022-10-18T16:16:26.712Z"
   },
   {
    "duration": 41735,
    "start_time": "2022-10-18T16:16:40.406Z"
   },
   {
    "duration": 7,
    "start_time": "2022-10-18T16:18:08.356Z"
   },
   {
    "duration": 10,
    "start_time": "2022-10-18T16:20:38.740Z"
   },
   {
    "duration": 26568,
    "start_time": "2022-10-18T16:20:55.447Z"
   },
   {
    "duration": 41362,
    "start_time": "2022-10-18T16:44:55.289Z"
   },
   {
    "duration": 7,
    "start_time": "2022-10-18T16:45:49.901Z"
   },
   {
    "duration": 39872,
    "start_time": "2022-10-18T18:45:05.108Z"
   },
   {
    "duration": 33,
    "start_time": "2022-10-18T18:46:19.410Z"
   },
   {
    "duration": 16,
    "start_time": "2022-10-18T18:47:53.244Z"
   },
   {
    "duration": 40400,
    "start_time": "2022-10-18T18:48:39.000Z"
   },
   {
    "duration": 58163,
    "start_time": "2022-10-18T18:49:54.933Z"
   },
   {
    "duration": 16,
    "start_time": "2022-10-18T18:51:12.361Z"
   },
   {
    "duration": 39656,
    "start_time": "2022-10-18T18:52:13.710Z"
   },
   {
    "duration": 12,
    "start_time": "2022-10-18T18:53:48.782Z"
   },
   {
    "duration": 12,
    "start_time": "2022-10-18T18:54:38.731Z"
   },
   {
    "duration": 10,
    "start_time": "2022-10-18T18:55:13.563Z"
   },
   {
    "duration": 11,
    "start_time": "2022-10-18T18:55:27.986Z"
   },
   {
    "duration": 32,
    "start_time": "2022-10-18T18:56:11.539Z"
   },
   {
    "duration": 16,
    "start_time": "2022-10-18T18:56:36.343Z"
   },
   {
    "duration": 13,
    "start_time": "2022-10-18T18:56:54.754Z"
   },
   {
    "duration": 50,
    "start_time": "2022-10-18T18:57:02.563Z"
   },
   {
    "duration": 39631,
    "start_time": "2022-10-18T18:57:30.054Z"
   },
   {
    "duration": 40275,
    "start_time": "2022-10-18T18:58:48.133Z"
   },
   {
    "duration": 3,
    "start_time": "2022-10-18T19:00:33.537Z"
   },
   {
    "duration": 39712,
    "start_time": "2022-10-18T19:01:06.364Z"
   },
   {
    "duration": 3,
    "start_time": "2022-10-18T19:01:58.256Z"
   },
   {
    "duration": 40177,
    "start_time": "2022-10-18T19:02:05.611Z"
   },
   {
    "duration": 39819,
    "start_time": "2022-10-18T19:02:59.355Z"
   },
   {
    "duration": 32,
    "start_time": "2022-10-18T19:03:58.916Z"
   },
   {
    "duration": 17,
    "start_time": "2022-10-18T19:04:44.340Z"
   },
   {
    "duration": 40640,
    "start_time": "2022-10-18T19:07:05.561Z"
   },
   {
    "duration": 39997,
    "start_time": "2022-10-18T19:08:27.724Z"
   },
   {
    "duration": 5,
    "start_time": "2022-10-18T19:13:34.519Z"
   },
   {
    "duration": 7,
    "start_time": "2022-10-18T19:14:57.404Z"
   },
   {
    "duration": 6,
    "start_time": "2022-10-18T19:24:48.659Z"
   },
   {
    "duration": 236040,
    "start_time": "2022-10-18T19:24:50.484Z"
   },
   {
    "duration": 4,
    "start_time": "2022-10-18T19:30:33.718Z"
   },
   {
    "duration": 1536299,
    "start_time": "2022-10-18T19:30:44.629Z"
   },
   {
    "duration": 4,
    "start_time": "2022-10-18T19:57:00.718Z"
   },
   {
    "duration": 4,
    "start_time": "2022-10-18T19:57:12.776Z"
   },
   {
    "duration": 1241848,
    "start_time": "2022-10-18T19:57:13.976Z"
   },
   {
    "duration": 4,
    "start_time": "2022-10-18T20:23:20.071Z"
   },
   {
    "duration": 171956,
    "start_time": "2022-10-18T20:23:22.862Z"
   },
   {
    "duration": 3,
    "start_time": "2022-10-18T20:26:35.032Z"
   },
   {
    "duration": 67995,
    "start_time": "2022-10-18T20:26:39.840Z"
   },
   {
    "duration": 3,
    "start_time": "2022-10-18T20:38:40.287Z"
   },
   {
    "duration": 2309,
    "start_time": "2022-10-18T20:38:44.057Z"
   },
   {
    "duration": 599,
    "start_time": "2022-10-18T20:55:53.975Z"
   },
   {
    "duration": 106215,
    "start_time": "2022-10-18T21:09:00.084Z"
   },
   {
    "duration": 3,
    "start_time": "2022-10-18T21:14:52.325Z"
   },
   {
    "duration": 61957,
    "start_time": "2022-10-18T21:14:56.583Z"
   },
   {
    "duration": 40484,
    "start_time": "2022-10-18T21:16:09.208Z"
   },
   {
    "duration": 2,
    "start_time": "2022-10-18T21:17:01.930Z"
   },
   {
    "duration": 353277,
    "start_time": "2022-10-18T21:17:06.464Z"
   },
   {
    "duration": 3,
    "start_time": "2022-10-18T21:23:28.905Z"
   },
   {
    "duration": 539674,
    "start_time": "2022-10-18T21:23:33.208Z"
   },
   {
    "duration": 2,
    "start_time": "2022-10-18T21:33:21.670Z"
   },
   {
    "duration": 492017,
    "start_time": "2022-10-18T21:33:26.254Z"
   },
   {
    "duration": 7,
    "start_time": "2022-10-18T21:44:51.652Z"
   },
   {
    "duration": 3,
    "start_time": "2022-10-18T21:45:03.527Z"
   },
   {
    "duration": 633680,
    "start_time": "2022-10-18T21:45:10.687Z"
   },
   {
    "duration": 337,
    "start_time": "2022-10-18T22:16:37.132Z"
   },
   {
    "duration": 16,
    "start_time": "2022-10-18T22:16:38.638Z"
   },
   {
    "duration": 14,
    "start_time": "2022-10-18T22:16:54.245Z"
   },
   {
    "duration": 14,
    "start_time": "2022-10-18T22:17:31.989Z"
   },
   {
    "duration": 15,
    "start_time": "2022-10-18T22:18:00.408Z"
   },
   {
    "duration": 15,
    "start_time": "2022-10-18T22:18:19.269Z"
   },
   {
    "duration": 15,
    "start_time": "2022-10-18T22:18:35.401Z"
   },
   {
    "duration": 13,
    "start_time": "2022-10-18T22:18:42.305Z"
   },
   {
    "duration": 13,
    "start_time": "2022-10-18T22:18:55.529Z"
   },
   {
    "duration": 15,
    "start_time": "2022-10-18T22:19:10.130Z"
   },
   {
    "duration": 14,
    "start_time": "2022-10-18T22:19:33.709Z"
   },
   {
    "duration": 14,
    "start_time": "2022-10-18T22:19:59.565Z"
   },
   {
    "duration": 9,
    "start_time": "2022-10-18T22:21:20.234Z"
   },
   {
    "duration": 16,
    "start_time": "2022-10-18T22:21:38.997Z"
   },
   {
    "duration": 16,
    "start_time": "2022-10-18T22:21:51.797Z"
   },
   {
    "duration": 15,
    "start_time": "2022-10-18T22:22:11.211Z"
   },
   {
    "duration": 13,
    "start_time": "2022-10-18T22:22:27.520Z"
   },
   {
    "duration": 18,
    "start_time": "2022-10-18T22:23:04.411Z"
   },
   {
    "duration": 8,
    "start_time": "2022-10-18T22:24:15.051Z"
   },
   {
    "duration": 3,
    "start_time": "2022-10-18T22:25:24.859Z"
   },
   {
    "duration": 11,
    "start_time": "2022-10-18T22:27:20.614Z"
   },
   {
    "duration": 10,
    "start_time": "2022-10-18T22:27:42.355Z"
   },
   {
    "duration": 357,
    "start_time": "2022-10-18T22:27:49.441Z"
   },
   {
    "duration": 7,
    "start_time": "2022-10-18T22:27:50.225Z"
   },
   {
    "duration": 335,
    "start_time": "2022-10-18T22:30:18.635Z"
   },
   {
    "duration": 324,
    "start_time": "2022-10-18T22:30:45.485Z"
   },
   {
    "duration": 3,
    "start_time": "2022-10-18T22:36:22.861Z"
   },
   {
    "duration": 42,
    "start_time": "2022-10-18T22:36:34.448Z"
   },
   {
    "duration": 4,
    "start_time": "2022-10-18T22:36:37.312Z"
   },
   {
    "duration": 10,
    "start_time": "2022-10-18T22:36:47.244Z"
   },
   {
    "duration": 4,
    "start_time": "2022-10-18T22:36:55.611Z"
   },
   {
    "duration": 256020,
    "start_time": "2022-10-18T22:37:00.722Z"
   },
   {
    "duration": 4,
    "start_time": "2022-10-18T22:41:48.443Z"
   },
   {
    "duration": 3,
    "start_time": "2022-10-18T22:42:07.437Z"
   },
   {
    "duration": 4,
    "start_time": "2022-10-18T22:42:13.562Z"
   },
   {
    "duration": 3,
    "start_time": "2022-10-18T22:42:32.507Z"
   },
   {
    "duration": 3,
    "start_time": "2022-10-18T22:42:48.286Z"
   },
   {
    "duration": 3,
    "start_time": "2022-10-18T22:42:53.189Z"
   },
   {
    "duration": 4,
    "start_time": "2022-10-18T22:42:57.018Z"
   },
   {
    "duration": 3,
    "start_time": "2022-10-18T22:45:00.211Z"
   },
   {
    "duration": 3,
    "start_time": "2022-10-18T22:45:05.988Z"
   },
   {
    "duration": 3,
    "start_time": "2022-10-18T22:45:11.997Z"
   },
   {
    "duration": 3,
    "start_time": "2022-10-18T22:45:13.378Z"
   },
   {
    "duration": 3,
    "start_time": "2022-10-18T22:48:24.737Z"
   },
   {
    "duration": 4,
    "start_time": "2022-10-18T22:48:32.923Z"
   },
   {
    "duration": 1244578,
    "start_time": "2022-10-18T22:50:48.584Z"
   },
   {
    "duration": 5,
    "start_time": "2022-10-18T23:12:14.437Z"
   },
   {
    "duration": 3,
    "start_time": "2022-10-18T23:12:52.228Z"
   },
   {
    "duration": 2,
    "start_time": "2022-10-18T23:13:11.049Z"
   },
   {
    "duration": 3,
    "start_time": "2022-10-18T23:13:13.444Z"
   },
   {
    "duration": 9203,
    "start_time": "2022-10-18T23:13:32.806Z"
   },
   {
    "duration": 10,
    "start_time": "2022-10-18T23:14:03.803Z"
   },
   {
    "duration": 4,
    "start_time": "2022-10-18T23:14:12.137Z"
   },
   {
    "duration": 3,
    "start_time": "2022-10-18T23:17:02.691Z"
   },
   {
    "duration": 3,
    "start_time": "2022-10-18T23:17:15.182Z"
   },
   {
    "duration": 3,
    "start_time": "2022-10-18T23:17:51.346Z"
   },
   {
    "duration": 4,
    "start_time": "2022-10-18T23:17:54.044Z"
   },
   {
    "duration": 3,
    "start_time": "2022-10-18T23:18:37.554Z"
   },
   {
    "duration": 4,
    "start_time": "2022-10-18T23:18:42.514Z"
   },
   {
    "duration": 4,
    "start_time": "2022-10-18T23:19:24.011Z"
   },
   {
    "duration": 11,
    "start_time": "2022-10-18T23:20:02.714Z"
   },
   {
    "duration": 3,
    "start_time": "2022-10-18T23:20:17.653Z"
   },
   {
    "duration": 4,
    "start_time": "2022-10-18T23:20:23.022Z"
   },
   {
    "duration": 4,
    "start_time": "2022-10-18T23:20:29.159Z"
   },
   {
    "duration": 4,
    "start_time": "2022-10-18T23:20:31.659Z"
   },
   {
    "duration": 431641,
    "start_time": "2022-10-18T23:20:44.448Z"
   },
   {
    "duration": 10,
    "start_time": "2022-10-18T23:28:31.325Z"
   },
   {
    "duration": 3,
    "start_time": "2022-10-18T23:31:47.912Z"
   },
   {
    "duration": 5747767,
    "start_time": "2022-10-18T23:32:08.228Z"
   },
   {
    "duration": 8,
    "start_time": "2022-10-19T01:08:51.289Z"
   },
   {
    "duration": 4,
    "start_time": "2022-10-19T01:09:23.252Z"
   },
   {
    "duration": 47,
    "start_time": "2022-10-19T01:09:43.933Z"
   },
   {
    "duration": 29110,
    "start_time": "2022-10-19T01:09:59.452Z"
   },
   {
    "duration": 28686,
    "start_time": "2022-10-19T01:12:51.128Z"
   },
   {
    "duration": 24423,
    "start_time": "2022-10-19T01:13:42.390Z"
   },
   {
    "duration": 118,
    "start_time": "2022-10-19T01:14:10.569Z"
   },
   {
    "duration": 135,
    "start_time": "2022-10-19T01:14:21.319Z"
   },
   {
    "duration": 128,
    "start_time": "2022-10-19T01:14:28.596Z"
   },
   {
    "duration": 129,
    "start_time": "2022-10-19T01:14:36.545Z"
   },
   {
    "duration": 143,
    "start_time": "2022-10-19T01:14:47.615Z"
   },
   {
    "duration": 4,
    "start_time": "2022-10-19T01:15:23.864Z"
   },
   {
    "duration": 3,
    "start_time": "2022-10-19T01:15:42.043Z"
   },
   {
    "duration": 4,
    "start_time": "2022-10-19T01:15:49.536Z"
   },
   {
    "duration": 4,
    "start_time": "2022-10-19T01:16:34.469Z"
   },
   {
    "duration": 4,
    "start_time": "2022-10-19T01:16:44.506Z"
   },
   {
    "duration": 4,
    "start_time": "2022-10-19T01:16:59.975Z"
   },
   {
    "duration": 4,
    "start_time": "2022-10-19T01:17:07.573Z"
   },
   {
    "duration": 28327,
    "start_time": "2022-10-19T01:17:35.697Z"
   },
   {
    "duration": 136,
    "start_time": "2022-10-19T01:18:26.723Z"
   },
   {
    "duration": 134,
    "start_time": "2022-10-19T01:18:35.415Z"
   },
   {
    "duration": 130,
    "start_time": "2022-10-19T01:18:52.832Z"
   },
   {
    "duration": 119,
    "start_time": "2022-10-19T01:18:58.312Z"
   },
   {
    "duration": 136,
    "start_time": "2022-10-19T01:19:03.617Z"
   },
   {
    "duration": 135,
    "start_time": "2022-10-19T01:19:18.617Z"
   },
   {
    "duration": 196,
    "start_time": "2022-10-19T01:19:25.390Z"
   },
   {
    "duration": 135,
    "start_time": "2022-10-19T01:19:31.256Z"
   },
   {
    "duration": 125,
    "start_time": "2022-10-19T01:19:48.282Z"
   },
   {
    "duration": 140,
    "start_time": "2022-10-19T01:19:57.303Z"
   },
   {
    "duration": 141,
    "start_time": "2022-10-19T01:20:08.228Z"
   },
   {
    "duration": 146,
    "start_time": "2022-10-19T01:20:38.087Z"
   },
   {
    "duration": 9,
    "start_time": "2022-10-19T01:22:06.412Z"
   },
   {
    "duration": 4,
    "start_time": "2022-10-19T01:22:11.559Z"
   },
   {
    "duration": 10,
    "start_time": "2022-10-19T01:22:27.397Z"
   },
   {
    "duration": 5,
    "start_time": "2022-10-19T01:22:37.191Z"
   },
   {
    "duration": 2,
    "start_time": "2022-10-19T01:23:01.164Z"
   },
   {
    "duration": 4,
    "start_time": "2022-10-19T01:23:17.853Z"
   },
   {
    "duration": 165,
    "start_time": "2022-10-19T01:23:49.092Z"
   },
   {
    "duration": 115,
    "start_time": "2022-10-19T01:24:29.506Z"
   },
   {
    "duration": 158,
    "start_time": "2022-10-19T01:24:47.095Z"
   },
   {
    "duration": 148,
    "start_time": "2022-10-19T01:27:26.208Z"
   },
   {
    "duration": 127,
    "start_time": "2022-10-19T01:27:48.775Z"
   },
   {
    "duration": 159,
    "start_time": "2022-10-19T01:27:59.912Z"
   },
   {
    "duration": 158,
    "start_time": "2022-10-19T01:29:24.887Z"
   },
   {
    "duration": 159,
    "start_time": "2022-10-19T01:30:41.988Z"
   },
   {
    "duration": 6,
    "start_time": "2022-10-19T01:30:59.228Z"
   },
   {
    "duration": 5,
    "start_time": "2022-10-19T01:31:07.023Z"
   },
   {
    "duration": 5,
    "start_time": "2022-10-19T01:31:18.602Z"
   },
   {
    "duration": 5,
    "start_time": "2022-10-19T01:31:28.755Z"
   },
   {
    "duration": 5,
    "start_time": "2022-10-19T01:31:35.608Z"
   },
   {
    "duration": 6,
    "start_time": "2022-10-19T01:31:39.220Z"
   },
   {
    "duration": 5,
    "start_time": "2022-10-19T01:31:59.674Z"
   },
   {
    "duration": 3,
    "start_time": "2022-10-19T01:33:27.535Z"
   },
   {
    "duration": 4,
    "start_time": "2022-10-19T01:33:31.659Z"
   },
   {
    "duration": 3,
    "start_time": "2022-10-19T01:34:09.670Z"
   },
   {
    "duration": 6377893,
    "start_time": "2022-10-19T01:34:22.904Z"
   },
   {
    "duration": 9,
    "start_time": "2022-10-19T05:48:50.208Z"
   },
   {
    "duration": 5,
    "start_time": "2022-10-19T06:00:39.030Z"
   },
   {
    "duration": 5,
    "start_time": "2022-10-19T06:00:53.054Z"
   },
   {
    "duration": 5,
    "start_time": "2022-10-19T06:01:02.078Z"
   },
   {
    "duration": 5,
    "start_time": "2022-10-19T06:01:19.687Z"
   },
   {
    "duration": 4,
    "start_time": "2022-10-19T06:01:29.972Z"
   },
   {
    "duration": 4,
    "start_time": "2022-10-19T06:14:33.585Z"
   },
   {
    "duration": 3,
    "start_time": "2022-10-19T06:14:36.758Z"
   },
   {
    "duration": 10,
    "start_time": "2022-10-19T06:14:42.129Z"
   },
   {
    "duration": 28731,
    "start_time": "2022-10-19T06:16:50.890Z"
   },
   {
    "duration": 158,
    "start_time": "2022-10-19T06:17:24.868Z"
   },
   {
    "duration": 5,
    "start_time": "2022-10-19T06:17:29.186Z"
   },
   {
    "duration": 25709,
    "start_time": "2022-10-19T06:17:47.217Z"
   },
   {
    "duration": 26,
    "start_time": "2022-10-19T06:18:18.251Z"
   },
   {
    "duration": 3,
    "start_time": "2022-10-19T06:18:47.597Z"
   },
   {
    "duration": 25551,
    "start_time": "2022-10-19T06:19:26.672Z"
   },
   {
    "duration": 4,
    "start_time": "2022-10-19T06:19:54.774Z"
   },
   {
    "duration": 55,
    "start_time": "2022-10-19T06:20:02.541Z"
   },
   {
    "duration": 3,
    "start_time": "2022-10-19T06:21:03.934Z"
   },
   {
    "duration": 407476,
    "start_time": "2022-10-19T06:21:22.105Z"
   },
   {
    "duration": 5,
    "start_time": "2022-10-19T06:29:56.841Z"
   },
   {
    "duration": 25765,
    "start_time": "2022-10-19T06:30:20.751Z"
   },
   {
    "duration": 48,
    "start_time": "2022-10-19T06:31:29.680Z"
   },
   {
    "duration": 160,
    "start_time": "2022-10-19T06:33:01.181Z"
   },
   {
    "duration": 476,
    "start_time": "2022-10-19T06:33:09.945Z"
   },
   {
    "duration": 1873012,
    "start_time": "2022-10-19T06:35:02.990Z"
   },
   {
    "duration": 170,
    "start_time": "2022-10-19T07:06:21.787Z"
   },
   {
    "duration": 5,
    "start_time": "2022-10-19T07:06:28.970Z"
   },
   {
    "duration": 7,
    "start_time": "2022-10-19T07:08:07.015Z"
   },
   {
    "duration": 164,
    "start_time": "2022-10-19T07:08:11.051Z"
   },
   {
    "duration": 7,
    "start_time": "2022-10-19T07:08:44.305Z"
   },
   {
    "duration": 6,
    "start_time": "2022-10-19T07:09:05.869Z"
   },
   {
    "duration": 12,
    "start_time": "2022-10-19T07:09:34.499Z"
   },
   {
    "duration": 646,
    "start_time": "2022-10-19T07:10:17.093Z"
   },
   {
    "duration": 158,
    "start_time": "2022-10-19T07:10:20.357Z"
   },
   {
    "duration": 5,
    "start_time": "2022-10-19T07:10:28.556Z"
   },
   {
    "duration": 659,
    "start_time": "2022-10-19T07:12:08.503Z"
   },
   {
    "duration": 154,
    "start_time": "2022-10-19T07:12:09.941Z"
   },
   {
    "duration": 6,
    "start_time": "2022-10-19T07:12:15.449Z"
   },
   {
    "duration": 658,
    "start_time": "2022-10-19T07:14:25.548Z"
   },
   {
    "duration": 163,
    "start_time": "2022-10-19T07:14:29.643Z"
   },
   {
    "duration": 4,
    "start_time": "2022-10-19T07:14:34.732Z"
   },
   {
    "duration": 2440847,
    "start_time": "2022-10-19T07:17:54.543Z"
   },
   {
    "duration": 909,
    "start_time": "2022-10-19T07:59:12.383Z"
   },
   {
    "duration": 50,
    "start_time": "2022-10-19T07:59:14.840Z"
   },
   {
    "duration": 10,
    "start_time": "2022-10-19T07:59:22.679Z"
   },
   {
    "duration": 416,
    "start_time": "2022-10-19T07:59:51.827Z"
   }
  ],
  "kernelspec": {
   "display_name": "Python 3 (ipykernel)",
   "language": "python",
   "name": "python3"
  },
  "language_info": {
   "codemirror_mode": {
    "name": "ipython",
    "version": 3
   },
   "file_extension": ".py",
   "mimetype": "text/x-python",
   "name": "python",
   "nbconvert_exporter": "python",
   "pygments_lexer": "ipython3",
   "version": "3.9.15"
  },
  "toc": {
   "base_numbering": 1,
   "nav_menu": {},
   "number_sections": true,
   "sideBar": true,
   "skip_h1_title": true,
   "title_cell": "Содержание",
   "title_sidebar": "Contents",
   "toc_cell": false,
   "toc_position": {
    "height": "calc(100% - 180px)",
    "left": "10px",
    "top": "150px",
    "width": "248.375px"
   },
   "toc_section_display": true,
   "toc_window_display": true
  },
  "widgets": {
   "application/vnd.jupyter.widget-state+json": {
    "state": {
     "00368d5827b847059da0c24fc3ef385a": {
      "model_module": "@jupyter-widgets/controls",
      "model_module_version": "1.5.0",
      "model_name": "HBoxModel",
      "state": {
       "children": [
        "IPY_MODEL_17340b218e17491080591dd12c838dd0",
        "IPY_MODEL_9bfe4f23ac4f4e378499a6c325646032",
        "IPY_MODEL_3ac8f773bdc746bdb0094499a7a61310"
       ],
       "layout": "IPY_MODEL_4b2d61a1b76f4ceab5c439b0e0706502"
      }
     },
     "00ac1393f4894fea961ebe9788b8f7f4": {
      "model_module": "@jupyter-widgets/base",
      "model_module_version": "1.2.0",
      "model_name": "LayoutModel",
      "state": {}
     },
     "019aaeca3d0b4561bb79eb80d584399b": {
      "model_module": "@jupyter-widgets/base",
      "model_module_version": "1.2.0",
      "model_name": "LayoutModel",
      "state": {}
     },
     "01f421b22acd4021bc5584835e026cea": {
      "model_module": "@jupyter-widgets/base",
      "model_module_version": "1.2.0",
      "model_name": "LayoutModel",
      "state": {}
     },
     "04122fa1a5a64a30950a5acc2b72c38e": {
      "model_module": "@jupyter-widgets/controls",
      "model_module_version": "1.5.0",
      "model_name": "FloatProgressModel",
      "state": {
       "bar_style": "danger",
       "layout": "IPY_MODEL_600f1b6f9d6b4bb2800a22bdccde9cc6",
       "max": 2,
       "style": "IPY_MODEL_3d5c0e48f4424e6ba0763817ff33cfc4"
      }
     },
     "045ec0aae990418084234b8be27f0fa9": {
      "model_module": "@jupyter-widgets/base",
      "model_module_version": "1.2.0",
      "model_name": "LayoutModel",
      "state": {}
     },
     "05fa51e166ee45b2a77041c9ffb960d8": {
      "model_module": "@jupyter-widgets/controls",
      "model_module_version": "1.5.0",
      "model_name": "DescriptionStyleModel",
      "state": {
       "description_width": ""
      }
     },
     "060e8ddaf96c4f71b4438bc07c6d661b": {
      "model_module": "@jupyter-widgets/base",
      "model_module_version": "1.2.0",
      "model_name": "LayoutModel",
      "state": {}
     },
     "06bf75d98ac94774a2401c5c420feb81": {
      "model_module": "@jupyter-widgets/controls",
      "model_module_version": "1.5.0",
      "model_name": "DescriptionStyleModel",
      "state": {
       "description_width": ""
      }
     },
     "07029ab88a9c4dd4b7f38dddaae52e98": {
      "model_module": "@jupyter-widgets/controls",
      "model_module_version": "1.5.0",
      "model_name": "ProgressStyleModel",
      "state": {
       "description_width": ""
      }
     },
     "0783b595a059425db290375806a4821f": {
      "model_module": "@jupyter-widgets/controls",
      "model_module_version": "1.5.0",
      "model_name": "DescriptionStyleModel",
      "state": {
       "description_width": ""
      }
     },
     "079dedce09a249cc9ed8e75ad7ff3fa9": {
      "model_module": "@jupyter-widgets/controls",
      "model_module_version": "1.5.0",
      "model_name": "HTMLModel",
      "state": {
       "layout": "IPY_MODEL_3dafbe54604d42c5bce50eea830b814b",
       "style": "IPY_MODEL_c756dd31573b4e1e891b866061ce4749",
       "value": "  0%"
      }
     },
     "084dbc07a8b54746a1edd80db7e4e5b6": {
      "model_module": "@jupyter-widgets/controls",
      "model_module_version": "1.5.0",
      "model_name": "DescriptionStyleModel",
      "state": {
       "description_width": ""
      }
     },
     "09c1f02fb2ec4101aff0991794c45707": {
      "model_module": "@jupyter-widgets/controls",
      "model_module_version": "1.5.0",
      "model_name": "FloatProgressModel",
      "state": {
       "bar_style": "success",
       "layout": "IPY_MODEL_ae0869294868433897a14e96089eb2bf",
       "max": 4,
       "style": "IPY_MODEL_95b13e17e18e4b63a52b21fe9af29ca5",
       "value": 4
      }
     },
     "09c9ae73ed5243e298a41117ce4a66e5": {
      "model_module": "@jupyter-widgets/controls",
      "model_module_version": "1.5.0",
      "model_name": "DescriptionStyleModel",
      "state": {
       "description_width": ""
      }
     },
     "09f7c23ebea54532a4a412d437a07ffb": {
      "model_module": "@jupyter-widgets/base",
      "model_module_version": "1.2.0",
      "model_name": "LayoutModel",
      "state": {}
     },
     "0a3aa2212dd242a9bfd03fd733aa3302": {
      "model_module": "@jupyter-widgets/controls",
      "model_module_version": "1.5.0",
      "model_name": "HBoxModel",
      "state": {
       "children": [
        "IPY_MODEL_551c267c578744138440df092b8f5100",
        "IPY_MODEL_2548a0ec9197433ab9f6a89665321f14",
        "IPY_MODEL_e2fd7cac36844117a736e1d4b0aa613a"
       ],
       "layout": "IPY_MODEL_fdd3aa7a63f34dbe9237e631131c1c65"
      }
     },
     "0b0cd6528ef046f79c7f90fbd45c826d": {
      "model_module": "@jupyter-widgets/base",
      "model_module_version": "1.2.0",
      "model_name": "LayoutModel",
      "state": {}
     },
     "0bc49cb47ee64ba1806a278f7aef504b": {
      "model_module": "@jupyter-widgets/base",
      "model_module_version": "1.2.0",
      "model_name": "LayoutModel",
      "state": {}
     },
     "0bc9ce2527064f0b9574eae4fa2aac94": {
      "model_module": "@jupyter-widgets/controls",
      "model_module_version": "1.5.0",
      "model_name": "HTMLModel",
      "state": {
       "layout": "IPY_MODEL_46c40236acf34f2a95cc6f3aacffaa14",
       "style": "IPY_MODEL_705782e15ab242bfaea2f2d7a9b978fe",
       "value": "  0%"
      }
     },
     "0bd22c133d144cb18d1e8a576f40c0b2": {
      "model_module": "@jupyter-widgets/controls",
      "model_module_version": "1.5.0",
      "model_name": "HTMLModel",
      "state": {
       "layout": "IPY_MODEL_5af5c96128ac409892f9f4649a8bb89d",
       "style": "IPY_MODEL_befc5bbd44c44a39b493cf1d7439d306",
       "value": " 232k/232k [00:00&lt;00:00, 373kB/s]"
      }
     },
     "0d53edf748714a1ba49d3cf83fbd9ec0": {
      "model_module": "@jupyter-widgets/controls",
      "model_module_version": "1.5.0",
      "model_name": "FloatProgressModel",
      "state": {
       "bar_style": "danger",
       "layout": "IPY_MODEL_8cb7b9b6b75943cf860d8673f1e79ed5",
       "max": 2,
       "style": "IPY_MODEL_b3772e0efeda4b5d9193864a81db1623"
      }
     },
     "0d89fdf85c154217b82c0641f2dd680b": {
      "model_module": "@jupyter-widgets/base",
      "model_module_version": "1.2.0",
      "model_name": "LayoutModel",
      "state": {}
     },
     "0da229f17b3d4fc38eb69ef1a64099f7": {
      "model_module": "@jupyter-widgets/controls",
      "model_module_version": "1.5.0",
      "model_name": "HBoxModel",
      "state": {
       "children": [
        "IPY_MODEL_3c3ed0c1e63248c5ba1d6fca1ec5f870",
        "IPY_MODEL_a128066e445d4413ae46786806cc94f3",
        "IPY_MODEL_605a041dc3d3473098ca2287a0b7f812"
       ],
       "layout": "IPY_MODEL_7340cbcb29f146b6b352cecfca2c59e3"
      }
     },
     "0e09c08a5def4f7d9be51b93ac092873": {
      "model_module": "@jupyter-widgets/base",
      "model_module_version": "1.2.0",
      "model_name": "LayoutModel",
      "state": {}
     },
     "0e55ca70748142a7943484bdd471978d": {
      "model_module": "@jupyter-widgets/controls",
      "model_module_version": "1.5.0",
      "model_name": "DescriptionStyleModel",
      "state": {
       "description_width": ""
      }
     },
     "0fa29ee0bbbe4b04a6c583546b31e153": {
      "model_module": "@jupyter-widgets/controls",
      "model_module_version": "1.5.0",
      "model_name": "HTMLModel",
      "state": {
       "layout": "IPY_MODEL_93d29d0094b64c409eca8ab4ff45667d",
       "style": "IPY_MODEL_5fde1a51667d4d3682f0b804da7c4fe1",
       "value": " 0/2 [00:00&lt;?, ?it/s]"
      }
     },
     "0ff80a6f463c4404a19d2e571f00ecc7": {
      "model_module": "@jupyter-widgets/base",
      "model_module_version": "1.2.0",
      "model_name": "LayoutModel",
      "state": {}
     },
     "10c1e9d2f91440109ebdee71e1e9d66e": {
      "model_module": "@jupyter-widgets/controls",
      "model_module_version": "1.5.0",
      "model_name": "HBoxModel",
      "state": {
       "children": [
        "IPY_MODEL_f593d5aa047f4eb6ae8d27b88574785b",
        "IPY_MODEL_77d32e659e7f4cfeb22e41fd24cfb4d8",
        "IPY_MODEL_3d1bcb90bdcc45e8822e1ef67e56e911"
       ],
       "layout": "IPY_MODEL_1bd85587e7cc47f3ac61caa893144b81"
      }
     },
     "10dba9114bef47a1a3fef089c7a7a41c": {
      "model_module": "@jupyter-widgets/base",
      "model_module_version": "1.2.0",
      "model_name": "LayoutModel",
      "state": {}
     },
     "110a5911708043a4a27b1d7d19c22936": {
      "model_module": "@jupyter-widgets/controls",
      "model_module_version": "1.5.0",
      "model_name": "HTMLModel",
      "state": {
       "layout": "IPY_MODEL_10dba9114bef47a1a3fef089c7a7a41c",
       "style": "IPY_MODEL_24fd8c77ab864642aaf5ab84c6344f4b",
       "value": "  0%"
      }
     },
     "1204b775bd934d5ebad4fb48a39c54a9": {
      "model_module": "@jupyter-widgets/controls",
      "model_module_version": "1.5.0",
      "model_name": "HBoxModel",
      "state": {
       "children": [
        "IPY_MODEL_21bcd750077340509852212dd38fc6af",
        "IPY_MODEL_c0a71bbefaab46b9b68358ab021e867d",
        "IPY_MODEL_766d8332889042b6adbbc9b635f98d0e"
       ],
       "layout": "IPY_MODEL_4e66dca5f47846a195493e4df2f4b4e6"
      }
     },
     "1281b87193b2424a88bd655262f00ad0": {
      "model_module": "@jupyter-widgets/controls",
      "model_module_version": "1.5.0",
      "model_name": "HTMLModel",
      "state": {
       "layout": "IPY_MODEL_dc8ad3ddc1554b69abd3ba14354a669a",
       "style": "IPY_MODEL_5ea6df6decc34ffc8038968fe6af3d1e",
       "value": " 0/2 [00:00&lt;?, ?it/s]"
      }
     },
     "12da9c7724314f6baa21ca11fd171213": {
      "model_module": "@jupyter-widgets/base",
      "model_module_version": "1.2.0",
      "model_name": "LayoutModel",
      "state": {}
     },
     "12f1faa5173c4be3ba57e9fb0f59d7a6": {
      "model_module": "@jupyter-widgets/controls",
      "model_module_version": "1.5.0",
      "model_name": "HTMLModel",
      "state": {
       "layout": "IPY_MODEL_22ce479f267c462baf8c6f93ae509a5e",
       "style": "IPY_MODEL_e91af5eb354149ff92333cc1cca68e72",
       "value": " 65%"
      }
     },
     "137e541926b24324a6da1678c73791fe": {
      "model_module": "@jupyter-widgets/base",
      "model_module_version": "1.2.0",
      "model_name": "LayoutModel",
      "state": {}
     },
     "1451e927f05f41f6aa461ab6ad1f75b6": {
      "model_module": "@jupyter-widgets/controls",
      "model_module_version": "1.5.0",
      "model_name": "DescriptionStyleModel",
      "state": {
       "description_width": ""
      }
     },
     "1536650b475d4ee6a7e4c7e1e6ca59a4": {
      "model_module": "@jupyter-widgets/controls",
      "model_module_version": "1.5.0",
      "model_name": "HTMLModel",
      "state": {
       "layout": "IPY_MODEL_af243cea1e124774a7c67c2d08b4438f",
       "style": "IPY_MODEL_18e56aa621e54b6b9de282f62faaff4d",
       "value": "  0%"
      }
     },
     "15a466fbd54c440d8292bb4b00cdcac0": {
      "model_module": "@jupyter-widgets/controls",
      "model_module_version": "1.5.0",
      "model_name": "ProgressStyleModel",
      "state": {
       "description_width": ""
      }
     },
     "15ccb1e350d743b6b2acd8cfcddf50a6": {
      "model_module": "@jupyter-widgets/base",
      "model_module_version": "1.2.0",
      "model_name": "LayoutModel",
      "state": {}
     },
     "162c573632ad4733890383c30690f8f6": {
      "model_module": "@jupyter-widgets/base",
      "model_module_version": "1.2.0",
      "model_name": "LayoutModel",
      "state": {}
     },
     "1632f366ba3c45659ba668bd373c6a6b": {
      "model_module": "@jupyter-widgets/controls",
      "model_module_version": "1.5.0",
      "model_name": "HBoxModel",
      "state": {
       "children": [
        "IPY_MODEL_ab77437260d04bb1b34814420175186d",
        "IPY_MODEL_379a6c911d044124a8aa8c7a85637880",
        "IPY_MODEL_72366a741bc14368a1d850bd22f4affe"
       ],
       "layout": "IPY_MODEL_a58402a613364262b7dfdeebd2835918"
      }
     },
     "16838674d89649a4a117201ed873349c": {
      "model_module": "@jupyter-widgets/controls",
      "model_module_version": "1.5.0",
      "model_name": "DescriptionStyleModel",
      "state": {
       "description_width": ""
      }
     },
     "170a52072f7842ad9c8b7cf72755e722": {
      "model_module": "@jupyter-widgets/base",
      "model_module_version": "1.2.0",
      "model_name": "LayoutModel",
      "state": {}
     },
     "172fa2188f76440aa062a1cda0c0b228": {
      "model_module": "@jupyter-widgets/controls",
      "model_module_version": "1.5.0",
      "model_name": "ProgressStyleModel",
      "state": {
       "description_width": ""
      }
     },
     "17340b218e17491080591dd12c838dd0": {
      "model_module": "@jupyter-widgets/controls",
      "model_module_version": "1.5.0",
      "model_name": "HTMLModel",
      "state": {
       "layout": "IPY_MODEL_58fada74f96442429c1b0f173e3d3003",
       "style": "IPY_MODEL_1d738b019ab04357858571b700856837",
       "value": "100%"
      }
     },
     "174facf07e4a4ad79b9f599fdee338ad": {
      "model_module": "@jupyter-widgets/controls",
      "model_module_version": "1.5.0",
      "model_name": "DescriptionStyleModel",
      "state": {
       "description_width": ""
      }
     },
     "17f8e0f668744cb09daf774b42b26d5f": {
      "model_module": "@jupyter-widgets/controls",
      "model_module_version": "1.5.0",
      "model_name": "HBoxModel",
      "state": {
       "children": [
        "IPY_MODEL_3c5f9bcb4ea0422f84a9256a28cda90d",
        "IPY_MODEL_f243d3fd4147416c8844de44be3c2efa",
        "IPY_MODEL_642f25a818924d9a9db0357e1588218a"
       ],
       "layout": "IPY_MODEL_8d4a2c651923455e8e974056cd262400"
      }
     },
     "1866553eda02444c9c5274cdc8f6556f": {
      "model_module": "@jupyter-widgets/controls",
      "model_module_version": "1.5.0",
      "model_name": "HBoxModel",
      "state": {
       "children": [
        "IPY_MODEL_3bf1ea5d9b984d6d8ea3f1e83cacd6da",
        "IPY_MODEL_c7b7b825f117498bbda07779468fa833",
        "IPY_MODEL_66cdb64197984650b4bd5562461858b2"
       ],
       "layout": "IPY_MODEL_5d40b62295ef4e67afd658f6a8729118"
      }
     },
     "18e56aa621e54b6b9de282f62faaff4d": {
      "model_module": "@jupyter-widgets/controls",
      "model_module_version": "1.5.0",
      "model_name": "DescriptionStyleModel",
      "state": {
       "description_width": ""
      }
     },
     "18f9d81c8a9646849eec9df54e863180": {
      "model_module": "@jupyter-widgets/controls",
      "model_module_version": "1.5.0",
      "model_name": "DescriptionStyleModel",
      "state": {
       "description_width": ""
      }
     },
     "1a17a04f03d2459e975a73032bc8b25f": {
      "model_module": "@jupyter-widgets/controls",
      "model_module_version": "1.5.0",
      "model_name": "DescriptionStyleModel",
      "state": {
       "description_width": ""
      }
     },
     "1a3254d2e5314246b06e5d8f2781abc2": {
      "model_module": "@jupyter-widgets/base",
      "model_module_version": "1.2.0",
      "model_name": "LayoutModel",
      "state": {}
     },
     "1b0d2857137b46c4aef16446a3fcbde6": {
      "model_module": "@jupyter-widgets/controls",
      "model_module_version": "1.5.0",
      "model_name": "ProgressStyleModel",
      "state": {
       "description_width": ""
      }
     },
     "1b10ff67add2430f965ff4f4d0722fd6": {
      "model_module": "@jupyter-widgets/controls",
      "model_module_version": "1.5.0",
      "model_name": "HBoxModel",
      "state": {
       "children": [
        "IPY_MODEL_c59b7d37081b40c18da2ddfe5bc2fc81",
        "IPY_MODEL_623b0ca3af3d40b8accfcbcd647722c8",
        "IPY_MODEL_0fa29ee0bbbe4b04a6c583546b31e153"
       ],
       "layout": "IPY_MODEL_770289c74b424ef181aa2604072d52f5"
      }
     },
     "1b8e718fe4b943cfb823a4fcb0efdafe": {
      "model_module": "@jupyter-widgets/base",
      "model_module_version": "1.2.0",
      "model_name": "LayoutModel",
      "state": {}
     },
     "1bd85587e7cc47f3ac61caa893144b81": {
      "model_module": "@jupyter-widgets/base",
      "model_module_version": "1.2.0",
      "model_name": "LayoutModel",
      "state": {}
     },
     "1c28886d2b6e4b12beee222972120eca": {
      "model_module": "@jupyter-widgets/controls",
      "model_module_version": "1.5.0",
      "model_name": "HBoxModel",
      "state": {
       "children": [
        "IPY_MODEL_448a6ed97c454f1191d0b6843b6964cf",
        "IPY_MODEL_d91ac641a25e4bc696c2c46c93c806d0",
        "IPY_MODEL_94f83561045f47b693000e16ac7007b3"
       ],
       "layout": "IPY_MODEL_eb8c9211b18f4deeaf1b35c97284b68d"
      }
     },
     "1c5108ffe74041608d06d1ffb6a3aa3b": {
      "model_module": "@jupyter-widgets/controls",
      "model_module_version": "1.5.0",
      "model_name": "HBoxModel",
      "state": {
       "children": [
        "IPY_MODEL_205947da7f284cf0a3981ddaf005bc94",
        "IPY_MODEL_9b2a1fa147084936ae2174b5767f3cfb",
        "IPY_MODEL_52b6a988ce3f4553b3bc6e5c27b5f80d"
       ],
       "layout": "IPY_MODEL_742c70d04d42401685eb4c7d8f4118d3"
      }
     },
     "1cf2f29991014dd9aeb9f3f8142d3a45": {
      "model_module": "@jupyter-widgets/controls",
      "model_module_version": "1.5.0",
      "model_name": "DescriptionStyleModel",
      "state": {
       "description_width": ""
      }
     },
     "1cff44661fce4f4786575061fdcbbc12": {
      "model_module": "@jupyter-widgets/controls",
      "model_module_version": "1.5.0",
      "model_name": "DescriptionStyleModel",
      "state": {
       "description_width": ""
      }
     },
     "1d738b019ab04357858571b700856837": {
      "model_module": "@jupyter-widgets/controls",
      "model_module_version": "1.5.0",
      "model_name": "DescriptionStyleModel",
      "state": {
       "description_width": ""
      }
     },
     "1da53341db2a4c4296fab167ee4f12ca": {
      "model_module": "@jupyter-widgets/controls",
      "model_module_version": "1.5.0",
      "model_name": "HTMLModel",
      "state": {
       "layout": "IPY_MODEL_1db939fe0dc04939957360d27b62ae1a",
       "style": "IPY_MODEL_877ffd48ed3b4d8a8c3397443ed52832",
       "value": "  0%"
      }
     },
     "1db939fe0dc04939957360d27b62ae1a": {
      "model_module": "@jupyter-widgets/base",
      "model_module_version": "1.2.0",
      "model_name": "LayoutModel",
      "state": {}
     },
     "1e3db0a054154ff7b45828fc425b5e88": {
      "model_module": "@jupyter-widgets/controls",
      "model_module_version": "1.5.0",
      "model_name": "HTMLModel",
      "state": {
       "layout": "IPY_MODEL_53410a134aa442fda3e0ab9961e74bcd",
       "style": "IPY_MODEL_1cf2f29991014dd9aeb9f3f8142d3a45",
       "value": " 0/2 [00:00&lt;?, ?it/s]"
      }
     },
     "1e71a0c9360f4802ae6ff9a979d57869": {
      "model_module": "@jupyter-widgets/controls",
      "model_module_version": "1.5.0",
      "model_name": "DescriptionStyleModel",
      "state": {
       "description_width": ""
      }
     },
     "1e93fded773745e3b4a5270bdf0168bb": {
      "model_module": "@jupyter-widgets/controls",
      "model_module_version": "1.5.0",
      "model_name": "ProgressStyleModel",
      "state": {
       "description_width": ""
      }
     },
     "1eb25a770c784759b7599987cf8358d4": {
      "model_module": "@jupyter-widgets/base",
      "model_module_version": "1.2.0",
      "model_name": "LayoutModel",
      "state": {}
     },
     "1eca0efc138d4dcc8c4da91ec54342a9": {
      "model_module": "@jupyter-widgets/base",
      "model_module_version": "1.2.0",
      "model_name": "LayoutModel",
      "state": {}
     },
     "1f6434c85f1f403686ff113b75ded7e5": {
      "model_module": "@jupyter-widgets/base",
      "model_module_version": "1.2.0",
      "model_name": "LayoutModel",
      "state": {}
     },
     "2009703582414865be022d3b6bd3f5e9": {
      "model_module": "@jupyter-widgets/base",
      "model_module_version": "1.2.0",
      "model_name": "LayoutModel",
      "state": {}
     },
     "205947da7f284cf0a3981ddaf005bc94": {
      "model_module": "@jupyter-widgets/controls",
      "model_module_version": "1.5.0",
      "model_name": "HTMLModel",
      "state": {
       "layout": "IPY_MODEL_2bc8f2cb0086484bb403abe47015fc8b",
       "style": "IPY_MODEL_2bca1693beef4da8aa4fae641b6d90e2",
       "value": "Downloading: 100%"
      }
     },
     "205a760bf90048d2800ae54750a377fc": {
      "model_module": "@jupyter-widgets/controls",
      "model_module_version": "1.5.0",
      "model_name": "DescriptionStyleModel",
      "state": {
       "description_width": ""
      }
     },
     "21bcd750077340509852212dd38fc6af": {
      "model_module": "@jupyter-widgets/controls",
      "model_module_version": "1.5.0",
      "model_name": "HTMLModel",
      "state": {
       "layout": "IPY_MODEL_a92a3882928949948a876bb6e0292f61",
       "style": "IPY_MODEL_dd7f4036920a4f69a1652cad1727a28b",
       "value": "  0%"
      }
     },
     "22189cf8bd78433c9778441d75778937": {
      "model_module": "@jupyter-widgets/controls",
      "model_module_version": "1.5.0",
      "model_name": "HTMLModel",
      "state": {
       "layout": "IPY_MODEL_2c0724ce97544c9bab77df4674ec4573",
       "style": "IPY_MODEL_d891485cd92f40559cf8bc0e9add9671",
       "value": "  0%"
      }
     },
     "22a8ceee88d341858303f34b0ae558ca": {
      "model_module": "@jupyter-widgets/controls",
      "model_module_version": "1.5.0",
      "model_name": "HBoxModel",
      "state": {
       "children": [
        "IPY_MODEL_737abe2e19fa40df8f3c221e81cfd924",
        "IPY_MODEL_978b270d73584026a7a365bbbcbbe412",
        "IPY_MODEL_965436ceb2064a6e92053788ca1ed081"
       ],
       "layout": "IPY_MODEL_696ef14b1514406d82b72c59a8dd0d6e"
      }
     },
     "22ce479f267c462baf8c6f93ae509a5e": {
      "model_module": "@jupyter-widgets/base",
      "model_module_version": "1.2.0",
      "model_name": "LayoutModel",
      "state": {}
     },
     "22d9e0a745a2448e9a4c67e72972dc0a": {
      "model_module": "@jupyter-widgets/controls",
      "model_module_version": "1.5.0",
      "model_name": "DescriptionStyleModel",
      "state": {
       "description_width": ""
      }
     },
     "22fff2efa33f4e79861c16094b6a4351": {
      "model_module": "@jupyter-widgets/controls",
      "model_module_version": "1.5.0",
      "model_name": "DescriptionStyleModel",
      "state": {
       "description_width": ""
      }
     },
     "23a24bb8d03d46eb920025936c1eab11": {
      "model_module": "@jupyter-widgets/base",
      "model_module_version": "1.2.0",
      "model_name": "LayoutModel",
      "state": {}
     },
     "23a987ea2f474338b0dd7dfb504b93c1": {
      "model_module": "@jupyter-widgets/controls",
      "model_module_version": "1.5.0",
      "model_name": "HTMLModel",
      "state": {
       "layout": "IPY_MODEL_e21eda39e65141a4b81f74be94755480",
       "style": "IPY_MODEL_e76fc1a63c2d4d4994d9ea9651fb887b",
       "value": "  0%"
      }
     },
     "24fd8c77ab864642aaf5ab84c6344f4b": {
      "model_module": "@jupyter-widgets/controls",
      "model_module_version": "1.5.0",
      "model_name": "DescriptionStyleModel",
      "state": {
       "description_width": ""
      }
     },
     "2548a0ec9197433ab9f6a89665321f14": {
      "model_module": "@jupyter-widgets/controls",
      "model_module_version": "1.5.0",
      "model_name": "FloatProgressModel",
      "state": {
       "bar_style": "danger",
       "layout": "IPY_MODEL_71aedd4309174244aa07e87bb0aa91f0",
       "max": 2,
       "style": "IPY_MODEL_fc2851a735a54543b7664a1ac59cbcbb"
      }
     },
     "25ac300b8b674a14918a04fc50ef489f": {
      "model_module": "@jupyter-widgets/base",
      "model_module_version": "1.2.0",
      "model_name": "LayoutModel",
      "state": {}
     },
     "26a3ef139d414406b4f7d50d2730578f": {
      "model_module": "@jupyter-widgets/controls",
      "model_module_version": "1.5.0",
      "model_name": "DescriptionStyleModel",
      "state": {
       "description_width": ""
      }
     },
     "271fc5878844425fba89772a4dc18962": {
      "model_module": "@jupyter-widgets/controls",
      "model_module_version": "1.5.0",
      "model_name": "FloatProgressModel",
      "state": {
       "bar_style": "danger",
       "layout": "IPY_MODEL_6c64c8a815f54df984d479f2c27c5c2f",
       "max": 2,
       "style": "IPY_MODEL_d0d6a86ea9f94c308720c5c82f5078c9"
      }
     },
     "276ff98ac9844b8e8fcb3ea6a694d896": {
      "model_module": "@jupyter-widgets/controls",
      "model_module_version": "1.5.0",
      "model_name": "HTMLModel",
      "state": {
       "layout": "IPY_MODEL_87168ceaec0c46d7a0673df41c57ae23",
       "style": "IPY_MODEL_d47519f28a8d463d96d68e4a02c84d75",
       "value": "  0%"
      }
     },
     "277d120051d348379ad49fc0a3538dea": {
      "model_module": "@jupyter-widgets/base",
      "model_module_version": "1.2.0",
      "model_name": "LayoutModel",
      "state": {}
     },
     "27fa315efcf24e7890d64c9591b9954d": {
      "model_module": "@jupyter-widgets/controls",
      "model_module_version": "1.5.0",
      "model_name": "ProgressStyleModel",
      "state": {
       "description_width": ""
      }
     },
     "281d9e9d00a3439698058a73e8d09ba0": {
      "model_module": "@jupyter-widgets/controls",
      "model_module_version": "1.5.0",
      "model_name": "HTMLModel",
      "state": {
       "layout": "IPY_MODEL_d488103a6e784e2890c6362646ad4b39",
       "style": "IPY_MODEL_30cc9e69c92b4143973bbe9ecfe6c0e9",
       "value": " 0/2 [00:00&lt;?, ?it/s]"
      }
     },
     "282ed6dd3258474c973b679c191f67d1": {
      "model_module": "@jupyter-widgets/controls",
      "model_module_version": "1.5.0",
      "model_name": "ProgressStyleModel",
      "state": {
       "description_width": ""
      }
     },
     "28353b31abfa49a983a15f35ac80ae58": {
      "model_module": "@jupyter-widgets/controls",
      "model_module_version": "1.5.0",
      "model_name": "DescriptionStyleModel",
      "state": {
       "description_width": ""
      }
     },
     "292436974a4a4cd58c319e994044fc58": {
      "model_module": "@jupyter-widgets/controls",
      "model_module_version": "1.5.0",
      "model_name": "HTMLModel",
      "state": {
       "layout": "IPY_MODEL_09f7c23ebea54532a4a412d437a07ffb",
       "style": "IPY_MODEL_c990ad14484046e28c68494aef18c315",
       "value": " 5/5 [00:48&lt;00:00,  8.40s/it]"
      }
     },
     "29df70ea7eeb4db6b34f495ad60ccd7d": {
      "model_module": "@jupyter-widgets/controls",
      "model_module_version": "1.5.0",
      "model_name": "ProgressStyleModel",
      "state": {
       "description_width": ""
      }
     },
     "2a499595773045b0b234083a7c288eac": {
      "model_module": "@jupyter-widgets/base",
      "model_module_version": "1.2.0",
      "model_name": "LayoutModel",
      "state": {}
     },
     "2bc8f2cb0086484bb403abe47015fc8b": {
      "model_module": "@jupyter-widgets/base",
      "model_module_version": "1.2.0",
      "model_name": "LayoutModel",
      "state": {}
     },
     "2bca1693beef4da8aa4fae641b6d90e2": {
      "model_module": "@jupyter-widgets/controls",
      "model_module_version": "1.5.0",
      "model_name": "DescriptionStyleModel",
      "state": {
       "description_width": ""
      }
     },
     "2bf6733f8bae48cd9f2e1160e9d74391": {
      "model_module": "@jupyter-widgets/base",
      "model_module_version": "1.2.0",
      "model_name": "LayoutModel",
      "state": {}
     },
     "2c0724ce97544c9bab77df4674ec4573": {
      "model_module": "@jupyter-widgets/base",
      "model_module_version": "1.2.0",
      "model_name": "LayoutModel",
      "state": {}
     },
     "2d9889aae3f8472eb6afe70e91129d05": {
      "model_module": "@jupyter-widgets/base",
      "model_module_version": "1.2.0",
      "model_name": "LayoutModel",
      "state": {}
     },
     "2dc0960c88be4bea83c81b1836e6b7f6": {
      "model_module": "@jupyter-widgets/controls",
      "model_module_version": "1.5.0",
      "model_name": "DescriptionStyleModel",
      "state": {
       "description_width": ""
      }
     },
     "2dc60c85cce34629a047a4d2274d0bbf": {
      "model_module": "@jupyter-widgets/controls",
      "model_module_version": "1.5.0",
      "model_name": "ProgressStyleModel",
      "state": {
       "description_width": ""
      }
     },
     "2f528979f77c46eca42ef41d286d5474": {
      "model_module": "@jupyter-widgets/base",
      "model_module_version": "1.2.0",
      "model_name": "LayoutModel",
      "state": {}
     },
     "2fb85d53377f490db6b42b425b8842f4": {
      "model_module": "@jupyter-widgets/controls",
      "model_module_version": "1.5.0",
      "model_name": "HBoxModel",
      "state": {
       "children": [
        "IPY_MODEL_23a987ea2f474338b0dd7dfb504b93c1",
        "IPY_MODEL_705f53c939c14f568ae8fb5bb5a17213",
        "IPY_MODEL_7afd90c3f4134be0b099c21512bc7618"
       ],
       "layout": "IPY_MODEL_9b1b049ca8914e95ab3703c432e7c2e6"
      }
     },
     "309cf38ddfc7496cbbcd992aae3a3b9e": {
      "model_module": "@jupyter-widgets/controls",
      "model_module_version": "1.5.0",
      "model_name": "HBoxModel",
      "state": {
       "children": [
        "IPY_MODEL_d7a2cb3f7d2e4566bfc2ba37964f824a",
        "IPY_MODEL_6ce85ea1359d40208efccdb79487739e",
        "IPY_MODEL_c4a501d5321d4cceaaf07a4e291c2306"
       ],
       "layout": "IPY_MODEL_ca9255595f0f474ab0d6aaa0858036db"
      }
     },
     "30cc9e69c92b4143973bbe9ecfe6c0e9": {
      "model_module": "@jupyter-widgets/controls",
      "model_module_version": "1.5.0",
      "model_name": "DescriptionStyleModel",
      "state": {
       "description_width": ""
      }
     },
     "30e7b25522794b5082a4cc7478b4c251": {
      "model_module": "@jupyter-widgets/controls",
      "model_module_version": "1.5.0",
      "model_name": "ProgressStyleModel",
      "state": {
       "description_width": ""
      }
     },
     "3156086138284149a6c26d6f70ae2f24": {
      "model_module": "@jupyter-widgets/controls",
      "model_module_version": "1.5.0",
      "model_name": "DescriptionStyleModel",
      "state": {
       "description_width": ""
      }
     },
     "331bbe7de4a7467a981117dd1e89103c": {
      "model_module": "@jupyter-widgets/base",
      "model_module_version": "1.2.0",
      "model_name": "LayoutModel",
      "state": {}
     },
     "33a3980d9b674d359d198dfdc9536256": {
      "model_module": "@jupyter-widgets/controls",
      "model_module_version": "1.5.0",
      "model_name": "HBoxModel",
      "state": {
       "children": [
        "IPY_MODEL_3f2242c2ed604aa0b8bccadbc7a20b33",
        "IPY_MODEL_5393c197627a4cb19459c9f9b439abe2",
        "IPY_MODEL_8bc7f9cb64f54b3bb2411719167012b3"
       ],
       "layout": "IPY_MODEL_69970e04516d49829c744b3994eb6d87"
      }
     },
     "35d97b0294314fa28c93e52aea1126c2": {
      "model_module": "@jupyter-widgets/controls",
      "model_module_version": "1.5.0",
      "model_name": "HBoxModel",
      "state": {
       "children": [
        "IPY_MODEL_a933644e73754467aa48c5d0fa8f5e22",
        "IPY_MODEL_77f9eec1d6ac4fd2b2c5470bbab25096",
        "IPY_MODEL_95c65e06f8b444a2b46d1d5a6e37f2a8"
       ],
       "layout": "IPY_MODEL_ca37f3b939474632809fa15d5d8e17d4"
      }
     },
     "36b5eef6c1b242d794729ec73e8eab3c": {
      "model_module": "@jupyter-widgets/controls",
      "model_module_version": "1.5.0",
      "model_name": "HTMLModel",
      "state": {
       "layout": "IPY_MODEL_aafffc9b2b904ce19a05da30b3eb5317",
       "style": "IPY_MODEL_93ad046ee63f4fdd83070e6354b6d21a",
       "value": "  0%"
      }
     },
     "36e19b1981024f7f8faec7e1238875b2": {
      "model_module": "@jupyter-widgets/controls",
      "model_module_version": "1.5.0",
      "model_name": "DescriptionStyleModel",
      "state": {
       "description_width": ""
      }
     },
     "37600736ebed4c1ba0c695b1f1457ecb": {
      "model_module": "@jupyter-widgets/base",
      "model_module_version": "1.2.0",
      "model_name": "LayoutModel",
      "state": {}
     },
     "37618113208e4a0f9d9bed40b8ff2249": {
      "model_module": "@jupyter-widgets/controls",
      "model_module_version": "1.5.0",
      "model_name": "HTMLModel",
      "state": {
       "layout": "IPY_MODEL_a26033bb24e84a5eb9fd458f6d367b35",
       "style": "IPY_MODEL_4258b5e5d2214faea169981d289071fa",
       "value": "100%"
      }
     },
     "376290d23d554e948faede4bcc0cae23": {
      "model_module": "@jupyter-widgets/controls",
      "model_module_version": "1.5.0",
      "model_name": "DescriptionStyleModel",
      "state": {
       "description_width": ""
      }
     },
     "3765be617fbf44acb89f035b0a4fb10e": {
      "model_module": "@jupyter-widgets/controls",
      "model_module_version": "1.5.0",
      "model_name": "ProgressStyleModel",
      "state": {
       "description_width": ""
      }
     },
     "37709b2e8ee94ae7800793f3bad24cec": {
      "model_module": "@jupyter-widgets/controls",
      "model_module_version": "1.5.0",
      "model_name": "HBoxModel",
      "state": {
       "children": [
        "IPY_MODEL_dc5a7f31b5504c888366b286c6da21f3",
        "IPY_MODEL_c1a536d976b744d09a86155784ec3456",
        "IPY_MODEL_6f5433f9ca844b6690c432be1b2eef33"
       ],
       "layout": "IPY_MODEL_96dfb02b2694401cb5075f2a6347cbc5"
      }
     },
     "379a6c911d044124a8aa8c7a85637880": {
      "model_module": "@jupyter-widgets/controls",
      "model_module_version": "1.5.0",
      "model_name": "FloatProgressModel",
      "state": {
       "bar_style": "success",
       "layout": "IPY_MODEL_01f421b22acd4021bc5584835e026cea",
       "max": 4,
       "style": "IPY_MODEL_55d7a4491535428c98ebbddd2d651447",
       "value": 4
      }
     },
     "391e8c8f513b4c44b45af3595c606f93": {
      "model_module": "@jupyter-widgets/controls",
      "model_module_version": "1.5.0",
      "model_name": "ProgressStyleModel",
      "state": {
       "description_width": ""
      }
     },
     "3946ff49b79d419ea9eeb7241501e544": {
      "model_module": "@jupyter-widgets/controls",
      "model_module_version": "1.5.0",
      "model_name": "FloatProgressModel",
      "state": {
       "bar_style": "danger",
       "layout": "IPY_MODEL_0e09c08a5def4f7d9be51b93ac092873",
       "max": 2,
       "style": "IPY_MODEL_a8e2c5f55a3c41c8ba7f7eb7f0cfbfaa"
      }
     },
     "3948360e39444228a75905975a877e4a": {
      "model_module": "@jupyter-widgets/controls",
      "model_module_version": "1.5.0",
      "model_name": "FloatProgressModel",
      "state": {
       "bar_style": "danger",
       "layout": "IPY_MODEL_d4252b62cbe84703b5ba98d57e522f88",
       "max": 319,
       "style": "IPY_MODEL_62b7eb646eb741d197230e7a483356e2",
       "value": 20
      }
     },
     "397101b884bd41599035389af4b72379": {
      "model_module": "@jupyter-widgets/controls",
      "model_module_version": "1.5.0",
      "model_name": "HBoxModel",
      "state": {
       "children": [
        "IPY_MODEL_82a9691b8efc46a8884756b63ec41610",
        "IPY_MODEL_4ecfb69b3844433d8ae82bc60ee83bc0",
        "IPY_MODEL_4d6b7103936a453c91e729e1b64e6171"
       ],
       "layout": "IPY_MODEL_f36b169f23f64d8cb658a10fbd1bb92b"
      }
     },
     "39babe67b59147879b613e523e087a18": {
      "model_module": "@jupyter-widgets/base",
      "model_module_version": "1.2.0",
      "model_name": "LayoutModel",
      "state": {}
     },
     "39fcf6b0165241e48d6b357f8d52de04": {
      "model_module": "@jupyter-widgets/base",
      "model_module_version": "1.2.0",
      "model_name": "LayoutModel",
      "state": {}
     },
     "3ac8f773bdc746bdb0094499a7a61310": {
      "model_module": "@jupyter-widgets/controls",
      "model_module_version": "1.5.0",
      "model_name": "HTMLModel",
      "state": {
       "layout": "IPY_MODEL_620408f9169548df9b31fa9a6704fca8",
       "style": "IPY_MODEL_a5d43a89ada244749f90ad76af3231f9",
       "value": " 319/319 [12:25&lt;00:00,  2.25s/it]"
      }
     },
     "3ae2b83559d14f5e87b6664dac349a2a": {
      "model_module": "@jupyter-widgets/controls",
      "model_module_version": "1.5.0",
      "model_name": "HTMLModel",
      "state": {
       "layout": "IPY_MODEL_2f528979f77c46eca42ef41d286d5474",
       "style": "IPY_MODEL_66ad56e29dad4d038cbdede324123822",
       "value": "100%"
      }
     },
     "3bf1ea5d9b984d6d8ea3f1e83cacd6da": {
      "model_module": "@jupyter-widgets/controls",
      "model_module_version": "1.5.0",
      "model_name": "HTMLModel",
      "state": {
       "layout": "IPY_MODEL_aa221e1723074a6d88fea5191cb2bf23",
       "style": "IPY_MODEL_ede39c311c384674a2927f6ae33ce45a",
       "value": "  0%"
      }
     },
     "3bf5b6e11f8d412e9553a8cfc46976cb": {
      "model_module": "@jupyter-widgets/controls",
      "model_module_version": "1.5.0",
      "model_name": "FloatProgressModel",
      "state": {
       "bar_style": "success",
       "layout": "IPY_MODEL_947e9ed32ad8461083925c377f96b96b",
       "max": 570,
       "style": "IPY_MODEL_90daa7f11b374ff5a25ed3a5ddb215b6",
       "value": 570
      }
     },
     "3c3ed0c1e63248c5ba1d6fca1ec5f870": {
      "model_module": "@jupyter-widgets/controls",
      "model_module_version": "1.5.0",
      "model_name": "HTMLModel",
      "state": {
       "layout": "IPY_MODEL_801ace78980f4da3bc62240769c645ec",
       "style": "IPY_MODEL_870636fc72084f138027a2dcdc3ee913",
       "value": "  0%"
      }
     },
     "3c5f9bcb4ea0422f84a9256a28cda90d": {
      "model_module": "@jupyter-widgets/controls",
      "model_module_version": "1.5.0",
      "model_name": "HTMLModel",
      "state": {
       "layout": "IPY_MODEL_39babe67b59147879b613e523e087a18",
       "style": "IPY_MODEL_18f9d81c8a9646849eec9df54e863180",
       "value": "  0%"
      }
     },
     "3cebac7dbb884eb2a0de459bdb0ed1a6": {
      "model_module": "@jupyter-widgets/controls",
      "model_module_version": "1.5.0",
      "model_name": "DescriptionStyleModel",
      "state": {
       "description_width": ""
      }
     },
     "3d1bcb90bdcc45e8822e1ef67e56e911": {
      "model_module": "@jupyter-widgets/controls",
      "model_module_version": "1.5.0",
      "model_name": "HTMLModel",
      "state": {
       "layout": "IPY_MODEL_807a911ea716405b88d41e6a80b5d83b",
       "style": "IPY_MODEL_87894ba43f6947d3b3d1c6eb579501bb",
       "value": " 2/2 [01:08&lt;00:00, 33.27s/it]"
      }
     },
     "3d5c0e48f4424e6ba0763817ff33cfc4": {
      "model_module": "@jupyter-widgets/controls",
      "model_module_version": "1.5.0",
      "model_name": "ProgressStyleModel",
      "state": {
       "description_width": ""
      }
     },
     "3dafbe54604d42c5bce50eea830b814b": {
      "model_module": "@jupyter-widgets/base",
      "model_module_version": "1.2.0",
      "model_name": "LayoutModel",
      "state": {}
     },
     "3e1c74e0480b40e4b6387d07a3de0b8e": {
      "model_module": "@jupyter-widgets/base",
      "model_module_version": "1.2.0",
      "model_name": "LayoutModel",
      "state": {}
     },
     "3f12e89aa6484485af48a99d423b6ca5": {
      "model_module": "@jupyter-widgets/base",
      "model_module_version": "1.2.0",
      "model_name": "LayoutModel",
      "state": {}
     },
     "3f2242c2ed604aa0b8bccadbc7a20b33": {
      "model_module": "@jupyter-widgets/controls",
      "model_module_version": "1.5.0",
      "model_name": "HTMLModel",
      "state": {
       "layout": "IPY_MODEL_9b56ac93cf2d4d16b9c7d027a11e9132",
       "style": "IPY_MODEL_0783b595a059425db290375806a4821f",
       "value": "  0%"
      }
     },
     "3f9e1d3f4f54410ab22ab1aed3ee2ea5": {
      "model_module": "@jupyter-widgets/controls",
      "model_module_version": "1.5.0",
      "model_name": "HBoxModel",
      "state": {
       "children": [
        "IPY_MODEL_7bb13e41edff48009dd1958801ccbeb3",
        "IPY_MODEL_09c1f02fb2ec4101aff0991794c45707",
        "IPY_MODEL_ed1c8a350a6c474585cf3626b710b419"
       ],
       "layout": "IPY_MODEL_936e84f1024442e393b1579f26e4cae8"
      }
     },
     "3fb502ec0d9a4efd8a0ee5959d401b8b": {
      "model_module": "@jupyter-widgets/controls",
      "model_module_version": "1.5.0",
      "model_name": "HTMLModel",
      "state": {
       "layout": "IPY_MODEL_78a8c37b31ce46efb2f121f6be5b4cc3",
       "style": "IPY_MODEL_205a760bf90048d2800ae54750a377fc",
       "value": "100%"
      }
     },
     "3fe6b42c64df4163bd99d6bc1c9b0ba4": {
      "model_module": "@jupyter-widgets/base",
      "model_module_version": "1.2.0",
      "model_name": "LayoutModel",
      "state": {}
     },
     "3ffaf555736940418557cdab5b201276": {
      "model_module": "@jupyter-widgets/controls",
      "model_module_version": "1.5.0",
      "model_name": "HTMLModel",
      "state": {
       "layout": "IPY_MODEL_1eca0efc138d4dcc8c4da91ec54342a9",
       "style": "IPY_MODEL_42c6a9edb09c40f9a2862c3ee163c5d7",
       "value": " 0/2 [00:00&lt;?, ?it/s]"
      }
     },
     "400da91cba424af5999cbdf6c7512f62": {
      "model_module": "@jupyter-widgets/base",
      "model_module_version": "1.2.0",
      "model_name": "LayoutModel",
      "state": {}
     },
     "406c034933d04b9e9732e7ee0f369064": {
      "model_module": "@jupyter-widgets/controls",
      "model_module_version": "1.5.0",
      "model_name": "FloatProgressModel",
      "state": {
       "bar_style": "danger",
       "layout": "IPY_MODEL_98e951f668a14d379dde8353b8a33a35",
       "max": 2,
       "style": "IPY_MODEL_c4d5b35423e449b39596014231848b52"
      }
     },
     "4160a4f2928445eb836942911b10f9a0": {
      "model_module": "@jupyter-widgets/controls",
      "model_module_version": "1.5.0",
      "model_name": "HBoxModel",
      "state": {
       "children": [
        "IPY_MODEL_d5db1ab5cf7a42c38064745d6cddfa91",
        "IPY_MODEL_5d841a3894974accb2a1b25be87791f5",
        "IPY_MODEL_801d2aedea554e318f21f0eb63e44251"
       ],
       "layout": "IPY_MODEL_6ed0ec89d3454693bd1e305508ee5a2d"
      }
     },
     "41bf5e0af45c49ac9593fc43ae6aa086": {
      "model_module": "@jupyter-widgets/base",
      "model_module_version": "1.2.0",
      "model_name": "LayoutModel",
      "state": {}
     },
     "4258b5e5d2214faea169981d289071fa": {
      "model_module": "@jupyter-widgets/controls",
      "model_module_version": "1.5.0",
      "model_name": "DescriptionStyleModel",
      "state": {
       "description_width": ""
      }
     },
     "42c6a9edb09c40f9a2862c3ee163c5d7": {
      "model_module": "@jupyter-widgets/controls",
      "model_module_version": "1.5.0",
      "model_name": "DescriptionStyleModel",
      "state": {
       "description_width": ""
      }
     },
     "439734213ba74b18b5e95dc199a8a581": {
      "model_module": "@jupyter-widgets/base",
      "model_module_version": "1.2.0",
      "model_name": "LayoutModel",
      "state": {}
     },
     "43c2948190d34e36bd0a2f9df0e68683": {
      "model_module": "@jupyter-widgets/base",
      "model_module_version": "1.2.0",
      "model_name": "LayoutModel",
      "state": {}
     },
     "43d16a3dd51e4f1c87b1d3aaf6b4a687": {
      "model_module": "@jupyter-widgets/controls",
      "model_module_version": "1.5.0",
      "model_name": "DescriptionStyleModel",
      "state": {
       "description_width": ""
      }
     },
     "4400cffba85f456293054829ba565c85": {
      "model_module": "@jupyter-widgets/controls",
      "model_module_version": "1.5.0",
      "model_name": "DescriptionStyleModel",
      "state": {
       "description_width": ""
      }
     },
     "440cf50ab5cd4777a76bc81b55759327": {
      "model_module": "@jupyter-widgets/controls",
      "model_module_version": "1.5.0",
      "model_name": "DescriptionStyleModel",
      "state": {
       "description_width": ""
      }
     },
     "44257d425d36421db66e63ff80c10ceb": {
      "model_module": "@jupyter-widgets/base",
      "model_module_version": "1.2.0",
      "model_name": "LayoutModel",
      "state": {}
     },
     "448a6ed97c454f1191d0b6843b6964cf": {
      "model_module": "@jupyter-widgets/controls",
      "model_module_version": "1.5.0",
      "model_name": "HTMLModel",
      "state": {
       "layout": "IPY_MODEL_f773d2ece878467092c96cd36689c5b6",
       "style": "IPY_MODEL_f56c4aaed0244f66b0d563d5831c872e",
       "value": "  0%"
      }
     },
     "44a199d474714c2daa3d56461f84f021": {
      "model_module": "@jupyter-widgets/controls",
      "model_module_version": "1.5.0",
      "model_name": "FloatProgressModel",
      "state": {
       "bar_style": "danger",
       "layout": "IPY_MODEL_162c573632ad4733890383c30690f8f6",
       "max": 2,
       "style": "IPY_MODEL_1b0d2857137b46c4aef16446a3fcbde6"
      }
     },
     "4698e55452ff448fa4d624e182f687a4": {
      "model_module": "@jupyter-widgets/controls",
      "model_module_version": "1.5.0",
      "model_name": "ProgressStyleModel",
      "state": {
       "description_width": ""
      }
     },
     "469e920d413249f09ded858d19038f98": {
      "model_module": "@jupyter-widgets/controls",
      "model_module_version": "1.5.0",
      "model_name": "DescriptionStyleModel",
      "state": {
       "description_width": ""
      }
     },
     "46be12a280ef4375a7826b612f83b2ab": {
      "model_module": "@jupyter-widgets/base",
      "model_module_version": "1.2.0",
      "model_name": "LayoutModel",
      "state": {}
     },
     "46c40236acf34f2a95cc6f3aacffaa14": {
      "model_module": "@jupyter-widgets/base",
      "model_module_version": "1.2.0",
      "model_name": "LayoutModel",
      "state": {}
     },
     "494bde26e842455586121634f7dadb8c": {
      "model_module": "@jupyter-widgets/base",
      "model_module_version": "1.2.0",
      "model_name": "LayoutModel",
      "state": {}
     },
     "4a470dc22561461090d02cd46e908fb2": {
      "model_module": "@jupyter-widgets/controls",
      "model_module_version": "1.5.0",
      "model_name": "HTMLModel",
      "state": {
       "layout": "IPY_MODEL_6a7144f90fc04d9d9049777e79f8eccf",
       "style": "IPY_MODEL_db78cebc28814da697d52c6e2e00805d",
       "value": " 0/2 [00:00&lt;?, ?it/s]"
      }
     },
     "4a70e77db3714540993747cd4c29a275": {
      "model_module": "@jupyter-widgets/controls",
      "model_module_version": "1.5.0",
      "model_name": "DescriptionStyleModel",
      "state": {
       "description_width": ""
      }
     },
     "4b2d61a1b76f4ceab5c439b0e0706502": {
      "model_module": "@jupyter-widgets/base",
      "model_module_version": "1.2.0",
      "model_name": "LayoutModel",
      "state": {}
     },
     "4b6c6017bee34744833a0bce47c4d169": {
      "model_module": "@jupyter-widgets/base",
      "model_module_version": "1.2.0",
      "model_name": "LayoutModel",
      "state": {}
     },
     "4bb0056dbc9a4e0288ac3978d0a39326": {
      "model_module": "@jupyter-widgets/controls",
      "model_module_version": "1.5.0",
      "model_name": "HBoxModel",
      "state": {
       "children": [
        "IPY_MODEL_78a16504ddce4e618a68adcaa2b46ab2",
        "IPY_MODEL_f12cfca7f2a8409e9396b6979efb962d",
        "IPY_MODEL_d74b37ee723045b5af23143f596abfd0"
       ],
       "layout": "IPY_MODEL_8705deddec0649ae83777def4ea919bc"
      }
     },
     "4cbb6417ac2742708bd9e26a3e510360": {
      "model_module": "@jupyter-widgets/controls",
      "model_module_version": "1.5.0",
      "model_name": "FloatProgressModel",
      "state": {
       "bar_style": "danger",
       "layout": "IPY_MODEL_a3c6b3bcc7744fd0a1eecea80ea0f334",
       "max": 2,
       "style": "IPY_MODEL_282ed6dd3258474c973b679c191f67d1"
      }
     },
     "4d6b7103936a453c91e729e1b64e6171": {
      "model_module": "@jupyter-widgets/controls",
      "model_module_version": "1.5.0",
      "model_name": "HTMLModel",
      "state": {
       "layout": "IPY_MODEL_d2c319d2b5d04244bcfc6ab7fd24cb2a",
       "style": "IPY_MODEL_22fff2efa33f4e79861c16094b6a4351",
       "value": " 0/2 [00:00&lt;?, ?it/s]"
      }
     },
     "4e2a92019c444e6ababb8ebb237a59e7": {
      "model_module": "@jupyter-widgets/base",
      "model_module_version": "1.2.0",
      "model_name": "LayoutModel",
      "state": {}
     },
     "4e4abc4274014643b6cd83788030e204": {
      "model_module": "@jupyter-widgets/controls",
      "model_module_version": "1.5.0",
      "model_name": "ProgressStyleModel",
      "state": {
       "description_width": ""
      }
     },
     "4e4f274fae6948af9f765b42948f155e": {
      "model_module": "@jupyter-widgets/base",
      "model_module_version": "1.2.0",
      "model_name": "LayoutModel",
      "state": {}
     },
     "4e66dca5f47846a195493e4df2f4b4e6": {
      "model_module": "@jupyter-widgets/base",
      "model_module_version": "1.2.0",
      "model_name": "LayoutModel",
      "state": {}
     },
     "4e8901722c6549f5a72028867ed0b459": {
      "model_module": "@jupyter-widgets/controls",
      "model_module_version": "1.5.0",
      "model_name": "DescriptionStyleModel",
      "state": {
       "description_width": ""
      }
     },
     "4eaba37f54eb43adaefa80fb7dc0b96e": {
      "model_module": "@jupyter-widgets/base",
      "model_module_version": "1.2.0",
      "model_name": "LayoutModel",
      "state": {}
     },
     "4ecfb69b3844433d8ae82bc60ee83bc0": {
      "model_module": "@jupyter-widgets/controls",
      "model_module_version": "1.5.0",
      "model_name": "FloatProgressModel",
      "state": {
       "bar_style": "danger",
       "layout": "IPY_MODEL_4e2a92019c444e6ababb8ebb237a59e7",
       "max": 2,
       "style": "IPY_MODEL_ed93cb51f34f4f77aa656eac4d13cfc5"
      }
     },
     "4f6fabf3c9f244ce83c89dd650c06dce": {
      "model_module": "@jupyter-widgets/base",
      "model_module_version": "1.2.0",
      "model_name": "LayoutModel",
      "state": {}
     },
     "4fa574ac800642ea9a33da73570ed795": {
      "model_module": "@jupyter-widgets/controls",
      "model_module_version": "1.5.0",
      "model_name": "HBoxModel",
      "state": {
       "children": [
        "IPY_MODEL_3ae2b83559d14f5e87b6664dac349a2a",
        "IPY_MODEL_94ca605503284050a228cda6eab10e94",
        "IPY_MODEL_b96c50d0497d4f3ab4f3dbdc21bbf152"
       ],
       "layout": "IPY_MODEL_6c3d0159b2c941b89de84578a391bcaf"
      }
     },
     "506d0f1009a848708b2661bee90b3f3a": {
      "model_module": "@jupyter-widgets/controls",
      "model_module_version": "1.5.0",
      "model_name": "FloatProgressModel",
      "state": {
       "bar_style": "danger",
       "layout": "IPY_MODEL_5ccc5fcdd5fc4a5786f45c3effb888cc",
       "max": 2,
       "style": "IPY_MODEL_f270f95301964305bbbbef26a4426242"
      }
     },
     "50f49d0519fe40a482359e212c370149": {
      "model_module": "@jupyter-widgets/controls",
      "model_module_version": "1.5.0",
      "model_name": "DescriptionStyleModel",
      "state": {
       "description_width": ""
      }
     },
     "51099067a6f248b39312c5c33ad06315": {
      "model_module": "@jupyter-widgets/controls",
      "model_module_version": "1.5.0",
      "model_name": "HBoxModel",
      "state": {
       "children": [
        "IPY_MODEL_b06b395f1de84bb1a7b91cb2d0c0a099",
        "IPY_MODEL_4cbb6417ac2742708bd9e26a3e510360",
        "IPY_MODEL_5b0deff4b92d4247aad20e5f8966bed1"
       ],
       "layout": "IPY_MODEL_b41e8ceb3f2b4b3a872c1198f6ccbc2b"
      }
     },
     "51bb0ea64f2f46e79e29c0c11b2de88e": {
      "model_module": "@jupyter-widgets/controls",
      "model_module_version": "1.5.0",
      "model_name": "ProgressStyleModel",
      "state": {
       "description_width": ""
      }
     },
     "51ff1de1a6474f46959755ac3ee98ec2": {
      "model_module": "@jupyter-widgets/base",
      "model_module_version": "1.2.0",
      "model_name": "LayoutModel",
      "state": {}
     },
     "52b6a988ce3f4553b3bc6e5c27b5f80d": {
      "model_module": "@jupyter-widgets/controls",
      "model_module_version": "1.5.0",
      "model_name": "HTMLModel",
      "state": {
       "layout": "IPY_MODEL_ca7da7c6462a4c3bb3fa7bb81f46db97",
       "style": "IPY_MODEL_d00d34e304ea493b9f78dc4546e05e75",
       "value": " 536M/536M [01:25&lt;00:00, 5.54MB/s]"
      }
     },
     "53410a134aa442fda3e0ab9961e74bcd": {
      "model_module": "@jupyter-widgets/base",
      "model_module_version": "1.2.0",
      "model_name": "LayoutModel",
      "state": {}
     },
     "5393c197627a4cb19459c9f9b439abe2": {
      "model_module": "@jupyter-widgets/controls",
      "model_module_version": "1.5.0",
      "model_name": "FloatProgressModel",
      "state": {
       "bar_style": "danger",
       "layout": "IPY_MODEL_a588348144ce4429a606f075fa31698f",
       "max": 2,
       "style": "IPY_MODEL_dba513833d6042dcafc2e259cd093040"
      }
     },
     "539eb8edc4a7423691ae7e5eccf47230": {
      "model_module": "@jupyter-widgets/controls",
      "model_module_version": "1.5.0",
      "model_name": "ProgressStyleModel",
      "state": {
       "description_width": ""
      }
     },
     "54198f80d68f4221b4c13ba792d38916": {
      "model_module": "@jupyter-widgets/base",
      "model_module_version": "1.2.0",
      "model_name": "LayoutModel",
      "state": {}
     },
     "545553969e8343fe9cd81ba7377957c6": {
      "model_module": "@jupyter-widgets/base",
      "model_module_version": "1.2.0",
      "model_name": "LayoutModel",
      "state": {}
     },
     "54c7906385b94db3a2a3211b7ebdeacb": {
      "model_module": "@jupyter-widgets/controls",
      "model_module_version": "1.5.0",
      "model_name": "DescriptionStyleModel",
      "state": {
       "description_width": ""
      }
     },
     "54d77a74eb9d475caf4cfce343a18f4b": {
      "model_module": "@jupyter-widgets/base",
      "model_module_version": "1.2.0",
      "model_name": "LayoutModel",
      "state": {}
     },
     "551c267c578744138440df092b8f5100": {
      "model_module": "@jupyter-widgets/controls",
      "model_module_version": "1.5.0",
      "model_name": "HTMLModel",
      "state": {
       "layout": "IPY_MODEL_2d9889aae3f8472eb6afe70e91129d05",
       "style": "IPY_MODEL_a6303c4d6d81439faa90d4f242489f99",
       "value": "  0%"
      }
     },
     "55d7a4491535428c98ebbddd2d651447": {
      "model_module": "@jupyter-widgets/controls",
      "model_module_version": "1.5.0",
      "model_name": "ProgressStyleModel",
      "state": {
       "description_width": ""
      }
     },
     "5679ecbf4c1e466c990322c485614857": {
      "model_module": "@jupyter-widgets/controls",
      "model_module_version": "1.5.0",
      "model_name": "DescriptionStyleModel",
      "state": {
       "description_width": ""
      }
     },
     "5692562ea8544d31b8447aaa964694c8": {
      "model_module": "@jupyter-widgets/base",
      "model_module_version": "1.2.0",
      "model_name": "LayoutModel",
      "state": {}
     },
     "5899f899a73f4d02b91a9be6b263b04e": {
      "model_module": "@jupyter-widgets/base",
      "model_module_version": "1.2.0",
      "model_name": "LayoutModel",
      "state": {}
     },
     "58e2caff9c724b4cb38c1a3bc079e1f9": {
      "model_module": "@jupyter-widgets/controls",
      "model_module_version": "1.5.0",
      "model_name": "DescriptionStyleModel",
      "state": {
       "description_width": ""
      }
     },
     "58fada74f96442429c1b0f173e3d3003": {
      "model_module": "@jupyter-widgets/base",
      "model_module_version": "1.2.0",
      "model_name": "LayoutModel",
      "state": {}
     },
     "594ee1aeba0b4e73a14ce977e6d269b7": {
      "model_module": "@jupyter-widgets/controls",
      "model_module_version": "1.5.0",
      "model_name": "HBoxModel",
      "state": {
       "children": [
        "IPY_MODEL_7a4731cc14204331b1b942798bd89e61",
        "IPY_MODEL_3946ff49b79d419ea9eeb7241501e544",
        "IPY_MODEL_b1e191790627405387b0079ef3073d7a"
       ],
       "layout": "IPY_MODEL_aa1541cbd68947eb931c673f46ca6c4d"
      }
     },
     "599f71206d0c41029bfdb2f8e1f6002c": {
      "model_module": "@jupyter-widgets/controls",
      "model_module_version": "1.5.0",
      "model_name": "ProgressStyleModel",
      "state": {
       "description_width": ""
      }
     },
     "59a363ec9eac464fbb339c788a891e02": {
      "model_module": "@jupyter-widgets/base",
      "model_module_version": "1.2.0",
      "model_name": "LayoutModel",
      "state": {}
     },
     "5af5c96128ac409892f9f4649a8bb89d": {
      "model_module": "@jupyter-widgets/base",
      "model_module_version": "1.2.0",
      "model_name": "LayoutModel",
      "state": {}
     },
     "5b0deff4b92d4247aad20e5f8966bed1": {
      "model_module": "@jupyter-widgets/controls",
      "model_module_version": "1.5.0",
      "model_name": "HTMLModel",
      "state": {
       "layout": "IPY_MODEL_aa59a853d8a14f5182ebd53ad1eedc32",
       "style": "IPY_MODEL_3cebac7dbb884eb2a0de459bdb0ed1a6",
       "value": " 0/2 [00:00&lt;?, ?it/s]"
      }
     },
     "5c06ac90906942ce87968f3186668562": {
      "model_module": "@jupyter-widgets/base",
      "model_module_version": "1.2.0",
      "model_name": "LayoutModel",
      "state": {}
     },
     "5ccc5fcdd5fc4a5786f45c3effb888cc": {
      "model_module": "@jupyter-widgets/base",
      "model_module_version": "1.2.0",
      "model_name": "LayoutModel",
      "state": {}
     },
     "5d40b62295ef4e67afd658f6a8729118": {
      "model_module": "@jupyter-widgets/base",
      "model_module_version": "1.2.0",
      "model_name": "LayoutModel",
      "state": {}
     },
     "5d841a3894974accb2a1b25be87791f5": {
      "model_module": "@jupyter-widgets/controls",
      "model_module_version": "1.5.0",
      "model_name": "FloatProgressModel",
      "state": {
       "bar_style": "success",
       "layout": "IPY_MODEL_d3c6a5a347d444acbe8cd027a8c968d8",
       "max": 2,
       "style": "IPY_MODEL_29df70ea7eeb4db6b34f495ad60ccd7d",
       "value": 2
      }
     },
     "5d9aa075450140de99aafc2421dad03e": {
      "model_module": "@jupyter-widgets/controls",
      "model_module_version": "1.5.0",
      "model_name": "FloatProgressModel",
      "state": {
       "bar_style": "danger",
       "layout": "IPY_MODEL_dd0c168a6c78455faba413649eb5a9c1",
       "max": 2,
       "style": "IPY_MODEL_afda45018682405b812bb7b6db98c00b"
      }
     },
     "5ea6df6decc34ffc8038968fe6af3d1e": {
      "model_module": "@jupyter-widgets/controls",
      "model_module_version": "1.5.0",
      "model_name": "DescriptionStyleModel",
      "state": {
       "description_width": ""
      }
     },
     "5eb965d6df3e4521947b3781373f2dbd": {
      "model_module": "@jupyter-widgets/base",
      "model_module_version": "1.2.0",
      "model_name": "LayoutModel",
      "state": {}
     },
     "5fde1a51667d4d3682f0b804da7c4fe1": {
      "model_module": "@jupyter-widgets/controls",
      "model_module_version": "1.5.0",
      "model_name": "DescriptionStyleModel",
      "state": {
       "description_width": ""
      }
     },
     "600f1b6f9d6b4bb2800a22bdccde9cc6": {
      "model_module": "@jupyter-widgets/base",
      "model_module_version": "1.2.0",
      "model_name": "LayoutModel",
      "state": {}
     },
     "60369ad4a88b44b086c678d86abb7817": {
      "model_module": "@jupyter-widgets/base",
      "model_module_version": "1.2.0",
      "model_name": "LayoutModel",
      "state": {}
     },
     "604ef96d3c3e4d529e431dbdeef83d34": {
      "model_module": "@jupyter-widgets/controls",
      "model_module_version": "1.5.0",
      "model_name": "FloatProgressModel",
      "state": {
       "bar_style": "danger",
       "layout": "IPY_MODEL_46be12a280ef4375a7826b612f83b2ab",
       "max": 2,
       "style": "IPY_MODEL_986ba19d806e41f3af0876b9cc64398b"
      }
     },
     "605a041dc3d3473098ca2287a0b7f812": {
      "model_module": "@jupyter-widgets/controls",
      "model_module_version": "1.5.0",
      "model_name": "HTMLModel",
      "state": {
       "layout": "IPY_MODEL_ef16cfff41054d30b3119dd4d3d6c8b4",
       "style": "IPY_MODEL_fa5913a29f67446693da08ca79e98e1c",
       "value": " 0/2 [00:00&lt;?, ?it/s]"
      }
     },
     "605acc1b2d02414b95741b2b2d6beb31": {
      "model_module": "@jupyter-widgets/controls",
      "model_module_version": "1.5.0",
      "model_name": "HBoxModel",
      "state": {
       "children": [
        "IPY_MODEL_6dea6a0441734c70b6732845b98aefbd",
        "IPY_MODEL_911a0c0a7413489bb31587eb908972c4",
        "IPY_MODEL_6d343bc0987a4ea69166ff153001b83d"
       ],
       "layout": "IPY_MODEL_88ca30d98a8843bd803402fb7cdb45ed"
      }
     },
     "60cba245039e47b9a4e1891786e1cf9d": {
      "model_module": "@jupyter-widgets/base",
      "model_module_version": "1.2.0",
      "model_name": "LayoutModel",
      "state": {}
     },
     "61c534a0be484e9cbe809e84b8719320": {
      "model_module": "@jupyter-widgets/controls",
      "model_module_version": "1.5.0",
      "model_name": "HBoxModel",
      "state": {
       "children": [
        "IPY_MODEL_cdf37eeb459f4dddb9818f0ef5041806",
        "IPY_MODEL_99d6e5f94b9c445a914086f33dd38788",
        "IPY_MODEL_ef0d77ad2e6d4d888e7f2bce52096002"
       ],
       "layout": "IPY_MODEL_dadd719635214d139a240330b87ed2d0"
      }
     },
     "61d75254506345e3a86e92aa8f985daf": {
      "model_module": "@jupyter-widgets/base",
      "model_module_version": "1.2.0",
      "model_name": "LayoutModel",
      "state": {}
     },
     "61dd7f9726e144659181463523e275d8": {
      "model_module": "@jupyter-widgets/controls",
      "model_module_version": "1.5.0",
      "model_name": "HTMLModel",
      "state": {
       "layout": "IPY_MODEL_545553969e8343fe9cd81ba7377957c6",
       "style": "IPY_MODEL_65fed88e79514022bc00ab1e297fb621",
       "value": " 0/2 [00:00&lt;?, ?it/s]"
      }
     },
     "620408f9169548df9b31fa9a6704fca8": {
      "model_module": "@jupyter-widgets/base",
      "model_module_version": "1.2.0",
      "model_name": "LayoutModel",
      "state": {}
     },
     "623b0ca3af3d40b8accfcbcd647722c8": {
      "model_module": "@jupyter-widgets/controls",
      "model_module_version": "1.5.0",
      "model_name": "FloatProgressModel",
      "state": {
       "bar_style": "danger",
       "layout": "IPY_MODEL_93999c75630f4ced9e70db65243abc7c",
       "max": 2,
       "style": "IPY_MODEL_8496ea4d0e184f75884dc990cf3257ff"
      }
     },
     "62b7eb646eb741d197230e7a483356e2": {
      "model_module": "@jupyter-widgets/controls",
      "model_module_version": "1.5.0",
      "model_name": "ProgressStyleModel",
      "state": {
       "description_width": ""
      }
     },
     "632f095258844e29867e9b8a2f240466": {
      "model_module": "@jupyter-widgets/base",
      "model_module_version": "1.2.0",
      "model_name": "LayoutModel",
      "state": {}
     },
     "6381c3270c394266b2b6e86cc8e6f410": {
      "model_module": "@jupyter-widgets/controls",
      "model_module_version": "1.5.0",
      "model_name": "HTMLModel",
      "state": {
       "layout": "IPY_MODEL_019aaeca3d0b4561bb79eb80d584399b",
       "style": "IPY_MODEL_ee02fb2a49d0434098f1990fc48ffa6a",
       "value": " 319/319 [11:38&lt;00:00,  1.96s/it]"
      }
     },
     "639ffe37a7794d95951b25f11ddc9596": {
      "model_module": "@jupyter-widgets/controls",
      "model_module_version": "1.5.0",
      "model_name": "HTMLModel",
      "state": {
       "layout": "IPY_MODEL_a6f3e94ec8cf4b9f89e7b208f6a08c3a",
       "style": "IPY_MODEL_6c19cb2ded7b476bbba7112082fc6c04",
       "value": " 319/319 [59:39&lt;00:00,  9.94s/it]"
      }
     },
     "63adc139a7c74c23a3755fc4cf41d1bd": {
      "model_module": "@jupyter-widgets/controls",
      "model_module_version": "1.5.0",
      "model_name": "FloatProgressModel",
      "state": {
       "bar_style": "success",
       "layout": "IPY_MODEL_170a52072f7842ad9c8b7cf72755e722",
       "max": 319,
       "style": "IPY_MODEL_539eb8edc4a7423691ae7e5eccf47230",
       "value": 319
      }
     },
     "642f25a818924d9a9db0357e1588218a": {
      "model_module": "@jupyter-widgets/controls",
      "model_module_version": "1.5.0",
      "model_name": "HTMLModel",
      "state": {
       "layout": "IPY_MODEL_d7302d65d3564068adf6e5af8eb021bc",
       "style": "IPY_MODEL_26a3ef139d414406b4f7d50d2730578f",
       "value": " 0/2 [00:00&lt;?, ?it/s]"
      }
     },
     "65fed88e79514022bc00ab1e297fb621": {
      "model_module": "@jupyter-widgets/controls",
      "model_module_version": "1.5.0",
      "model_name": "DescriptionStyleModel",
      "state": {
       "description_width": ""
      }
     },
     "66ad56e29dad4d038cbdede324123822": {
      "model_module": "@jupyter-widgets/controls",
      "model_module_version": "1.5.0",
      "model_name": "DescriptionStyleModel",
      "state": {
       "description_width": ""
      }
     },
     "66cdb64197984650b4bd5562461858b2": {
      "model_module": "@jupyter-widgets/controls",
      "model_module_version": "1.5.0",
      "model_name": "HTMLModel",
      "state": {
       "layout": "IPY_MODEL_9cf20c5b17b54ca18af39f91ea192e7c",
       "style": "IPY_MODEL_cfe3a7bd2cc8467dbd1ee81d871f3526",
       "value": " 0/2 [00:00&lt;?, ?it/s]"
      }
     },
     "696ef14b1514406d82b72c59a8dd0d6e": {
      "model_module": "@jupyter-widgets/base",
      "model_module_version": "1.2.0",
      "model_name": "LayoutModel",
      "state": {}
     },
     "69970e04516d49829c744b3994eb6d87": {
      "model_module": "@jupyter-widgets/base",
      "model_module_version": "1.2.0",
      "model_name": "LayoutModel",
      "state": {}
     },
     "6999ee5b1d0346429278349cf1e6b835": {
      "model_module": "@jupyter-widgets/controls",
      "model_module_version": "1.5.0",
      "model_name": "FloatProgressModel",
      "state": {
       "bar_style": "danger",
       "layout": "IPY_MODEL_bf94faa112af4cf4ae9cdf754f9f6430",
       "max": 319,
       "style": "IPY_MODEL_27fa315efcf24e7890d64c9591b9954d",
       "value": 206
      }
     },
     "6a7144f90fc04d9d9049777e79f8eccf": {
      "model_module": "@jupyter-widgets/base",
      "model_module_version": "1.2.0",
      "model_name": "LayoutModel",
      "state": {}
     },
     "6a99ff5ec95a48229e526b8232074619": {
      "model_module": "@jupyter-widgets/controls",
      "model_module_version": "1.5.0",
      "model_name": "HTMLModel",
      "state": {
       "layout": "IPY_MODEL_3fe6b42c64df4163bd99d6bc1c9b0ba4",
       "style": "IPY_MODEL_2dc0960c88be4bea83c81b1836e6b7f6",
       "value": "  0%"
      }
     },
     "6aa6eeac0f734484b0b9c27c92ded0da": {
      "model_module": "@jupyter-widgets/controls",
      "model_module_version": "1.5.0",
      "model_name": "ProgressStyleModel",
      "state": {
       "description_width": ""
      }
     },
     "6b0c9676052f4f36bde1a507e9edf5f4": {
      "model_module": "@jupyter-widgets/controls",
      "model_module_version": "1.5.0",
      "model_name": "DescriptionStyleModel",
      "state": {
       "description_width": ""
      }
     },
     "6b98a75a51ab4e92866864eaa5b2223c": {
      "model_module": "@jupyter-widgets/base",
      "model_module_version": "1.2.0",
      "model_name": "LayoutModel",
      "state": {}
     },
     "6c19cb2ded7b476bbba7112082fc6c04": {
      "model_module": "@jupyter-widgets/controls",
      "model_module_version": "1.5.0",
      "model_name": "DescriptionStyleModel",
      "state": {
       "description_width": ""
      }
     },
     "6c3d0159b2c941b89de84578a391bcaf": {
      "model_module": "@jupyter-widgets/base",
      "model_module_version": "1.2.0",
      "model_name": "LayoutModel",
      "state": {}
     },
     "6c503439e1804aeb8d79d5c18bcba9b8": {
      "model_module": "@jupyter-widgets/controls",
      "model_module_version": "1.5.0",
      "model_name": "HBoxModel",
      "state": {
       "children": [
        "IPY_MODEL_cd2b4c10cafe488b88d28690dc4f8201",
        "IPY_MODEL_ff94a953156b429eaae45b50139a017e",
        "IPY_MODEL_281d9e9d00a3439698058a73e8d09ba0"
       ],
       "layout": "IPY_MODEL_331bbe7de4a7467a981117dd1e89103c"
      }
     },
     "6c64c8a815f54df984d479f2c27c5c2f": {
      "model_module": "@jupyter-widgets/base",
      "model_module_version": "1.2.0",
      "model_name": "LayoutModel",
      "state": {}
     },
     "6ce85ea1359d40208efccdb79487739e": {
      "model_module": "@jupyter-widgets/controls",
      "model_module_version": "1.5.0",
      "model_name": "FloatProgressModel",
      "state": {
       "bar_style": "success",
       "layout": "IPY_MODEL_4e4f274fae6948af9f765b42948f155e",
       "max": 28,
       "style": "IPY_MODEL_30e7b25522794b5082a4cc7478b4c251",
       "value": 28
      }
     },
     "6cfd2f0028234e0d98be7fe743544872": {
      "model_module": "@jupyter-widgets/base",
      "model_module_version": "1.2.0",
      "model_name": "LayoutModel",
      "state": {}
     },
     "6d343bc0987a4ea69166ff153001b83d": {
      "model_module": "@jupyter-widgets/controls",
      "model_module_version": "1.5.0",
      "model_name": "HTMLModel",
      "state": {
       "layout": "IPY_MODEL_ca1f35e2ceef4b42a05679c41dfc5dfd",
       "style": "IPY_MODEL_469e920d413249f09ded858d19038f98",
       "value": " 0/2 [00:00&lt;?, ?it/s]"
      }
     },
     "6d80077d400b4953a916b12da0e7052a": {
      "model_module": "@jupyter-widgets/base",
      "model_module_version": "1.2.0",
      "model_name": "LayoutModel",
      "state": {}
     },
     "6dd7533d0cab4bd48533208edb6a36ba": {
      "model_module": "@jupyter-widgets/controls",
      "model_module_version": "1.5.0",
      "model_name": "ProgressStyleModel",
      "state": {
       "description_width": ""
      }
     },
     "6dea6a0441734c70b6732845b98aefbd": {
      "model_module": "@jupyter-widgets/controls",
      "model_module_version": "1.5.0",
      "model_name": "HTMLModel",
      "state": {
       "layout": "IPY_MODEL_77cad77dea0240ea99017cca50ea6ce1",
       "style": "IPY_MODEL_a5b60e1450064112bde906521a9ef877",
       "value": "  0%"
      }
     },
     "6eb72f5ef2094e68b77aac75cbe00f50": {
      "model_module": "@jupyter-widgets/controls",
      "model_module_version": "1.5.0",
      "model_name": "DescriptionStyleModel",
      "state": {
       "description_width": ""
      }
     },
     "6ed0ec89d3454693bd1e305508ee5a2d": {
      "model_module": "@jupyter-widgets/base",
      "model_module_version": "1.2.0",
      "model_name": "LayoutModel",
      "state": {}
     },
     "6f5433f9ca844b6690c432be1b2eef33": {
      "model_module": "@jupyter-widgets/controls",
      "model_module_version": "1.5.0",
      "model_name": "HTMLModel",
      "state": {
       "layout": "IPY_MODEL_8de340c4e4e14d95b9d9023ecc5f1fe8",
       "style": "IPY_MODEL_8331a8e59dad43ef89b7f7e27d4239e9",
       "value": " 4/4 [00:38&lt;00:00,  8.52s/it]"
      }
     },
     "702d9bdb47024e258abc4d29fbd6bd7c": {
      "model_module": "@jupyter-widgets/controls",
      "model_module_version": "1.5.0",
      "model_name": "DescriptionStyleModel",
      "state": {
       "description_width": ""
      }
     },
     "7051ae4f1f204472bf8d4f406ca603cd": {
      "model_module": "@jupyter-widgets/controls",
      "model_module_version": "1.5.0",
      "model_name": "DescriptionStyleModel",
      "state": {
       "description_width": ""
      }
     },
     "705782e15ab242bfaea2f2d7a9b978fe": {
      "model_module": "@jupyter-widgets/controls",
      "model_module_version": "1.5.0",
      "model_name": "DescriptionStyleModel",
      "state": {
       "description_width": ""
      }
     },
     "705f53c939c14f568ae8fb5bb5a17213": {
      "model_module": "@jupyter-widgets/controls",
      "model_module_version": "1.5.0",
      "model_name": "FloatProgressModel",
      "state": {
       "bar_style": "danger",
       "layout": "IPY_MODEL_e7aabdc5464f4e1993251707ceeb927c",
       "max": 5246,
       "style": "IPY_MODEL_fa9f9bd829ab47cb997b73cd53f4684c"
      }
     },
     "71aedd4309174244aa07e87bb0aa91f0": {
      "model_module": "@jupyter-widgets/base",
      "model_module_version": "1.2.0",
      "model_name": "LayoutModel",
      "state": {}
     },
     "71e22d641adc43d8b00813989be735a9": {
      "model_module": "@jupyter-widgets/base",
      "model_module_version": "1.2.0",
      "model_name": "LayoutModel",
      "state": {}
     },
     "72366a741bc14368a1d850bd22f4affe": {
      "model_module": "@jupyter-widgets/controls",
      "model_module_version": "1.5.0",
      "model_name": "HTMLModel",
      "state": {
       "layout": "IPY_MODEL_25ac300b8b674a14918a04fc50ef489f",
       "style": "IPY_MODEL_05fa51e166ee45b2a77041c9ffb960d8",
       "value": " 4/4 [00:49&lt;00:00, 12.34s/it]"
      }
     },
     "72555bf113b8477eb3f1c99e2e4db9d3": {
      "model_module": "@jupyter-widgets/controls",
      "model_module_version": "1.5.0",
      "model_name": "DescriptionStyleModel",
      "state": {
       "description_width": ""
      }
     },
     "7340cbcb29f146b6b352cecfca2c59e3": {
      "model_module": "@jupyter-widgets/base",
      "model_module_version": "1.2.0",
      "model_name": "LayoutModel",
      "state": {}
     },
     "737abe2e19fa40df8f3c221e81cfd924": {
      "model_module": "@jupyter-widgets/controls",
      "model_module_version": "1.5.0",
      "model_name": "HTMLModel",
      "state": {
       "layout": "IPY_MODEL_0b0cd6528ef046f79c7f90fbd45c826d",
       "style": "IPY_MODEL_4e8901722c6549f5a72028867ed0b459",
       "value": "  0%"
      }
     },
     "737c84e795754301b7ec3cec13aa785f": {
      "model_module": "@jupyter-widgets/controls",
      "model_module_version": "1.5.0",
      "model_name": "DescriptionStyleModel",
      "state": {
       "description_width": ""
      }
     },
     "742c70d04d42401685eb4c7d8f4118d3": {
      "model_module": "@jupyter-widgets/base",
      "model_module_version": "1.2.0",
      "model_name": "LayoutModel",
      "state": {}
     },
     "75fa27205150421f96a7a7a152088e2e": {
      "model_module": "@jupyter-widgets/base",
      "model_module_version": "1.2.0",
      "model_name": "LayoutModel",
      "state": {}
     },
     "766d8332889042b6adbbc9b635f98d0e": {
      "model_module": "@jupyter-widgets/controls",
      "model_module_version": "1.5.0",
      "model_name": "HTMLModel",
      "state": {
       "layout": "IPY_MODEL_a3f471f3aa9444f88ffb6f0075161d98",
       "style": "IPY_MODEL_a6290f82e50d4eb797e81c168f3fe918",
       "value": " 0/2 [00:00&lt;?, ?it/s]"
      }
     },
     "766f7b42a0294817a76f0024294239e2": {
      "model_module": "@jupyter-widgets/controls",
      "model_module_version": "1.5.0",
      "model_name": "HBoxModel",
      "state": {
       "children": [
        "IPY_MODEL_37618113208e4a0f9d9bed40b8ff2249",
        "IPY_MODEL_7dba81acae5849e38502eb7b9903bcc4",
        "IPY_MODEL_bd5990c1d3244b829b4d482a0e4b1a5c"
       ],
       "layout": "IPY_MODEL_23a24bb8d03d46eb920025936c1eab11"
      }
     },
     "770289c74b424ef181aa2604072d52f5": {
      "model_module": "@jupyter-widgets/base",
      "model_module_version": "1.2.0",
      "model_name": "LayoutModel",
      "state": {}
     },
     "77cad77dea0240ea99017cca50ea6ce1": {
      "model_module": "@jupyter-widgets/base",
      "model_module_version": "1.2.0",
      "model_name": "LayoutModel",
      "state": {}
     },
     "77d32e659e7f4cfeb22e41fd24cfb4d8": {
      "model_module": "@jupyter-widgets/controls",
      "model_module_version": "1.5.0",
      "model_name": "FloatProgressModel",
      "state": {
       "bar_style": "success",
       "layout": "IPY_MODEL_5692562ea8544d31b8447aaa964694c8",
       "max": 2,
       "style": "IPY_MODEL_7e2de22e708f43fbb3d8a63903e1485e",
       "value": 2
      }
     },
     "77f9eec1d6ac4fd2b2c5470bbab25096": {
      "model_module": "@jupyter-widgets/controls",
      "model_module_version": "1.5.0",
      "model_name": "FloatProgressModel",
      "state": {
       "bar_style": "danger",
       "layout": "IPY_MODEL_c9af11bafbe643e8ae93f72d8289de1c",
       "max": 2,
       "style": "IPY_MODEL_df5f5e6ce756431bbda9cfab242c3f25"
      }
     },
     "78a16504ddce4e618a68adcaa2b46ab2": {
      "model_module": "@jupyter-widgets/controls",
      "model_module_version": "1.5.0",
      "model_name": "HTMLModel",
      "state": {
       "layout": "IPY_MODEL_39fcf6b0165241e48d6b357f8d52de04",
       "style": "IPY_MODEL_22d9e0a745a2448e9a4c67e72972dc0a",
       "value": "  0%"
      }
     },
     "78a8c37b31ce46efb2f121f6be5b4cc3": {
      "model_module": "@jupyter-widgets/base",
      "model_module_version": "1.2.0",
      "model_name": "LayoutModel",
      "state": {}
     },
     "7a4731cc14204331b1b942798bd89e61": {
      "model_module": "@jupyter-widgets/controls",
      "model_module_version": "1.5.0",
      "model_name": "HTMLModel",
      "state": {
       "layout": "IPY_MODEL_494bde26e842455586121634f7dadb8c",
       "style": "IPY_MODEL_16838674d89649a4a117201ed873349c",
       "value": "  0%"
      }
     },
     "7afd90c3f4134be0b099c21512bc7618": {
      "model_module": "@jupyter-widgets/controls",
      "model_module_version": "1.5.0",
      "model_name": "HTMLModel",
      "state": {
       "layout": "IPY_MODEL_d56e0585ff654e839dd542aacb3b5b2f",
       "style": "IPY_MODEL_e9a6fce03d964a7ea4adefe30b606bc2",
       "value": " 0/5246 [00:00&lt;?, ?it/s]"
      }
     },
     "7b9a4f7be1dc4675b2e95ee09146e1a0": {
      "model_module": "@jupyter-widgets/controls",
      "model_module_version": "1.5.0",
      "model_name": "DescriptionStyleModel",
      "state": {
       "description_width": ""
      }
     },
     "7bb13e41edff48009dd1958801ccbeb3": {
      "model_module": "@jupyter-widgets/controls",
      "model_module_version": "1.5.0",
      "model_name": "HTMLModel",
      "state": {
       "layout": "IPY_MODEL_be088e7de1604d0289c358a2c1496e44",
       "style": "IPY_MODEL_50f49d0519fe40a482359e212c370149",
       "value": "100%"
      }
     },
     "7c7128fa7ec64a4b97a40971be5176b6": {
      "model_module": "@jupyter-widgets/controls",
      "model_module_version": "1.5.0",
      "model_name": "HBoxModel",
      "state": {
       "children": [
        "IPY_MODEL_89cd0f3352ed40a5b4e60763e387e99c",
        "IPY_MODEL_e4323f94e60243b5880914f31b567775",
        "IPY_MODEL_6381c3270c394266b2b6e86cc8e6f410"
       ],
       "layout": "IPY_MODEL_61d75254506345e3a86e92aa8f985daf"
      }
     },
     "7cad28a0f30647d2b5bd290eda5212c1": {
      "model_module": "@jupyter-widgets/controls",
      "model_module_version": "1.5.0",
      "model_name": "ProgressStyleModel",
      "state": {
       "description_width": ""
      }
     },
     "7caf9e226714484399e8c56a00ec3c5f": {
      "model_module": "@jupyter-widgets/controls",
      "model_module_version": "1.5.0",
      "model_name": "DescriptionStyleModel",
      "state": {
       "description_width": ""
      }
     },
     "7cc1ab60aaaa4327b1dece8d75fa3377": {
      "model_module": "@jupyter-widgets/controls",
      "model_module_version": "1.5.0",
      "model_name": "DescriptionStyleModel",
      "state": {
       "description_width": ""
      }
     },
     "7daa826eeaf34e418f71ba9cb79b654e": {
      "model_module": "@jupyter-widgets/base",
      "model_module_version": "1.2.0",
      "model_name": "LayoutModel",
      "state": {}
     },
     "7dba81acae5849e38502eb7b9903bcc4": {
      "model_module": "@jupyter-widgets/controls",
      "model_module_version": "1.5.0",
      "model_name": "FloatProgressModel",
      "state": {
       "bar_style": "success",
       "layout": "IPY_MODEL_f2b2745b38c64a0986543d158d8ddbf8",
       "max": 2,
       "style": "IPY_MODEL_9c75e77dfcdc4069b9d794fffd8b9b48",
       "value": 2
      }
     },
     "7e2de22e708f43fbb3d8a63903e1485e": {
      "model_module": "@jupyter-widgets/controls",
      "model_module_version": "1.5.0",
      "model_name": "ProgressStyleModel",
      "state": {
       "description_width": ""
      }
     },
     "7e81890fa50f4c2b88153d1de6a05e2c": {
      "model_module": "@jupyter-widgets/controls",
      "model_module_version": "1.5.0",
      "model_name": "HBoxModel",
      "state": {
       "children": [
        "IPY_MODEL_d15f7881fcb44a6aaa6e24d0a15c33a2",
        "IPY_MODEL_940584f3f55b448f9ee9b0f14a374ba7",
        "IPY_MODEL_8db86a4f19734f429e478914eb6172da"
       ],
       "layout": "IPY_MODEL_988bf7819fb54140b16b65a6d5689321"
      }
     },
     "801ace78980f4da3bc62240769c645ec": {
      "model_module": "@jupyter-widgets/base",
      "model_module_version": "1.2.0",
      "model_name": "LayoutModel",
      "state": {}
     },
     "801d2aedea554e318f21f0eb63e44251": {
      "model_module": "@jupyter-widgets/controls",
      "model_module_version": "1.5.0",
      "model_name": "HTMLModel",
      "state": {
       "layout": "IPY_MODEL_963061837c0d4010b446f81720aea346",
       "style": "IPY_MODEL_6b0c9676052f4f36bde1a507e9edf5f4",
       "value": " 2/2 [01:04&lt;00:00, 30.48s/it]"
      }
     },
     "80207889ad8746a39414d348d2f45f1d": {
      "model_module": "@jupyter-widgets/controls",
      "model_module_version": "1.5.0",
      "model_name": "HTMLModel",
      "state": {
       "layout": "IPY_MODEL_54d77a74eb9d475caf4cfce343a18f4b",
       "style": "IPY_MODEL_54c7906385b94db3a2a3211b7ebdeacb",
       "value": "  0%"
      }
     },
     "8023a9b08a254ca9a32f7273aa9fb1e3": {
      "model_module": "@jupyter-widgets/base",
      "model_module_version": "1.2.0",
      "model_name": "LayoutModel",
      "state": {}
     },
     "807a911ea716405b88d41e6a80b5d83b": {
      "model_module": "@jupyter-widgets/base",
      "model_module_version": "1.2.0",
      "model_name": "LayoutModel",
      "state": {}
     },
     "80b62b5099484e238710d6701cf82ec7": {
      "model_module": "@jupyter-widgets/controls",
      "model_module_version": "1.5.0",
      "model_name": "HTMLModel",
      "state": {
       "layout": "IPY_MODEL_a51167b992224c93af6642fb542a9061",
       "style": "IPY_MODEL_8a0656fe1de4403d84fb3883480acd8d",
       "value": " 0/2 [00:00&lt;?, ?it/s]"
      }
     },
     "822155c6b57a4de3aea3235eae5723c9": {
      "model_module": "@jupyter-widgets/controls",
      "model_module_version": "1.5.0",
      "model_name": "HBoxModel",
      "state": {
       "children": [
        "IPY_MODEL_80207889ad8746a39414d348d2f45f1d",
        "IPY_MODEL_84cea61cdecf48008f18dd6f5e6c5bad",
        "IPY_MODEL_e4eea9b704bb40f785189e17f6da7d98"
       ],
       "layout": "IPY_MODEL_2bf6733f8bae48cd9f2e1160e9d74391"
      }
     },
     "82a9691b8efc46a8884756b63ec41610": {
      "model_module": "@jupyter-widgets/controls",
      "model_module_version": "1.5.0",
      "model_name": "HTMLModel",
      "state": {
       "layout": "IPY_MODEL_1b8e718fe4b943cfb823a4fcb0efdafe",
       "style": "IPY_MODEL_93ffd5d7f9b943b7b58ed15fb29bb540",
       "value": "  0%"
      }
     },
     "82f05e36668248d3bd8fb93a6c5ab3dd": {
      "model_module": "@jupyter-widgets/base",
      "model_module_version": "1.2.0",
      "model_name": "LayoutModel",
      "state": {}
     },
     "83176aa98cc64e12a0e883eef4683c2c": {
      "model_module": "@jupyter-widgets/controls",
      "model_module_version": "1.5.0",
      "model_name": "FloatProgressModel",
      "state": {
       "bar_style": "danger",
       "layout": "IPY_MODEL_f464e2de44ca44238eec6b771feaa7b6",
       "max": 2,
       "style": "IPY_MODEL_e93ed999131b4eb08687f5d169fd223a"
      }
     },
     "8331a8e59dad43ef89b7f7e27d4239e9": {
      "model_module": "@jupyter-widgets/controls",
      "model_module_version": "1.5.0",
      "model_name": "DescriptionStyleModel",
      "state": {
       "description_width": ""
      }
     },
     "8382578a13e64b10864c9033fcd97e5d": {
      "model_module": "@jupyter-widgets/base",
      "model_module_version": "1.2.0",
      "model_name": "LayoutModel",
      "state": {}
     },
     "83c6aef460af4a12a699001b343c37d6": {
      "model_module": "@jupyter-widgets/base",
      "model_module_version": "1.2.0",
      "model_name": "LayoutModel",
      "state": {}
     },
     "83e6b3b84c414ec99cee1de659490b88": {
      "model_module": "@jupyter-widgets/controls",
      "model_module_version": "1.5.0",
      "model_name": "ProgressStyleModel",
      "state": {
       "description_width": ""
      }
     },
     "8496ea4d0e184f75884dc990cf3257ff": {
      "model_module": "@jupyter-widgets/controls",
      "model_module_version": "1.5.0",
      "model_name": "ProgressStyleModel",
      "state": {
       "description_width": ""
      }
     },
     "84cea61cdecf48008f18dd6f5e6c5bad": {
      "model_module": "@jupyter-widgets/controls",
      "model_module_version": "1.5.0",
      "model_name": "FloatProgressModel",
      "state": {
       "bar_style": "danger",
       "layout": "IPY_MODEL_e7a150b729fb47398493f6be268281da",
       "max": 2,
       "style": "IPY_MODEL_ff51fb75ec114da4aef6023355a0d5bc"
      }
     },
     "84d1d2f930f14246bf99e4ccbd566465": {
      "model_module": "@jupyter-widgets/controls",
      "model_module_version": "1.5.0",
      "model_name": "DescriptionStyleModel",
      "state": {
       "description_width": ""
      }
     },
     "86043821a98545cc84462e40cb9acaa3": {
      "model_module": "@jupyter-widgets/base",
      "model_module_version": "1.2.0",
      "model_name": "LayoutModel",
      "state": {}
     },
     "8705deddec0649ae83777def4ea919bc": {
      "model_module": "@jupyter-widgets/base",
      "model_module_version": "1.2.0",
      "model_name": "LayoutModel",
      "state": {}
     },
     "870636fc72084f138027a2dcdc3ee913": {
      "model_module": "@jupyter-widgets/controls",
      "model_module_version": "1.5.0",
      "model_name": "DescriptionStyleModel",
      "state": {
       "description_width": ""
      }
     },
     "87168ceaec0c46d7a0673df41c57ae23": {
      "model_module": "@jupyter-widgets/base",
      "model_module_version": "1.2.0",
      "model_name": "LayoutModel",
      "state": {}
     },
     "877ffd48ed3b4d8a8c3397443ed52832": {
      "model_module": "@jupyter-widgets/controls",
      "model_module_version": "1.5.0",
      "model_name": "DescriptionStyleModel",
      "state": {
       "description_width": ""
      }
     },
     "87894ba43f6947d3b3d1c6eb579501bb": {
      "model_module": "@jupyter-widgets/controls",
      "model_module_version": "1.5.0",
      "model_name": "DescriptionStyleModel",
      "state": {
       "description_width": ""
      }
     },
     "879dc01afeac4fbba799532a54fe0606": {
      "model_module": "@jupyter-widgets/base",
      "model_module_version": "1.2.0",
      "model_name": "LayoutModel",
      "state": {}
     },
     "88abd1f540d9464481057b71ceef13d7": {
      "model_module": "@jupyter-widgets/controls",
      "model_module_version": "1.5.0",
      "model_name": "HTMLModel",
      "state": {
       "layout": "IPY_MODEL_59a363ec9eac464fbb339c788a891e02",
       "style": "IPY_MODEL_e138e609a6c545a1bbe991910002cd5c",
       "value": "Downloading: 100%"
      }
     },
     "88ca30d98a8843bd803402fb7cdb45ed": {
      "model_module": "@jupyter-widgets/base",
      "model_module_version": "1.2.0",
      "model_name": "LayoutModel",
      "state": {}
     },
     "89cd0f3352ed40a5b4e60763e387e99c": {
      "model_module": "@jupyter-widgets/controls",
      "model_module_version": "1.5.0",
      "model_name": "HTMLModel",
      "state": {
       "layout": "IPY_MODEL_b46881a5d4b64742a99eefe15c4a72f5",
       "style": "IPY_MODEL_440cf50ab5cd4777a76bc81b55759327",
       "value": "100%"
      }
     },
     "89e80f4f1e2a4c4496b765c52fc0fb00": {
      "model_module": "@jupyter-widgets/base",
      "model_module_version": "1.2.0",
      "model_name": "LayoutModel",
      "state": {}
     },
     "89ffbfe5f2bf490fb92cdb8e15d89ba1": {
      "model_module": "@jupyter-widgets/controls",
      "model_module_version": "1.5.0",
      "model_name": "DescriptionStyleModel",
      "state": {
       "description_width": ""
      }
     },
     "8a0656fe1de4403d84fb3883480acd8d": {
      "model_module": "@jupyter-widgets/controls",
      "model_module_version": "1.5.0",
      "model_name": "DescriptionStyleModel",
      "state": {
       "description_width": ""
      }
     },
     "8bc7f9cb64f54b3bb2411719167012b3": {
      "model_module": "@jupyter-widgets/controls",
      "model_module_version": "1.5.0",
      "model_name": "HTMLModel",
      "state": {
       "layout": "IPY_MODEL_4f6fabf3c9f244ce83c89dd650c06dce",
       "style": "IPY_MODEL_06bf75d98ac94774a2401c5c420feb81",
       "value": " 0/2 [00:00&lt;?, ?it/s]"
      }
     },
     "8cb7b9b6b75943cf860d8673f1e79ed5": {
      "model_module": "@jupyter-widgets/base",
      "model_module_version": "1.2.0",
      "model_name": "LayoutModel",
      "state": {}
     },
     "8d4a2c651923455e8e974056cd262400": {
      "model_module": "@jupyter-widgets/base",
      "model_module_version": "1.2.0",
      "model_name": "LayoutModel",
      "state": {}
     },
     "8db86a4f19734f429e478914eb6172da": {
      "model_module": "@jupyter-widgets/controls",
      "model_module_version": "1.5.0",
      "model_name": "HTMLModel",
      "state": {
       "layout": "IPY_MODEL_5c06ac90906942ce87968f3186668562",
       "style": "IPY_MODEL_43d16a3dd51e4f1c87b1d3aaf6b4a687",
       "value": " 0/2 [00:00&lt;?, ?it/s]"
      }
     },
     "8de340c4e4e14d95b9d9023ecc5f1fe8": {
      "model_module": "@jupyter-widgets/base",
      "model_module_version": "1.2.0",
      "model_name": "LayoutModel",
      "state": {}
     },
     "90daa7f11b374ff5a25ed3a5ddb215b6": {
      "model_module": "@jupyter-widgets/controls",
      "model_module_version": "1.5.0",
      "model_name": "ProgressStyleModel",
      "state": {
       "description_width": ""
      }
     },
     "911a0c0a7413489bb31587eb908972c4": {
      "model_module": "@jupyter-widgets/controls",
      "model_module_version": "1.5.0",
      "model_name": "FloatProgressModel",
      "state": {
       "bar_style": "danger",
       "layout": "IPY_MODEL_cda72092f7e04635b4d3b12309575f16",
       "max": 2,
       "style": "IPY_MODEL_ad20474b79134753b3a068fc39366b0c"
      }
     },
     "925463c28ce04b76981e2f9d3767c62c": {
      "model_module": "@jupyter-widgets/controls",
      "model_module_version": "1.5.0",
      "model_name": "HTMLModel",
      "state": {
       "layout": "IPY_MODEL_60369ad4a88b44b086c678d86abb7817",
       "style": "IPY_MODEL_4a70e77db3714540993747cd4c29a275",
       "value": " 0/2 [00:00&lt;?, ?it/s]"
      }
     },
     "925f4c46d7414c4faa5545655ca0a42b": {
      "model_module": "@jupyter-widgets/base",
      "model_module_version": "1.2.0",
      "model_name": "LayoutModel",
      "state": {}
     },
     "92cf943074a849f287b26bf19abfcddc": {
      "model_module": "@jupyter-widgets/controls",
      "model_module_version": "1.5.0",
      "model_name": "FloatProgressModel",
      "state": {
       "bar_style": "danger",
       "layout": "IPY_MODEL_1f6434c85f1f403686ff113b75ded7e5",
       "max": 2,
       "style": "IPY_MODEL_51bb0ea64f2f46e79e29c0c11b2de88e"
      }
     },
     "936e84f1024442e393b1579f26e4cae8": {
      "model_module": "@jupyter-widgets/base",
      "model_module_version": "1.2.0",
      "model_name": "LayoutModel",
      "state": {}
     },
     "93999c75630f4ced9e70db65243abc7c": {
      "model_module": "@jupyter-widgets/base",
      "model_module_version": "1.2.0",
      "model_name": "LayoutModel",
      "state": {}
     },
     "93ad046ee63f4fdd83070e6354b6d21a": {
      "model_module": "@jupyter-widgets/controls",
      "model_module_version": "1.5.0",
      "model_name": "DescriptionStyleModel",
      "state": {
       "description_width": ""
      }
     },
     "93d29d0094b64c409eca8ab4ff45667d": {
      "model_module": "@jupyter-widgets/base",
      "model_module_version": "1.2.0",
      "model_name": "LayoutModel",
      "state": {}
     },
     "93ffd5d7f9b943b7b58ed15fb29bb540": {
      "model_module": "@jupyter-widgets/controls",
      "model_module_version": "1.5.0",
      "model_name": "DescriptionStyleModel",
      "state": {
       "description_width": ""
      }
     },
     "940584f3f55b448f9ee9b0f14a374ba7": {
      "model_module": "@jupyter-widgets/controls",
      "model_module_version": "1.5.0",
      "model_name": "FloatProgressModel",
      "state": {
       "bar_style": "danger",
       "layout": "IPY_MODEL_15ccb1e350d743b6b2acd8cfcddf50a6",
       "max": 2,
       "style": "IPY_MODEL_07029ab88a9c4dd4b7f38dddaae52e98"
      }
     },
     "947e9ed32ad8461083925c377f96b96b": {
      "model_module": "@jupyter-widgets/base",
      "model_module_version": "1.2.0",
      "model_name": "LayoutModel",
      "state": {}
     },
     "94ca605503284050a228cda6eab10e94": {
      "model_module": "@jupyter-widgets/controls",
      "model_module_version": "1.5.0",
      "model_name": "FloatProgressModel",
      "state": {
       "bar_style": "success",
       "layout": "IPY_MODEL_d90efd9afc644789ac85022ef0ef1262",
       "max": 4,
       "style": "IPY_MODEL_f592ee8c87d34674b5725e814d8d65b5",
       "value": 4
      }
     },
     "94ddb1c43b944dcdacc921715dc5139d": {
      "model_module": "@jupyter-widgets/controls",
      "model_module_version": "1.5.0",
      "model_name": "DescriptionStyleModel",
      "state": {
       "description_width": ""
      }
     },
     "94f83561045f47b693000e16ac7007b3": {
      "model_module": "@jupyter-widgets/controls",
      "model_module_version": "1.5.0",
      "model_name": "HTMLModel",
      "state": {
       "layout": "IPY_MODEL_a4aa667c9ae641c1a074501076076fe6",
       "style": "IPY_MODEL_376290d23d554e948faede4bcc0cae23",
       "value": " 0/2 [00:00&lt;?, ?it/s]"
      }
     },
     "9525aa0f166b4c0fa63348d891450d01": {
      "model_module": "@jupyter-widgets/base",
      "model_module_version": "1.2.0",
      "model_name": "LayoutModel",
      "state": {}
     },
     "95b13e17e18e4b63a52b21fe9af29ca5": {
      "model_module": "@jupyter-widgets/controls",
      "model_module_version": "1.5.0",
      "model_name": "ProgressStyleModel",
      "state": {
       "description_width": ""
      }
     },
     "95c65e06f8b444a2b46d1d5a6e37f2a8": {
      "model_module": "@jupyter-widgets/controls",
      "model_module_version": "1.5.0",
      "model_name": "HTMLModel",
      "state": {
       "layout": "IPY_MODEL_89e80f4f1e2a4c4496b765c52fc0fb00",
       "style": "IPY_MODEL_c7725bc758434089bc2486310013808c",
       "value": " 0/2 [00:00&lt;?, ?it/s]"
      }
     },
     "95f624d716dd4b5fb5a3dc729f8bf964": {
      "model_module": "@jupyter-widgets/base",
      "model_module_version": "1.2.0",
      "model_name": "LayoutModel",
      "state": {}
     },
     "963061837c0d4010b446f81720aea346": {
      "model_module": "@jupyter-widgets/base",
      "model_module_version": "1.2.0",
      "model_name": "LayoutModel",
      "state": {}
     },
     "965436ceb2064a6e92053788ca1ed081": {
      "model_module": "@jupyter-widgets/controls",
      "model_module_version": "1.5.0",
      "model_name": "HTMLModel",
      "state": {
       "layout": "IPY_MODEL_9525aa0f166b4c0fa63348d891450d01",
       "style": "IPY_MODEL_1cff44661fce4f4786575061fdcbbc12",
       "value": " 0/2 [00:00&lt;?, ?it/s]"
      }
     },
     "96dfb02b2694401cb5075f2a6347cbc5": {
      "model_module": "@jupyter-widgets/base",
      "model_module_version": "1.2.0",
      "model_name": "LayoutModel",
      "state": {}
     },
     "978b270d73584026a7a365bbbcbbe412": {
      "model_module": "@jupyter-widgets/controls",
      "model_module_version": "1.5.0",
      "model_name": "FloatProgressModel",
      "state": {
       "bar_style": "danger",
       "layout": "IPY_MODEL_4b6c6017bee34744833a0bce47c4d169",
       "max": 2,
       "style": "IPY_MODEL_4e4abc4274014643b6cd83788030e204"
      }
     },
     "98454f9ea88a4499b0e603b07674e5b6": {
      "model_module": "@jupyter-widgets/base",
      "model_module_version": "1.2.0",
      "model_name": "LayoutModel",
      "state": {}
     },
     "986ba19d806e41f3af0876b9cc64398b": {
      "model_module": "@jupyter-widgets/controls",
      "model_module_version": "1.5.0",
      "model_name": "ProgressStyleModel",
      "state": {
       "description_width": ""
      }
     },
     "988bf7819fb54140b16b65a6d5689321": {
      "model_module": "@jupyter-widgets/base",
      "model_module_version": "1.2.0",
      "model_name": "LayoutModel",
      "state": {}
     },
     "98e951f668a14d379dde8353b8a33a35": {
      "model_module": "@jupyter-widgets/base",
      "model_module_version": "1.2.0",
      "model_name": "LayoutModel",
      "state": {}
     },
     "997964c062914c179990a18898d95c17": {
      "model_module": "@jupyter-widgets/controls",
      "model_module_version": "1.5.0",
      "model_name": "HBoxModel",
      "state": {
       "children": [
        "IPY_MODEL_0bc9ce2527064f0b9574eae4fa2aac94",
        "IPY_MODEL_83176aa98cc64e12a0e883eef4683c2c",
        "IPY_MODEL_1281b87193b2424a88bd655262f00ad0"
       ],
       "layout": "IPY_MODEL_98454f9ea88a4499b0e603b07674e5b6"
      }
     },
     "99aa9b72d0a3452a9093b4d3727e77c2": {
      "model_module": "@jupyter-widgets/controls",
      "model_module_version": "1.5.0",
      "model_name": "HBoxModel",
      "state": {
       "children": [
        "IPY_MODEL_a1af20b371e84360ac7e80cc24288024",
        "IPY_MODEL_d9519c1cdae94d2d8ea17a4934cedaff",
        "IPY_MODEL_639ffe37a7794d95951b25f11ddc9596"
       ],
       "layout": "IPY_MODEL_b4e83673b3484da9952f619cbffd03d6"
      }
     },
     "99d6e5f94b9c445a914086f33dd38788": {
      "model_module": "@jupyter-widgets/controls",
      "model_module_version": "1.5.0",
      "model_name": "FloatProgressModel",
      "state": {
       "bar_style": "danger",
       "layout": "IPY_MODEL_83c6aef460af4a12a699001b343c37d6",
       "max": 319,
       "style": "IPY_MODEL_1e93fded773745e3b4a5270bdf0168bb"
      }
     },
     "99f81eccc70f4a89870be5f869bd635d": {
      "model_module": "@jupyter-widgets/base",
      "model_module_version": "1.2.0",
      "model_name": "LayoutModel",
      "state": {}
     },
     "9a5a2f4c7ae7494e981f097b020ed616": {
      "model_module": "@jupyter-widgets/base",
      "model_module_version": "1.2.0",
      "model_name": "LayoutModel",
      "state": {}
     },
     "9aabc70bc96341e28720b06bd360312b": {
      "model_module": "@jupyter-widgets/base",
      "model_module_version": "1.2.0",
      "model_name": "LayoutModel",
      "state": {}
     },
     "9b1b049ca8914e95ab3703c432e7c2e6": {
      "model_module": "@jupyter-widgets/base",
      "model_module_version": "1.2.0",
      "model_name": "LayoutModel",
      "state": {}
     },
     "9b2a1fa147084936ae2174b5767f3cfb": {
      "model_module": "@jupyter-widgets/controls",
      "model_module_version": "1.5.0",
      "model_name": "FloatProgressModel",
      "state": {
       "bar_style": "success",
       "layout": "IPY_MODEL_7daa826eeaf34e418f71ba9cb79b654e",
       "max": 536063208,
       "style": "IPY_MODEL_a80d9440a6be437fa3bb17b42d41b8bd",
       "value": 536063208
      }
     },
     "9b56ac93cf2d4d16b9c7d027a11e9132": {
      "model_module": "@jupyter-widgets/base",
      "model_module_version": "1.2.0",
      "model_name": "LayoutModel",
      "state": {}
     },
     "9bfe4f23ac4f4e378499a6c325646032": {
      "model_module": "@jupyter-widgets/controls",
      "model_module_version": "1.5.0",
      "model_name": "FloatProgressModel",
      "state": {
       "bar_style": "success",
       "layout": "IPY_MODEL_b5d6b1a32bdc40f4a86a5280aadc27b8",
       "max": 319,
       "style": "IPY_MODEL_f7ceebf5f18c4a0bafbe4e90011d0d22",
       "value": 319
      }
     },
     "9c75e77dfcdc4069b9d794fffd8b9b48": {
      "model_module": "@jupyter-widgets/controls",
      "model_module_version": "1.5.0",
      "model_name": "ProgressStyleModel",
      "state": {
       "description_width": ""
      }
     },
     "9c803da1c8c34ce49914f5801e970cc4": {
      "model_module": "@jupyter-widgets/controls",
      "model_module_version": "1.5.0",
      "model_name": "FloatProgressModel",
      "state": {
       "bar_style": "danger",
       "layout": "IPY_MODEL_95f624d716dd4b5fb5a3dc729f8bf964",
       "max": 2,
       "style": "IPY_MODEL_391e8c8f513b4c44b45af3595c606f93"
      }
     },
     "9cf20c5b17b54ca18af39f91ea192e7c": {
      "model_module": "@jupyter-widgets/base",
      "model_module_version": "1.2.0",
      "model_name": "LayoutModel",
      "state": {}
     },
     "9e7d62b50c404d3492a1d54eb1e23f80": {
      "model_module": "@jupyter-widgets/controls",
      "model_module_version": "1.5.0",
      "model_name": "HBoxModel",
      "state": {
       "children": [
        "IPY_MODEL_276ff98ac9844b8e8fcb3ea6a694d896",
        "IPY_MODEL_ba2e016e45334fe29944ce3fa713ff6a",
        "IPY_MODEL_e85117b8a48e4d178ba00a3cea714e05"
       ],
       "layout": "IPY_MODEL_632f095258844e29867e9b8a2f240466"
      }
     },
     "a128066e445d4413ae46786806cc94f3": {
      "model_module": "@jupyter-widgets/controls",
      "model_module_version": "1.5.0",
      "model_name": "FloatProgressModel",
      "state": {
       "bar_style": "danger",
       "layout": "IPY_MODEL_dde4847d0cf040e5bbfe239f3c62f82d",
       "max": 2,
       "style": "IPY_MODEL_2dc60c85cce34629a047a4d2274d0bbf"
      }
     },
     "a1af20b371e84360ac7e80cc24288024": {
      "model_module": "@jupyter-widgets/controls",
      "model_module_version": "1.5.0",
      "model_name": "HTMLModel",
      "state": {
       "layout": "IPY_MODEL_6b98a75a51ab4e92866864eaa5b2223c",
       "style": "IPY_MODEL_5679ecbf4c1e466c990322c485614857",
       "value": "100%"
      }
     },
     "a26033bb24e84a5eb9fd458f6d367b35": {
      "model_module": "@jupyter-widgets/base",
      "model_module_version": "1.2.0",
      "model_name": "LayoutModel",
      "state": {}
     },
     "a34c9d450472484db4a76e9c9f933469": {
      "model_module": "@jupyter-widgets/controls",
      "model_module_version": "1.5.0",
      "model_name": "HTMLModel",
      "state": {
       "layout": "IPY_MODEL_0ff80a6f463c4404a19d2e571f00ecc7",
       "style": "IPY_MODEL_7caf9e226714484399e8c56a00ec3c5f",
       "value": " 20/319 [04:21&lt;1:00:48, 12.20s/it]"
      }
     },
     "a3c6b3bcc7744fd0a1eecea80ea0f334": {
      "model_module": "@jupyter-widgets/base",
      "model_module_version": "1.2.0",
      "model_name": "LayoutModel",
      "state": {}
     },
     "a3f3ac9f63214593be2da72484c17a47": {
      "model_module": "@jupyter-widgets/controls",
      "model_module_version": "1.5.0",
      "model_name": "HBoxModel",
      "state": {
       "children": [
        "IPY_MODEL_d06958d7156840f4b8f93a8fcda9881e",
        "IPY_MODEL_aeb560550b024732b5fa844535bbde97",
        "IPY_MODEL_0bd22c133d144cb18d1e8a576f40c0b2"
       ],
       "layout": "IPY_MODEL_d0707e517ce944498550bda07fffe180"
      }
     },
     "a3f471f3aa9444f88ffb6f0075161d98": {
      "model_module": "@jupyter-widgets/base",
      "model_module_version": "1.2.0",
      "model_name": "LayoutModel",
      "state": {}
     },
     "a4aa667c9ae641c1a074501076076fe6": {
      "model_module": "@jupyter-widgets/base",
      "model_module_version": "1.2.0",
      "model_name": "LayoutModel",
      "state": {}
     },
     "a51167b992224c93af6642fb542a9061": {
      "model_module": "@jupyter-widgets/base",
      "model_module_version": "1.2.0",
      "model_name": "LayoutModel",
      "state": {}
     },
     "a521a8a4f60e4369916c7310ae02e517": {
      "model_module": "@jupyter-widgets/base",
      "model_module_version": "1.2.0",
      "model_name": "LayoutModel",
      "state": {}
     },
     "a54bd8e80095421984114a714553b774": {
      "model_module": "@jupyter-widgets/controls",
      "model_module_version": "1.5.0",
      "model_name": "HTMLModel",
      "state": {
       "layout": "IPY_MODEL_43c2948190d34e36bd0a2f9df0e68683",
       "style": "IPY_MODEL_084dbc07a8b54746a1edd80db7e4e5b6",
       "value": " 206/319 [40:15&lt;22:21, 11.88s/it]"
      }
     },
     "a58402a613364262b7dfdeebd2835918": {
      "model_module": "@jupyter-widgets/base",
      "model_module_version": "1.2.0",
      "model_name": "LayoutModel",
      "state": {}
     },
     "a588348144ce4429a606f075fa31698f": {
      "model_module": "@jupyter-widgets/base",
      "model_module_version": "1.2.0",
      "model_name": "LayoutModel",
      "state": {}
     },
     "a5b60e1450064112bde906521a9ef877": {
      "model_module": "@jupyter-widgets/controls",
      "model_module_version": "1.5.0",
      "model_name": "DescriptionStyleModel",
      "state": {
       "description_width": ""
      }
     },
     "a5d43a89ada244749f90ad76af3231f9": {
      "model_module": "@jupyter-widgets/controls",
      "model_module_version": "1.5.0",
      "model_name": "DescriptionStyleModel",
      "state": {
       "description_width": ""
      }
     },
     "a5efa63f83c949558a55e084c0ee8856": {
      "model_module": "@jupyter-widgets/base",
      "model_module_version": "1.2.0",
      "model_name": "LayoutModel",
      "state": {}
     },
     "a6290f82e50d4eb797e81c168f3fe918": {
      "model_module": "@jupyter-widgets/controls",
      "model_module_version": "1.5.0",
      "model_name": "DescriptionStyleModel",
      "state": {
       "description_width": ""
      }
     },
     "a6303c4d6d81439faa90d4f242489f99": {
      "model_module": "@jupyter-widgets/controls",
      "model_module_version": "1.5.0",
      "model_name": "DescriptionStyleModel",
      "state": {
       "description_width": ""
      }
     },
     "a659642d31aa43e588d040735f2a534c": {
      "model_module": "@jupyter-widgets/controls",
      "model_module_version": "1.5.0",
      "model_name": "DescriptionStyleModel",
      "state": {
       "description_width": ""
      }
     },
     "a6f3e94ec8cf4b9f89e7b208f6a08c3a": {
      "model_module": "@jupyter-widgets/base",
      "model_module_version": "1.2.0",
      "model_name": "LayoutModel",
      "state": {}
     },
     "a6f9617ee8f34ac3a667cecb3bbcee32": {
      "model_module": "@jupyter-widgets/controls",
      "model_module_version": "1.5.0",
      "model_name": "HBoxModel",
      "state": {
       "children": [
        "IPY_MODEL_22189cf8bd78433c9778441d75778937",
        "IPY_MODEL_406c034933d04b9e9732e7ee0f369064",
        "IPY_MODEL_c5af16034f8b4969bd26dae820149b07"
       ],
       "layout": "IPY_MODEL_41bf5e0af45c49ac9593fc43ae6aa086"
      }
     },
     "a80d9440a6be437fa3bb17b42d41b8bd": {
      "model_module": "@jupyter-widgets/controls",
      "model_module_version": "1.5.0",
      "model_name": "ProgressStyleModel",
      "state": {
       "description_width": ""
      }
     },
     "a8e2c5f55a3c41c8ba7f7eb7f0cfbfaa": {
      "model_module": "@jupyter-widgets/controls",
      "model_module_version": "1.5.0",
      "model_name": "ProgressStyleModel",
      "state": {
       "description_width": ""
      }
     },
     "a8fd0e5b7eed48439164b38f313e0834": {
      "model_module": "@jupyter-widgets/base",
      "model_module_version": "1.2.0",
      "model_name": "LayoutModel",
      "state": {}
     },
     "a92a3882928949948a876bb6e0292f61": {
      "model_module": "@jupyter-widgets/base",
      "model_module_version": "1.2.0",
      "model_name": "LayoutModel",
      "state": {}
     },
     "a933644e73754467aa48c5d0fa8f5e22": {
      "model_module": "@jupyter-widgets/controls",
      "model_module_version": "1.5.0",
      "model_name": "HTMLModel",
      "state": {
       "layout": "IPY_MODEL_71e22d641adc43d8b00813989be735a9",
       "style": "IPY_MODEL_e1add027b0b24736b48a28164b5d150a",
       "value": "  0%"
      }
     },
     "a9cc95e34e084cbb9a4a0c012f56ad4a": {
      "model_module": "@jupyter-widgets/controls",
      "model_module_version": "1.5.0",
      "model_name": "HBoxModel",
      "state": {
       "children": [
        "IPY_MODEL_d5c202e8331f44ecbe82cddb8ab402c3",
        "IPY_MODEL_0d53edf748714a1ba49d3cf83fbd9ec0",
        "IPY_MODEL_4a470dc22561461090d02cd46e908fb2"
       ],
       "layout": "IPY_MODEL_ff117840d82842c6977b74561cd78eee"
      }
     },
     "aa1541cbd68947eb931c673f46ca6c4d": {
      "model_module": "@jupyter-widgets/base",
      "model_module_version": "1.2.0",
      "model_name": "LayoutModel",
      "state": {}
     },
     "aa221e1723074a6d88fea5191cb2bf23": {
      "model_module": "@jupyter-widgets/base",
      "model_module_version": "1.2.0",
      "model_name": "LayoutModel",
      "state": {}
     },
     "aa59a853d8a14f5182ebd53ad1eedc32": {
      "model_module": "@jupyter-widgets/base",
      "model_module_version": "1.2.0",
      "model_name": "LayoutModel",
      "state": {}
     },
     "aafffc9b2b904ce19a05da30b3eb5317": {
      "model_module": "@jupyter-widgets/base",
      "model_module_version": "1.2.0",
      "model_name": "LayoutModel",
      "state": {}
     },
     "ab77437260d04bb1b34814420175186d": {
      "model_module": "@jupyter-widgets/controls",
      "model_module_version": "1.5.0",
      "model_name": "HTMLModel",
      "state": {
       "layout": "IPY_MODEL_f5290e3091e541a3bae1addc6af9b4eb",
       "style": "IPY_MODEL_1e71a0c9360f4802ae6ff9a979d57869",
       "value": "100%"
      }
     },
     "ad20474b79134753b3a068fc39366b0c": {
      "model_module": "@jupyter-widgets/controls",
      "model_module_version": "1.5.0",
      "model_name": "ProgressStyleModel",
      "state": {
       "description_width": ""
      }
     },
     "ad5b87eb4a49470f9014db8b08382a27": {
      "model_module": "@jupyter-widgets/controls",
      "model_module_version": "1.5.0",
      "model_name": "HBoxModel",
      "state": {
       "children": [
        "IPY_MODEL_e0ebcafa1397413285193d049c4d4ba4",
        "IPY_MODEL_44a199d474714c2daa3d56461f84f021",
        "IPY_MODEL_b09913418e3c4338bb8a8fc8351477ac"
       ],
       "layout": "IPY_MODEL_e5f9af88e7a44f78b457167f0bb28288"
      }
     },
     "ad90a9aae3174030b71b3c6dc7a78aea": {
      "model_module": "@jupyter-widgets/controls",
      "model_module_version": "1.5.0",
      "model_name": "HTMLModel",
      "state": {
       "layout": "IPY_MODEL_277d120051d348379ad49fc0a3538dea",
       "style": "IPY_MODEL_cc53209b647b4f909c8cd3459ca53cea",
       "value": " 0/2 [00:00&lt;?, ?it/s]"
      }
     },
     "ae0869294868433897a14e96089eb2bf": {
      "model_module": "@jupyter-widgets/base",
      "model_module_version": "1.2.0",
      "model_name": "LayoutModel",
      "state": {}
     },
     "ae6dc915233f45f889d65908c96b048a": {
      "model_module": "@jupyter-widgets/controls",
      "model_module_version": "1.5.0",
      "model_name": "HBoxModel",
      "state": {
       "children": [
        "IPY_MODEL_db7c9527a8c8456daa44f1f719b4bdaa",
        "IPY_MODEL_de79298f024f4e0cadf3cae94de09c90",
        "IPY_MODEL_292436974a4a4cd58c319e994044fc58"
       ],
       "layout": "IPY_MODEL_df01735d941a4d789e1ab75e7cbbf6b3"
      }
     },
     "aeb560550b024732b5fa844535bbde97": {
      "model_module": "@jupyter-widgets/controls",
      "model_module_version": "1.5.0",
      "model_name": "FloatProgressModel",
      "state": {
       "bar_style": "success",
       "layout": "IPY_MODEL_9a5a2f4c7ae7494e981f097b020ed616",
       "max": 231508,
       "style": "IPY_MODEL_172fa2188f76440aa062a1cda0c0b228",
       "value": 231508
      }
     },
     "af1d25ff92124df8a60281c34c02817e": {
      "model_module": "@jupyter-widgets/controls",
      "model_module_version": "1.5.0",
      "model_name": "DescriptionStyleModel",
      "state": {
       "description_width": ""
      }
     },
     "af243cea1e124774a7c67c2d08b4438f": {
      "model_module": "@jupyter-widgets/base",
      "model_module_version": "1.2.0",
      "model_name": "LayoutModel",
      "state": {}
     },
     "afda45018682405b812bb7b6db98c00b": {
      "model_module": "@jupyter-widgets/controls",
      "model_module_version": "1.5.0",
      "model_name": "ProgressStyleModel",
      "state": {
       "description_width": ""
      }
     },
     "b06b395f1de84bb1a7b91cb2d0c0a099": {
      "model_module": "@jupyter-widgets/controls",
      "model_module_version": "1.5.0",
      "model_name": "HTMLModel",
      "state": {
       "layout": "IPY_MODEL_5eb965d6df3e4521947b3781373f2dbd",
       "style": "IPY_MODEL_174facf07e4a4ad79b9f599fdee338ad",
       "value": "  0%"
      }
     },
     "b094b864bacf44f7ad28f981ce3f3ca7": {
      "model_module": "@jupyter-widgets/base",
      "model_module_version": "1.2.0",
      "model_name": "LayoutModel",
      "state": {}
     },
     "b09913418e3c4338bb8a8fc8351477ac": {
      "model_module": "@jupyter-widgets/controls",
      "model_module_version": "1.5.0",
      "model_name": "HTMLModel",
      "state": {
       "layout": "IPY_MODEL_60cba245039e47b9a4e1891786e1cf9d",
       "style": "IPY_MODEL_af1d25ff92124df8a60281c34c02817e",
       "value": " 0/2 [00:00&lt;?, ?it/s]"
      }
     },
     "b0b98023cc834becbd461026be0141b5": {
      "model_module": "@jupyter-widgets/controls",
      "model_module_version": "1.5.0",
      "model_name": "DescriptionStyleModel",
      "state": {
       "description_width": ""
      }
     },
     "b14f01e8250641dbb105940a4caa2c10": {
      "model_module": "@jupyter-widgets/controls",
      "model_module_version": "1.5.0",
      "model_name": "HTMLModel",
      "state": {
       "layout": "IPY_MODEL_d32f0cd564c5494ebdb0c31a871f4a39",
       "style": "IPY_MODEL_eacd698578cd409aa2bfd72cf2fa51ca",
       "value": " 0/2 [00:00&lt;?, ?it/s]"
      }
     },
     "b166b1ac53184a558c00e0bc702ea5ce": {
      "model_module": "@jupyter-widgets/controls",
      "model_module_version": "1.5.0",
      "model_name": "HBoxModel",
      "state": {
       "children": [
        "IPY_MODEL_f0b222d8a6c24325a4c91261dc85b561",
        "IPY_MODEL_604ef96d3c3e4d529e431dbdeef83d34",
        "IPY_MODEL_3ffaf555736940418557cdab5b201276"
       ],
       "layout": "IPY_MODEL_3e1c74e0480b40e4b6387d07a3de0b8e"
      }
     },
     "b1e191790627405387b0079ef3073d7a": {
      "model_module": "@jupyter-widgets/controls",
      "model_module_version": "1.5.0",
      "model_name": "HTMLModel",
      "state": {
       "layout": "IPY_MODEL_439734213ba74b18b5e95dc199a8a581",
       "style": "IPY_MODEL_be2631203e234618bbed3110dd9edddf",
       "value": " 0/2 [00:00&lt;?, ?it/s]"
      }
     },
     "b26d8e77eae241f0976c6875f12bb26c": {
      "model_module": "@jupyter-widgets/base",
      "model_module_version": "1.2.0",
      "model_name": "LayoutModel",
      "state": {}
     },
     "b2739ba280754244a3a9eba0a81efe76": {
      "model_module": "@jupyter-widgets/controls",
      "model_module_version": "1.5.0",
      "model_name": "FloatProgressModel",
      "state": {
       "bar_style": "danger",
       "layout": "IPY_MODEL_cca3553819154c268aada76f9c00502f",
       "max": 2,
       "style": "IPY_MODEL_c67d0cbc56ee4385b1619b6fc11b4d71"
      }
     },
     "b3534c1581d845c187a5092b192c3593": {
      "model_module": "@jupyter-widgets/controls",
      "model_module_version": "1.5.0",
      "model_name": "HBoxModel",
      "state": {
       "children": [
        "IPY_MODEL_6a99ff5ec95a48229e526b8232074619",
        "IPY_MODEL_5d9aa075450140de99aafc2421dad03e",
        "IPY_MODEL_eecf017364514f6fbe98ef7ce81eb6c3"
       ],
       "layout": "IPY_MODEL_99f81eccc70f4a89870be5f869bd635d"
      }
     },
     "b3772e0efeda4b5d9193864a81db1623": {
      "model_module": "@jupyter-widgets/controls",
      "model_module_version": "1.5.0",
      "model_name": "ProgressStyleModel",
      "state": {
       "description_width": ""
      }
     },
     "b41e8ceb3f2b4b3a872c1198f6ccbc2b": {
      "model_module": "@jupyter-widgets/base",
      "model_module_version": "1.2.0",
      "model_name": "LayoutModel",
      "state": {}
     },
     "b46881a5d4b64742a99eefe15c4a72f5": {
      "model_module": "@jupyter-widgets/base",
      "model_module_version": "1.2.0",
      "model_name": "LayoutModel",
      "state": {}
     },
     "b4e83673b3484da9952f619cbffd03d6": {
      "model_module": "@jupyter-widgets/base",
      "model_module_version": "1.2.0",
      "model_name": "LayoutModel",
      "state": {}
     },
     "b5d6b1a32bdc40f4a86a5280aadc27b8": {
      "model_module": "@jupyter-widgets/base",
      "model_module_version": "1.2.0",
      "model_name": "LayoutModel",
      "state": {}
     },
     "b6ab61680b0d4688b8a1036be914f67b": {
      "model_module": "@jupyter-widgets/controls",
      "model_module_version": "1.5.0",
      "model_name": "ProgressStyleModel",
      "state": {
       "description_width": ""
      }
     },
     "b96c50d0497d4f3ab4f3dbdc21bbf152": {
      "model_module": "@jupyter-widgets/controls",
      "model_module_version": "1.5.0",
      "model_name": "HTMLModel",
      "state": {
       "layout": "IPY_MODEL_cfe9b3cc8c0140a0aa77f27c59c0d2ff",
       "style": "IPY_MODEL_e1182489c72a4c5b8bd179f4065f1a67",
       "value": " 4/4 [00:50&lt;00:00, 12.73s/it]"
      }
     },
     "b9c88bc1ff274e4083e476d0c4de5a78": {
      "model_module": "@jupyter-widgets/controls",
      "model_module_version": "1.5.0",
      "model_name": "ProgressStyleModel",
      "state": {
       "description_width": ""
      }
     },
     "ba18438e491f4ee49db91d93cfe17ad1": {
      "model_module": "@jupyter-widgets/controls",
      "model_module_version": "1.5.0",
      "model_name": "HBoxModel",
      "state": {
       "children": [
        "IPY_MODEL_36b5eef6c1b242d794729ec73e8eab3c",
        "IPY_MODEL_271fc5878844425fba89772a4dc18962",
        "IPY_MODEL_1e3db0a054154ff7b45828fc425b5e88"
       ],
       "layout": "IPY_MODEL_fc401e4ce70f45c4992c95e79eb8e3b4"
      }
     },
     "ba2e016e45334fe29944ce3fa713ff6a": {
      "model_module": "@jupyter-widgets/controls",
      "model_module_version": "1.5.0",
      "model_name": "FloatProgressModel",
      "state": {
       "bar_style": "danger",
       "layout": "IPY_MODEL_86043821a98545cc84462e40cb9acaa3",
       "max": 2,
       "style": "IPY_MODEL_15a466fbd54c440d8292bb4b00cdcac0"
      }
     },
     "baa65bf53d3d424abe601eca7de6d712": {
      "model_module": "@jupyter-widgets/base",
      "model_module_version": "1.2.0",
      "model_name": "LayoutModel",
      "state": {}
     },
     "bd5990c1d3244b829b4d482a0e4b1a5c": {
      "model_module": "@jupyter-widgets/controls",
      "model_module_version": "1.5.0",
      "model_name": "HTMLModel",
      "state": {
       "layout": "IPY_MODEL_82f05e36668248d3bd8fb93a6c5ab3dd",
       "style": "IPY_MODEL_4400cffba85f456293054829ba565c85",
       "value": " 2/2 [01:09&lt;00:00, 33.32s/it]"
      }
     },
     "bdef66e22c1740e08fa33bd7d88f9f4c": {
      "model_module": "@jupyter-widgets/base",
      "model_module_version": "1.2.0",
      "model_name": "LayoutModel",
      "state": {}
     },
     "be088e7de1604d0289c358a2c1496e44": {
      "model_module": "@jupyter-widgets/base",
      "model_module_version": "1.2.0",
      "model_name": "LayoutModel",
      "state": {}
     },
     "be2631203e234618bbed3110dd9edddf": {
      "model_module": "@jupyter-widgets/controls",
      "model_module_version": "1.5.0",
      "model_name": "DescriptionStyleModel",
      "state": {
       "description_width": ""
      }
     },
     "befc5bbd44c44a39b493cf1d7439d306": {
      "model_module": "@jupyter-widgets/controls",
      "model_module_version": "1.5.0",
      "model_name": "DescriptionStyleModel",
      "state": {
       "description_width": ""
      }
     },
     "bf3cdd3bea9d47e28b6acbcadb9be92c": {
      "model_module": "@jupyter-widgets/controls",
      "model_module_version": "1.5.0",
      "model_name": "HBoxModel",
      "state": {
       "children": [
        "IPY_MODEL_1da53341db2a4c4296fab167ee4f12ca",
        "IPY_MODEL_506d0f1009a848708b2661bee90b3f3a",
        "IPY_MODEL_b14f01e8250641dbb105940a4caa2c10"
       ],
       "layout": "IPY_MODEL_12da9c7724314f6baa21ca11fd171213"
      }
     },
     "bf94faa112af4cf4ae9cdf754f9f6430": {
      "model_module": "@jupyter-widgets/base",
      "model_module_version": "1.2.0",
      "model_name": "LayoutModel",
      "state": {}
     },
     "c0a71bbefaab46b9b68358ab021e867d": {
      "model_module": "@jupyter-widgets/controls",
      "model_module_version": "1.5.0",
      "model_name": "FloatProgressModel",
      "state": {
       "bar_style": "danger",
       "layout": "IPY_MODEL_ffa2d5ef8c77492fa2c742547557f1f1",
       "max": 2,
       "style": "IPY_MODEL_3765be617fbf44acb89f035b0a4fb10e"
      }
     },
     "c12245a5fa4d449fa711fd9595ca25fc": {
      "model_module": "@jupyter-widgets/controls",
      "model_module_version": "1.5.0",
      "model_name": "HTMLModel",
      "state": {
       "layout": "IPY_MODEL_d4aaf96b0849443992256923461fe99d",
       "style": "IPY_MODEL_84d1d2f930f14246bf99e4ccbd566465",
       "value": " 0/2 [00:00&lt;?, ?it/s]"
      }
     },
     "c1a32ca9b3544e918e570fb6565b612b": {
      "model_module": "@jupyter-widgets/controls",
      "model_module_version": "1.5.0",
      "model_name": "HBoxModel",
      "state": {
       "children": [
        "IPY_MODEL_12f1faa5173c4be3ba57e9fb0f59d7a6",
        "IPY_MODEL_6999ee5b1d0346429278349cf1e6b835",
        "IPY_MODEL_a54bd8e80095421984114a714553b774"
       ],
       "layout": "IPY_MODEL_dd8ba21120db484f8a1649b9fd475ceb"
      }
     },
     "c1a536d976b744d09a86155784ec3456": {
      "model_module": "@jupyter-widgets/controls",
      "model_module_version": "1.5.0",
      "model_name": "FloatProgressModel",
      "state": {
       "bar_style": "success",
       "layout": "IPY_MODEL_060e8ddaf96c4f71b4438bc07c6d661b",
       "max": 4,
       "style": "IPY_MODEL_6dd7533d0cab4bd48533208edb6a36ba",
       "value": 4
      }
     },
     "c385a2496521494787b3f58923b223aa": {
      "model_module": "@jupyter-widgets/base",
      "model_module_version": "1.2.0",
      "model_name": "LayoutModel",
      "state": {}
     },
     "c4a501d5321d4cceaaf07a4e291c2306": {
      "model_module": "@jupyter-widgets/controls",
      "model_module_version": "1.5.0",
      "model_name": "HTMLModel",
      "state": {
       "layout": "IPY_MODEL_baa65bf53d3d424abe601eca7de6d712",
       "style": "IPY_MODEL_dba7a689504448f4856abfdf93649f83",
       "value": " 28.0/28.0 [00:00&lt;00:00, 1.29kB/s]"
      }
     },
     "c4d5b35423e449b39596014231848b52": {
      "model_module": "@jupyter-widgets/controls",
      "model_module_version": "1.5.0",
      "model_name": "ProgressStyleModel",
      "state": {
       "description_width": ""
      }
     },
     "c59b7d37081b40c18da2ddfe5bc2fc81": {
      "model_module": "@jupyter-widgets/controls",
      "model_module_version": "1.5.0",
      "model_name": "HTMLModel",
      "state": {
       "layout": "IPY_MODEL_ec9721e07404410ca2a155a1cdab1d19",
       "style": "IPY_MODEL_7cc1ab60aaaa4327b1dece8d75fa3377",
       "value": "  0%"
      }
     },
     "c5af16034f8b4969bd26dae820149b07": {
      "model_module": "@jupyter-widgets/controls",
      "model_module_version": "1.5.0",
      "model_name": "HTMLModel",
      "state": {
       "layout": "IPY_MODEL_bdef66e22c1740e08fa33bd7d88f9f4c",
       "style": "IPY_MODEL_94ddb1c43b944dcdacc921715dc5139d",
       "value": " 0/2 [00:00&lt;?, ?it/s]"
      }
     },
     "c67d0cbc56ee4385b1619b6fc11b4d71": {
      "model_module": "@jupyter-widgets/controls",
      "model_module_version": "1.5.0",
      "model_name": "ProgressStyleModel",
      "state": {
       "description_width": ""
      }
     },
     "c756dd31573b4e1e891b866061ce4749": {
      "model_module": "@jupyter-widgets/controls",
      "model_module_version": "1.5.0",
      "model_name": "DescriptionStyleModel",
      "state": {
       "description_width": ""
      }
     },
     "c7725bc758434089bc2486310013808c": {
      "model_module": "@jupyter-widgets/controls",
      "model_module_version": "1.5.0",
      "model_name": "DescriptionStyleModel",
      "state": {
       "description_width": ""
      }
     },
     "c7b7b825f117498bbda07779468fa833": {
      "model_module": "@jupyter-widgets/controls",
      "model_module_version": "1.5.0",
      "model_name": "FloatProgressModel",
      "state": {
       "bar_style": "danger",
       "layout": "IPY_MODEL_e4e3d5dc0d174f36a787f441fd1adfc3",
       "max": 2,
       "style": "IPY_MODEL_b6ab61680b0d4688b8a1036be914f67b"
      }
     },
     "c990ad14484046e28c68494aef18c315": {
      "model_module": "@jupyter-widgets/controls",
      "model_module_version": "1.5.0",
      "model_name": "DescriptionStyleModel",
      "state": {
       "description_width": ""
      }
     },
     "c9af11bafbe643e8ae93f72d8289de1c": {
      "model_module": "@jupyter-widgets/base",
      "model_module_version": "1.2.0",
      "model_name": "LayoutModel",
      "state": {}
     },
     "ca1f35e2ceef4b42a05679c41dfc5dfd": {
      "model_module": "@jupyter-widgets/base",
      "model_module_version": "1.2.0",
      "model_name": "LayoutModel",
      "state": {}
     },
     "ca37f3b939474632809fa15d5d8e17d4": {
      "model_module": "@jupyter-widgets/base",
      "model_module_version": "1.2.0",
      "model_name": "LayoutModel",
      "state": {}
     },
     "ca7da7c6462a4c3bb3fa7bb81f46db97": {
      "model_module": "@jupyter-widgets/base",
      "model_module_version": "1.2.0",
      "model_name": "LayoutModel",
      "state": {}
     },
     "ca9255595f0f474ab0d6aaa0858036db": {
      "model_module": "@jupyter-widgets/base",
      "model_module_version": "1.2.0",
      "model_name": "LayoutModel",
      "state": {}
     },
     "ca993f9d860e41d3ade3c9c0de7ac569": {
      "model_module": "@jupyter-widgets/base",
      "model_module_version": "1.2.0",
      "model_name": "LayoutModel",
      "state": {}
     },
     "cc233d12656040f88f19e59d9bd5b1d6": {
      "model_module": "@jupyter-widgets/controls",
      "model_module_version": "1.5.0",
      "model_name": "DescriptionStyleModel",
      "state": {
       "description_width": ""
      }
     },
     "cc53209b647b4f909c8cd3459ca53cea": {
      "model_module": "@jupyter-widgets/controls",
      "model_module_version": "1.5.0",
      "model_name": "DescriptionStyleModel",
      "state": {
       "description_width": ""
      }
     },
     "cca3553819154c268aada76f9c00502f": {
      "model_module": "@jupyter-widgets/base",
      "model_module_version": "1.2.0",
      "model_name": "LayoutModel",
      "state": {}
     },
     "cd2b4c10cafe488b88d28690dc4f8201": {
      "model_module": "@jupyter-widgets/controls",
      "model_module_version": "1.5.0",
      "model_name": "HTMLModel",
      "state": {
       "layout": "IPY_MODEL_e481d2f359e84a72aa943c7629f5f5ae",
       "style": "IPY_MODEL_737c84e795754301b7ec3cec13aa785f",
       "value": "  0%"
      }
     },
     "cda72092f7e04635b4d3b12309575f16": {
      "model_module": "@jupyter-widgets/base",
      "model_module_version": "1.2.0",
      "model_name": "LayoutModel",
      "state": {}
     },
     "cdf37eeb459f4dddb9818f0ef5041806": {
      "model_module": "@jupyter-widgets/controls",
      "model_module_version": "1.5.0",
      "model_name": "HTMLModel",
      "state": {
       "layout": "IPY_MODEL_cfd0eb3b71dd41e890d132049051ce66",
       "style": "IPY_MODEL_1a17a04f03d2459e975a73032bc8b25f",
       "value": "  0%"
      }
     },
     "cfd0eb3b71dd41e890d132049051ce66": {
      "model_module": "@jupyter-widgets/base",
      "model_module_version": "1.2.0",
      "model_name": "LayoutModel",
      "state": {}
     },
     "cfe3a7bd2cc8467dbd1ee81d871f3526": {
      "model_module": "@jupyter-widgets/controls",
      "model_module_version": "1.5.0",
      "model_name": "DescriptionStyleModel",
      "state": {
       "description_width": ""
      }
     },
     "cfe9b3cc8c0140a0aa77f27c59c0d2ff": {
      "model_module": "@jupyter-widgets/base",
      "model_module_version": "1.2.0",
      "model_name": "LayoutModel",
      "state": {}
     },
     "d00d34e304ea493b9f78dc4546e05e75": {
      "model_module": "@jupyter-widgets/controls",
      "model_module_version": "1.5.0",
      "model_name": "DescriptionStyleModel",
      "state": {
       "description_width": ""
      }
     },
     "d06958d7156840f4b8f93a8fcda9881e": {
      "model_module": "@jupyter-widgets/controls",
      "model_module_version": "1.5.0",
      "model_name": "HTMLModel",
      "state": {
       "layout": "IPY_MODEL_6d80077d400b4953a916b12da0e7052a",
       "style": "IPY_MODEL_6eb72f5ef2094e68b77aac75cbe00f50",
       "value": "Downloading: 100%"
      }
     },
     "d0707e517ce944498550bda07fffe180": {
      "model_module": "@jupyter-widgets/base",
      "model_module_version": "1.2.0",
      "model_name": "LayoutModel",
      "state": {}
     },
     "d0d6a86ea9f94c308720c5c82f5078c9": {
      "model_module": "@jupyter-widgets/controls",
      "model_module_version": "1.5.0",
      "model_name": "ProgressStyleModel",
      "state": {
       "description_width": ""
      }
     },
     "d15f7881fcb44a6aaa6e24d0a15c33a2": {
      "model_module": "@jupyter-widgets/controls",
      "model_module_version": "1.5.0",
      "model_name": "HTMLModel",
      "state": {
       "layout": "IPY_MODEL_925f4c46d7414c4faa5545655ca0a42b",
       "style": "IPY_MODEL_cc233d12656040f88f19e59d9bd5b1d6",
       "value": "  0%"
      }
     },
     "d2c319d2b5d04244bcfc6ab7fd24cb2a": {
      "model_module": "@jupyter-widgets/base",
      "model_module_version": "1.2.0",
      "model_name": "LayoutModel",
      "state": {}
     },
     "d2df18e6e4534685910f2b6ca0589d80": {
      "model_module": "@jupyter-widgets/controls",
      "model_module_version": "1.5.0",
      "model_name": "HBoxModel",
      "state": {
       "children": [
        "IPY_MODEL_110a5911708043a4a27b1d7d19c22936",
        "IPY_MODEL_92cf943074a849f287b26bf19abfcddc",
        "IPY_MODEL_925463c28ce04b76981e2f9d3767c62c"
       ],
       "layout": "IPY_MODEL_2009703582414865be022d3b6bd3f5e9"
      }
     },
     "d2ff1075eafc48f4bfecdb0386ffdbd8": {
      "model_module": "@jupyter-widgets/controls",
      "model_module_version": "1.5.0",
      "model_name": "HTMLModel",
      "state": {
       "layout": "IPY_MODEL_9aabc70bc96341e28720b06bd360312b",
       "style": "IPY_MODEL_1451e927f05f41f6aa461ab6ad1f75b6",
       "value": " 570/570 [00:00&lt;00:00, 36.5kB/s]"
      }
     },
     "d32f0cd564c5494ebdb0c31a871f4a39": {
      "model_module": "@jupyter-widgets/base",
      "model_module_version": "1.2.0",
      "model_name": "LayoutModel",
      "state": {}
     },
     "d3c6a5a347d444acbe8cd027a8c968d8": {
      "model_module": "@jupyter-widgets/base",
      "model_module_version": "1.2.0",
      "model_name": "LayoutModel",
      "state": {}
     },
     "d4002009a365498fb4e99e8026fa4ed2": {
      "model_module": "@jupyter-widgets/base",
      "model_module_version": "1.2.0",
      "model_name": "LayoutModel",
      "state": {}
     },
     "d4252b62cbe84703b5ba98d57e522f88": {
      "model_module": "@jupyter-widgets/base",
      "model_module_version": "1.2.0",
      "model_name": "LayoutModel",
      "state": {}
     },
     "d47519f28a8d463d96d68e4a02c84d75": {
      "model_module": "@jupyter-widgets/controls",
      "model_module_version": "1.5.0",
      "model_name": "DescriptionStyleModel",
      "state": {
       "description_width": ""
      }
     },
     "d488103a6e784e2890c6362646ad4b39": {
      "model_module": "@jupyter-widgets/base",
      "model_module_version": "1.2.0",
      "model_name": "LayoutModel",
      "state": {}
     },
     "d4aaf96b0849443992256923461fe99d": {
      "model_module": "@jupyter-widgets/base",
      "model_module_version": "1.2.0",
      "model_name": "LayoutModel",
      "state": {}
     },
     "d52bb5f3fbf942aea43fb8a0dd11f0f3": {
      "model_module": "@jupyter-widgets/controls",
      "model_module_version": "1.5.0",
      "model_name": "ProgressStyleModel",
      "state": {
       "description_width": ""
      }
     },
     "d56e0585ff654e839dd542aacb3b5b2f": {
      "model_module": "@jupyter-widgets/base",
      "model_module_version": "1.2.0",
      "model_name": "LayoutModel",
      "state": {}
     },
     "d5c202e8331f44ecbe82cddb8ab402c3": {
      "model_module": "@jupyter-widgets/controls",
      "model_module_version": "1.5.0",
      "model_name": "HTMLModel",
      "state": {
       "layout": "IPY_MODEL_8382578a13e64b10864c9033fcd97e5d",
       "style": "IPY_MODEL_58e2caff9c724b4cb38c1a3bc079e1f9",
       "value": "  0%"
      }
     },
     "d5db1ab5cf7a42c38064745d6cddfa91": {
      "model_module": "@jupyter-widgets/controls",
      "model_module_version": "1.5.0",
      "model_name": "HTMLModel",
      "state": {
       "layout": "IPY_MODEL_3f12e89aa6484485af48a99d423b6ca5",
       "style": "IPY_MODEL_f7ebfcf7a6bb4a76996f388a0a8306e2",
       "value": "100%"
      }
     },
     "d6fedb7730bf4f6fafab28e79667a732": {
      "model_module": "@jupyter-widgets/controls",
      "model_module_version": "1.5.0",
      "model_name": "HBoxModel",
      "state": {
       "children": [
        "IPY_MODEL_dfa7e5af7fbf4aa89fbb4aa25387fc1c",
        "IPY_MODEL_b2739ba280754244a3a9eba0a81efe76",
        "IPY_MODEL_c12245a5fa4d449fa711fd9595ca25fc"
       ],
       "layout": "IPY_MODEL_2a499595773045b0b234083a7c288eac"
      }
     },
     "d7302d65d3564068adf6e5af8eb021bc": {
      "model_module": "@jupyter-widgets/base",
      "model_module_version": "1.2.0",
      "model_name": "LayoutModel",
      "state": {}
     },
     "d74b37ee723045b5af23143f596abfd0": {
      "model_module": "@jupyter-widgets/controls",
      "model_module_version": "1.5.0",
      "model_name": "HTMLModel",
      "state": {
       "layout": "IPY_MODEL_0d89fdf85c154217b82c0641f2dd680b",
       "style": "IPY_MODEL_72555bf113b8477eb3f1c99e2e4db9d3",
       "value": " 0/2 [00:00&lt;?, ?it/s]"
      }
     },
     "d7a2cb3f7d2e4566bfc2ba37964f824a": {
      "model_module": "@jupyter-widgets/controls",
      "model_module_version": "1.5.0",
      "model_name": "HTMLModel",
      "state": {
       "layout": "IPY_MODEL_1a3254d2e5314246b06e5d8f2781abc2",
       "style": "IPY_MODEL_09c9ae73ed5243e298a41117ce4a66e5",
       "value": "Downloading: 100%"
      }
     },
     "d891485cd92f40559cf8bc0e9add9671": {
      "model_module": "@jupyter-widgets/controls",
      "model_module_version": "1.5.0",
      "model_name": "DescriptionStyleModel",
      "state": {
       "description_width": ""
      }
     },
     "d8adf3a903bd431d983caa548604ebed": {
      "model_module": "@jupyter-widgets/base",
      "model_module_version": "1.2.0",
      "model_name": "LayoutModel",
      "state": {}
     },
     "d90efd9afc644789ac85022ef0ef1262": {
      "model_module": "@jupyter-widgets/base",
      "model_module_version": "1.2.0",
      "model_name": "LayoutModel",
      "state": {}
     },
     "d91ac641a25e4bc696c2c46c93c806d0": {
      "model_module": "@jupyter-widgets/controls",
      "model_module_version": "1.5.0",
      "model_name": "FloatProgressModel",
      "state": {
       "bar_style": "danger",
       "layout": "IPY_MODEL_0bc49cb47ee64ba1806a278f7aef504b",
       "max": 2,
       "style": "IPY_MODEL_6aa6eeac0f734484b0b9c27c92ded0da"
      }
     },
     "d9519c1cdae94d2d8ea17a4934cedaff": {
      "model_module": "@jupyter-widgets/controls",
      "model_module_version": "1.5.0",
      "model_name": "FloatProgressModel",
      "state": {
       "bar_style": "success",
       "layout": "IPY_MODEL_a521a8a4f60e4369916c7310ae02e517",
       "max": 319,
       "style": "IPY_MODEL_b9c88bc1ff274e4083e476d0c4de5a78",
       "value": 319
      }
     },
     "d96a5957cc964cdbaf4a7d61225732f4": {
      "model_module": "@jupyter-widgets/controls",
      "model_module_version": "1.5.0",
      "model_name": "HBoxModel",
      "state": {
       "children": [
        "IPY_MODEL_079dedce09a249cc9ed8e75ad7ff3fa9",
        "IPY_MODEL_9c803da1c8c34ce49914f5801e970cc4",
        "IPY_MODEL_61dd7f9726e144659181463523e275d8"
       ],
       "layout": "IPY_MODEL_045ec0aae990418084234b8be27f0fa9"
      }
     },
     "dadb227d26904adcbdbb9a29cdbe926a": {
      "model_module": "@jupyter-widgets/base",
      "model_module_version": "1.2.0",
      "model_name": "LayoutModel",
      "state": {}
     },
     "dadd719635214d139a240330b87ed2d0": {
      "model_module": "@jupyter-widgets/base",
      "model_module_version": "1.2.0",
      "model_name": "LayoutModel",
      "state": {}
     },
     "db78cebc28814da697d52c6e2e00805d": {
      "model_module": "@jupyter-widgets/controls",
      "model_module_version": "1.5.0",
      "model_name": "DescriptionStyleModel",
      "state": {
       "description_width": ""
      }
     },
     "db7c9527a8c8456daa44f1f719b4bdaa": {
      "model_module": "@jupyter-widgets/controls",
      "model_module_version": "1.5.0",
      "model_name": "HTMLModel",
      "state": {
       "layout": "IPY_MODEL_b26d8e77eae241f0976c6875f12bb26c",
       "style": "IPY_MODEL_0e55ca70748142a7943484bdd471978d",
       "value": "100%"
      }
     },
     "dba513833d6042dcafc2e259cd093040": {
      "model_module": "@jupyter-widgets/controls",
      "model_module_version": "1.5.0",
      "model_name": "ProgressStyleModel",
      "state": {
       "description_width": ""
      }
     },
     "dba7a689504448f4856abfdf93649f83": {
      "model_module": "@jupyter-widgets/controls",
      "model_module_version": "1.5.0",
      "model_name": "DescriptionStyleModel",
      "state": {
       "description_width": ""
      }
     },
     "dc425eb59feb4731b90e17c3e0d44646": {
      "model_module": "@jupyter-widgets/controls",
      "model_module_version": "1.5.0",
      "model_name": "HBoxModel",
      "state": {
       "children": [
        "IPY_MODEL_3fb502ec0d9a4efd8a0ee5959d401b8b",
        "IPY_MODEL_63adc139a7c74c23a3755fc4cf41d1bd",
        "IPY_MODEL_f670e2a3cf9842e8b643bf833b8b7578"
       ],
       "layout": "IPY_MODEL_6cfd2f0028234e0d98be7fe743544872"
      }
     },
     "dc5a7f31b5504c888366b286c6da21f3": {
      "model_module": "@jupyter-widgets/controls",
      "model_module_version": "1.5.0",
      "model_name": "HTMLModel",
      "state": {
       "layout": "IPY_MODEL_37600736ebed4c1ba0c695b1f1457ecb",
       "style": "IPY_MODEL_fbeacdc599a544dbb0734f6ad7d97309",
       "value": "100%"
      }
     },
     "dc8ad3ddc1554b69abd3ba14354a669a": {
      "model_module": "@jupyter-widgets/base",
      "model_module_version": "1.2.0",
      "model_name": "LayoutModel",
      "state": {}
     },
     "dcbf03887ae24f22b947993d7186bd3c": {
      "model_module": "@jupyter-widgets/controls",
      "model_module_version": "1.5.0",
      "model_name": "HBoxModel",
      "state": {
       "children": [
        "IPY_MODEL_1536650b475d4ee6a7e4c7e1e6ca59a4",
        "IPY_MODEL_f232512f3b484198a407edbf91cd27fa",
        "IPY_MODEL_ad90a9aae3174030b71b3c6dc7a78aea"
       ],
       "layout": "IPY_MODEL_dadb227d26904adcbdbb9a29cdbe926a"
      }
     },
     "dd0c168a6c78455faba413649eb5a9c1": {
      "model_module": "@jupyter-widgets/base",
      "model_module_version": "1.2.0",
      "model_name": "LayoutModel",
      "state": {}
     },
     "dd0f31b73d7d455783ee1e614e2f9fad": {
      "model_module": "@jupyter-widgets/controls",
      "model_module_version": "1.5.0",
      "model_name": "DescriptionStyleModel",
      "state": {
       "description_width": ""
      }
     },
     "dd7f4036920a4f69a1652cad1727a28b": {
      "model_module": "@jupyter-widgets/controls",
      "model_module_version": "1.5.0",
      "model_name": "DescriptionStyleModel",
      "state": {
       "description_width": ""
      }
     },
     "dd8ba21120db484f8a1649b9fd475ceb": {
      "model_module": "@jupyter-widgets/base",
      "model_module_version": "1.2.0",
      "model_name": "LayoutModel",
      "state": {}
     },
     "dde4847d0cf040e5bbfe239f3c62f82d": {
      "model_module": "@jupyter-widgets/base",
      "model_module_version": "1.2.0",
      "model_name": "LayoutModel",
      "state": {}
     },
     "de79298f024f4e0cadf3cae94de09c90": {
      "model_module": "@jupyter-widgets/controls",
      "model_module_version": "1.5.0",
      "model_name": "FloatProgressModel",
      "state": {
       "bar_style": "success",
       "layout": "IPY_MODEL_1eb25a770c784759b7599987cf8358d4",
       "max": 5,
       "style": "IPY_MODEL_7cad28a0f30647d2b5bd290eda5212c1",
       "value": 5
      }
     },
     "df01735d941a4d789e1ab75e7cbbf6b3": {
      "model_module": "@jupyter-widgets/base",
      "model_module_version": "1.2.0",
      "model_name": "LayoutModel",
      "state": {}
     },
     "df55eda1830d45818f18ab6f6713d049": {
      "model_module": "@jupyter-widgets/controls",
      "model_module_version": "1.5.0",
      "model_name": "HTMLModel",
      "state": {
       "layout": "IPY_MODEL_5899f899a73f4d02b91a9be6b263b04e",
       "style": "IPY_MODEL_7051ae4f1f204472bf8d4f406ca603cd",
       "value": "  0%"
      }
     },
     "df5f5e6ce756431bbda9cfab242c3f25": {
      "model_module": "@jupyter-widgets/controls",
      "model_module_version": "1.5.0",
      "model_name": "ProgressStyleModel",
      "state": {
       "description_width": ""
      }
     },
     "dfa7e5af7fbf4aa89fbb4aa25387fc1c": {
      "model_module": "@jupyter-widgets/controls",
      "model_module_version": "1.5.0",
      "model_name": "HTMLModel",
      "state": {
       "layout": "IPY_MODEL_8023a9b08a254ca9a32f7273aa9fb1e3",
       "style": "IPY_MODEL_3156086138284149a6c26d6f70ae2f24",
       "value": "  0%"
      }
     },
     "e0ebcafa1397413285193d049c4d4ba4": {
      "model_module": "@jupyter-widgets/controls",
      "model_module_version": "1.5.0",
      "model_name": "HTMLModel",
      "state": {
       "layout": "IPY_MODEL_54198f80d68f4221b4c13ba792d38916",
       "style": "IPY_MODEL_28353b31abfa49a983a15f35ac80ae58",
       "value": "  0%"
      }
     },
     "e1182489c72a4c5b8bd179f4065f1a67": {
      "model_module": "@jupyter-widgets/controls",
      "model_module_version": "1.5.0",
      "model_name": "DescriptionStyleModel",
      "state": {
       "description_width": ""
      }
     },
     "e138e609a6c545a1bbe991910002cd5c": {
      "model_module": "@jupyter-widgets/controls",
      "model_module_version": "1.5.0",
      "model_name": "DescriptionStyleModel",
      "state": {
       "description_width": ""
      }
     },
     "e1add027b0b24736b48a28164b5d150a": {
      "model_module": "@jupyter-widgets/controls",
      "model_module_version": "1.5.0",
      "model_name": "DescriptionStyleModel",
      "state": {
       "description_width": ""
      }
     },
     "e21eda39e65141a4b81f74be94755480": {
      "model_module": "@jupyter-widgets/base",
      "model_module_version": "1.2.0",
      "model_name": "LayoutModel",
      "state": {}
     },
     "e2fd7cac36844117a736e1d4b0aa613a": {
      "model_module": "@jupyter-widgets/controls",
      "model_module_version": "1.5.0",
      "model_name": "HTMLModel",
      "state": {
       "layout": "IPY_MODEL_400da91cba424af5999cbdf6c7512f62",
       "style": "IPY_MODEL_e51a520807ad41fe9d44fd978e4d972f",
       "value": " 0/2 [00:00&lt;?, ?it/s]"
      }
     },
     "e4323f94e60243b5880914f31b567775": {
      "model_module": "@jupyter-widgets/controls",
      "model_module_version": "1.5.0",
      "model_name": "FloatProgressModel",
      "state": {
       "bar_style": "success",
       "layout": "IPY_MODEL_eda75f4591d3416080bd3065188600fa",
       "max": 319,
       "style": "IPY_MODEL_83e6b3b84c414ec99cee1de659490b88",
       "value": 319
      }
     },
     "e481d2f359e84a72aa943c7629f5f5ae": {
      "model_module": "@jupyter-widgets/base",
      "model_module_version": "1.2.0",
      "model_name": "LayoutModel",
      "state": {}
     },
     "e4e3d5dc0d174f36a787f441fd1adfc3": {
      "model_module": "@jupyter-widgets/base",
      "model_module_version": "1.2.0",
      "model_name": "LayoutModel",
      "state": {}
     },
     "e4eea9b704bb40f785189e17f6da7d98": {
      "model_module": "@jupyter-widgets/controls",
      "model_module_version": "1.5.0",
      "model_name": "HTMLModel",
      "state": {
       "layout": "IPY_MODEL_b094b864bacf44f7ad28f981ce3f3ca7",
       "style": "IPY_MODEL_89ffbfe5f2bf490fb92cdb8e15d89ba1",
       "value": " 0/2 [00:00&lt;?, ?it/s]"
      }
     },
     "e51a520807ad41fe9d44fd978e4d972f": {
      "model_module": "@jupyter-widgets/controls",
      "model_module_version": "1.5.0",
      "model_name": "DescriptionStyleModel",
      "state": {
       "description_width": ""
      }
     },
     "e5f9af88e7a44f78b457167f0bb28288": {
      "model_module": "@jupyter-widgets/base",
      "model_module_version": "1.2.0",
      "model_name": "LayoutModel",
      "state": {}
     },
     "e76fc1a63c2d4d4994d9ea9651fb887b": {
      "model_module": "@jupyter-widgets/controls",
      "model_module_version": "1.5.0",
      "model_name": "DescriptionStyleModel",
      "state": {
       "description_width": ""
      }
     },
     "e7a150b729fb47398493f6be268281da": {
      "model_module": "@jupyter-widgets/base",
      "model_module_version": "1.2.0",
      "model_name": "LayoutModel",
      "state": {}
     },
     "e7aabdc5464f4e1993251707ceeb927c": {
      "model_module": "@jupyter-widgets/base",
      "model_module_version": "1.2.0",
      "model_name": "LayoutModel",
      "state": {}
     },
     "e85117b8a48e4d178ba00a3cea714e05": {
      "model_module": "@jupyter-widgets/controls",
      "model_module_version": "1.5.0",
      "model_name": "HTMLModel",
      "state": {
       "layout": "IPY_MODEL_44257d425d36421db66e63ff80c10ceb",
       "style": "IPY_MODEL_a659642d31aa43e588d040735f2a534c",
       "value": " 0/2 [00:41&lt;?, ?it/s]"
      }
     },
     "e91af5eb354149ff92333cc1cca68e72": {
      "model_module": "@jupyter-widgets/controls",
      "model_module_version": "1.5.0",
      "model_name": "DescriptionStyleModel",
      "state": {
       "description_width": ""
      }
     },
     "e93ed999131b4eb08687f5d169fd223a": {
      "model_module": "@jupyter-widgets/controls",
      "model_module_version": "1.5.0",
      "model_name": "ProgressStyleModel",
      "state": {
       "description_width": ""
      }
     },
     "e9a6fce03d964a7ea4adefe30b606bc2": {
      "model_module": "@jupyter-widgets/controls",
      "model_module_version": "1.5.0",
      "model_name": "DescriptionStyleModel",
      "state": {
       "description_width": ""
      }
     },
     "eacd698578cd409aa2bfd72cf2fa51ca": {
      "model_module": "@jupyter-widgets/controls",
      "model_module_version": "1.5.0",
      "model_name": "DescriptionStyleModel",
      "state": {
       "description_width": ""
      }
     },
     "eaf25a66571d432b9ce11ba49408e87d": {
      "model_module": "@jupyter-widgets/controls",
      "model_module_version": "1.5.0",
      "model_name": "HBoxModel",
      "state": {
       "children": [
        "IPY_MODEL_df55eda1830d45818f18ab6f6713d049",
        "IPY_MODEL_04122fa1a5a64a30950a5acc2b72c38e",
        "IPY_MODEL_80b62b5099484e238710d6701cf82ec7"
       ],
       "layout": "IPY_MODEL_75fa27205150421f96a7a7a152088e2e"
      }
     },
     "eb096c1106354c9fb768b212b548678b": {
      "model_module": "@jupyter-widgets/base",
      "model_module_version": "1.2.0",
      "model_name": "LayoutModel",
      "state": {}
     },
     "eb8c9211b18f4deeaf1b35c97284b68d": {
      "model_module": "@jupyter-widgets/base",
      "model_module_version": "1.2.0",
      "model_name": "LayoutModel",
      "state": {}
     },
     "ec9721e07404410ca2a155a1cdab1d19": {
      "model_module": "@jupyter-widgets/base",
      "model_module_version": "1.2.0",
      "model_name": "LayoutModel",
      "state": {}
     },
     "ecbb16fc980d4fcfa76869ddd5fdd089": {
      "model_module": "@jupyter-widgets/base",
      "model_module_version": "1.2.0",
      "model_name": "LayoutModel",
      "state": {}
     },
     "ed1c8a350a6c474585cf3626b710b419": {
      "model_module": "@jupyter-widgets/controls",
      "model_module_version": "1.5.0",
      "model_name": "HTMLModel",
      "state": {
       "layout": "IPY_MODEL_ca993f9d860e41d3ade3c9c0de7ac569",
       "style": "IPY_MODEL_702d9bdb47024e258abc4d29fbd6bd7c",
       "value": " 4/4 [00:44&lt;00:00, 11.27s/it]"
      }
     },
     "ed93cb51f34f4f77aa656eac4d13cfc5": {
      "model_module": "@jupyter-widgets/controls",
      "model_module_version": "1.5.0",
      "model_name": "ProgressStyleModel",
      "state": {
       "description_width": ""
      }
     },
     "eda75f4591d3416080bd3065188600fa": {
      "model_module": "@jupyter-widgets/base",
      "model_module_version": "1.2.0",
      "model_name": "LayoutModel",
      "state": {}
     },
     "ede39c311c384674a2927f6ae33ce45a": {
      "model_module": "@jupyter-widgets/controls",
      "model_module_version": "1.5.0",
      "model_name": "DescriptionStyleModel",
      "state": {
       "description_width": ""
      }
     },
     "ee02fb2a49d0434098f1990fc48ffa6a": {
      "model_module": "@jupyter-widgets/controls",
      "model_module_version": "1.5.0",
      "model_name": "DescriptionStyleModel",
      "state": {
       "description_width": ""
      }
     },
     "eecf017364514f6fbe98ef7ce81eb6c3": {
      "model_module": "@jupyter-widgets/controls",
      "model_module_version": "1.5.0",
      "model_name": "HTMLModel",
      "state": {
       "layout": "IPY_MODEL_eb096c1106354c9fb768b212b548678b",
       "style": "IPY_MODEL_f7978b70236b430e803093c0c8fb4af8",
       "value": " 0/2 [00:00&lt;?, ?it/s]"
      }
     },
     "ef0d77ad2e6d4d888e7f2bce52096002": {
      "model_module": "@jupyter-widgets/controls",
      "model_module_version": "1.5.0",
      "model_name": "HTMLModel",
      "state": {
       "layout": "IPY_MODEL_00ac1393f4894fea961ebe9788b8f7f4",
       "style": "IPY_MODEL_7b9a4f7be1dc4675b2e95ee09146e1a0",
       "value": " 0/319 [04:20&lt;?, ?it/s]"
      }
     },
     "ef16cfff41054d30b3119dd4d3d6c8b4": {
      "model_module": "@jupyter-widgets/base",
      "model_module_version": "1.2.0",
      "model_name": "LayoutModel",
      "state": {}
     },
     "f0b222d8a6c24325a4c91261dc85b561": {
      "model_module": "@jupyter-widgets/controls",
      "model_module_version": "1.5.0",
      "model_name": "HTMLModel",
      "state": {
       "layout": "IPY_MODEL_d4002009a365498fb4e99e8026fa4ed2",
       "style": "IPY_MODEL_f855e3bfaa964e26a0e494bacf74d5d7",
       "value": "  0%"
      }
     },
     "f12cfca7f2a8409e9396b6979efb962d": {
      "model_module": "@jupyter-widgets/controls",
      "model_module_version": "1.5.0",
      "model_name": "FloatProgressModel",
      "state": {
       "bar_style": "danger",
       "layout": "IPY_MODEL_51ff1de1a6474f46959755ac3ee98ec2",
       "max": 2,
       "style": "IPY_MODEL_d52bb5f3fbf942aea43fb8a0dd11f0f3"
      }
     },
     "f232512f3b484198a407edbf91cd27fa": {
      "model_module": "@jupyter-widgets/controls",
      "model_module_version": "1.5.0",
      "model_name": "FloatProgressModel",
      "state": {
       "bar_style": "danger",
       "layout": "IPY_MODEL_4eaba37f54eb43adaefa80fb7dc0b96e",
       "max": 2,
       "style": "IPY_MODEL_4698e55452ff448fa4d624e182f687a4"
      }
     },
     "f243d3fd4147416c8844de44be3c2efa": {
      "model_module": "@jupyter-widgets/controls",
      "model_module_version": "1.5.0",
      "model_name": "FloatProgressModel",
      "state": {
       "bar_style": "danger",
       "layout": "IPY_MODEL_ecbb16fc980d4fcfa76869ddd5fdd089",
       "max": 2,
       "style": "IPY_MODEL_599f71206d0c41029bfdb2f8e1f6002c"
      }
     },
     "f270f95301964305bbbbef26a4426242": {
      "model_module": "@jupyter-widgets/controls",
      "model_module_version": "1.5.0",
      "model_name": "ProgressStyleModel",
      "state": {
       "description_width": ""
      }
     },
     "f2b2745b38c64a0986543d158d8ddbf8": {
      "model_module": "@jupyter-widgets/base",
      "model_module_version": "1.2.0",
      "model_name": "LayoutModel",
      "state": {}
     },
     "f36b169f23f64d8cb658a10fbd1bb92b": {
      "model_module": "@jupyter-widgets/base",
      "model_module_version": "1.2.0",
      "model_name": "LayoutModel",
      "state": {}
     },
     "f464e2de44ca44238eec6b771feaa7b6": {
      "model_module": "@jupyter-widgets/base",
      "model_module_version": "1.2.0",
      "model_name": "LayoutModel",
      "state": {}
     },
     "f5290e3091e541a3bae1addc6af9b4eb": {
      "model_module": "@jupyter-widgets/base",
      "model_module_version": "1.2.0",
      "model_name": "LayoutModel",
      "state": {}
     },
     "f56c4aaed0244f66b0d563d5831c872e": {
      "model_module": "@jupyter-widgets/controls",
      "model_module_version": "1.5.0",
      "model_name": "DescriptionStyleModel",
      "state": {
       "description_width": ""
      }
     },
     "f592ee8c87d34674b5725e814d8d65b5": {
      "model_module": "@jupyter-widgets/controls",
      "model_module_version": "1.5.0",
      "model_name": "ProgressStyleModel",
      "state": {
       "description_width": ""
      }
     },
     "f593d5aa047f4eb6ae8d27b88574785b": {
      "model_module": "@jupyter-widgets/controls",
      "model_module_version": "1.5.0",
      "model_name": "HTMLModel",
      "state": {
       "layout": "IPY_MODEL_a8fd0e5b7eed48439164b38f313e0834",
       "style": "IPY_MODEL_dd0f31b73d7d455783ee1e614e2f9fad",
       "value": "100%"
      }
     },
     "f59797ddb9444bc5aa207a44877fd69d": {
      "model_module": "@jupyter-widgets/controls",
      "model_module_version": "1.5.0",
      "model_name": "HBoxModel",
      "state": {
       "children": [
        "IPY_MODEL_88abd1f540d9464481057b71ceef13d7",
        "IPY_MODEL_3bf5b6e11f8d412e9553a8cfc46976cb",
        "IPY_MODEL_d2ff1075eafc48f4bfecdb0386ffdbd8"
       ],
       "layout": "IPY_MODEL_879dc01afeac4fbba799532a54fe0606"
      }
     },
     "f670e2a3cf9842e8b643bf833b8b7578": {
      "model_module": "@jupyter-widgets/controls",
      "model_module_version": "1.5.0",
      "model_name": "HTMLModel",
      "state": {
       "layout": "IPY_MODEL_a5efa63f83c949558a55e084c0ee8856",
       "style": "IPY_MODEL_b0b98023cc834becbd461026be0141b5",
       "value": " 319/319 [12:09&lt;00:00,  2.04s/it]"
      }
     },
     "f760bdaf27c24cb882e75a1a44f46458": {
      "model_module": "@jupyter-widgets/controls",
      "model_module_version": "1.5.0",
      "model_name": "HTMLModel",
      "state": {
       "layout": "IPY_MODEL_d8adf3a903bd431d983caa548604ebed",
       "style": "IPY_MODEL_36e19b1981024f7f8faec7e1238875b2",
       "value": "  6%"
      }
     },
     "f773d2ece878467092c96cd36689c5b6": {
      "model_module": "@jupyter-widgets/base",
      "model_module_version": "1.2.0",
      "model_name": "LayoutModel",
      "state": {}
     },
     "f7978b70236b430e803093c0c8fb4af8": {
      "model_module": "@jupyter-widgets/controls",
      "model_module_version": "1.5.0",
      "model_name": "DescriptionStyleModel",
      "state": {
       "description_width": ""
      }
     },
     "f7ceebf5f18c4a0bafbe4e90011d0d22": {
      "model_module": "@jupyter-widgets/controls",
      "model_module_version": "1.5.0",
      "model_name": "ProgressStyleModel",
      "state": {
       "description_width": ""
      }
     },
     "f7ebfcf7a6bb4a76996f388a0a8306e2": {
      "model_module": "@jupyter-widgets/controls",
      "model_module_version": "1.5.0",
      "model_name": "DescriptionStyleModel",
      "state": {
       "description_width": ""
      }
     },
     "f855e3bfaa964e26a0e494bacf74d5d7": {
      "model_module": "@jupyter-widgets/controls",
      "model_module_version": "1.5.0",
      "model_name": "DescriptionStyleModel",
      "state": {
       "description_width": ""
      }
     },
     "fa5913a29f67446693da08ca79e98e1c": {
      "model_module": "@jupyter-widgets/controls",
      "model_module_version": "1.5.0",
      "model_name": "DescriptionStyleModel",
      "state": {
       "description_width": ""
      }
     },
     "fa9f9bd829ab47cb997b73cd53f4684c": {
      "model_module": "@jupyter-widgets/controls",
      "model_module_version": "1.5.0",
      "model_name": "ProgressStyleModel",
      "state": {
       "description_width": ""
      }
     },
     "fbeacdc599a544dbb0734f6ad7d97309": {
      "model_module": "@jupyter-widgets/controls",
      "model_module_version": "1.5.0",
      "model_name": "DescriptionStyleModel",
      "state": {
       "description_width": ""
      }
     },
     "fc2851a735a54543b7664a1ac59cbcbb": {
      "model_module": "@jupyter-widgets/controls",
      "model_module_version": "1.5.0",
      "model_name": "ProgressStyleModel",
      "state": {
       "description_width": ""
      }
     },
     "fc401e4ce70f45c4992c95e79eb8e3b4": {
      "model_module": "@jupyter-widgets/base",
      "model_module_version": "1.2.0",
      "model_name": "LayoutModel",
      "state": {}
     },
     "fcc7a0aae0c541a288ffe37a67a45b87": {
      "model_module": "@jupyter-widgets/controls",
      "model_module_version": "1.5.0",
      "model_name": "HBoxModel",
      "state": {
       "children": [
        "IPY_MODEL_f760bdaf27c24cb882e75a1a44f46458",
        "IPY_MODEL_3948360e39444228a75905975a877e4a",
        "IPY_MODEL_a34c9d450472484db4a76e9c9f933469"
       ],
       "layout": "IPY_MODEL_137e541926b24324a6da1678c73791fe"
      }
     },
     "fdd3aa7a63f34dbe9237e631131c1c65": {
      "model_module": "@jupyter-widgets/base",
      "model_module_version": "1.2.0",
      "model_name": "LayoutModel",
      "state": {}
     },
     "fe7978c492e0439a8c47adaba45e41e0": {
      "model_module": "@jupyter-widgets/controls",
      "model_module_version": "1.5.0",
      "model_name": "ProgressStyleModel",
      "state": {
       "description_width": ""
      }
     },
     "ff117840d82842c6977b74561cd78eee": {
      "model_module": "@jupyter-widgets/base",
      "model_module_version": "1.2.0",
      "model_name": "LayoutModel",
      "state": {}
     },
     "ff51fb75ec114da4aef6023355a0d5bc": {
      "model_module": "@jupyter-widgets/controls",
      "model_module_version": "1.5.0",
      "model_name": "ProgressStyleModel",
      "state": {
       "description_width": ""
      }
     },
     "ff94a953156b429eaae45b50139a017e": {
      "model_module": "@jupyter-widgets/controls",
      "model_module_version": "1.5.0",
      "model_name": "FloatProgressModel",
      "state": {
       "bar_style": "danger",
       "layout": "IPY_MODEL_c385a2496521494787b3f58923b223aa",
       "max": 2,
       "style": "IPY_MODEL_fe7978c492e0439a8c47adaba45e41e0"
      }
     },
     "ffa2d5ef8c77492fa2c742547557f1f1": {
      "model_module": "@jupyter-widgets/base",
      "model_module_version": "1.2.0",
      "model_name": "LayoutModel",
      "state": {}
     }
    },
    "version_major": 2,
    "version_minor": 0
   }
  }
 },
 "nbformat": 4,
 "nbformat_minor": 2
}
